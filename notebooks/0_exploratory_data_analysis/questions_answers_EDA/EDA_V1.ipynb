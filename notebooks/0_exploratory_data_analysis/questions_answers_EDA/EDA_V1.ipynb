{
 "cells": [
  {
   "cell_type": "markdown",
   "metadata": {},
   "source": [
    "# Exploratory Data Analysis"
   ]
  },
  {
   "cell_type": "code",
   "execution_count": 1,
   "metadata": {},
   "outputs": [],
   "source": [
    "import pandas as pd\n",
    "from matplotlib import pyplot as plt\n",
    "import os\n",
    "import nltk\n",
    "from nltk.tokenize import WordPunctTokenizer\n",
    "from nltk.stem import *\n",
    "from nltk.corpus import stopwords\n",
    "from nltk.tokenize import word_tokenize\n",
    "import numpy as np\n",
    "from collections import Counter\n",
    "import seaborn as sns\n",
    "import string\n",
    "from nltk.util import ngrams\n",
    "from sklearn.feature_extraction.text import CountVectorizer"
   ]
  },
  {
   "cell_type": "code",
   "execution_count": 2,
   "metadata": {},
   "outputs": [],
   "source": [
    "df_all = pd.read_csv('/Users/natalipeeva/Desktop/Data/questions.csv')"
   ]
  },
  {
   "cell_type": "code",
   "execution_count": 3,
   "metadata": {},
   "outputs": [],
   "source": [
    "df_trans_links = pd.read_csv('/Users/natalipeeva/Desktop/Data/Questions_links_translations.csv')"
   ]
  },
  {
   "cell_type": "code",
   "execution_count": 4,
   "metadata": {},
   "outputs": [
    {
     "data": {
      "text/html": [
       "<div>\n",
       "<style scoped>\n",
       "    .dataframe tbody tr th:only-of-type {\n",
       "        vertical-align: middle;\n",
       "    }\n",
       "\n",
       "    .dataframe tbody tr th {\n",
       "        vertical-align: top;\n",
       "    }\n",
       "\n",
       "    .dataframe thead th {\n",
       "        text-align: right;\n",
       "    }\n",
       "</style>\n",
       "<table border=\"1\" class=\"dataframe\">\n",
       "  <thead>\n",
       "    <tr style=\"text-align: right;\">\n",
       "      <th></th>\n",
       "      <th>Year</th>\n",
       "      <th>Month</th>\n",
       "      <th>Question</th>\n",
       "      <th>Answer</th>\n",
       "      <th>Document</th>\n",
       "      <th>URLs</th>\n",
       "    </tr>\n",
       "  </thead>\n",
       "  <tbody>\n",
       "    <tr>\n",
       "      <th>0</th>\n",
       "      <td>2018</td>\n",
       "      <td>12</td>\n",
       "      <td>\\n \\n1. Heeft het college kennisgenomen van de...</td>\n",
       "      <td>\\nNee.</td>\n",
       "      <td>https://amsterdam.raadsinformatie.nl/document/...</td>\n",
       "      <td>NaN</td>\n",
       "    </tr>\n",
       "    <tr>\n",
       "      <th>1</th>\n",
       "      <td>2018</td>\n",
       "      <td>12</td>\n",
       "      <td>\\n \\n2. Kan het college bevestigen of dit lesm...</td>\n",
       "      <td>\\nNee, het college heeft hier geen zicht op. ...</td>\n",
       "      <td>https://amsterdam.raadsinformatie.nl/document/...</td>\n",
       "      <td>NaN</td>\n",
       "    </tr>\n",
       "    <tr>\n",
       "      <th>2</th>\n",
       "      <td>2018</td>\n",
       "      <td>12</td>\n",
       "      <td>\\n \\n                                         ...</td>\n",
       "      <td>\\nHet CIDI is duidelijk over de eigen doelste...</td>\n",
       "      <td>https://amsterdam.raadsinformatie.nl/document/...</td>\n",
       "      <td>NaN</td>\n",
       "    </tr>\n",
       "    <tr>\n",
       "      <th>3</th>\n",
       "      <td>2018</td>\n",
       "      <td>12</td>\n",
       "      <td>\\n \\n4. Is het college bekend met de jaarlijks...</td>\n",
       "      <td>\\nHet college heeft hier kennis van genomen.</td>\n",
       "      <td>https://amsterdam.raadsinformatie.nl/document/...</td>\n",
       "      <td>NaN</td>\n",
       "    </tr>\n",
       "    <tr>\n",
       "      <th>4</th>\n",
       "      <td>2018</td>\n",
       "      <td>12</td>\n",
       "      <td>\\n \\na. Is het college van oordeel dat het CID...</td>\n",
       "      <td>vraag 4a: \\nHet college is voor een pluriform...</td>\n",
       "      <td>https://amsterdam.raadsinformatie.nl/document/...</td>\n",
       "      <td>NaN</td>\n",
       "    </tr>\n",
       "  </tbody>\n",
       "</table>\n",
       "</div>"
      ],
      "text/plain": [
       "   Year Month                                           Question  \\\n",
       "0  2018    12  \\n \\n1. Heeft het college kennisgenomen van de...   \n",
       "1  2018    12  \\n \\n2. Kan het college bevestigen of dit lesm...   \n",
       "2  2018    12  \\n \\n                                         ...   \n",
       "3  2018    12  \\n \\n4. Is het college bekend met de jaarlijks...   \n",
       "4  2018    12  \\n \\na. Is het college van oordeel dat het CID...   \n",
       "\n",
       "                                              Answer  \\\n",
       "0                                           \\nNee.     \n",
       "1   \\nNee, het college heeft hier geen zicht op. ...   \n",
       "2   \\nHet CIDI is duidelijk over de eigen doelste...   \n",
       "3      \\nHet college heeft hier kennis van genomen.    \n",
       "4   vraag 4a: \\nHet college is voor een pluriform...   \n",
       "\n",
       "                                            Document URLs  \n",
       "0  https://amsterdam.raadsinformatie.nl/document/...  NaN  \n",
       "1  https://amsterdam.raadsinformatie.nl/document/...  NaN  \n",
       "2  https://amsterdam.raadsinformatie.nl/document/...  NaN  \n",
       "3  https://amsterdam.raadsinformatie.nl/document/...  NaN  \n",
       "4  https://amsterdam.raadsinformatie.nl/document/...  NaN  "
      ]
     },
     "execution_count": 4,
     "metadata": {},
     "output_type": "execute_result"
    }
   ],
   "source": [
    "df_all.head()"
   ]
  },
  {
   "cell_type": "code",
   "execution_count": 5,
   "metadata": {},
   "outputs": [
    {
     "data": {
      "text/plain": [
       "<AxesSubplot:>"
      ]
     },
     "execution_count": 5,
     "metadata": {},
     "output_type": "execute_result"
    },
    {
     "data": {
      "image/png": "[encoded data removed]",
      "text/plain": [
       "<Figure size 432x288 with 1 Axes>"
      ]
     },
     "metadata": {
      "needs_background": "light"
     },
     "output_type": "display_data"
    }
   ],
   "source": [
    "df_all['Question'].str.len().hist()"
   ]
  },
  {
   "cell_type": "code",
   "execution_count": 6,
   "metadata": {},
   "outputs": [
    {
     "data": {
      "text/plain": [
       "<AxesSubplot:>"
      ]
     },
     "execution_count": 6,
     "metadata": {},
     "output_type": "execute_result"
    },
    {
     "data": {
      "image/png": "[encoded data removed]",
      "text/plain": [
       "<Figure size 432x288 with 1 Axes>"
      ]
     },
     "metadata": {
      "needs_background": "light"
     },
     "output_type": "display_data"
    }
   ],
   "source": [
    "df_all['Answer'].str.len().hist()"
   ]
  },
  {
   "cell_type": "code",
   "execution_count": 7,
   "metadata": {},
   "outputs": [
    {
     "data": {
      "text/plain": [
       "<AxesSubplot:>"
      ]
     },
     "execution_count": 7,
     "metadata": {},
     "output_type": "execute_result"
    },
    {
     "data": {
      "image/png": "[encoded data removed]",
      "text/plain": [
       "<Figure size 432x288 with 1 Axes>"
      ]
     },
     "metadata": {
      "needs_background": "light"
     },
     "output_type": "display_data"
    }
   ],
   "source": [
    "# Avg word len question\n",
    "df_all['Question'].dropna().str.split().apply(lambda x: [len(i) for i in x]).map(lambda x: np.mean(x)).hist()"
   ]
  },
  {
   "cell_type": "code",
   "execution_count": 8,
   "metadata": {
    "scrolled": true
   },
   "outputs": [
    {
     "data": {
      "text/html": [
       "<div>\n",
       "<style scoped>\n",
       "    .dataframe tbody tr th:only-of-type {\n",
       "        vertical-align: middle;\n",
       "    }\n",
       "\n",
       "    .dataframe tbody tr th {\n",
       "        vertical-align: top;\n",
       "    }\n",
       "\n",
       "    .dataframe thead th {\n",
       "        text-align: right;\n",
       "    }\n",
       "</style>\n",
       "<table border=\"1\" class=\"dataframe\">\n",
       "  <thead>\n",
       "    <tr style=\"text-align: right;\">\n",
       "      <th></th>\n",
       "      <th>Unnamed: 0</th>\n",
       "      <th>Year</th>\n",
       "      <th>Month</th>\n",
       "      <th>Question</th>\n",
       "      <th>Answer</th>\n",
       "      <th>Document</th>\n",
       "      <th>URLs</th>\n",
       "      <th>Translated Questions</th>\n",
       "      <th>Translated Answers</th>\n",
       "    </tr>\n",
       "  </thead>\n",
       "  <tbody>\n",
       "    <tr>\n",
       "      <th>0</th>\n",
       "      <td>9</td>\n",
       "      <td>2015</td>\n",
       "      <td>1</td>\n",
       "      <td>\\n1. Komt het in Amsterdam al voor dat er gesu...</td>\n",
       "      <td>\\nMomenteel vindt er geen gemeentelijk taalaa...</td>\n",
       "      <td>https://amsterdam.raadsinformatie.nl/document/...</td>\n",
       "      <td>http://www.parool.nl/parool/nl/4060/AMSTERDAM-...</td>\n",
       "      <td>1. Does it already happen in Amsterdam that su...</td>\n",
       "      <td>Currently there is no municipal language offer...</td>\n",
       "    </tr>\n",
       "    <tr>\n",
       "      <th>1</th>\n",
       "      <td>25</td>\n",
       "      <td>2013</td>\n",
       "      <td>6</td>\n",
       "      <td>\\n1. Is het college op de hoogte van het rappo...</td>\n",
       "      <td>\\nJa, het college heeft kennisgenomen van het...</td>\n",
       "      <td>https://amsterdam.raadsinformatie.nl/document/...</td>\n",
       "      <td>http://www.dekinderombudsman.nl/86/volwassen/n...</td>\n",
       "      <td>1. Is the Board aware of the report of the Omb...</td>\n",
       "      <td>Yes, the Board has taken note of the report. T...</td>\n",
       "    </tr>\n",
       "    <tr>\n",
       "      <th>2</th>\n",
       "      <td>92</td>\n",
       "      <td>2013</td>\n",
       "      <td>9</td>\n",
       "      <td>\\n1. Heeft het college kennisgenomen van de be...</td>\n",
       "      <td>\\nJa. \\n                                     ...</td>\n",
       "      <td>https://amsterdam.raadsinformatie.nl/document/...</td>\n",
       "      <td>http://afvalonline.nl/bericht?id=17424\\nhttp:/...</td>\n",
       "      <td>1. Has the Commission taken note of the report...</td>\n",
       "      <td>Yes.\\n                                        ...</td>\n",
       "    </tr>\n",
       "    <tr>\n",
       "      <th>3</th>\n",
       "      <td>101</td>\n",
       "      <td>2013</td>\n",
       "      <td>7</td>\n",
       "      <td>\\n6. Wat gaat het college doen om ervoor te zo...</td>\n",
       "      <td>\\nEen klas van 28 leerlingen wordt niet als i...</td>\n",
       "      <td>https://amsterdam.raadsinformatie.nl/document/...</td>\n",
       "      <td>http://www.rekenkamer.nl/Publicaties/Onderzoek...</td>\n",
       "      <td>6. What will the council do to ensure that the...</td>\n",
       "      <td>A class of 28 students is not considered an id...</td>\n",
       "    </tr>\n",
       "    <tr>\n",
       "      <th>4</th>\n",
       "      <td>117</td>\n",
       "      <td>2020</td>\n",
       "      <td>4</td>\n",
       "      <td>\\n2. Wat doet de gemeente de komende weken om ...</td>\n",
       "      <td>\\nNatuurlijke bestrijding  \\n-        Er zijn...</td>\n",
       "      <td>https://amsterdam.raadsinformatie.nl/document/...</td>\n",
       "      <td>https://maps.amsterdam.nl/eikenprocessierups/</td>\n",
       "      <td>2. What will the municipality do about the num...</td>\n",
       "      <td>Natural control\\n- Approx. 3,000 bird nest box...</td>\n",
       "    </tr>\n",
       "  </tbody>\n",
       "</table>\n",
       "</div>"
      ],
      "text/plain": [
       "   Unnamed: 0  Year  Month                                           Question  \\\n",
       "0           9  2015      1  \\n1. Komt het in Amsterdam al voor dat er gesu...   \n",
       "1          25  2013      6  \\n1. Is het college op de hoogte van het rappo...   \n",
       "2          92  2013      9  \\n1. Heeft het college kennisgenomen van de be...   \n",
       "3         101  2013      7  \\n6. Wat gaat het college doen om ervoor te zo...   \n",
       "4         117  2020      4  \\n2. Wat doet de gemeente de komende weken om ...   \n",
       "\n",
       "                                              Answer  \\\n",
       "0   \\nMomenteel vindt er geen gemeentelijk taalaa...   \n",
       "1   \\nJa, het college heeft kennisgenomen van het...   \n",
       "2   \\nJa. \\n                                     ...   \n",
       "3   \\nEen klas van 28 leerlingen wordt niet als i...   \n",
       "4   \\nNatuurlijke bestrijding  \\n-        Er zijn...   \n",
       "\n",
       "                                            Document  \\\n",
       "0  https://amsterdam.raadsinformatie.nl/document/...   \n",
       "1  https://amsterdam.raadsinformatie.nl/document/...   \n",
       "2  https://amsterdam.raadsinformatie.nl/document/...   \n",
       "3  https://amsterdam.raadsinformatie.nl/document/...   \n",
       "4  https://amsterdam.raadsinformatie.nl/document/...   \n",
       "\n",
       "                                                URLs  \\\n",
       "0  http://www.parool.nl/parool/nl/4060/AMSTERDAM-...   \n",
       "1  http://www.dekinderombudsman.nl/86/volwassen/n...   \n",
       "2  http://afvalonline.nl/bericht?id=17424\\nhttp:/...   \n",
       "3  http://www.rekenkamer.nl/Publicaties/Onderzoek...   \n",
       "4      https://maps.amsterdam.nl/eikenprocessierups/   \n",
       "\n",
       "                                Translated Questions  \\\n",
       "0  1. Does it already happen in Amsterdam that su...   \n",
       "1  1. Is the Board aware of the report of the Omb...   \n",
       "2  1. Has the Commission taken note of the report...   \n",
       "3  6. What will the council do to ensure that the...   \n",
       "4  2. What will the municipality do about the num...   \n",
       "\n",
       "                                  Translated Answers  \n",
       "0  Currently there is no municipal language offer...  \n",
       "1  Yes, the Board has taken note of the report. T...  \n",
       "2  Yes.\\n                                        ...  \n",
       "3  A class of 28 students is not considered an id...  \n",
       "4  Natural control\\n- Approx. 3,000 bird nest box...  "
      ]
     },
     "execution_count": 8,
     "metadata": {},
     "output_type": "execute_result"
    }
   ],
   "source": [
    "df_trans_links.head()"
   ]
  },
  {
   "cell_type": "markdown",
   "metadata": {},
   "source": [
    "# General idea"
   ]
  },
  {
   "cell_type": "code",
   "execution_count": 9,
   "metadata": {},
   "outputs": [
    {
     "name": "stdout",
     "output_type": "stream",
     "text": [
      "<class 'pandas.core.frame.DataFrame'>\n",
      "RangeIndex: 19134 entries, 0 to 19133\n",
      "Data columns (total 6 columns):\n",
      " #   Column    Non-Null Count  Dtype \n",
      "---  ------    --------------  ----- \n",
      " 0   Year      19134 non-null  object\n",
      " 1   Month     19128 non-null  object\n",
      " 2   Question  19122 non-null  object\n",
      " 3   Answer    19122 non-null  object\n",
      " 4   Document  19122 non-null  object\n",
      " 5   URLs      623 non-null    object\n",
      "dtypes: object(6)\n",
      "memory usage: 897.0+ KB\n"
     ]
    }
   ],
   "source": [
    "df_all.info()"
   ]
  },
  {
   "cell_type": "code",
   "execution_count": 10,
   "metadata": {},
   "outputs": [],
   "source": [
    "questions = df_all['Question']"
   ]
  },
  {
   "cell_type": "code",
   "execution_count": 11,
   "metadata": {},
   "outputs": [],
   "source": [
    "answers = df_all['Answer']"
   ]
  },
  {
   "cell_type": "markdown",
   "metadata": {},
   "source": [
    "# Pre-processing"
   ]
  },
  {
   "cell_type": "markdown",
   "metadata": {},
   "source": [
    "In this section, the questions and answers are pre-processed. The pre-processing step is needed, so that the analysis is performed on data which has less noise (such as stopwords, punctuation etc.)"
   ]
  },
  {
   "cell_type": "markdown",
   "metadata": {},
   "source": [
    "### Import stopwords"
   ]
  },
  {
   "cell_type": "code",
   "execution_count": 12,
   "metadata": {},
   "outputs": [],
   "source": [
    "stop = stopwords.words('dutch')"
   ]
  },
  {
   "cell_type": "markdown",
   "metadata": {},
   "source": [
    "### Tokenize"
   ]
  },
  {
   "cell_type": "code",
   "execution_count": 13,
   "metadata": {},
   "outputs": [],
   "source": [
    "def tokenize(text):\n",
    "    \"\"\"\n",
    "        Tokenizes the input text.\n",
    "        Input: text - type(str)\n",
    "        Output: a list of tokens - type(list)\n",
    "    \"\"\"\n",
    "    tokens = word_tokenize(text, language='dutch')\n",
    "    return tokens"
   ]
  },
  {
   "cell_type": "markdown",
   "metadata": {},
   "source": [
    "### Stemming"
   ]
  },
  {
   "cell_type": "code",
   "execution_count": 14,
   "metadata": {},
   "outputs": [],
   "source": [
    "def stem_token(token): # Doesn't work rn, should check how to do for Dutch\n",
    "    \"\"\"\n",
    "        Stems the given token using the PorterStemmer from the nltk library\n",
    "        Input: a single token\n",
    "        Output: the stem of the token\n",
    "    \"\"\"\n",
    "    stemmer = PorterStemmer()\n",
    "    return stemmer.stem(token)"
   ]
  },
  {
   "cell_type": "markdown",
   "metadata": {},
   "source": [
    "### Combined"
   ]
  },
  {
   "cell_type": "code",
   "execution_count": 18,
   "metadata": {},
   "outputs": [],
   "source": [
    "# Define the process_text function\n",
    "def process_text(text, stop_words, stem=False, remove_stopwords=False, lowercase_text=False):\n",
    "    \"\"\"\n",
    "    Preprocesses the given text by tokenizing, removing stopwords, stemming, and lowercasing the text.\n",
    "    Returns a list of preprocessed tokens.\n",
    "\n",
    "    Args:\n",
    "    - text (str): The input text to be preprocessed.\n",
    "    - stop_words (list): A list of stopwords to be removed.\n",
    "    - stem (bool): Whether to perform stemming.\n",
    "    - remove_stopwords (bool): Whether to remove stopwords.\n",
    "    - lowercase_text (bool): Whether to lowercase the text.\n",
    "\n",
    "    Returns:\n",
    "    - list: A list of preprocessed tokens.\n",
    "    \"\"\"\n",
    "    tokens = []\n",
    "    for token in tokenize(str(text)):\n",
    "        if remove_stopwords and token.lower() in stop_words:\n",
    "            continue\n",
    "        if lowercase_text:\n",
    "            token = token.lower()\n",
    "        if stem:\n",
    "            token = stem_word(token)\n",
    "        tokens.append(token)\n",
    "    return tokens\n",
    "\n",
    "# Tokenize the text\n",
    "def tokenize(text):\n",
    "    \"\"\"\n",
    "    Tokenizes the given text.\n",
    "\n",
    "    Args:\n",
    "    - text (str): The input text to be tokenized.\n",
    "\n",
    "    Returns:\n",
    "    - list: A list of tokens.\n",
    "    \"\"\"\n",
    "    tokens = word_tokenize(text, language='dutch')\n",
    "    return tokens\n",
    "\n",
    "# Usage example\n",
    "questions_prepr = []\n",
    "questions_len = []\n",
    "for question in questions:\n",
    "    preprocessed = process_text(question, stop, remove_stopwords=True, lowercase_text=True)\n",
    "    questions_prepr.append(preprocessed)\n",
    "    questions_len.append(len(preprocessed))\n"
   ]
  },
  {
   "cell_type": "markdown",
   "metadata": {},
   "source": [
    "### Try"
   ]
  },
  {
   "cell_type": "code",
   "execution_count": 19,
   "metadata": {},
   "outputs": [
    {
     "data": {
      "text/plain": [
       "['1', '.', 'college', 'kennisgenomen', 'genoemde', 'publicatie', 'cidi', '?']"
      ]
     },
     "execution_count": 19,
     "metadata": {},
     "output_type": "execute_result"
    }
   ],
   "source": [
    "process_text(questions[0], stop, stem=False, remove_stopwords=True, lowercase_text=True)"
   ]
  },
  {
   "cell_type": "markdown",
   "metadata": {},
   "source": [
    "# Lengths, Distributions, etc."
   ]
  },
  {
   "cell_type": "code",
   "execution_count": 20,
   "metadata": {},
   "outputs": [
    {
     "data": {
      "text/plain": [
       "{'whiskers': [<matplotlib.lines.Line2D at 0x7f8adb519a60>,\n",
       "  <matplotlib.lines.Line2D at 0x7f8adb519dc0>],\n",
       " 'caps': [<matplotlib.lines.Line2D at 0x7f8afa23a160>,\n",
       "  <matplotlib.lines.Line2D at 0x7f8afa23a4c0>],\n",
       " 'boxes': [<matplotlib.lines.Line2D at 0x7f8adb519700>],\n",
       " 'medians': [<matplotlib.lines.Line2D at 0x7f8afa23a820>],\n",
       " 'fliers': [<matplotlib.lines.Line2D at 0x7f8afa23ab80>],\n",
       " 'means': []}"
      ]
     },
     "execution_count": 20,
     "metadata": {},
     "output_type": "execute_result"
    },
    {
     "data": {
      "image/png": "[encoded data removed]",
      "text/plain": [
       "<Figure size 576x1080 with 1 Axes>"
      ]
     },
     "metadata": {
      "needs_background": "light"
     },
     "output_type": "display_data"
    }
   ],
   "source": [
    "plt.figure(figsize=(8, 15))\n",
    "plt.boxplot(questions_len)"
   ]
  },
  {
   "cell_type": "code",
   "execution_count": 21,
   "metadata": {},
   "outputs": [],
   "source": [
    "answers_prepr = []\n",
    "answers_len = []\n",
    "for answer in answers:\n",
    "    preprocessed = process_text(str(answer), stop, remove_stopwords=True, lowercase_text=True)\n",
    "    answers_prepr.append(preprocessed)\n",
    "    answers_len.append(len(preprocessed))"
   ]
  },
  {
   "cell_type": "code",
   "execution_count": 22,
   "metadata": {},
   "outputs": [
    {
     "data": {
      "text/plain": [
       "{'whiskers': [<matplotlib.lines.Line2D at 0x7f8ac98c7a30>,\n",
       "  <matplotlib.lines.Line2D at 0x7f8ac98c7d90>],\n",
       " 'caps': [<matplotlib.lines.Line2D at 0x7f8ac98d6130>,\n",
       "  <matplotlib.lines.Line2D at 0x7f8ac98d6490>],\n",
       " 'boxes': [<matplotlib.lines.Line2D at 0x7f8ac98c76d0>],\n",
       " 'medians': [<matplotlib.lines.Line2D at 0x7f8ac98d67f0>],\n",
       " 'fliers': [<matplotlib.lines.Line2D at 0x7f8ac98d6b50>],\n",
       " 'means': []}"
      ]
     },
     "execution_count": 22,
     "metadata": {},
     "output_type": "execute_result"
    },
    {
     "data": {
      "image/png": "[encoded data removed]",
      "text/plain": [
       "<Figure size 576x1080 with 1 Axes>"
      ]
     },
     "metadata": {
      "needs_background": "light"
     },
     "output_type": "display_data"
    }
   ],
   "source": [
    "plt.figure(figsize=(8, 15))\n",
    "plt.boxplot(answers_len)"
   ]
  },
  {
   "cell_type": "markdown",
   "metadata": {},
   "source": [
    "### Most common words"
   ]
  },
  {
   "cell_type": "markdown",
   "metadata": {},
   "source": [
    "#### Questions"
   ]
  },
  {
   "cell_type": "code",
   "execution_count": 23,
   "metadata": {},
   "outputs": [],
   "source": [
    "corpus_q = sum(questions_prepr, [])"
   ]
  },
  {
   "cell_type": "code",
   "execution_count": 24,
   "metadata": {},
   "outputs": [],
   "source": [
    "translator = str.maketrans('', '', string.punctuation)\n",
    "\n",
    "# Remove punctuation\n",
    "corpus_q = [token.translate(translator) for token in corpus_q if token not in string.punctuation]"
   ]
  },
  {
   "cell_type": "code",
   "execution_count": 25,
   "metadata": {},
   "outputs": [
    {
     "data": {
      "text/plain": [
       "<AxesSubplot:>"
      ]
     },
     "execution_count": 25,
     "metadata": {},
     "output_type": "execute_result"
    },
    {
     "data": {
      "image/png": "[encoded data removed]",
      "text/plain": [
       "<Figure size 720x576 with 1 Axes>"
      ]
     },
     "metadata": {
      "needs_background": "light"
     },
     "output_type": "display_data"
    }
   ],
   "source": [
    "counter=Counter(corpus_q)\n",
    "most=counter.most_common()\n",
    "\n",
    "x, y= [], []\n",
    "plt.figure(figsize=(10, 8))\n",
    "for word,count in most[:40]:\n",
    "    if (word not in stop):\n",
    "        x.append(word)\n",
    "        y.append(count)\n",
    "\n",
    "sns.barplot(x=y,y=x)"
   ]
  },
  {
   "cell_type": "markdown",
   "metadata": {},
   "source": [
    "#### Answers "
   ]
  },
  {
   "cell_type": "code",
   "execution_count": 26,
   "metadata": {},
   "outputs": [],
   "source": [
    "corpus_a = sum(answers_prepr, [])\n",
    "\n",
    "translator = str.maketrans('', '', string.punctuation)\n",
    "\n",
    "# Remove punctuation\n",
    "corpus_a = [token.translate(translator) for token in corpus_a if token not in string.punctuation]"
   ]
  },
  {
   "cell_type": "code",
   "execution_count": 27,
   "metadata": {},
   "outputs": [
    {
     "data": {
      "text/plain": [
       "<AxesSubplot:>"
      ]
     },
     "execution_count": 27,
     "metadata": {},
     "output_type": "execute_result"
    },
    {
     "data": {
      "image/png": "[encoded data removed]",
      "text/plain": [
       "<Figure size 720x576 with 1 Axes>"
      ]
     },
     "metadata": {
      "needs_background": "light"
     },
     "output_type": "display_data"
    }
   ],
   "source": [
    "counter=Counter(corpus_a)\n",
    "most=counter.most_common()\n",
    "\n",
    "plt.figure(figsize=(10, 8))\n",
    "x, y= [], []\n",
    "for word,count in most[:40]:\n",
    "    if (word not in stop):\n",
    "        x.append(word)\n",
    "        y.append(count)\n",
    "\n",
    "sns.barplot(x=y,y=x)"
   ]
  },
  {
   "cell_type": "markdown",
   "metadata": {},
   "source": [
    "#### n-grams"
   ]
  },
  {
   "cell_type": "code",
   "execution_count": 28,
   "metadata": {},
   "outputs": [],
   "source": [
    "def get_top_ngram(corpus, n=None):\n",
    "    vec = CountVectorizer(ngram_range=(n, n)).fit(corpus)\n",
    "    bag_of_words = vec.transform(corpus)\n",
    "    sum_words = bag_of_words.sum(axis=0)\n",
    "    words_freq = [(word, sum_words[0, idx])\n",
    "                  for word, idx in vec.vocabulary_.items()]\n",
    "    words_freq =sorted(words_freq, key = lambda x: x[1], reverse=True)\n",
    "    return words_freq[:10]"
   ]
  },
  {
   "cell_type": "code",
   "execution_count": 29,
   "metadata": {},
   "outputs": [
    {
     "data": {
      "text/plain": [
       "<AxesSubplot:>"
      ]
     },
     "execution_count": 29,
     "metadata": {},
     "output_type": "execute_result"
    },
    {
     "data": {
      "image/png": "[encoded data removed]",
      "text/plain": [
       "<Figure size 432x288 with 1 Axes>"
      ]
     },
     "metadata": {
      "needs_background": "light"
     },
     "output_type": "display_data"
    }
   ],
   "source": [
    "top_n_bigrams=get_top_ngram(corpus_q,3)\n",
    "x,y=map(list,zip(*top_n_bigrams)) \n",
    "sns.barplot(x=y,y=x)"
   ]
  },
  {
   "cell_type": "code",
   "execution_count": 30,
   "metadata": {},
   "outputs": [
    {
     "data": {
      "text/plain": [
       "<AxesSubplot:>"
      ]
     },
     "execution_count": 30,
     "metadata": {},
     "output_type": "execute_result"
    },
    {
     "data": {
      "image/png": "[encoded data removed]",
      "text/plain": [
       "<Figure size 432x288 with 1 Axes>"
      ]
     },
     "metadata": {
      "needs_background": "light"
     },
     "output_type": "display_data"
    }
   ],
   "source": [
    "top_n_bigrams=get_top_ngram(corpus_a,2)\n",
    "x,y=map(list,zip(*top_n_bigrams)) \n",
    "sns.barplot(x=y,y=x)"
   ]
  },
  {
   "cell_type": "markdown",
   "metadata": {},
   "source": [
    "#### TF-IDF "
   ]
  },
  {
   "cell_type": "code",
   "execution_count": 31,
   "metadata": {},
   "outputs": [],
   "source": [
    "from sklearn.feature_extraction.text import TfidfVectorizer"
   ]
  },
  {
   "cell_type": "markdown",
   "metadata": {},
   "source": [
    "#### Questions"
   ]
  },
  {
   "cell_type": "code",
   "execution_count": 35,
   "metadata": {},
   "outputs": [],
   "source": [
    "import pandas as pd\n",
    "from sklearn.feature_extraction.text import TfidfVectorizer\n",
    "\n",
    "# Assuming 'questions' is a pandas Series or DataFrame column\n",
    "questions = df_all['Question'].fillna('')\n",
    "\n",
    "# Create an instance of TfidfVectorizer\n",
    "vectorizer = TfidfVectorizer(ngram_range=(1,3),\n",
    "                             stop_words = stop,\n",
    "                             max_df=0.6,\n",
    "                             min_df=3)\n",
    "\n",
    "# Fit-transform the questions\n",
    "tfidf_q = vectorizer.fit_transform(questions)\n"
   ]
  },
  {
   "cell_type": "code",
   "execution_count": 37,
   "metadata": {
    "scrolled": true
   },
   "outputs": [
    {
     "name": "stdout",
     "output_type": "stream",
     "text": [
      "welke: 352.70\n",
      "amsterdam: 299.41\n",
      "waarom: 266.16\n",
      "gemeente: 252.39\n",
      "nee: 227.07\n",
      "hoeveel: 208.91\n",
      "bereid: 198.69\n",
      "nee waarom: 185.18\n",
      "college bereid: 178.43\n",
      "gaat: 154.82\n"
     ]
    }
   ],
   "source": [
    "feature_names = vectorizer.get_feature_names_out()\n",
    "tf_idf_sum = tfidf_q.sum(axis=0)\n",
    "tf_idf_scores = [(feature_names[i], tf_idf_sum[0, i]) for i in range(len(feature_names))]\n",
    "tf_idf_scores = sorted(tf_idf_scores, key=lambda x: x[1], reverse=True)\n",
    "\n",
    "# Print the top 10 most important words in the corpus\n",
    "for term, score in tf_idf_scores[:10]:\n",
    "    print(f\"{term}: {score:.2f}\")\n"
   ]
  },
  {
   "cell_type": "markdown",
   "metadata": {},
   "source": [
    "#### Answers"
   ]
  },
  {
   "cell_type": "code",
   "execution_count": 38,
   "metadata": {},
   "outputs": [
    {
     "data": {
      "text/plain": [
       "True"
      ]
     },
     "execution_count": 38,
     "metadata": {},
     "output_type": "execute_result"
    }
   ],
   "source": [
    "answers.isnull().values.any()"
   ]
  },
  {
   "cell_type": "code",
   "execution_count": 39,
   "metadata": {},
   "outputs": [
    {
     "data": {
      "text/plain": [
       "12"
      ]
     },
     "execution_count": 39,
     "metadata": {},
     "output_type": "execute_result"
    }
   ],
   "source": [
    "answers.isnull().sum()"
   ]
  },
  {
   "cell_type": "code",
   "execution_count": 40,
   "metadata": {},
   "outputs": [],
   "source": [
    "answers = answers.dropna()"
   ]
  },
  {
   "cell_type": "code",
   "execution_count": 41,
   "metadata": {},
   "outputs": [],
   "source": [
    "vectorizer = TfidfVectorizer(ngram_range=(1,3),\n",
    "                             stop_words = stop,\n",
    "                             max_df=0.6,\n",
    "                             min_df=3)\n",
    "tfidf_a = vectorizer.fit_transform(answers)"
   ]
  },
  {
   "cell_type": "code",
   "execution_count": 43,
   "metadata": {},
   "outputs": [
    {
     "name": "stdout",
     "output_type": "stream",
     "text": [
      "college: 404.87\n",
      "vraag: 352.70\n",
      "zie: 324.44\n",
      "amsterdam: 299.63\n",
      "antwoord: 271.61\n",
      "gemeente: 264.32\n",
      "zie antwoord: 246.50\n",
      "antwoord vraag: 244.51\n",
      "zie antwoord vraag: 228.52\n",
      "nee: 170.94\n"
     ]
    }
   ],
   "source": [
    "feature_names = vectorizer.get_feature_names_out()\n",
    "tf_idf_sum = tfidf_a.sum(axis=0)\n",
    "tf_idf_scores = [(feature_names[i], tf_idf_sum[0, i]) for i in range(len(feature_names))]\n",
    "tf_idf_scores = sorted(tf_idf_scores, key=lambda x: x[1], reverse=True)\n",
    "\n",
    "# Print the top 10 most important words in the corpus\n",
    "for term, score in tf_idf_scores[:10]:\n",
    "    print(f\"{term}: {score:.2f}\")\n",
    "\n"
   ]
  },
  {
   "cell_type": "markdown",
   "metadata": {},
   "source": [
    "### Topic Modeling "
   ]
  },
  {
   "cell_type": "code",
   "execution_count": 44,
   "metadata": {},
   "outputs": [],
   "source": [
    "import gensim"
   ]
  },
  {
   "cell_type": "code",
   "execution_count": 45,
   "metadata": {},
   "outputs": [],
   "source": [
    "nopunct_a = []\n",
    "for answ in answers_prepr:\n",
    "    nopunct_a.append([token.translate(translator) for token in answ if token not in string.punctuation])"
   ]
  },
  {
   "cell_type": "code",
   "execution_count": 46,
   "metadata": {},
   "outputs": [],
   "source": [
    "dic=gensim.corpora.Dictionary(nopunct_a)\n",
    "bow_corpus = [dic.doc2bow(doc) for doc in nopunct_a]"
   ]
  },
  {
   "cell_type": "code",
   "execution_count": 47,
   "metadata": {},
   "outputs": [
    {
     "data": {
      "text/plain": [
       "[(0,\n",
       "  '0.014*\"college\" + 0.009*\"stadsdeel\" + 0.006*\"geïnformeerd\" + 0.006*\"raad\" + 0.006*\"brief\" + 0.005*\"amsterdam\" + 0.005*\"2019\" + 0.005*\"gemeente\" + 0.005*\"2015\" + 0.005*\"2020\"'),\n",
       " (1,\n",
       "  '0.008*\"gemeente\" + 0.007*\"college\" + 0.007*\"per\" + 0.006*\"amsterdam\" + 0.006*\"jaar\" + 0.005*\"woningen\" + 0.005*\"’\" + 0.004*\"1\" + 0.004*\"2020\" + 0.004*\"aantal\"'),\n",
       " (2,\n",
       "  '0.013*\"college\" + 0.011*\"politie\" + 0.009*\"gemeente\" + 0.009*\"amsterdam\" + 0.007*\"’\" + 0.006*\"onderzoek\" + 0.005*\"informatie\" + 0.005*\"aanpak\" + 0.004*\"ouders\" + 0.004*\"s\"'),\n",
       " (3,\n",
       "  '0.015*\"woningen\" + 0.015*\"college\" + 0.007*\"corporaties\" + 0.006*\"amsterdam\" + 0.006*\"woning\" + 0.005*\"bewoners\" + 0.005*\"sociale\" + 0.005*\"huurwoningen\" + 0.005*\"zorg\" + 0.005*\"aantal\"'),\n",
       " (4,\n",
       "  '0.010*\"’\" + 0.007*\"s\" + 0.007*\"aantal\" + 0.006*\"ruimte\" + 0.005*\"maatregelen\" + 0.005*\"amsterdam\" + 0.005*\"openbare\" + 0.005*\"bomen\" + 0.005*\"stadsdeel\" + 0.005*\"stad\"'),\n",
       " (5,\n",
       "  '0.018*\"college\" + 0.013*\"gemeente\" + 0.006*\"amsterdam\" + 0.005*\"mogelijk\" + 0.005*\"wet\" + 0.005*\"zoals\" + 0.004*\"wel\" + 0.004*\"regels\" + 0.004*\"geval\" + 0.004*\"moeten\"'),\n",
       " (6,\n",
       "  '0.012*\"gvb\" + 0.007*\"nieuwe\" + 0.006*\"museum\" + 0.006*\"beloningsbeleid\" + 0.005*\"tarief\" + 0.004*\"beloning\" + 0.004*\"gemeente\" + 0.004*\"directie\" + 0.004*\"vervoerregio\" + 0.004*\"amsterdam\"'),\n",
       " (7,\n",
       "  '0.015*\"amsterdam\" + 0.009*\"college\" + 0.009*\"gemeente\" + 0.007*\"we\" + 0.005*\"’\" + 0.005*\"jaar\" + 0.004*\"binnen\" + 0.004*\"stad\" + 0.004*\"maken\" + 0.004*\"mensen\"'),\n",
       " (8,\n",
       "  '0.086*\"vraag\" + 0.070*\"zie\" + 0.062*\"antwoord\" + 0.034*\"€\" + 0.028*\"2\" + 0.026*\"1\" + 0.021*\"3\" + 0.020*\"beantwoording\" + 0.015*\"4\" + 0.013*\"vragen\"'),\n",
       " (9,\n",
       "  '0.011*\"pand\" + 0.008*\"aantal\" + 0.007*\"eigenaar\" + 0.007*\"1\" + 0.006*\"jaar\" + 0.006*\"totaal\" + 0.006*\"meldingen\" + 0.005*\"sprake\" + 0.005*\"per\" + 0.005*\"personen\"')]"
      ]
     },
     "execution_count": 47,
     "metadata": {},
     "output_type": "execute_result"
    }
   ],
   "source": [
    "lda_model = gensim.models.LdaMulticore(bow_corpus,\n",
    "                                   num_topics = 10,\n",
    "                                   id2word = dic,\n",
    "                                   passes = 10,\n",
    "                                   workers = 2)\n",
    "lda_model.show_topics()"
   ]
  },
  {
   "cell_type": "markdown",
   "metadata": {},
   "source": [
    "0) 0.019*\"district\" + 0.012*\"•\" + 0.006*\"Center\" + 0.006*\"hour\" + 0.006*\"Southeast\" + 0.005*\"residents\" + 0.005*\"North\" + 0.005*\"District\" + 0.005* \"West\" + 0.004*\"2020\"')\n",
    "\n",
    "1) 0.017*\"Amsterdam\" + 0.008*\"college\" + 0.006*\"'\" + 0.006*\"municipality\" + 0.004*\"new\" + 0.004*\"Amsterdam\" + 0.004*\"city\" + 0.004*\"s\" + 0.003* \"like\" + 0.003*\"area\n",
    "\n",
    "2) 0.018*\"€\" + 0.009*\"college\" + 0.008*\"per\" + 0.007*\"Amsterdam\" + 0.006*\"costs\" + 0.006*\"1\" + 0.006*\"municipality\" + 0.005*\"2014\" + 0.005* \"year\" + 0.005*\"2015\n",
    "\n",
    "3) '0.031*\"question\" + 0.021*\"answer\" + 0.019*\"lecture\" + 0.017*\"See\" + 0.011*\"1\" + 0.011*\"municipality\" + 0.009*\"building\" + 0.009*\"2\" + 0.008 *\"Amsterdam\" + 0.008*\"answer\"\n",
    "\n",
    "4) 0.013*\"homes\" + 0.009*\"college\" + 0.006*\"home\" + 0.005*\"number\" + 0.005*\"year\" + 0.005*\"residents\" + 0.004*\"municipality\" + 0.004*\"per\" + 0.004* \"corporations\" + 0.004*\"new\""
   ]
  },
  {
   "cell_type": "code",
   "execution_count": 48,
   "metadata": {},
   "outputs": [],
   "source": [
    "lda_model = gensim.models.LdaMulticore(bow_corpus,\n",
    "                                   num_topics = 20,\n",
    "                                   id2word = dic,\n",
    "                                   passes = 10,\n",
    "                                   workers = 2)"
   ]
  },
  {
   "cell_type": "code",
   "execution_count": 49,
   "metadata": {},
   "outputs": [
    {
     "data": {
      "text/plain": [
       "[(8,\n",
       "  '0.027*\"woningen\" + 0.016*\"college\" + 0.011*\"amsterdam\" + 0.010*\"corporaties\" + 0.009*\"gemeente\" + 0.008*\"woning\" + 0.007*\"huurders\" + 0.007*\"sociale\" + 0.006*\"afspraken\" + 0.006*\"aantal\"'),\n",
       " (10,\n",
       "  '0.012*\"college\" + 0.011*\"’\" + 0.011*\"amsterdam\" + 0.010*\"gemeente\" + 0.008*\"s\" + 0.006*\"zoals\" + 0.006*\"handhaving\" + 0.006*\"gebruik\" + 0.005*\"openbare\" + 0.005*\"maatregelen\"'),\n",
       " (5,\n",
       "  '0.065*\"vraag\" + 0.052*\"zie\" + 0.045*\"antwoord\" + 0.020*\"1\" + 0.020*\"2\" + 0.018*\"3\" + 0.015*\"beantwoording\" + 0.012*\"4\" + 0.012*\"vragen\" + 0.009*\"5\"'),\n",
       " (17,\n",
       "  '0.007*\"v\" + 0.006*\"fonds\" + 0.005*\"oekraïne\" + 0.005*\"afvalstoffenheffing\" + 0.004*\"\\uf0a7\" + 0.004*\"stichting\" + 0.004*\"casa\" + 0.004*\"rvp\" + 0.004*\"free\" + 0.004*\"emailadres\"'),\n",
       " (18,\n",
       "  '0.017*\"jaar\" + 0.012*\"per\" + 0.011*\"aantal\" + 0.010*\"uur\" + 0.008*\"gebruik\" + 0.007*\"1\" + 0.007*\"totaal\" + 0.005*\"evenementen\" + 0.005*\"2016\" + 0.005*\"periode\"'),\n",
       " (0,\n",
       "  '0.010*\"ymere\" + 0.010*\"stadgenoot\" + 0.009*\"windturbines\" + 0.007*\"bewoners\" + 0.006*\"aanpak\" + 0.005*\"kaderafspraken\" + 0.005*\"plan\" + 0.004*\"routebeschrijving\" + 0.004*\"gemeente\" + 0.004*\"amsterdamnl\"'),\n",
       " (14,\n",
       "  '0.031*\"gvb\" + 0.012*\"reizigers\" + 0.010*\"ov\" + 0.008*\"prorail\" + 0.007*\"vervoer\" + 0.006*\"tram\" + 0.006*\"vervoerregio\" + 0.006*\"amsterdam\" + 0.005*\"briefadres\" + 0.005*\"ns\"'),\n",
       " (15,\n",
       "  '0.041*\"politie\" + 0.011*\"aangifte\" + 0.011*\"aanpak\" + 0.009*\"onderzoek\" + 0.009*\"personen\" + 0.008*\"sprake\" + 0.008*\"ministerie\" + 0.008*\"geweld\" + 0.008*\"mensenhandel\" + 0.007*\"slachtoffers\"'),\n",
       " (9,\n",
       "  '0.021*\"amsterdam\" + 0.013*\"college\" + 0.012*\"bedrijven\" + 0.012*\"werk\" + 0.011*\"arbeidsmarkt\" + 0.010*\"werkgevers\" + 0.007*\"werknemers\" + 0.006*\"sector\" + 0.005*\"gemeente\" + 0.005*\"activiteiten\"'),\n",
       " (7,\n",
       "  '0.018*\"college\" + 0.009*\"gemeente\" + 0.007*\"raad\" + 0.007*\"geïnformeerd\" + 0.006*\"brief\" + 0.006*\"2020\" + 0.005*\"onderzoek\" + 0.005*\"2019\" + 0.005*\"wij\" + 0.005*\"vragen\"')]"
      ]
     },
     "execution_count": 49,
     "metadata": {},
     "output_type": "execute_result"
    }
   ],
   "source": [
    "lda_model.show_topics(10)"
   ]
  },
  {
   "cell_type": "code",
   "execution_count": 50,
   "metadata": {},
   "outputs": [],
   "source": [
    "nopunct_q = []\n",
    "for q in questions_prepr:\n",
    "    nopunct_q.append([token.translate(translator) for token in q if token not in string.punctuation])"
   ]
  },
  {
   "cell_type": "code",
   "execution_count": 51,
   "metadata": {},
   "outputs": [],
   "source": [
    "dic=gensim.corpora.Dictionary(nopunct_q)\n",
    "bow_corpus = [dic.doc2bow(doc) for doc in nopunct_q]"
   ]
  },
  {
   "cell_type": "code",
   "execution_count": 52,
   "metadata": {},
   "outputs": [],
   "source": [
    "lda_model = gensim.models.LdaMulticore(bow_corpus,\n",
    "                                   num_topics = 20,\n",
    "                                   id2word = dic,\n",
    "                                   passes = 10,\n",
    "                                   workers = 2)"
   ]
  },
  {
   "cell_type": "code",
   "execution_count": 53,
   "metadata": {},
   "outputs": [
    {
     "data": {
      "text/plain": [
       "[(0,\n",
       "  '0.015*\"\" + 0.009*\"motie\" + 0.008*\"3\" + 0.008*\"6\" + 0.008*\"erfpacht\" + 0.007*\"amsterdam\" + 0.007*\"−\" + 0.007*\"a\" + 0.006*\"college\" + 0.006*\"aangenomen\"'),\n",
       " (15,\n",
       "  '0.036*\"college\" + 0.025*\"woningen\" + 0.011*\"sociale\" + 0.007*\"6\" + 0.006*\"huurwoningen\" + 0.006*\"bereid\" + 0.006*\"waarom\" + 0.006*\"3\" + 0.006*\"waar\" + 0.005*\"welke\"'),\n",
       " (6,\n",
       "  '0.025*\"college\" + 0.017*\"vragen\" + 0.017*\"dieren\" + 0.012*\"1\" + 0.011*\"schriftelijke\" + 0.009*\"fractie\" + 0.007*\"partij\" + 0.007*\"2\" + 0.007*\"beantwoording\" + 0.006*\"wethouder\"'),\n",
       " (14,\n",
       "  '0.048*\"college\" + 0.034*\"amsterdam\" + 0.023*\"gemeente\" + 0.016*\"4\" + 0.011*\"5\" + 0.010*\"waarom\" + 0.010*\"contact\" + 0.010*\"nee\" + 0.010*\"2\" + 0.009*\"bereid\"'),\n",
       " (17,\n",
       "  '0.016*\"gemeente\" + 0.012*\"3\" + 0.010*\"opvang\" + 0.010*\"waarom\" + 0.009*\"1\" + 0.008*\"college\" + 0.007*\"2\" + 0.007*\"afspraken\" + 0.006*\"klopt\" + 0.006*\"•\"'),\n",
       " (11,\n",
       "  '0.073*\"welke\" + 0.034*\"college\" + 0.027*\"maatregelen\" + 0.011*\"3\" + 0.011*\"nemen\" + 0.010*\"genomen\" + 0.010*\"5\" + 0.010*\"manier\" + 0.008*\"voorkomen\" + 0.008*\"nee\"'),\n",
       " (5,\n",
       "  '0.012*\"7\" + 0.008*\"aantal\" + 0.007*\"4\" + 0.006*\"8\" + 0.006*\"gemeente\" + 0.006*\"college\" + 0.006*\"hoeverre\" + 0.005*\"tijdens\" + 0.005*\"eeuwigdurende\" + 0.005*\"bestrijding\"'),\n",
       " (7,\n",
       "  '0.019*\"college\" + 0.016*\"5\" + 0.014*\"kosten\" + 0.013*\"politie\" + 0.011*\"welke\" + 0.011*\"4\" + 0.007*\"handhavers\" + 0.007*\"gemeente\" + 0.006*\"gegevens\" + 0.006*\"3\"'),\n",
       " (2,\n",
       "  '0.098*\"college\" + 0.074*\"1\" + 0.041*\"bekend\" + 0.024*\"’\" + 0.022*\"‘\" + 0.014*\"artikel\" + 0.013*\"kennisgenomen\" + 0.013*\"footnotestart\" + 0.013*\"footnoteend\" + 0.012*\"signalen\"'),\n",
       " (18,\n",
       "  '0.057*\"hoeveel\" + 0.024*\"college\" + 0.018*\"amsterdam\" + 0.018*\"1\" + 0.018*\"jaar\" + 0.016*\"aantal\" + 0.015*\"2\" + 0.015*\"per\" + 0.013*\"afgelopen\" + 0.011*\"aangeven\"')]"
      ]
     },
     "execution_count": 53,
     "metadata": {},
     "output_type": "execute_result"
    }
   ],
   "source": [
    "lda_model.show_topics(10)"
   ]
  },
  {
   "cell_type": "markdown",
   "metadata": {},
   "source": [
    "### Locating Outliers "
   ]
  },
  {
   "cell_type": "markdown",
   "metadata": {},
   "source": [
    "#### Questions"
   ]
  },
  {
   "cell_type": "code",
   "execution_count": 54,
   "metadata": {},
   "outputs": [],
   "source": [
    "df_all['Question Len'] = questions_len"
   ]
  },
  {
   "cell_type": "code",
   "execution_count": 55,
   "metadata": {},
   "outputs": [],
   "source": [
    "df_all['Answer Len'] = answers_len"
   ]
  },
  {
   "cell_type": "code",
   "execution_count": 56,
   "metadata": {},
   "outputs": [
    {
     "data": {
      "text/html": [
       "<div>\n",
       "<style scoped>\n",
       "    .dataframe tbody tr th:only-of-type {\n",
       "        vertical-align: middle;\n",
       "    }\n",
       "\n",
       "    .dataframe tbody tr th {\n",
       "        vertical-align: top;\n",
       "    }\n",
       "\n",
       "    .dataframe thead th {\n",
       "        text-align: right;\n",
       "    }\n",
       "</style>\n",
       "<table border=\"1\" class=\"dataframe\">\n",
       "  <thead>\n",
       "    <tr style=\"text-align: right;\">\n",
       "      <th></th>\n",
       "      <th>Question Len</th>\n",
       "      <th>Answer Len</th>\n",
       "    </tr>\n",
       "  </thead>\n",
       "  <tbody>\n",
       "    <tr>\n",
       "      <th>count</th>\n",
       "      <td>19134.000000</td>\n",
       "      <td>19134.000000</td>\n",
       "    </tr>\n",
       "    <tr>\n",
       "      <th>mean</th>\n",
       "      <td>24.040504</td>\n",
       "      <td>65.425003</td>\n",
       "    </tr>\n",
       "    <tr>\n",
       "      <th>std</th>\n",
       "      <td>22.891957</td>\n",
       "      <td>67.621178</td>\n",
       "    </tr>\n",
       "    <tr>\n",
       "      <th>min</th>\n",
       "      <td>1.000000</td>\n",
       "      <td>0.000000</td>\n",
       "    </tr>\n",
       "    <tr>\n",
       "      <th>25%</th>\n",
       "      <td>13.000000</td>\n",
       "      <td>21.000000</td>\n",
       "    </tr>\n",
       "    <tr>\n",
       "      <th>50%</th>\n",
       "      <td>19.000000</td>\n",
       "      <td>46.000000</td>\n",
       "    </tr>\n",
       "    <tr>\n",
       "      <th>75%</th>\n",
       "      <td>27.000000</td>\n",
       "      <td>86.000000</td>\n",
       "    </tr>\n",
       "    <tr>\n",
       "      <th>max</th>\n",
       "      <td>346.000000</td>\n",
       "      <td>951.000000</td>\n",
       "    </tr>\n",
       "  </tbody>\n",
       "</table>\n",
       "</div>"
      ],
      "text/plain": [
       "       Question Len    Answer Len\n",
       "count  19134.000000  19134.000000\n",
       "mean      24.040504     65.425003\n",
       "std       22.891957     67.621178\n",
       "min        1.000000      0.000000\n",
       "25%       13.000000     21.000000\n",
       "50%       19.000000     46.000000\n",
       "75%       27.000000     86.000000\n",
       "max      346.000000    951.000000"
      ]
     },
     "execution_count": 56,
     "metadata": {},
     "output_type": "execute_result"
    }
   ],
   "source": [
    "df_all.describe()"
   ]
  },
  {
   "cell_type": "markdown",
   "metadata": {},
   "source": [
    "Mean is very different from the max values, which indicates outliers, regardless of the fact that mean is highly affected by extreme values. "
   ]
  },
  {
   "cell_type": "code",
   "execution_count": 57,
   "metadata": {},
   "outputs": [],
   "source": [
    "def find_outliers_IQR(df):\n",
    "    q1=df.quantile(0.25)\n",
    "    \n",
    "    q3=df.quantile(0.75)\n",
    "    \n",
    "    IQR=q3-q1\n",
    "    \n",
    "    outliers = df[((df<(q1-1.5*IQR)) | (df>(q3+1.5*IQR)))]\n",
    "    \n",
    "    return outliers"
   ]
  },
  {
   "cell_type": "code",
   "execution_count": 58,
   "metadata": {},
   "outputs": [],
   "source": [
    "outliers_q = find_outliers_IQR(df_all['Question Len']).sort_values()"
   ]
  },
  {
   "cell_type": "code",
   "execution_count": 59,
   "metadata": {},
   "outputs": [],
   "source": [
    "outliers_a = find_outliers_IQR(df_all['Answer Len']).sort_values()"
   ]
  },
  {
   "cell_type": "code",
   "execution_count": 60,
   "metadata": {},
   "outputs": [
    {
     "name": "stdout",
     "output_type": "stream",
     "text": [
      "1101\n",
      "1069\n"
     ]
    }
   ],
   "source": [
    "print(len(outliers_q))\n",
    "print(len(outliers_a))"
   ]
  },
  {
   "cell_type": "markdown",
   "metadata": {},
   "source": [
    "The number of outliers for questions and answers is very similar -> it is likely that the same docs are not being parsed correctly "
   ]
  },
  {
   "cell_type": "code",
   "execution_count": 61,
   "metadata": {},
   "outputs": [
    {
     "data": {
      "text/plain": [
       "5243     289\n",
       "11070    293\n",
       "12889    294\n",
       "4884     294\n",
       "9829     297\n",
       "10427    297\n",
       "9745     303\n",
       "5362     324\n",
       "5675     329\n",
       "8772     346\n",
       "Name: Question Len, dtype: int64"
      ]
     },
     "execution_count": 61,
     "metadata": {},
     "output_type": "execute_result"
    }
   ],
   "source": [
    "outliers_q[-10:]"
   ]
  },
  {
   "cell_type": "code",
   "execution_count": 62,
   "metadata": {},
   "outputs": [
    {
     "data": {
      "text/plain": [
       "16969    598\n",
       "1076     600\n",
       "3515     660\n",
       "17593    665\n",
       "1419     668\n",
       "13979    669\n",
       "264      677\n",
       "17313    783\n",
       "9553     798\n",
       "3857     951\n",
       "Name: Answer Len, dtype: int64"
      ]
     },
     "execution_count": 62,
     "metadata": {},
     "output_type": "execute_result"
    }
   ],
   "source": [
    "outliers_a[-10:]"
   ]
  },
  {
   "cell_type": "markdown",
   "metadata": {},
   "source": [
    "After checking this answer might actually not be wrongly parsed. (Need to check in detail). -> The college seems to have answered all four questions in one answer "
   ]
  },
  {
   "cell_type": "markdown",
   "metadata": {},
   "source": [
    "### URLs inspection"
   ]
  },
  {
   "cell_type": "code",
   "execution_count": 63,
   "metadata": {},
   "outputs": [
    {
     "data": {
      "text/html": [
       "<div>\n",
       "<style scoped>\n",
       "    .dataframe tbody tr th:only-of-type {\n",
       "        vertical-align: middle;\n",
       "    }\n",
       "\n",
       "    .dataframe tbody tr th {\n",
       "        vertical-align: top;\n",
       "    }\n",
       "\n",
       "    .dataframe thead th {\n",
       "        text-align: right;\n",
       "    }\n",
       "</style>\n",
       "<table border=\"1\" class=\"dataframe\">\n",
       "  <thead>\n",
       "    <tr style=\"text-align: right;\">\n",
       "      <th></th>\n",
       "      <th>Unnamed: 0</th>\n",
       "      <th>Year</th>\n",
       "      <th>Month</th>\n",
       "      <th>Question</th>\n",
       "      <th>Answer</th>\n",
       "      <th>Document</th>\n",
       "      <th>URLs</th>\n",
       "      <th>Translated Questions</th>\n",
       "      <th>Translated Answers</th>\n",
       "    </tr>\n",
       "  </thead>\n",
       "  <tbody>\n",
       "    <tr>\n",
       "      <th>0</th>\n",
       "      <td>9</td>\n",
       "      <td>2015</td>\n",
       "      <td>1</td>\n",
       "      <td>\\n1. Komt het in Amsterdam al voor dat er gesu...</td>\n",
       "      <td>\\nMomenteel vindt er geen gemeentelijk taalaa...</td>\n",
       "      <td>https://amsterdam.raadsinformatie.nl/document/...</td>\n",
       "      <td>http://www.parool.nl/parool/nl/4060/AMSTERDAM-...</td>\n",
       "      <td>1. Does it already happen in Amsterdam that su...</td>\n",
       "      <td>Currently there is no municipal language offer...</td>\n",
       "    </tr>\n",
       "    <tr>\n",
       "      <th>1</th>\n",
       "      <td>25</td>\n",
       "      <td>2013</td>\n",
       "      <td>6</td>\n",
       "      <td>\\n1. Is het college op de hoogte van het rappo...</td>\n",
       "      <td>\\nJa, het college heeft kennisgenomen van het...</td>\n",
       "      <td>https://amsterdam.raadsinformatie.nl/document/...</td>\n",
       "      <td>http://www.dekinderombudsman.nl/86/volwassen/n...</td>\n",
       "      <td>1. Is the Board aware of the report of the Omb...</td>\n",
       "      <td>Yes, the Board has taken note of the report. T...</td>\n",
       "    </tr>\n",
       "    <tr>\n",
       "      <th>2</th>\n",
       "      <td>92</td>\n",
       "      <td>2013</td>\n",
       "      <td>9</td>\n",
       "      <td>\\n1. Heeft het college kennisgenomen van de be...</td>\n",
       "      <td>\\nJa. \\n                                     ...</td>\n",
       "      <td>https://amsterdam.raadsinformatie.nl/document/...</td>\n",
       "      <td>http://afvalonline.nl/bericht?id=17424\\nhttp:/...</td>\n",
       "      <td>1. Has the Commission taken note of the report...</td>\n",
       "      <td>Yes.\\n                                        ...</td>\n",
       "    </tr>\n",
       "    <tr>\n",
       "      <th>3</th>\n",
       "      <td>101</td>\n",
       "      <td>2013</td>\n",
       "      <td>7</td>\n",
       "      <td>\\n6. Wat gaat het college doen om ervoor te zo...</td>\n",
       "      <td>\\nEen klas van 28 leerlingen wordt niet als i...</td>\n",
       "      <td>https://amsterdam.raadsinformatie.nl/document/...</td>\n",
       "      <td>http://www.rekenkamer.nl/Publicaties/Onderzoek...</td>\n",
       "      <td>6. What will the council do to ensure that the...</td>\n",
       "      <td>A class of 28 students is not considered an id...</td>\n",
       "    </tr>\n",
       "    <tr>\n",
       "      <th>4</th>\n",
       "      <td>117</td>\n",
       "      <td>2020</td>\n",
       "      <td>4</td>\n",
       "      <td>\\n2. Wat doet de gemeente de komende weken om ...</td>\n",
       "      <td>\\nNatuurlijke bestrijding  \\n-        Er zijn...</td>\n",
       "      <td>https://amsterdam.raadsinformatie.nl/document/...</td>\n",
       "      <td>https://maps.amsterdam.nl/eikenprocessierups/</td>\n",
       "      <td>2. What will the municipality do about the num...</td>\n",
       "      <td>Natural control\\n- Approx. 3,000 bird nest box...</td>\n",
       "    </tr>\n",
       "  </tbody>\n",
       "</table>\n",
       "</div>"
      ],
      "text/plain": [
       "   Unnamed: 0  Year  Month                                           Question  \\\n",
       "0           9  2015      1  \\n1. Komt het in Amsterdam al voor dat er gesu...   \n",
       "1          25  2013      6  \\n1. Is het college op de hoogte van het rappo...   \n",
       "2          92  2013      9  \\n1. Heeft het college kennisgenomen van de be...   \n",
       "3         101  2013      7  \\n6. Wat gaat het college doen om ervoor te zo...   \n",
       "4         117  2020      4  \\n2. Wat doet de gemeente de komende weken om ...   \n",
       "\n",
       "                                              Answer  \\\n",
       "0   \\nMomenteel vindt er geen gemeentelijk taalaa...   \n",
       "1   \\nJa, het college heeft kennisgenomen van het...   \n",
       "2   \\nJa. \\n                                     ...   \n",
       "3   \\nEen klas van 28 leerlingen wordt niet als i...   \n",
       "4   \\nNatuurlijke bestrijding  \\n-        Er zijn...   \n",
       "\n",
       "                                            Document  \\\n",
       "0  https://amsterdam.raadsinformatie.nl/document/...   \n",
       "1  https://amsterdam.raadsinformatie.nl/document/...   \n",
       "2  https://amsterdam.raadsinformatie.nl/document/...   \n",
       "3  https://amsterdam.raadsinformatie.nl/document/...   \n",
       "4  https://amsterdam.raadsinformatie.nl/document/...   \n",
       "\n",
       "                                                URLs  \\\n",
       "0  http://www.parool.nl/parool/nl/4060/AMSTERDAM-...   \n",
       "1  http://www.dekinderombudsman.nl/86/volwassen/n...   \n",
       "2  http://afvalonline.nl/bericht?id=17424\\nhttp:/...   \n",
       "3  http://www.rekenkamer.nl/Publicaties/Onderzoek...   \n",
       "4      https://maps.amsterdam.nl/eikenprocessierups/   \n",
       "\n",
       "                                Translated Questions  \\\n",
       "0  1. Does it already happen in Amsterdam that su...   \n",
       "1  1. Is the Board aware of the report of the Omb...   \n",
       "2  1. Has the Commission taken note of the report...   \n",
       "3  6. What will the council do to ensure that the...   \n",
       "4  2. What will the municipality do about the num...   \n",
       "\n",
       "                                  Translated Answers  \n",
       "0  Currently there is no municipal language offer...  \n",
       "1  Yes, the Board has taken note of the report. T...  \n",
       "2  Yes.\\n                                        ...  \n",
       "3  A class of 28 students is not considered an id...  \n",
       "4  Natural control\\n- Approx. 3,000 bird nest box...  "
      ]
     },
     "execution_count": 63,
     "metadata": {},
     "output_type": "execute_result"
    }
   ],
   "source": [
    "df_trans_links.head()"
   ]
  },
  {
   "cell_type": "code",
   "execution_count": 64,
   "metadata": {},
   "outputs": [],
   "source": [
    "urls = df_trans_links['URLs']"
   ]
  },
  {
   "cell_type": "code",
   "execution_count": 65,
   "metadata": {},
   "outputs": [
    {
     "data": {
      "text/plain": [
       "[('https://www.rijksoverheid.nl/documenten/kamerstukken/2021/07/06/kamerbrief-over-de-gevolgen-van-de-uitspraak-van-de-raad-van-state-over-de-milieubeoordeling-voor-\\nhttps://www.infomil.nl/onderwerpen/integrale/uitspraak-raad-state/gevolgen-raad-state-uitspraak-windturbineparken/uitspraak-raad-state/',\n",
       "  5),\n",
       " ('https://www.ggd.amsterdam.nl/gezond-wonen/loden-waterleidingen/meest-gestelde-vragen-over-gezondheid-en/',\n",
       "  2),\n",
       " ('https://www.regionale-energiestrategie.nl/vragen/vragen', 2),\n",
       " ('https://www.amsterdam.nl/bestuur-organisatie/volg-beleid/stad-in-balans/geluidsoverlast/',\n",
       "  2),\n",
       " ('https://www.rvo.nl/onderwerpen/duurzaam-ondernemen/duurzame-energie-opwekken/windenergie-op-land/milieu-en-omgeving/natuur-en-',\n",
       "  2),\n",
       " ('https://www.jaarverantwoordingzorg.nl/gegevens-bekijken/verantwoordingsgegevens-per-instelling',\n",
       "  2),\n",
       " ('https://www.amsterdam.nl/zorg-ondersteuning/contact/meldpunt-zorg/', 2),\n",
       " ('https://www.cbs.nl/nl-nl/corporate/2019/32/onderzoek-naar-eerlijke-algoritmen-voor-beleid',\n",
       "  2),\n",
       " ('https://slimmeapparaten.amsterdam.nl/', 2),\n",
       " ('https://lci.rivm.nl/PBM-thuiszorg', 2),\n",
       " ('https://www.amsterdam.nl/bestuur-organisatie/organisatie/overige/acvz/verwerking-persoonsgegevens-acvz/',\n",
       "  2),\n",
       " ('https://maps.amsterdam.nl/gebiedsindeling/', 2),\n",
       " ('http://amsterdam.toeristischebarometer.nl/Current', 2),\n",
       " ('http://www.rijksoverheid.nl/documenten-en-publicaties/kamerstukken/2014/09/10/antwoorden-kamervragen-over-asielzoekers-en-andere-vreemdelingen-die-zonder-recht-op-basisvoorzieningen-en-onderdak-in-nederland-',\n",
       "  2),\n",
       " ('http://www.volkskrant.nl/binnenland/pandjesbazen-misbruiken-airbnb~a3944340/',\n",
       "  2),\n",
       " ('http://www.parool.nl/parool/nl/4060/AMSTERDAM-NIEUW-WEST/article/detail/3832915/2015/01/19/Stadsdeelvoorzitter-Baadoud-wil-Nederlandse-les-in-',\n",
       "  1),\n",
       " ('http://www.dekinderombudsman.nl/86/volwassen/nieuws/kinderombudsman-aanpak-gemeenten-voor-kinderen-in-armoede-moet-beter/?id=305\\nhttp://www.os.amsterdam.nl/pdf/2012_armoedemonitor_2011',\n",
       "  1)]"
      ]
     },
     "execution_count": 65,
     "metadata": {},
     "output_type": "execute_result"
    }
   ],
   "source": [
    "Counter(urls).most_common(17)"
   ]
  },
  {
   "cell_type": "markdown",
   "metadata": {},
   "source": [
    "Check if the ones that appear more than once are connectes to the same documents/ or if there is a mistake"
   ]
  },
  {
   "cell_type": "markdown",
   "metadata": {},
   "source": [
    "**e.g. the most common link seems to be a mistake (It looks like 2 links are combined together)**"
   ]
  },
  {
   "cell_type": "markdown",
   "metadata": {},
   "source": [
    "### Check broken links"
   ]
  },
  {
   "cell_type": "code",
   "execution_count": null,
   "metadata": {},
   "outputs": [],
   "source": [
    "import requests\n",
    "from bs4 import BeautifulSoup"
   ]
  },
  {
   "cell_type": "code",
   "execution_count": null,
   "metadata": {},
   "outputs": [],
   "source": [
    "broken_links=[]\n",
    "for url in urls:\n",
    "    try:\n",
    "        r = requests.head(url)\n",
    "        if r.status_code == 404:\n",
    "            broken_links.append(url)\n",
    "    except requests.exceptions.ConnectionError:\n",
    "        broken_links.append('Connection refused')\n",
    "    except requests.exceptions.InvalidURL:\n",
    "            broken_links.append('Invalid URL')"
   ]
  },
  {
   "cell_type": "code",
   "execution_count": null,
   "metadata": {},
   "outputs": [],
   "source": [
    "len(broken_links)"
   ]
  },
  {
   "cell_type": "markdown",
   "metadata": {},
   "source": [
    "There are (maybe) 143 broken/not accessible links "
   ]
  },
  {
   "cell_type": "code",
   "execution_count": null,
   "metadata": {},
   "outputs": [],
   "source": [
    "mask = df_trans_links['URLs'].isin(broken_links) # doesn't check for \"Connection refused\""
   ]
  },
  {
   "cell_type": "code",
   "execution_count": null,
   "metadata": {},
   "outputs": [],
   "source": [
    "index_list = df_trans_links[mask].index.tolist()\n",
    "index_list"
   ]
  },
  {
   "cell_type": "code",
   "execution_count": null,
   "metadata": {},
   "outputs": [],
   "source": [
    "df_trans_links.iloc[index_list].to_csv('broken links.csv') # create csv"
   ]
  },
  {
   "cell_type": "markdown",
   "metadata": {},
   "source": [
    "### Save Questions and answers "
   ]
  },
  {
   "cell_type": "markdown",
   "metadata": {},
   "source": [
    "#### Outliers"
   ]
  },
  {
   "cell_type": "code",
   "execution_count": 67,
   "metadata": {},
   "outputs": [],
   "source": [
    "outliers_q = find_outliers_IQR(df_all['Question Len']).sort_values(ascending=False)"
   ]
  },
  {
   "cell_type": "code",
   "execution_count": 68,
   "metadata": {},
   "outputs": [],
   "source": [
    "df_all.iloc[outliers_q.index].to_csv('question_outliers.csv') # questions "
   ]
  },
  {
   "cell_type": "code",
   "execution_count": 69,
   "metadata": {},
   "outputs": [],
   "source": [
    "outliers_a = find_outliers_IQR(df_all['Answer Len']).sort_values(ascending=False)"
   ]
  },
  {
   "cell_type": "code",
   "execution_count": 70,
   "metadata": {},
   "outputs": [],
   "source": [
    "df_all.iloc[outliers_a.index].to_csv('answer_outliers.csv') # questions "
   ]
  },
  {
   "cell_type": "markdown",
   "metadata": {},
   "source": [
    "### Links fix the ones that appear on new lines"
   ]
  },
  {
   "cell_type": "code",
   "execution_count": null,
   "metadata": {},
   "outputs": [],
   "source": [
    "index = 0\n",
    "question_url = dict()\n",
    "for l in df_trans_links['URLs']:\n",
    "    question_url[df_trans_links['Question'][index]] = df_trans_links['URLs'][index].split('\\n')\n",
    "    \n",
    "    index+=1\n",
    "    "
   ]
  },
  {
   "cell_type": "code",
   "execution_count": null,
   "metadata": {},
   "outputs": [],
   "source": [
    "links = list(question_url.values())"
   ]
  },
  {
   "cell_type": "code",
   "execution_count": null,
   "metadata": {},
   "outputs": [],
   "source": [
    "flattened_list = [item for sublist in links for item in sublist]"
   ]
  },
  {
   "cell_type": "code",
   "execution_count": null,
   "metadata": {},
   "outputs": [],
   "source": [
    "broken_links2=[]\n",
    "for url in flattened_list:\n",
    "    try:\n",
    "        r = requests.head(url)\n",
    "        if r.status_code == 404:\n",
    "            broken_links.append(url)\n",
    "    except requests.exceptions.ConnectionError:\n",
    "        broken_links.append('Connection refused')\n",
    "    except requests.exceptions.InvalidURL:\n",
    "            broken_links.append('Invalid URL')"
   ]
  },
  {
   "cell_type": "code",
   "execution_count": null,
   "metadata": {},
   "outputs": [],
   "source": [
    "broken_links2"
   ]
  },
  {
   "cell_type": "code",
   "execution_count": null,
   "metadata": {},
   "outputs": [],
   "source": [
    "broken_links2=[]\n",
    "for url in flattened_list:\n",
    "    try:\n",
    "        r = requests.head(url)\n",
    "        if r.status_code == 404:\n",
    "            broken_links2.append(url)\n",
    "    except requests.exceptions.ConnectionError:\n",
    "        broken_links2.append('Connection refused')\n",
    "    except requests.exceptions.InvalidURL:\n",
    "            broken_links2.append('Invalid URL')"
   ]
  },
  {
   "cell_type": "code",
   "execution_count": null,
   "metadata": {},
   "outputs": [],
   "source": [
    "broken_links2"
   ]
  }
 ],
 "metadata": {
  "kernelspec": {
   "display_name": "base",
   "language": "python",
   "name": "python3"
  },
  "language_info": {
   "codemirror_mode": {
    "name": "ipython",
    "version": 3
   },
   "file_extension": ".py",
   "mimetype": "text/x-python",
   "name": "python",
   "nbconvert_exporter": "python",
   "pygments_lexer": "ipython3",
   "version": "3.8.5"
  },
  "vscode": {
   "interpreter": {
    "hash": "ea4c3bcc219a1292b0d1d9543a9b9f82ed18a35340190a3cbd50b3110bbb4e55"
   }
  }
 },
 "nbformat": 4,
 "nbformat_minor": 4
}
