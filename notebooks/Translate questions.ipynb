{
 "cells": [
  {
   "cell_type": "code",
   "execution_count": null,
   "metadata": {},
   "outputs": [],
   "source": [
    "!pip install googletrans"
   ]
  },
  {
   "cell_type": "code",
   "execution_count": 5,
   "metadata": {},
   "outputs": [],
   "source": [
    "import pandas as pd\n",
    "from google_trans_new import google_translator\n",
    "from langdetect import detect_langs\n",
    "from googletrans import Translator, constants\n",
    "from pprint import pprint\n",
    "from deep_translator import GoogleTranslator"
   ]
  },
  {
   "cell_type": "code",
   "execution_count": 2,
   "metadata": {},
   "outputs": [],
   "source": [
    "df = pd.read_csv('questions - questions-2.csv')"
   ]
  },
  {
   "cell_type": "code",
   "execution_count": 3,
   "metadata": {},
   "outputs": [
    {
     "data": {
      "text/html": [
       "<div>\n",
       "<style scoped>\n",
       "    .dataframe tbody tr th:only-of-type {\n",
       "        vertical-align: middle;\n",
       "    }\n",
       "\n",
       "    .dataframe tbody tr th {\n",
       "        vertical-align: top;\n",
       "    }\n",
       "\n",
       "    .dataframe thead th {\n",
       "        text-align: right;\n",
       "    }\n",
       "</style>\n",
       "<table border=\"1\" class=\"dataframe\">\n",
       "  <thead>\n",
       "    <tr style=\"text-align: right;\">\n",
       "      <th></th>\n",
       "      <th>Year</th>\n",
       "      <th>Month</th>\n",
       "      <th>Question</th>\n",
       "      <th>Answer</th>\n",
       "      <th>Document</th>\n",
       "      <th>URLs</th>\n",
       "    </tr>\n",
       "  </thead>\n",
       "  <tbody>\n",
       "    <tr>\n",
       "      <th>0</th>\n",
       "      <td>2018</td>\n",
       "      <td>12</td>\n",
       "      <td>\\n1. Heeft het college kennisgenomen van de ge...</td>\n",
       "      <td>\\nNee.  \\n</td>\n",
       "      <td>https://amsterdam.raadsinformatie.nl/document/...</td>\n",
       "      <td>NaN</td>\n",
       "    </tr>\n",
       "    <tr>\n",
       "      <th>1</th>\n",
       "      <td>2018</td>\n",
       "      <td>12</td>\n",
       "      <td>\\n2. Kan het college bevestigen of dit lesmate...</td>\n",
       "      <td>\\nNee, het college heeft hier geen zicht op. ...</td>\n",
       "      <td>https://amsterdam.raadsinformatie.nl/document/...</td>\n",
       "      <td>NaN</td>\n",
       "    </tr>\n",
       "    <tr>\n",
       "      <th>2</th>\n",
       "      <td>2018</td>\n",
       "      <td>12</td>\n",
       "      <td>\\n3. Acht het college het wenselijk dat lesmat...</td>\n",
       "      <td>\\nHet CIDI is duidelijk over de eigen doelste...</td>\n",
       "      <td>https://amsterdam.raadsinformatie.nl/document/...</td>\n",
       "      <td>NaN</td>\n",
       "    </tr>\n",
       "    <tr>\n",
       "      <th>3</th>\n",
       "      <td>2018</td>\n",
       "      <td>12</td>\n",
       "      <td>\\n4. Is het college bekend met de jaarlijks te...</td>\n",
       "      <td>\\nHet college heeft hier kennis van genomen. ...</td>\n",
       "      <td>https://amsterdam.raadsinformatie.nl/document/...</td>\n",
       "      <td>NaN</td>\n",
       "    </tr>\n",
       "    <tr>\n",
       "      <th>4</th>\n",
       "      <td>2018</td>\n",
       "      <td>12</td>\n",
       "      <td>\\n5. Gaat het college zich inspannen om ervoor...</td>\n",
       "      <td>\\nNee. De onderwijsinspectie is verantwoordel...</td>\n",
       "      <td>https://amsterdam.raadsinformatie.nl/document/...</td>\n",
       "      <td>NaN</td>\n",
       "    </tr>\n",
       "    <tr>\n",
       "      <th>...</th>\n",
       "      <td>...</td>\n",
       "      <td>...</td>\n",
       "      <td>...</td>\n",
       "      <td>...</td>\n",
       "      <td>...</td>\n",
       "      <td>...</td>\n",
       "    </tr>\n",
       "    <tr>\n",
       "      <th>18706</th>\n",
       "      <td>2022</td>\n",
       "      <td>7</td>\n",
       "      <td>\\n7. Welke mogelijkheden ziet het college om s...</td>\n",
       "      <td>\\nZie onder meer de antwoorden op de vragen 2...</td>\n",
       "      <td>https://amsterdam.raadsinformatie.nl/document/...</td>\n",
       "      <td>NaN</td>\n",
       "    </tr>\n",
       "    <tr>\n",
       "      <th>18707</th>\n",
       "      <td>2022</td>\n",
       "      <td>7</td>\n",
       "      <td>\\n8. Welke mogelijkheden ziet het college om b...</td>\n",
       "      <td>\\nZie antwoord op vragen 2, 4, 6 en 7. \\n \\nW...</td>\n",
       "      <td>https://amsterdam.raadsinformatie.nl/document/...</td>\n",
       "      <td>NaN</td>\n",
       "    </tr>\n",
       "    <tr>\n",
       "      <th>18708</th>\n",
       "      <td>2017</td>\n",
       "      <td>8</td>\n",
       "      <td>\\n1. Kan het college wat meer inzicht geven in...</td>\n",
       "      <td>\\nIn de bijlage staat een overzicht van de on...</td>\n",
       "      <td>https://amsterdam.raadsinformatie.nl/document/...</td>\n",
       "      <td>NaN</td>\n",
       "    </tr>\n",
       "    <tr>\n",
       "      <th>18709</th>\n",
       "      <td>2017</td>\n",
       "      <td>8</td>\n",
       "      <td>\\n2. Hoeveel van de meldingen hebben betrekkin...</td>\n",
       "      <td>\\nIn totaal zijn er in 2016 147.946 meldingen...</td>\n",
       "      <td>https://amsterdam.raadsinformatie.nl/document/...</td>\n",
       "      <td>NaN</td>\n",
       "    </tr>\n",
       "    <tr>\n",
       "      <th>18710</th>\n",
       "      <td>2017</td>\n",
       "      <td>8</td>\n",
       "      <td>\\n3. Zijn er overlastmeldingen of regelovertre...</td>\n",
       "      <td>\\nEen melding van overlast is nooit voldoende...</td>\n",
       "      <td>https://amsterdam.raadsinformatie.nl/document/...</td>\n",
       "      <td>NaN</td>\n",
       "    </tr>\n",
       "  </tbody>\n",
       "</table>\n",
       "<p>18711 rows × 6 columns</p>\n",
       "</div>"
      ],
      "text/plain": [
       "       Year  Month                                           Question  \\\n",
       "0      2018     12  \\n1. Heeft het college kennisgenomen van de ge...   \n",
       "1      2018     12  \\n2. Kan het college bevestigen of dit lesmate...   \n",
       "2      2018     12  \\n3. Acht het college het wenselijk dat lesmat...   \n",
       "3      2018     12  \\n4. Is het college bekend met de jaarlijks te...   \n",
       "4      2018     12  \\n5. Gaat het college zich inspannen om ervoor...   \n",
       "...     ...    ...                                                ...   \n",
       "18706  2022      7  \\n7. Welke mogelijkheden ziet het college om s...   \n",
       "18707  2022      7  \\n8. Welke mogelijkheden ziet het college om b...   \n",
       "18708  2017      8  \\n1. Kan het college wat meer inzicht geven in...   \n",
       "18709  2017      8  \\n2. Hoeveel van de meldingen hebben betrekkin...   \n",
       "18710  2017      8  \\n3. Zijn er overlastmeldingen of regelovertre...   \n",
       "\n",
       "                                                  Answer  \\\n",
       "0                                            \\nNee.  \\n    \n",
       "1       \\nNee, het college heeft hier geen zicht op. ...   \n",
       "2       \\nHet CIDI is duidelijk over de eigen doelste...   \n",
       "3       \\nHet college heeft hier kennis van genomen. ...   \n",
       "4       \\nNee. De onderwijsinspectie is verantwoordel...   \n",
       "...                                                  ...   \n",
       "18706   \\nZie onder meer de antwoorden op de vragen 2...   \n",
       "18707   \\nZie antwoord op vragen 2, 4, 6 en 7. \\n \\nW...   \n",
       "18708   \\nIn de bijlage staat een overzicht van de on...   \n",
       "18709   \\nIn totaal zijn er in 2016 147.946 meldingen...   \n",
       "18710   \\nEen melding van overlast is nooit voldoende...   \n",
       "\n",
       "                                                Document URLs  \n",
       "0      https://amsterdam.raadsinformatie.nl/document/...  NaN  \n",
       "1      https://amsterdam.raadsinformatie.nl/document/...  NaN  \n",
       "2      https://amsterdam.raadsinformatie.nl/document/...  NaN  \n",
       "3      https://amsterdam.raadsinformatie.nl/document/...  NaN  \n",
       "4      https://amsterdam.raadsinformatie.nl/document/...  NaN  \n",
       "...                                                  ...  ...  \n",
       "18706  https://amsterdam.raadsinformatie.nl/document/...  NaN  \n",
       "18707  https://amsterdam.raadsinformatie.nl/document/...  NaN  \n",
       "18708  https://amsterdam.raadsinformatie.nl/document/...  NaN  \n",
       "18709  https://amsterdam.raadsinformatie.nl/document/...  NaN  \n",
       "18710  https://amsterdam.raadsinformatie.nl/document/...  NaN  \n",
       "\n",
       "[18711 rows x 6 columns]"
      ]
     },
     "execution_count": 3,
     "metadata": {},
     "output_type": "execute_result"
    }
   ],
   "source": [
    "df.head()"
   ]
  },
  {
   "cell_type": "markdown",
   "metadata": {},
   "source": [
    "#### test"
   ]
  },
  {
   "cell_type": "code",
   "execution_count": 12,
   "metadata": {},
   "outputs": [
    {
     "name": "stdout",
     "output_type": "stream",
     "text": [
      "[nl:0.9999960231183175]\n"
     ]
    }
   ],
   "source": [
    "sentence = \"Momenteel vindt er geen gemeentelijk taalaanbod plaats in een locatie die wordt\"\n",
    "\n",
    "print(detect_langs(sentence)) # test"
   ]
  },
  {
   "cell_type": "code",
   "execution_count": 26,
   "metadata": {},
   "outputs": [],
   "source": [
    "to_translate = 'Momenteel vindt er geen gemeentelijk taalaanbod plaats in een locatie die word'\n"
   ]
  },
  {
   "cell_type": "code",
   "execution_count": 27,
   "metadata": {},
   "outputs": [],
   "source": [
    "translated = GoogleTranslator(source='auto', target='en').translate(to_translate)"
   ]
  },
  {
   "cell_type": "code",
   "execution_count": 28,
   "metadata": {},
   "outputs": [
    {
     "data": {
      "text/plain": [
       "'There are currently no municipal language offerings in a location that is being worded'"
      ]
     },
     "execution_count": 28,
     "metadata": {},
     "output_type": "execute_result"
    }
   ],
   "source": [
    "translated"
   ]
  },
  {
   "cell_type": "markdown",
   "metadata": {},
   "source": [
    "#### translate:"
   ]
  },
  {
   "cell_type": "code",
   "execution_count": 29,
   "metadata": {},
   "outputs": [],
   "source": [
    "questions = list(df['Question'])"
   ]
  },
  {
   "cell_type": "code",
   "execution_count": 37,
   "metadata": {},
   "outputs": [],
   "source": [
    "translated_questions = []"
   ]
  },
  {
   "cell_type": "code",
   "execution_count": null,
   "metadata": {},
   "outputs": [],
   "source": [
    "for q in questions:\n",
    "    try:\n",
    "        tran = GoogleTranslator(source='auto', target='en').translate(q)\n",
    "    except:\n",
    "        tran = 'Translation Error'\n",
    "        \n",
    "    translated_questions.append(tran)"
   ]
  },
  {
   "cell_type": "code",
   "execution_count": null,
   "metadata": {},
   "outputs": [],
   "source": [
    "df['Translated Questions'] = translated_questions"
   ]
  },
  {
   "cell_type": "code",
   "execution_count": null,
   "metadata": {},
   "outputs": [],
   "source": [
    "answers = list(df['Answer'])"
   ]
  },
  {
   "cell_type": "code",
   "execution_count": null,
   "metadata": {},
   "outputs": [],
   "source": [
    "translated_answers\n",
    "for a in answers:\n",
    "    try:\n",
    "        tran = GoogleTranslator(source='auto', target='en').translate(a)\n",
    "    except:\n",
    "        tran = 'Translation Error'\n",
    "        \n",
    "    translated_answers.append(tran)"
   ]
  },
  {
   "cell_type": "code",
   "execution_count": null,
   "metadata": {},
   "outputs": [],
   "source": [
    "df['Translated Answers'] = translated_answers"
   ]
  }
 ],
 "metadata": {
  "kernelspec": {
   "display_name": "Python 3",
   "language": "python",
   "name": "python3"
  },
  "language_info": {
   "codemirror_mode": {
    "name": "ipython",
    "version": 3
   },
   "file_extension": ".py",
   "mimetype": "text/x-python",
   "name": "python",
   "nbconvert_exporter": "python",
   "pygments_lexer": "ipython3",
   "version": "3.8.5"
  }
 },
 "nbformat": 4,
 "nbformat_minor": 4
}
