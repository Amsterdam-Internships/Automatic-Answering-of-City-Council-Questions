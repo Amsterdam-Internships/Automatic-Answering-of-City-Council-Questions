{
 "cells": [
  {
   "attachments": {},
   "cell_type": "markdown",
   "metadata": {},
   "source": [
    "# Experiments - Data Preparation"
   ]
  },
  {
   "cell_type": "code",
   "execution_count": 1,
   "metadata": {},
   "outputs": [
    {
     "name": "stdout",
     "output_type": "stream",
     "text": [
      "/Users/natalipeeva/Documents/GitHub/Automatic-Answering-of-City-Council-Questions\n"
     ]
    }
   ],
   "source": [
    "%cd /Users/natalipeeva/Documents/GitHub/Automatic-Answering-of-City-Council-Questions/"
   ]
  },
  {
   "cell_type": "code",
   "execution_count": 2,
   "metadata": {},
   "outputs": [],
   "source": [
    "import sys\n",
    "import os\n",
    "src_dir = os.path.join(os.getcwd(), 'src')\n",
    "sys.path.append(src_dir)\n",
    "\n",
    "from read_data.read_data import read_urls_questions, get_questions, get_url_content_tuples, get_relevant_docs\n",
    "from elasticsearch import Elasticsearch\n",
    "from retrieval.sparse_retrieval.bm25 import set_index, get_result_tuples"
   ]
  },
  {
   "attachments": {},
   "cell_type": "markdown",
   "metadata": {},
   "source": [
    "### Naive method"
   ]
  },
  {
   "attachments": {},
   "cell_type": "markdown",
   "metadata": {},
   "source": [
    "### Retrieval methods"
   ]
  },
  {
   "cell_type": "code",
   "execution_count": 3,
   "metadata": {},
   "outputs": [],
   "source": [
    "collected, questions =  read_urls_questions(os.path.join('data/amsterdam/amsterdam_full.csv'),\n",
    "                                            os.path.join('data/question_answer/questions.csv')) # read collected urls and questions + remove unsuccessful collection"
   ]
  },
  {
   "cell_type": "code",
   "execution_count": 4,
   "metadata": {},
   "outputs": [
    {
     "data": {
      "text/plain": [
       "8908"
      ]
     },
     "execution_count": 4,
     "metadata": {},
     "output_type": "execute_result"
    }
   ],
   "source": [
    "len(collected)"
   ]
  },
  {
   "cell_type": "code",
   "execution_count": 5,
   "metadata": {},
   "outputs": [
    {
     "data": {
      "text/plain": [
       "19134"
      ]
     },
     "execution_count": 5,
     "metadata": {},
     "output_type": "execute_result"
    }
   ],
   "source": [
    "len(questions)"
   ]
  },
  {
   "attachments": {},
   "cell_type": "markdown",
   "metadata": {},
   "source": [
    "#### Make passages"
   ]
  },
  {
   "cell_type": "code",
   "execution_count": 6,
   "metadata": {},
   "outputs": [
    {
     "name": "stderr",
     "output_type": "stream",
     "text": [
      "[nltk_data] Downloading package punkt to\n",
      "[nltk_data]     /Users/natalipeeva/nltk_data...\n",
      "[nltk_data]   Package punkt is already up-to-date!\n"
     ]
    }
   ],
   "source": [
    "import nltk\n",
    "import pandas as pd\n",
    "\n",
    "# Download the NLTK tokenizer data (if not already downloaded)\n",
    "nltk.download('punkt')\n",
    "\n",
    "# Create an empty dataframe for the new data\n",
    "new_df = pd.DataFrame(columns=['URL', 'Textual_Content'])\n",
    "\n",
    "# Iterate over each row in the original dataframe\n",
    "for index, row in collected.iterrows():\n",
    "    url = row['URL']\n",
    "    content = str(row['Textual_Content'])\n",
    "    \n",
    "    # Tokenize the content into sentences\n",
    "    sentences = nltk.sent_tokenize(content, language='dutch')\n",
    "    \n",
    "    # Create passages by combining sentences until the total word count reaches 100\n",
    "    passages = []\n",
    "    passage_words = []\n",
    "    for sentence in sentences:\n",
    "        sentence_words = nltk.word_tokenize(sentence, language='dutch')\n",
    "        if len(passage_words) + len(sentence_words) <= 100:\n",
    "            passage_words.extend(sentence_words)\n",
    "        else:\n",
    "            passages.append(' '.join(passage_words))\n",
    "            passage_words = sentence_words\n",
    "    \n",
    "    # Add the last remaining passage (if any)\n",
    "    if passage_words:\n",
    "        passages.append(' '.join(passage_words))\n",
    "    \n",
    "    # Create a new dataframe for the passages\n",
    "    passage_df = pd.DataFrame({'URL': url, 'Textual_Content': passages})\n",
    "    \n",
    "    # Concatenate the new dataframe with the main dataframe\n",
    "    new_df = pd.concat([new_df, passage_df], ignore_index=True)\n"
   ]
  },
  {
   "cell_type": "code",
   "execution_count": 15,
   "metadata": {},
   "outputs": [
    {
     "data": {
      "text/plain": [
       "65103"
      ]
     },
     "execution_count": 15,
     "metadata": {},
     "output_type": "execute_result"
    }
   ],
   "source": [
    "len(new_df)"
   ]
  },
  {
   "cell_type": "code",
   "execution_count": 14,
   "metadata": {},
   "outputs": [
    {
     "data": {
      "text/html": [
       "<div>\n",
       "<style scoped>\n",
       "    .dataframe tbody tr th:only-of-type {\n",
       "        vertical-align: middle;\n",
       "    }\n",
       "\n",
       "    .dataframe tbody tr th {\n",
       "        vertical-align: top;\n",
       "    }\n",
       "\n",
       "    .dataframe thead th {\n",
       "        text-align: right;\n",
       "    }\n",
       "</style>\n",
       "<table border=\"1\" class=\"dataframe\">\n",
       "  <thead>\n",
       "    <tr style=\"text-align: right;\">\n",
       "      <th></th>\n",
       "      <th>URL</th>\n",
       "      <th>Textual_Content</th>\n",
       "    </tr>\n",
       "  </thead>\n",
       "  <tbody>\n",
       "    <tr>\n",
       "      <th>0</th>\n",
       "      <td>https://www.amsterdam.nl/veelgevraagd/</td>\n",
       "      <td>Veelgevraagd - Gemeente Amsterdam Direct naar ...</td>\n",
       "    </tr>\n",
       "    <tr>\n",
       "      <th>1</th>\n",
       "      <td>https://www.amsterdam.nl/veelgevraagd/</td>\n",
       "      <td>Regel het online Veelgevraagd Melding openbare...</td>\n",
       "    </tr>\n",
       "    <tr>\n",
       "      <th>2</th>\n",
       "      <td>https://www.amsterdam.nl/veelgevraagd/</td>\n",
       "      <td>Contactformulier Bel het telefoonnummer 14 020...</td>\n",
       "    </tr>\n",
       "    <tr>\n",
       "      <th>3</th>\n",
       "      <td>https://www.amsterdam.nl/veelgevraagd/?categor...</td>\n",
       "      <td>Thema - Burgerzaken - Gemeente Amsterdam Direc...</td>\n",
       "    </tr>\n",
       "    <tr>\n",
       "      <th>4</th>\n",
       "      <td>https://www.amsterdam.nl/veelgevraagd/?categor...</td>\n",
       "      <td>Verhuizen binnen Amsterdam Ik ben uitgeschreve...</td>\n",
       "    </tr>\n",
       "  </tbody>\n",
       "</table>\n",
       "</div>"
      ],
      "text/plain": [
       "                                                 URL  \\\n",
       "0             https://www.amsterdam.nl/veelgevraagd/   \n",
       "1             https://www.amsterdam.nl/veelgevraagd/   \n",
       "2             https://www.amsterdam.nl/veelgevraagd/   \n",
       "3  https://www.amsterdam.nl/veelgevraagd/?categor...   \n",
       "4  https://www.amsterdam.nl/veelgevraagd/?categor...   \n",
       "\n",
       "                                     Textual_Content  \n",
       "0  Veelgevraagd - Gemeente Amsterdam Direct naar ...  \n",
       "1  Regel het online Veelgevraagd Melding openbare...  \n",
       "2  Contactformulier Bel het telefoonnummer 14 020...  \n",
       "3  Thema - Burgerzaken - Gemeente Amsterdam Direc...  \n",
       "4  Verhuizen binnen Amsterdam Ik ben uitgeschreve...  "
      ]
     },
     "execution_count": 14,
     "metadata": {},
     "output_type": "execute_result"
    }
   ],
   "source": [
    "new_df.head()"
   ]
  },
  {
   "attachments": {},
   "cell_type": "markdown",
   "metadata": {},
   "source": [
    "#### Random"
   ]
  },
  {
   "cell_type": "code",
   "execution_count": 16,
   "metadata": {},
   "outputs": [],
   "source": [
    "from retrieval.random_retrieval.random_retrieve import perform_random_search"
   ]
  },
  {
   "cell_type": "code",
   "execution_count": 18,
   "metadata": {},
   "outputs": [],
   "source": [
    "question_list = get_questions(questions)\n",
    "document_list = get_url_content_tuples(new_df)"
   ]
  },
  {
   "cell_type": "code",
   "execution_count": 19,
   "metadata": {},
   "outputs": [],
   "source": [
    "all_results_documents_random = perform_random_search(question_list, document_list, k=10) # took 7 mins "
   ]
  },
  {
   "attachments": {},
   "cell_type": "markdown",
   "metadata": {},
   "source": [
    "#### BM25"
   ]
  },
  {
   "cell_type": "code",
   "execution_count": 20,
   "metadata": {},
   "outputs": [],
   "source": [
    "es_client = Elasticsearch(\"http://localhost:9200\")"
   ]
  },
  {
   "cell_type": "code",
   "execution_count": 21,
   "metadata": {},
   "outputs": [
    {
     "data": {
      "text/plain": [
       "ObjectApiResponse({'name': '765e69f517ee', 'cluster_name': 'docker-cluster', 'cluster_uuid': 't1JOUdrjSOanv_1Dp5j5pg', 'version': {'number': '8.7.0', 'build_flavor': 'default', 'build_type': 'docker', 'build_hash': '09520b59b6bc1057340b55750186466ea715e30e', 'build_date': '2023-03-27T16:31:09.816451435Z', 'build_snapshot': False, 'lucene_version': '9.5.0', 'minimum_wire_compatibility_version': '7.17.0', 'minimum_index_compatibility_version': '7.0.0'}, 'tagline': 'You Know, for Search'})"
      ]
     },
     "execution_count": 21,
     "metadata": {},
     "output_type": "execute_result"
    }
   ],
   "source": [
    "es_client.info()"
   ]
  },
  {
   "cell_type": "code",
   "execution_count": 22,
   "metadata": {},
   "outputs": [],
   "source": [
    "question_list = get_questions(questions)\n",
    "\n",
    "mappings = {\n",
    "        \"properties\": {\n",
    "            \"url\": {\"type\": \"text\"},\n",
    "            \"text\": {\"type\": \"text\", \"analyzer\": \"standard\", \"similarity\": \"BM25\"}\n",
    "    }\n",
    "}"
   ]
  },
  {
   "cell_type": "code",
   "execution_count": 23,
   "metadata": {},
   "outputs": [],
   "source": [
    "es_client = set_index(es_client=es_client, collected=new_df, mappings=mappings) # 1 min"
   ]
  },
  {
   "cell_type": "code",
   "execution_count": 24,
   "metadata": {},
   "outputs": [],
   "source": [
    "results_bm25 = get_result_tuples(es_client=es_client, questions=question_list, n=10) # 15 gives the best results ; when i set it to 5 gives 0,26"
   ]
  },
  {
   "attachments": {},
   "cell_type": "markdown",
   "metadata": {},
   "source": [
    "#### Result Evaluation"
   ]
  },
  {
   "cell_type": "code",
   "execution_count": 28,
   "metadata": {},
   "outputs": [],
   "source": [
    "questions2 = pd.read_csv('data/amsterdam/only_amsterdam_questions.csv')"
   ]
  },
  {
   "cell_type": "code",
   "execution_count": 29,
   "metadata": {},
   "outputs": [
    {
     "data": {
      "text/html": [
       "<div>\n",
       "<style scoped>\n",
       "    .dataframe tbody tr th:only-of-type {\n",
       "        vertical-align: middle;\n",
       "    }\n",
       "\n",
       "    .dataframe tbody tr th {\n",
       "        vertical-align: top;\n",
       "    }\n",
       "\n",
       "    .dataframe thead th {\n",
       "        text-align: right;\n",
       "    }\n",
       "</style>\n",
       "<table border=\"1\" class=\"dataframe\">\n",
       "  <thead>\n",
       "    <tr style=\"text-align: right;\">\n",
       "      <th></th>\n",
       "      <th>Unnamed: 0.1</th>\n",
       "      <th>Unnamed: 0</th>\n",
       "      <th>Year</th>\n",
       "      <th>Month</th>\n",
       "      <th>Question</th>\n",
       "      <th>Answer</th>\n",
       "      <th>Document</th>\n",
       "      <th>URLs</th>\n",
       "      <th>Cleaned_URLs</th>\n",
       "    </tr>\n",
       "  </thead>\n",
       "  <tbody>\n",
       "    <tr>\n",
       "      <th>0</th>\n",
       "      <td>1</td>\n",
       "      <td>1</td>\n",
       "      <td>2020</td>\n",
       "      <td>6</td>\n",
       "      <td>\\n7.\\nKan het college de reeds bestaande zwemp...</td>\n",
       "      <td>\\nVoor het vinden van de officiële zwemplekken...</td>\n",
       "      <td>https://amsterdam.raadsinformatie.nl/document/...</td>\n",
       "      <td>['https://www.amsterdam.nl/veelgevraagd/?casei...</td>\n",
       "      <td>['https://www.amsterdam.nl/veelgevraagd/?casei...</td>\n",
       "    </tr>\n",
       "    <tr>\n",
       "      <th>1</th>\n",
       "      <td>6</td>\n",
       "      <td>7</td>\n",
       "      <td>2021</td>\n",
       "      <td>8</td>\n",
       "      <td>\\n \\n3. Huisartsen geven aan meer informatie n...</td>\n",
       "      <td>\\nDe uitvoerder van de regeling, het CAK, lij...</td>\n",
       "      <td>https://amsterdam.raadsinformatie.nl/document/...</td>\n",
       "      <td>['https://www.amsterdam.nl/zorg-ondersteuning/...</td>\n",
       "      <td>['https://www.amsterdam.nl/zorg-ondersteuning/...</td>\n",
       "    </tr>\n",
       "    <tr>\n",
       "      <th>2</th>\n",
       "      <td>7</td>\n",
       "      <td>8</td>\n",
       "      <td>2021</td>\n",
       "      <td>8</td>\n",
       "      <td>\\n \\n8. Weten ongedocumenteerden de weg naar m...</td>\n",
       "      <td>\\nDe Kruispost wordt goed bezocht, maar het c...</td>\n",
       "      <td>https://amsterdam.raadsinformatie.nl/document/...</td>\n",
       "      <td>['https://www.amsterdam.nl/zorg-ondersteuning/...</td>\n",
       "      <td>['https://www.amsterdam.nl/zorg-ondersteuning/...</td>\n",
       "    </tr>\n",
       "    <tr>\n",
       "      <th>3</th>\n",
       "      <td>9</td>\n",
       "      <td>14</td>\n",
       "      <td>2022</td>\n",
       "      <td>7</td>\n",
       "      <td>\\n \\n4. Is het college tot nu toe tevreden met...</td>\n",
       "      <td>\\nJa, met de beschikbare middelen is de uitvo...</td>\n",
       "      <td>https://amsterdam.raadsinformatie.nl/document/...</td>\n",
       "      <td>['https://www.amsterdam.nl/wonen-leefomgeving/...</td>\n",
       "      <td>['https://www.amsterdam.nl/wonen-leefomgeving/...</td>\n",
       "    </tr>\n",
       "    <tr>\n",
       "      <th>4</th>\n",
       "      <td>10</td>\n",
       "      <td>16</td>\n",
       "      <td>2019</td>\n",
       "      <td>10</td>\n",
       "      <td>\\n \\n1. \\nKan aan de werkinstructie worden toe...</td>\n",
       "      <td>...</td>\n",
       "      <td>https://amsterdam.raadsinformatie.nl/document/...</td>\n",
       "      <td>['https://www.amsterdam.nl/privacy/loket/']</td>\n",
       "      <td>['https://www.amsterdam.nl/privacy/loket/']</td>\n",
       "    </tr>\n",
       "  </tbody>\n",
       "</table>\n",
       "</div>"
      ],
      "text/plain": [
       "   Unnamed: 0.1  Unnamed: 0  Year  Month  \\\n",
       "0             1           1  2020      6   \n",
       "1             6           7  2021      8   \n",
       "2             7           8  2021      8   \n",
       "3             9          14  2022      7   \n",
       "4            10          16  2019     10   \n",
       "\n",
       "                                            Question  \\\n",
       "0  \\n7.\\nKan het college de reeds bestaande zwemp...   \n",
       "1  \\n \\n3. Huisartsen geven aan meer informatie n...   \n",
       "2  \\n \\n8. Weten ongedocumenteerden de weg naar m...   \n",
       "3  \\n \\n4. Is het college tot nu toe tevreden met...   \n",
       "4  \\n \\n1. \\nKan aan de werkinstructie worden toe...   \n",
       "\n",
       "                                              Answer  \\\n",
       "0  \\nVoor het vinden van de officiële zwemplekken...   \n",
       "1   \\nDe uitvoerder van de regeling, het CAK, lij...   \n",
       "2   \\nDe Kruispost wordt goed bezocht, maar het c...   \n",
       "3   \\nJa, met de beschikbare middelen is de uitvo...   \n",
       "4                                                ...   \n",
       "\n",
       "                                            Document  \\\n",
       "0  https://amsterdam.raadsinformatie.nl/document/...   \n",
       "1  https://amsterdam.raadsinformatie.nl/document/...   \n",
       "2  https://amsterdam.raadsinformatie.nl/document/...   \n",
       "3  https://amsterdam.raadsinformatie.nl/document/...   \n",
       "4  https://amsterdam.raadsinformatie.nl/document/...   \n",
       "\n",
       "                                                URLs  \\\n",
       "0  ['https://www.amsterdam.nl/veelgevraagd/?casei...   \n",
       "1  ['https://www.amsterdam.nl/zorg-ondersteuning/...   \n",
       "2  ['https://www.amsterdam.nl/zorg-ondersteuning/...   \n",
       "3  ['https://www.amsterdam.nl/wonen-leefomgeving/...   \n",
       "4        ['https://www.amsterdam.nl/privacy/loket/']   \n",
       "\n",
       "                                        Cleaned_URLs  \n",
       "0  ['https://www.amsterdam.nl/veelgevraagd/?casei...  \n",
       "1  ['https://www.amsterdam.nl/zorg-ondersteuning/...  \n",
       "2  ['https://www.amsterdam.nl/zorg-ondersteuning/...  \n",
       "3  ['https://www.amsterdam.nl/wonen-leefomgeving/...  \n",
       "4        ['https://www.amsterdam.nl/privacy/loket/']  "
      ]
     },
     "execution_count": 29,
     "metadata": {},
     "output_type": "execute_result"
    }
   ],
   "source": [
    "questions2.head()"
   ]
  },
  {
   "cell_type": "code",
   "execution_count": 53,
   "metadata": {},
   "outputs": [
    {
     "data": {
      "text/plain": [
       "'\\n \\n3. Huisartsen geven aan meer informatie nodig te hebben over declaratiemogelijkheden van de \\ngeboden zorg. Is het college bereid om te onderzoeken hoe de gemeente hierin beter kan \\nvoorzien?  \\n \\n'"
      ]
     },
     "execution_count": 53,
     "metadata": {},
     "output_type": "execute_result"
    }
   ],
   "source": [
    "list(questions2['Question'])[1]"
   ]
  },
  {
   "cell_type": "code",
   "execution_count": 51,
   "metadata": {},
   "outputs": [
    {
     "data": {
      "text/plain": [
       "\"['https://www.amsterdam.nl/zorg-ondersteuning/ondersteuning/vluchtelingen/ongedocumenteerden/']\""
      ]
     },
     "execution_count": 51,
     "metadata": {},
     "output_type": "execute_result"
    }
   ],
   "source": [
    "list(questions2['Cleaned_URLs'])[1]"
   ]
  },
  {
   "cell_type": "code",
   "execution_count": 75,
   "metadata": {},
   "outputs": [
    {
     "data": {
      "text/plain": [
       "\"\\n \\n4. Wat is de rol en wat zijn de verantwoordelijkheden van de gemeente bij het bepalen van \\neen CTER-code of soortgelijke code en de plaatsing van zo'n code bij een persoon? \\n \\n\""
      ]
     },
     "execution_count": 75,
     "metadata": {},
     "output_type": "execute_result"
    }
   ],
   "source": [
    "list(results_bm25.keys())[9999]"
   ]
  },
  {
   "cell_type": "code",
   "execution_count": 76,
   "metadata": {},
   "outputs": [
    {
     "data": {
      "text/plain": [
       "[{'url': 'https://www.amsterdam.nl/bestuur-organisatie/gemeenteraad/werkt-raad/het-presidium-van-de/',\n",
       "  'text': 'Het presidium van de gemeenteraad - Gemeente Amsterdam Direct naar inhoud GemeenteAmsterdam AAA Mijn Amsterdam English site Menuzoeken Onderwerpen Nieuws Contact Zoeken in Amsterdam.nl Zoek Zoek Verbergen Deze browser wordt niet meer ondersteund . Gebruik een recente versie van Edge , Chrome of Firefox . Pad tot huidige pagina Home Bestuur en Organisatie Gemeenteraad Hoe werkt de raad ? Het presidium van de gemeenteraad Het dagelijks bestuur van de gemeenteraad is het presidium . Het presidium houdt zich voornamelijk bezig met zaken van bedrijfsvoeringstechnische en huishoudelijke aard . Het bereidt bijvoorbeeld de conceptagenda van de gemeenteraad voor .',\n",
       "  'passage_id': '42507',\n",
       "  'score': 45.816044,\n",
       "  'passage_text': 'Het presidium van de gemeenteraad - Gemeente Amsterdam Direct naar inhoud GemeenteAmsterdam AAA Mijn Amsterdam English site Menuzoeken Onderwerpen Nieuws Contact Zoeken in Amsterdam.nl Zoek Zoek Verbergen Deze browser wordt niet meer ondersteund . Gebruik een recente versie van Edge , Chrome of Firefox . Pad tot huidige pagina Home Bestuur en Organisatie Gemeenteraad Hoe werkt de raad ? Het presidium van de gemeenteraad Het dagelijks bestuur van de gemeenteraad is het presidium . Het presidium houdt zich voornamelijk bezig met zaken van bedrijfsvoeringstechnische en huishoudelijke aard . Het bereidt bijvoorbeeld de conceptagenda van de gemeenteraad voor .'},\n",
       " {'url': 'https://www.amsterdam.nl/bestuur-organisatie/gemeenteraad/werkt-raad/het-presidium-van-de/',\n",
       "  'text': 'Ook houdt het presidium zich bezig met procedures en het functioneren van de gemeenteraad in algemene zin . De voorzitter van het presidium is Kune Burgers . De leden van het presidium zijn : Fatihya Abdi , Nienke van Renssen , Suleyman Aslami en Carla Kabamba , De burgemeester is adviserend lid .',\n",
       "  'passage_id': '42508',\n",
       "  'score': 45.816044,\n",
       "  'passage_text': 'Ook houdt het presidium zich bezig met procedures en het functioneren van de gemeenteraad in algemene zin . De voorzitter van het presidium is Kune Burgers . De leden van het presidium zijn : Fatihya Abdi , Nienke van Renssen , Suleyman Aslami en Carla Kabamba , De burgemeester is adviserend lid .'},\n",
       " {'url': 'https://www.amsterdam.nl/bestuur-organisatie/gemeenteraad/werkt-raad/het-presidium-van-de/',\n",
       "  'text': 'Ambtelijk adviseur en secretaris : Jolien Houtman ( griffier ) Deel deze pagina Deel deze pagina op Facebook Deel deze pagina op Twitter Deel deze pagina op LinkedIn Deel deze pagina op WhatsApp Print deze pagina Gemeente Amsterdam Contact Hebt u een vraag en kunt u het antwoord niet vinden op deze website ? Neem dan contact met ons op . Contactformulier Bel het telefoonnummer 14 020maandag tot en met vrijdag van 08.00 tot 18.00 uur Contactgegevens en openingstijden Volg de gemeente Nieuwsbrief Amsterdam Twitter Facebook Instagram LinkedIn YouTube Werkenbij Kalender Van buurtactiviteiten tot inspraakavonden .',\n",
       "  'passage_id': '42509',\n",
       "  'score': 45.816044,\n",
       "  'passage_text': 'Ambtelijk adviseur en secretaris : Jolien Houtman ( griffier ) Deel deze pagina Deel deze pagina op Facebook Deel deze pagina op Twitter Deel deze pagina op LinkedIn Deel deze pagina op WhatsApp Print deze pagina Gemeente Amsterdam Contact Hebt u een vraag en kunt u het antwoord niet vinden op deze website ? Neem dan contact met ons op . Contactformulier Bel het telefoonnummer 14 020maandag tot en met vrijdag van 08.00 tot 18.00 uur Contactgegevens en openingstijden Volg de gemeente Nieuwsbrief Amsterdam Twitter Facebook Instagram LinkedIn YouTube Werkenbij Kalender Van buurtactiviteiten tot inspraakavonden .'},\n",
       " {'url': 'https://www.amsterdam.nl/bestuur-organisatie/gemeenteraad/werkt-raad/het-presidium-van-de/',\n",
       "  'text': 'Wat organiseert de gemeente voor u ? Kijk op Kalender Amsterdam Uit in Amsterdam Benieuwd wat er allemaal te doen is in de stad ? Op Iamsterdam.com vindt u de beste tips op het gebied van cultuur , uitgaan en evenementen . Lijst Over deze site Privacy Cookies op deze site Webarchief',\n",
       "  'passage_id': '42510',\n",
       "  'score': 45.816044,\n",
       "  'passage_text': 'Wat organiseert de gemeente voor u ? Kijk op Kalender Amsterdam Uit in Amsterdam Benieuwd wat er allemaal te doen is in de stad ? Op Iamsterdam.com vindt u de beste tips op het gebied van cultuur , uitgaan en evenementen . Lijst Over deze site Privacy Cookies op deze site Webarchief'},\n",
       " {'url': 'https://www.amsterdam.nl/bestuur-organisatie/gemeenteraad/werkt-raad/voorzitter-van-de/',\n",
       "  'text': 'Voorzitter van de gemeenteraad - Gemeente Amsterdam Direct naar inhoud GemeenteAmsterdam AAA Mijn Amsterdam English site Menuzoeken Onderwerpen Nieuws Contact Zoeken in Amsterdam.nl Zoek Zoek Verbergen Deze browser wordt niet meer ondersteund . Gebruik een recente versie van Edge , Chrome of Firefox . Pad tot huidige pagina Home Bestuur en Organisatie Gemeenteraad Hoe werkt de raad ? Voorzitter van de gemeenteraad De gemeenteraad wordt voorgezeten door de burgemeester of haar waarnemer . Burgemeester Halsema is de voorzitter van de raad .',\n",
       "  'passage_id': '42503',\n",
       "  'score': 39.978535,\n",
       "  'passage_text': 'Voorzitter van de gemeenteraad - Gemeente Amsterdam Direct naar inhoud GemeenteAmsterdam AAA Mijn Amsterdam English site Menuzoeken Onderwerpen Nieuws Contact Zoeken in Amsterdam.nl Zoek Zoek Verbergen Deze browser wordt niet meer ondersteund . Gebruik een recente versie van Edge , Chrome of Firefox . Pad tot huidige pagina Home Bestuur en Organisatie Gemeenteraad Hoe werkt de raad ? Voorzitter van de gemeenteraad De gemeenteraad wordt voorgezeten door de burgemeester of haar waarnemer . Burgemeester Halsema is de voorzitter van de raad .'},\n",
       " {'url': 'https://www.amsterdam.nl/bestuur-organisatie/gemeenteraad/werkt-raad/voorzitter-van-de/',\n",
       "  'text': 'De voorzitter leidt de vergaderingen van de gemeenteraad en let erop dat de vergadering ordelijk en volgens de regels verloopt . Het komt wel voor dat de burgemeester tijdens de vergadering moet optreden als lid van het college . Is dat het geval , dan neemt de plaatsvervangend voorzitter zolang de voorzittershamer van haar over . De plaatsvervangend voorzitter is de voorzitter van het Presidium . Dit is Kune Burgers ( VVD ) .',\n",
       "  'passage_id': '42504',\n",
       "  'score': 39.978535,\n",
       "  'passage_text': 'De voorzitter leidt de vergaderingen van de gemeenteraad en let erop dat de vergadering ordelijk en volgens de regels verloopt . Het komt wel voor dat de burgemeester tijdens de vergadering moet optreden als lid van het college . Is dat het geval , dan neemt de plaatsvervangend voorzitter zolang de voorzittershamer van haar over . De plaatsvervangend voorzitter is de voorzitter van het Presidium . Dit is Kune Burgers ( VVD ) .'},\n",
       " {'url': 'https://www.amsterdam.nl/bestuur-organisatie/gemeenteraad/werkt-raad/voorzitter-van-de/',\n",
       "  'text': 'Deel deze pagina Deel deze pagina op Facebook Deel deze pagina op Twitter Deel deze pagina op LinkedIn Deel deze pagina op WhatsApp Print deze pagina Gemeente Amsterdam Contact Hebt u een vraag en kunt u het antwoord niet vinden op deze website ? Neem dan contact met ons op . Contactformulier Bel het telefoonnummer 14 020maandag tot en met vrijdag van 08.00 tot 18.00 uur Contactgegevens en openingstijden Volg de gemeente Nieuwsbrief Amsterdam Twitter Facebook Instagram LinkedIn YouTube Werkenbij Kalender Van buurtactiviteiten tot inspraakavonden . Wat organiseert de gemeente voor u ?',\n",
       "  'passage_id': '42505',\n",
       "  'score': 39.978535,\n",
       "  'passage_text': 'Deel deze pagina Deel deze pagina op Facebook Deel deze pagina op Twitter Deel deze pagina op LinkedIn Deel deze pagina op WhatsApp Print deze pagina Gemeente Amsterdam Contact Hebt u een vraag en kunt u het antwoord niet vinden op deze website ? Neem dan contact met ons op . Contactformulier Bel het telefoonnummer 14 020maandag tot en met vrijdag van 08.00 tot 18.00 uur Contactgegevens en openingstijden Volg de gemeente Nieuwsbrief Amsterdam Twitter Facebook Instagram LinkedIn YouTube Werkenbij Kalender Van buurtactiviteiten tot inspraakavonden . Wat organiseert de gemeente voor u ?'},\n",
       " {'url': 'https://www.amsterdam.nl/bestuur-organisatie/gemeenteraad/werkt-raad/voorzitter-van-de/',\n",
       "  'text': 'Kijk op Kalender Amsterdam Uit in Amsterdam Benieuwd wat er allemaal te doen is in de stad ? Op Iamsterdam.com vindt u de beste tips op het gebied van cultuur , uitgaan en evenementen . Lijst Over deze site Privacy Cookies op deze site Webarchief',\n",
       "  'passage_id': '42506',\n",
       "  'score': 39.978535,\n",
       "  'passage_text': 'Kijk op Kalender Amsterdam Uit in Amsterdam Benieuwd wat er allemaal te doen is in de stad ? Op Iamsterdam.com vindt u de beste tips op het gebied van cultuur , uitgaan en evenementen . Lijst Over deze site Privacy Cookies op deze site Webarchief'},\n",
       " {'url': 'https://www.amsterdam.nl/bestuur-organisatie/organisatie/overige/adviesraden/commissie-persoonsgegevens-amsterdam/adviezen-cpa-2023/advies-puntenteller/',\n",
       "  'text': 'De CPA vraagt het proces goed te visualiseren zodat men de rolverdeling en informatiestromen tussen de verschillende partners beter kan beoordelen . Het is nu bijvoorbeeld niet duidelijk of gegevens over de gezondheidstoestand van een woningzoekende worden doorgegeven , aan welke ketenpartner ( s ) dat dan gebeurt en waarom dat nodig zou zijn . Vanuit het project wordt aangevoerd dat woningzoekenden op basis van gezondheidsbeperkingen punten kunnen aanvragen en dat daarom aan de gemeente gevraagd wordt of de betreffende persoon een Wmo-code heeft . Die code wordt dan doorgegeven , niet de bijzonderheden over de beperkingen .',\n",
       "  'passage_id': '48871',\n",
       "  'score': 39.1275,\n",
       "  'passage_text': 'De CPA vraagt het proces goed te visualiseren zodat men de rolverdeling en informatiestromen tussen de verschillende partners beter kan beoordelen . Het is nu bijvoorbeeld niet duidelijk of gegevens over de gezondheidstoestand van een woningzoekende worden doorgegeven , aan welke ketenpartner ( s ) dat dan gebeurt en waarom dat nodig zou zijn . Vanuit het project wordt aangevoerd dat woningzoekenden op basis van gezondheidsbeperkingen punten kunnen aanvragen en dat daarom aan de gemeente gevraagd wordt of de betreffende persoon een Wmo-code heeft . Die code wordt dan doorgegeven , niet de bijzonderheden over de beperkingen .'},\n",
       " {'url': 'https://www.amsterdam.nl/bestuur-organisatie/organisatie/overige/adviesraden/commissie-persoonsgegevens-amsterdam/adviezen-cpa-2023/advies-puntenteller/',\n",
       "  'text': 'Bij de opsomming van de te verwerken persoonsgegevens staat dat er gegevens van de Wmo verwerkt worden . Dit blijkt te gaan om een Wmo-code , waarmee aangegeven wordt dat er een Wmo beschikking afgegeven is . Aan de hand van deze code kan ook bepaald worden welke zorgindicatie afgegeven is . De CPA geeft tijdens de vergadering aan , dat een Wmo-code gezondheidsgegevens bevat en daarom een bijzonder persoonsgegeven is . In de schriftelijke reactie wordt aangegeven dat dit in de DPIA gecorrigeerd wordt .',\n",
       "  'passage_id': '48858',\n",
       "  'score': 39.06108,\n",
       "  'passage_text': 'Bij de opsomming van de te verwerken persoonsgegevens staat dat er gegevens van de Wmo verwerkt worden . Dit blijkt te gaan om een Wmo-code , waarmee aangegeven wordt dat er een Wmo beschikking afgegeven is . Aan de hand van deze code kan ook bepaald worden welke zorgindicatie afgegeven is . De CPA geeft tijdens de vergadering aan , dat een Wmo-code gezondheidsgegevens bevat en daarom een bijzonder persoonsgegeven is . In de schriftelijke reactie wordt aangegeven dat dit in de DPIA gecorrigeerd wordt .'}]"
      ]
     },
     "execution_count": 76,
     "metadata": {},
     "output_type": "execute_result"
    }
   ],
   "source": [
    "results_bm25[list(results_bm25.keys())[9999]][1]"
   ]
  },
  {
   "cell_type": "code",
   "execution_count": 52,
   "metadata": {},
   "outputs": [
    {
     "data": {
      "text/plain": [
       "[{'url': 'https://www.amsterdam.nl/bestuur-organisatie/college/nieuws/nieuws-26-oktober-2022/',\n",
       "  'text': 'Het college vindt het van belang om dit jaar nog extra aandacht te geven aan ondernemers die na de coronacrisis nog onvoldoende inkomen hebben om in hun levensonderhoud te voorzien . Deze ondernemers hebben opnieuw te maken met een onzekere periode door onder meer stijgende energieprijzen en hoge inflatie . Het college wil perspectief bieden door tijdelijk coulanter om te gaan met de afhandeling van de aanvraag voor een Bbz-uitkering . Verkeer , Vervoer en Luchtkwaliteit Het college van B en W stemt in met de raadscommissievoordracht en raadsbrief over Mokumflex .',\n",
       "  'passage_id': '43021',\n",
       "  'score': 27.942621,\n",
       "  'passage_text': 'Het college vindt het van belang om dit jaar nog extra aandacht te geven aan ondernemers die na de coronacrisis nog onvoldoende inkomen hebben om in hun levensonderhoud te voorzien . Deze ondernemers hebben opnieuw te maken met een onzekere periode door onder meer stijgende energieprijzen en hoge inflatie . Het college wil perspectief bieden door tijdelijk coulanter om te gaan met de afhandeling van de aanvraag voor een Bbz-uitkering . Verkeer , Vervoer en Luchtkwaliteit Het college van B en W stemt in met de raadscommissievoordracht en raadsbrief over Mokumflex .'},\n",
       " {'url': 'https://www.amsterdam.nl/stadsdelen/zuid/actueel/kindercommissie-zuid/',\n",
       "  'text': 'Als je weet hoe het leven in rijkdom is , is het ook belangrijk dat je leert om aan een ander te denken . De kindercommissie zuid denkt overigens dat meer mensen open over armoede mogen praten en ook bereid moet zijn naar elkaar te luisteren . Stadsdeel Zuid kan het stimuleren dat Amsterdammers meer doen voor een ander . Iets doen , iets geven of zich vrijwillig inzetten voor een ander . De kindercommissie Zuid denkt dat er : Een campagne kan komen die zichtbaar is voor veel kinderen en mensen in Zuid .',\n",
       "  'passage_id': '52962',\n",
       "  'score': 26.030796,\n",
       "  'passage_text': 'Als je weet hoe het leven in rijkdom is , is het ook belangrijk dat je leert om aan een ander te denken . De kindercommissie zuid denkt overigens dat meer mensen open over armoede mogen praten en ook bereid moet zijn naar elkaar te luisteren . Stadsdeel Zuid kan het stimuleren dat Amsterdammers meer doen voor een ander . Iets doen , iets geven of zich vrijwillig inzetten voor een ander . De kindercommissie Zuid denkt dat er : Een campagne kan komen die zichtbaar is voor veel kinderen en mensen in Zuid .'},\n",
       " {'url': 'https://www.amsterdam.nl/bestuur-organisatie/organisatie/overige/adviesraden/commissie-persoonsgegevens-amsterdam/adviezen-cpa-2020/advies-bias-analyse-ontwikkelde/',\n",
       "  'text': 'Verder vestigt de CPA de aandacht op de bias die het gevolg kan zijn van de capaciteit aan mensen in het werkproces die gaandeweg hun eigen ervaring en voorkeuren inclusief mogelijke vooringenomenheid opbouwen bij de selectie van te onderzoeken situaties . Verder is men benieuwd of voorzien is in een audit voor dit model en adviseert men periodiek het model te testen met gestratificeerde steekproeven om het actueel te houden . De postcode is niet opgenomen in de lijst omdat het daar gaat om bijzondere persoonsgegevens waarvoor de gemeente een gedegen grondslag moet geven om die te mogen verzamelen .',\n",
       "  'passage_id': '49593',\n",
       "  'score': 24.408848,\n",
       "  'passage_text': 'Verder vestigt de CPA de aandacht op de bias die het gevolg kan zijn van de capaciteit aan mensen in het werkproces die gaandeweg hun eigen ervaring en voorkeuren inclusief mogelijke vooringenomenheid opbouwen bij de selectie van te onderzoeken situaties . Verder is men benieuwd of voorzien is in een audit voor dit model en adviseert men periodiek het model te testen met gestratificeerde steekproeven om het actueel te houden . De postcode is niet opgenomen in de lijst omdat het daar gaat om bijzondere persoonsgegevens waarvoor de gemeente een gedegen grondslag moet geven om die te mogen verzamelen .'},\n",
       " {'url': 'https://www.amsterdam.nl/bestuur-organisatie/organisatie/overige/adviesraden/commissie-persoonsgegevens-amsterdam/verslagen-cpa-2020/verslag-10-december-2020/',\n",
       "  'text': 'Verder vestigt de CPA de aandacht op de bias die het gevolg kan zijn van de capaciteit aan mensen in het werkproces die gaandeweg hun eigen ervaring en voorkeuren inclusief mogelijke vooringenomenheid opbouwen bij de selectie van te onderzoeken situaties . Verder is men benieuwd of voorzien is in een audit voor dit model en adviseert men periodiek het model te testen met gestratificeerde steekproeven om het actueel te houden . De postcode is niet opgenomen in de lijst omdat het daar gaat om bijzondere persoonsgegevens waarvoor de gemeente een gedegen grondslag moet geven om die te mogen verzamelen .',\n",
       "  'passage_id': '49731',\n",
       "  'score': 24.408848,\n",
       "  'passage_text': 'Verder vestigt de CPA de aandacht op de bias die het gevolg kan zijn van de capaciteit aan mensen in het werkproces die gaandeweg hun eigen ervaring en voorkeuren inclusief mogelijke vooringenomenheid opbouwen bij de selectie van te onderzoeken situaties . Verder is men benieuwd of voorzien is in een audit voor dit model en adviseert men periodiek het model te testen met gestratificeerde steekproeven om het actueel te houden . De postcode is niet opgenomen in de lijst omdat het daar gaat om bijzondere persoonsgegevens waarvoor de gemeente een gedegen grondslag moet geven om die te mogen verzamelen .'},\n",
       " {'url': 'https://www.amsterdam.nl/zorg-ondersteuning/ondersteuning/vluchtelingen/verhalen/toppers-zorg/',\n",
       "  'text': 'Je moet bijvoorbeeld een fysiotherapeut of een arts informatie kunnen geven in verband met de behandeling van een patiënt ’ . Verder moeten ze regelmatig zorgverslagen schrijven waardoor ze ook steeds beter worden in de Nederlandse taal ’ . Interessant voor werkgevers Het verzorgende IG-traject is interessant voor werkgevers . Werkgevers moeten wel bereid zijn om in statushouders te investeren . Gemma : ‘ Cordaan heeft dat ook echt gedaan . In het begin moet je meer dingen uitleggen en daar de tijd voor nemen .',\n",
       "  'passage_id': '40824',\n",
       "  'score': 24.39727,\n",
       "  'passage_text': 'Je moet bijvoorbeeld een fysiotherapeut of een arts informatie kunnen geven in verband met de behandeling van een patiënt ’ . Verder moeten ze regelmatig zorgverslagen schrijven waardoor ze ook steeds beter worden in de Nederlandse taal ’ . Interessant voor werkgevers Het verzorgende IG-traject is interessant voor werkgevers . Werkgevers moeten wel bereid zijn om in statushouders te investeren . Gemma : ‘ Cordaan heeft dat ook echt gedaan . In het begin moet je meer dingen uitleggen en daar de tijd voor nemen .'},\n",
       " {'url': 'https://www.amsterdam.nl/bestuur-organisatie/organisatie/overige/adviesraden/commissie-persoonsgegevens-amsterdam/adviezen-cpa-2020/advies-integraal-klantbeeld-27-augustus/',\n",
       "  'text': 'Aanvullend kan hierin een stuk verslimming worden toegevoegd , bijvoorbeeld door de applicatie berekeningen en vergelijkingen te laten uitvoeren of door interpretaties hierin te verwerken . Door de voor het werkproces toegepaste indicatoren en business rules in de Data Inzicht Applicatie te verwerken , is het de bedoeling dat onderzoeken sneller en nauwkeurig kunnen worden uitgevoerd . Eenvoudig handmatig werken , zoals eenvoudige berekeningen , hoeven niet meer handmatig te worden uitgevoerd . Wat van belang is om aan de voorkant het eigenaarschap goed te borgen .',\n",
       "  'passage_id': '50718',\n",
       "  'score': 24.179516,\n",
       "  'passage_text': 'Aanvullend kan hierin een stuk verslimming worden toegevoegd , bijvoorbeeld door de applicatie berekeningen en vergelijkingen te laten uitvoeren of door interpretaties hierin te verwerken . Door de voor het werkproces toegepaste indicatoren en business rules in de Data Inzicht Applicatie te verwerken , is het de bedoeling dat onderzoeken sneller en nauwkeurig kunnen worden uitgevoerd . Eenvoudig handmatig werken , zoals eenvoudige berekeningen , hoeven niet meer handmatig te worden uitgevoerd . Wat van belang is om aan de voorkant het eigenaarschap goed te borgen .'},\n",
       " {'url': 'https://www.amsterdam.nl/wonen-leefomgeving/duurzaam-amsterdam/windmolens-amsterdam/windmolens-amsterdam/',\n",
       "  'text': 'Voor de belangrijke stappen die we de komende tijd gaan zetten , hebben we input nodig . Bij een aantal stappen , zoals het vaststellen van de Notitie Reikwijdte en Detailniveau ( NRD ) , is gelegenheid geven tot inspraak wettelijk verplicht . Maar ook op momenten dat het niet verplicht is geven we een ieder de gelegenheid om mee te denken en input te geven , omdat we vinden dat dat bijdraagt aan de kwaliteit van de besluitvorming . Lees meer over hoe u mee kunt praten .',\n",
       "  'passage_id': '21033',\n",
       "  'score': 24.096588,\n",
       "  'passage_text': 'Voor de belangrijke stappen die we de komende tijd gaan zetten , hebben we input nodig . Bij een aantal stappen , zoals het vaststellen van de Notitie Reikwijdte en Detailniveau ( NRD ) , is gelegenheid geven tot inspraak wettelijk verplicht . Maar ook op momenten dat het niet verplicht is geven we een ieder de gelegenheid om mee te denken en input te geven , omdat we vinden dat dat bijdraagt aan de kwaliteit van de besluitvorming . Lees meer over hoe u mee kunt praten .'},\n",
       " {'url': 'https://www.amsterdam.nl/bestuur-organisatie/college/nieuws/nieuws-16-mei-2023/',\n",
       "  'text': 'Het college van B en W verstuurt de raadsinformatiebrief ter afhandeling van motie 373 ‘ van raadsleden Koyuncu ( DENK ) , Nadif ( GroenLinks ) , Hofland ( D66 ) en Heinhuis ( PvdA ) . In de motie werd het college gevraagd om te onderzoeken hoe de gemeente meer kan inzetten op WKO-systemen waarbij de bewoners , al dan niet verenigd in VVE ’ s , zelf eigenaar zijn van het systeem en hierover terug rapporteren aan de raad .',\n",
       "  'passage_id': '41395',\n",
       "  'score': 23.980574,\n",
       "  'passage_text': 'Het college van B en W verstuurt de raadsinformatiebrief ter afhandeling van motie 373 ‘ van raadsleden Koyuncu ( DENK ) , Nadif ( GroenLinks ) , Hofland ( D66 ) en Heinhuis ( PvdA ) . In de motie werd het college gevraagd om te onderzoeken hoe de gemeente meer kan inzetten op WKO-systemen waarbij de bewoners , al dan niet verenigd in VVE ’ s , zelf eigenaar zijn van het systeem en hierover terug rapporteren aan de raad .'},\n",
       " {'url': 'https://www.amsterdam.nl/bestuur-organisatie/organisatie/overige/adviesraden/commissie-persoonsgegevens-amsterdam/adviezen-cpa-2020/advies-implementatie-buurteams-amsterdam/',\n",
       "  'text': 'De informatie mag worden gedeeld voor zover deze te relateren is aan de taak van de betrokken medewerker ( s ) . De CPA adviseert veel voorkomende gegevenssets waar mogelijk te operationaliseren in goed toegankelijke regels voor medewerkers . In de training van medewerkers is ook aandacht nodig voor het recht op inzage en correctie en voor de wijze waarop een cliënt toestemming kan intrekken . De CPA adviseert wel om absolute grenzen te vermijden , omdat het immers kan voorkomen dat informatie uit een andere kolom juist cruciaal is . Maatwerk kan geboden zijn .',\n",
       "  'passage_id': '50660',\n",
       "  'score': 23.875902,\n",
       "  'passage_text': 'De informatie mag worden gedeeld voor zover deze te relateren is aan de taak van de betrokken medewerker ( s ) . De CPA adviseert veel voorkomende gegevenssets waar mogelijk te operationaliseren in goed toegankelijke regels voor medewerkers . In de training van medewerkers is ook aandacht nodig voor het recht op inzage en correctie en voor de wijze waarop een cliënt toestemming kan intrekken . De CPA adviseert wel om absolute grenzen te vermijden , omdat het immers kan voorkomen dat informatie uit een andere kolom juist cruciaal is . Maatwerk kan geboden zijn .'},\n",
       " {'url': 'https://www.amsterdam.nl/stadsdelen/zuid/actueel/vrouwennetwerk-zuid/podcasts/samira/',\n",
       "  'text': 'Je hoort heel veel dingen en het gaat alleen nog maar over Corona . Maar ondertussen is huiselijk geweld verdubbeld . We hebben het over alle leeftijdscategorieën : jonge kinderen , jonge moeders en oudere vrouwen . Mensen durven niks meer aan te geven . Ze durven niet meer aan de bel te trekken . Ook al doe je dat niet , schakel dan de politie in . De politie kan beter te veel aan de deur staan dan te weinig .',\n",
       "  'passage_id': '57559',\n",
       "  'score': 23.820415,\n",
       "  'passage_text': 'Je hoort heel veel dingen en het gaat alleen nog maar over Corona . Maar ondertussen is huiselijk geweld verdubbeld . We hebben het over alle leeftijdscategorieën : jonge kinderen , jonge moeders en oudere vrouwen . Mensen durven niks meer aan te geven . Ze durven niet meer aan de bel te trekken . Ook al doe je dat niet , schakel dan de politie in . De politie kan beter te veel aan de deur staan dan te weinig .'}]"
      ]
     },
     "execution_count": 52,
     "metadata": {},
     "output_type": "execute_result"
    }
   ],
   "source": [
    "results_bm25[list(questions2['Question'])[1]][1]"
   ]
  },
  {
   "cell_type": "code",
   "execution_count": 30,
   "metadata": {},
   "outputs": [],
   "source": [
    "from irmetrics.topk import recall\n",
    "predictions = []\n",
    "for question in list(questions2['Question']):\n",
    "    if question in results_bm25.keys():\n",
    "        urls = []\n",
    "        for result in results_bm25[question][1]:\n",
    "            urls.append(result['url'])\n",
    "        predictions.append(list(set(urls)))\n",
    "\n",
    "relevant_docs = get_relevant_docs(questions2)\n",
    "\n",
    "true = []\n",
    "for question in relevant_docs.keys():\n",
    "    true.append(list(set(relevant_docs[question])))"
   ]
  },
  {
   "cell_type": "code",
   "execution_count": 31,
   "metadata": {},
   "outputs": [
    {
     "name": "stdout",
     "output_type": "stream",
     "text": [
      "Average Mean Reciprocal Rank: 0.0\n"
     ]
    }
   ],
   "source": [
    "import numpy as np\n",
    "from irmetrics.topk import rr\n",
    "\n",
    "# Calculate the Mean Reciprocal Rank for each question\n",
    "mrr_values = []\n",
    "for i in range(len(predictions)):\n",
    "    true_values = true[i]\n",
    "    mrr = rr(true_values, predictions[i], k =10)\n",
    "    mrr_values.append(mrr)\n",
    "\n",
    "# Calculate the average Mean Reciprocal Rank\n",
    "average_mrr = np.mean(mrr_values)\n",
    "\n",
    "print(\"Average Mean Reciprocal Rank:\", average_mrr)\n"
   ]
  },
  {
   "cell_type": "code",
   "execution_count": 32,
   "metadata": {},
   "outputs": [
    {
     "name": "stdout",
     "output_type": "stream",
     "text": [
      "Average Recalll Rank: 0.0\n"
     ]
    }
   ],
   "source": [
    "from irmetrics.topk import recall\n",
    "\n",
    "# Calculate the Mean Reciprocal Rank for each question\n",
    "mrr_values = []\n",
    "for i in range(len(predictions)):\n",
    "    true_values = true[i]\n",
    "    mrr = recall(true_values, predictions[i], k=10)\n",
    "    mrr_values.append(mrr)\n",
    "\n",
    "# Calculate the average Mean Reciprocal Rank\n",
    "average_recall = np.mean(mrr_values)\n",
    "\n",
    "print(\"Average Recalll Rank:\", average_recall)"
   ]
  },
  {
   "attachments": {},
   "cell_type": "markdown",
   "metadata": {},
   "source": [
    "##### Top 1"
   ]
  },
  {
   "cell_type": "code",
   "execution_count": null,
   "metadata": {},
   "outputs": [],
   "source": []
  },
  {
   "attachments": {},
   "cell_type": "markdown",
   "metadata": {},
   "source": [
    "##### Top 10"
   ]
  },
  {
   "attachments": {},
   "cell_type": "markdown",
   "metadata": {},
   "source": [
    "#### TF-IDF"
   ]
  },
  {
   "cell_type": "code",
   "execution_count": 77,
   "metadata": {},
   "outputs": [],
   "source": [
    "from retrieval.sparse_retrieval.tfidf import perform_tfidf_search"
   ]
  },
  {
   "cell_type": "code",
   "execution_count": 151,
   "metadata": {},
   "outputs": [],
   "source": [
    "import ast\n",
    "\n",
    "def get_relevant_docs(df):\n",
    "    \"\"\"\n",
    "    Convert a DataFrame with questions and URLs into a dictionary.\n",
    "    Input:\n",
    "        df: a pandas DataFrame with columns 'question' and 'urls'\n",
    "    Output: a dictionary where the key is the question and the value is a list of URLs\n",
    "    \"\"\"\n",
    "    question_urls_dict = {}\n",
    "\n",
    "    for _, row in df.iterrows():\n",
    "        question = row['Question']\n",
    "        urls = row['Cleaned_URLs']\n",
    "\n",
    "        if isinstance(urls, str):\n",
    "            # Convert the string to a list\n",
    "            urls = ast.literal_eval(urls)\n",
    "\n",
    "        question_urls_dict[question] = urls\n",
    "\n",
    "    return question_urls_dict\n"
   ]
  },
  {
   "cell_type": "code",
   "execution_count": 155,
   "metadata": {},
   "outputs": [],
   "source": [
    "question_list = get_questions(questions2)\n",
    "document_list = get_url_content_tuples(new_df)\n",
    "all_results = perform_tfidf_search(question_list, document_list, k=100) # took 3 minutes!!!!!!"
   ]
  },
  {
   "cell_type": "code",
   "execution_count": 141,
   "metadata": {},
   "outputs": [
    {
     "data": {
      "text/plain": [
       "'\\n  \\n2. Waarom wordt een GPK, inclusief medische keuring in Amsterdam niet \\nkosteloos verstrekt? Waarom zijn deze kosten voor elke aanvrager gelijk, \\nzonder dat wordt gekeken naar bijvoorbeeld financiële draagkracht? Graag \\neen toelichting. \\n \\n'"
      ]
     },
     "execution_count": 141,
     "metadata": {},
     "output_type": "execute_result"
    }
   ],
   "source": [
    "list(all_results.keys())[31]"
   ]
  },
  {
   "cell_type": "code",
   "execution_count": 146,
   "metadata": {},
   "outputs": [
    {
     "data": {
      "text/plain": [
       "\"['https://www.amsterdam.nl/bestuur-organisatie/organisatie/overige/acvz/?vkurl=acvz']\""
      ]
     },
     "execution_count": 146,
     "metadata": {},
     "output_type": "execute_result"
    }
   ],
   "source": [
    "list(questions2['Cleaned_URLs'])[35]"
   ]
  },
  {
   "cell_type": "code",
   "execution_count": 156,
   "metadata": {},
   "outputs": [
    {
     "data": {
      "text/plain": [
       "(0.3170681702863419,\n",
       " 'https://www.amsterdam.nl/bestuur-organisatie/organisatie/overige/adviesraden/commissie-persoonsgegevens-amsterdam/adviezen-cpa-2020/advies-top-400-24-september-2020/')"
      ]
     },
     "execution_count": 156,
     "metadata": {},
     "output_type": "execute_result"
    }
   ],
   "source": [
    "all_results[list(all_results.keys())[35]][0]"
   ]
  },
  {
   "cell_type": "code",
   "execution_count": 150,
   "metadata": {},
   "outputs": [
    {
     "data": {
      "text/plain": [
       "\"['https://www.amsterdam.nl/veelgevraagd/?caseid=%7BD6E280FB-4A76-40A0-9B88-12B87E446FA6%7D', 'https://www.ggd.amsterdam.nl/gezond-wonen/zwemmen-open-water/']\""
      ]
     },
     "execution_count": 150,
     "metadata": {},
     "output_type": "execute_result"
    }
   ],
   "source": [
    "relevant_docs[list(relevant_docs.keys())[0]]"
   ]
  },
  {
   "cell_type": "code",
   "execution_count": 166,
   "metadata": {},
   "outputs": [
    {
     "name": "stdout",
     "output_type": "stream",
     "text": [
      "Average Mean Reciprocal Rank: 0.07229832572298324\n",
      "Average Recall: 0.22602739726027396\n"
     ]
    },
    {
     "name": "stderr",
     "output_type": "stream",
     "text": [
      "/Users/natalipeeva/opt/anaconda3/lib/python3.8/site-packages/irmetrics/io.py:40: RuntimeWarning: Repeated predictions detected. This is an error unless the predictions are padded. Use np.nan as a padding token to suppress the warning for integer labels.\n",
      "  warnings.warn(message, RuntimeWarning)\n"
     ]
    }
   ],
   "source": [
    "relevant_docs = get_relevant_docs(questions2)\n",
    "\n",
    "predictions = []\n",
    "for question in all_results.keys():\n",
    "    urls = []\n",
    "    for result in all_results[question]:\n",
    "        urls.append(result[1])\n",
    "    predictions.append(list((urls)))\n",
    "\n",
    "\n",
    "true = []\n",
    "for question in relevant_docs.keys():\n",
    "    true.append(list((relevant_docs[question])))\n",
    "\n",
    "\n",
    "# Calculate the Mean Reciprocal Rank for each question\n",
    "mrr_values = []\n",
    "for i in range(len(predictions)):\n",
    "    true_values = true[i]\n",
    "    mrr = rr(true_values, predictions[i], k=10)\n",
    "    mrr_values.append(mrr)\n",
    "\n",
    "# Calculate the average Mean Reciprocal Rank\n",
    "average_mrr = np.mean(mrr_values)\n",
    "\n",
    "print(\"Average Mean Reciprocal Rank:\", average_mrr)\n",
    "\n",
    "\n",
    " # Calculate the Mean Reciprocal Rank for each question\n",
    "mrr_values = []\n",
    "for i in range(len(predictions)):\n",
    "    true_values = true[i]\n",
    "    mrr = recall(true_values, predictions[i], k=10)\n",
    "    mrr_values.append(mrr)\n",
    "\n",
    "# Calculate the average Mean Reciprocal Rank\n",
    "average_recall = np.mean(mrr_values)\n",
    "\n",
    "print(\"Average Recall:\", average_recall)"
   ]
  },
  {
   "attachments": {},
   "cell_type": "markdown",
   "metadata": {},
   "source": [
    "## TF-IDF with passages content"
   ]
  },
  {
   "cell_type": "code",
   "execution_count": 167,
   "metadata": {},
   "outputs": [],
   "source": [
    "from sklearn.feature_extraction.text import TfidfVectorizer\n",
    "\n",
    "\n",
    "import heapq"
   ]
  },
  {
   "cell_type": "code",
   "execution_count": 174,
   "metadata": {},
   "outputs": [],
   "source": [
    "def tfidf_search(query, vectorizer, matrix, collection, k):\n",
    "    \"\"\"\n",
    "    Perform a search over all documents with the given query using tf-idf.\n",
    "    Input:\n",
    "        query - an (unprocessed) query\n",
    "        vectorizer: a fitted TfidfVectorizer\n",
    "        matrix: the document-term matrix obtained from the fitted vectorizer\n",
    "        collection: a list of tuples (document_id, document_content)\n",
    "        k: the number of top search results to retrieve\n",
    "    Output: a list of (document_id, score, document_content), sorted in descending relevance to the given query\n",
    "    \"\"\"\n",
    "    # Preprocess the query\n",
    "    preprocessed_query = str(query).lower().replace('\\n', '')\n",
    "\n",
    "    # Transform the query using the fitted vectorizer\n",
    "    query_vector = vectorizer.transform([preprocessed_query])\n",
    "\n",
    "    # Calculate the cosine similarity between the query and document vectors\n",
    "    cosine_similarities = matrix.dot(query_vector.T).toarray().flatten()\n",
    "\n",
    "    # Create a heap to maintain the top-k results\n",
    "    results_heap = []\n",
    "\n",
    "    # Iterate over the collection and update the heap with the top-k results\n",
    "    for i, doc in enumerate(collection):\n",
    "        doc_id = doc[0]\n",
    "        score = cosine_similarities[i]\n",
    "        document_content = doc[1]\n",
    "        heapq.heappush(results_heap, (score, doc_id, document_content))\n",
    "        if len(results_heap) > k:\n",
    "            heapq.heappop(results_heap)\n",
    "\n",
    "    # Sort the results in descending order of relevance (score)\n",
    "    results_heap.sort(reverse=True)\n",
    "\n",
    "    return results_heap[:k]  # Return only the top-k results\n",
    "\n",
    "\n",
    "def perform_tfidf_search(queries, collection, k):\n",
    "    \"\"\"\n",
    "    Perform TF-IDF search for each query in a list of queries.\n",
    "    Input:\n",
    "        queries - a list of queries\n",
    "        collection: a list of tuples (document_id, document_content)\n",
    "        k: the number of top search results to retrieve\n",
    "    Output: a dictionary where the key is the query and the value is a list of (document_id, score, document_content) tuples\n",
    "    \"\"\"\n",
    "    # Extract document contents from the collection\n",
    "    document_contents = [str(doc[1]).lower().replace('\\n', '') for doc in collection]\n",
    "\n",
    "    # Initialize and fit the TfidfVectorizer\n",
    "    vectorizer = TfidfVectorizer()\n",
    "    matrix = vectorizer.fit_transform(document_contents)\n",
    "\n",
    "    search_results = {}\n",
    "\n",
    "    for query in queries:\n",
    "        results = tfidf_search(query, vectorizer, matrix, collection, k=k)\n",
    "        search_results[query] = [(result[1], result[0], result[2]) for result in results]  # Store document_id, score, and document_content\n",
    "\n",
    "    return search_results"
   ]
  },
  {
   "cell_type": "code",
   "execution_count": 175,
   "metadata": {},
   "outputs": [],
   "source": [
    "all_results_passages = perform_tfidf_search(question_list, document_list, k=100) # took 12secs minutes!!!!!!"
   ]
  },
  {
   "cell_type": "code",
   "execution_count": 177,
   "metadata": {},
   "outputs": [],
   "source": [
    "all_results_passages_allquestions = perform_tfidf_search(list(questions['Question']), document_list, k=100) # 26 min"
   ]
  },
  {
   "cell_type": "code",
   "execution_count": 178,
   "metadata": {},
   "outputs": [],
   "source": [
    "import pickle"
   ]
  },
  {
   "cell_type": "code",
   "execution_count": 179,
   "metadata": {},
   "outputs": [],
   "source": [
    "with open ('data/thesis_draft/tfidf_results_all.pickle', 'wb') as f:\n",
    "    pickle.dump(all_results_passages_allquestions, f)"
   ]
  }
 ],
 "metadata": {
  "kernelspec": {
   "display_name": "base",
   "language": "python",
   "name": "python3"
  },
  "language_info": {
   "codemirror_mode": {
    "name": "ipython",
    "version": 3
   },
   "file_extension": ".py",
   "mimetype": "text/x-python",
   "name": "python",
   "nbconvert_exporter": "python",
   "pygments_lexer": "ipython3",
   "version": "3.8.5"
  },
  "orig_nbformat": 4,
  "vscode": {
   "interpreter": {
    "hash": "ea4c3bcc219a1292b0d1d9543a9b9f82ed18a35340190a3cbd50b3110bbb4e55"
   }
  }
 },
 "nbformat": 4,
 "nbformat_minor": 2
}
