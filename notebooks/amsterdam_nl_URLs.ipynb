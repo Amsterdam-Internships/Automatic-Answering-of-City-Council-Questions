{
 "cells": [
  {
   "cell_type": "code",
   "execution_count": 1,
   "metadata": {},
   "outputs": [],
   "source": [
    "import pandas as pd\n",
    "import requests\n",
    "from collections import Counter\n",
    "import time\n",
    "import random\n",
    "import pickle"
   ]
  },
  {
   "attachments": {},
   "cell_type": "markdown",
   "metadata": {},
   "source": [
    "### Clean amsterdam.nl reference URLs"
   ]
  },
  {
   "cell_type": "code",
   "execution_count": 3,
   "metadata": {},
   "outputs": [
    {
     "name": "stdout",
     "output_type": "stream",
     "text": [
      "/Users/natalipeeva/Desktop\n"
     ]
    }
   ],
   "source": [
    "%cd '/Users/natalipeeva/Desktop'"
   ]
  },
  {
   "cell_type": "code",
   "execution_count": 4,
   "metadata": {},
   "outputs": [],
   "source": [
    "questions = pd.read_csv(open('URL Analysis/questions.csv', 'r'))"
   ]
  },
  {
   "cell_type": "code",
   "execution_count": 5,
   "metadata": {},
   "outputs": [],
   "source": [
    "# Extract amsterdam.nl only\n",
    "mask = questions['URLs'].astype(str).str.contains('www.amsterdam.nl')\n",
    "amsterdam_questions = questions[mask]"
   ]
  },
  {
   "cell_type": "code",
   "execution_count": 6,
   "metadata": {},
   "outputs": [
    {
     "data": {
      "text/html": [
       "<div>\n",
       "<style scoped>\n",
       "    .dataframe tbody tr th:only-of-type {\n",
       "        vertical-align: middle;\n",
       "    }\n",
       "\n",
       "    .dataframe tbody tr th {\n",
       "        vertical-align: top;\n",
       "    }\n",
       "\n",
       "    .dataframe thead th {\n",
       "        text-align: right;\n",
       "    }\n",
       "</style>\n",
       "<table border=\"1\" class=\"dataframe\">\n",
       "  <thead>\n",
       "    <tr style=\"text-align: right;\">\n",
       "      <th></th>\n",
       "      <th>Year</th>\n",
       "      <th>Month</th>\n",
       "      <th>Question</th>\n",
       "      <th>Answer</th>\n",
       "      <th>Document</th>\n",
       "      <th>URLs</th>\n",
       "    </tr>\n",
       "  </thead>\n",
       "  <tbody>\n",
       "    <tr>\n",
       "      <th>296</th>\n",
       "      <td>2020</td>\n",
       "      <td>6</td>\n",
       "      <td>\\n7.\\nKan het college de reeds bestaande zwemp...</td>\n",
       "      <td>\\nVoor het vinden van de officiële zwemplekken...</td>\n",
       "      <td>https://amsterdam.raadsinformatie.nl/document/...</td>\n",
       "      <td>https://www.zwemwater.nl/.Hier\\nhttps://maps.a...</td>\n",
       "    </tr>\n",
       "    <tr>\n",
       "      <th>615</th>\n",
       "      <td>2021</td>\n",
       "      <td>8</td>\n",
       "      <td>\\n \\n3. Huisartsen geven aan meer informatie n...</td>\n",
       "      <td>\\nDe uitvoerder van de regeling, het CAK, lij...</td>\n",
       "      <td>https://amsterdam.raadsinformatie.nl/document/...</td>\n",
       "      <td>https://www.amsterdam.nl/zorg-ondersteuning/on...</td>\n",
       "    </tr>\n",
       "    <tr>\n",
       "      <th>620</th>\n",
       "      <td>2021</td>\n",
       "      <td>8</td>\n",
       "      <td>\\n \\n8. Weten ongedocumenteerden de weg naar m...</td>\n",
       "      <td>\\nDe Kruispost wordt goed bezocht, maar het c...</td>\n",
       "      <td>https://amsterdam.raadsinformatie.nl/document/...</td>\n",
       "      <td>https://www.amsterdam.nl/zorg-ondersteuning/on...</td>\n",
       "    </tr>\n",
       "    <tr>\n",
       "      <th>856</th>\n",
       "      <td>2015</td>\n",
       "      <td>11</td>\n",
       "      <td>\\n \\n6. Het spuug zal door een speciaal daarto...</td>\n",
       "      <td>\\nEr zijn 50 BOA’s van GVB opgeleid om speeks...</td>\n",
       "      <td>https://amsterdam.raadsinformatie.nl/document/...</td>\n",
       "      <td>https://www.amsterdam.nl/wonen-leefomgeving/ve...</td>\n",
       "    </tr>\n",
       "    <tr>\n",
       "      <th>1084</th>\n",
       "      <td>2013</td>\n",
       "      <td>7</td>\n",
       "      <td>\\n \\n \\n  \\n2. Wat gaat de wethouder doen om d...</td>\n",
       "      <td>\\nEr is op dit moment nog geen sprake van ont...</td>\n",
       "      <td>https://amsterdam.raadsinformatie.nl/document/...</td>\n",
       "      <td>http://www.amsterdam.nl/publish/pages/419505/a...</td>\n",
       "    </tr>\n",
       "  </tbody>\n",
       "</table>\n",
       "</div>"
      ],
      "text/plain": [
       "      Year Month                                           Question  \\\n",
       "296   2020     6  \\n7.\\nKan het college de reeds bestaande zwemp...   \n",
       "615   2021     8  \\n \\n3. Huisartsen geven aan meer informatie n...   \n",
       "620   2021     8  \\n \\n8. Weten ongedocumenteerden de weg naar m...   \n",
       "856   2015    11  \\n \\n6. Het spuug zal door een speciaal daarto...   \n",
       "1084  2013     7  \\n \\n \\n  \\n2. Wat gaat de wethouder doen om d...   \n",
       "\n",
       "                                                 Answer  \\\n",
       "296   \\nVoor het vinden van de officiële zwemplekken...   \n",
       "615    \\nDe uitvoerder van de regeling, het CAK, lij...   \n",
       "620    \\nDe Kruispost wordt goed bezocht, maar het c...   \n",
       "856    \\nEr zijn 50 BOA’s van GVB opgeleid om speeks...   \n",
       "1084   \\nEr is op dit moment nog geen sprake van ont...   \n",
       "\n",
       "                                               Document  \\\n",
       "296   https://amsterdam.raadsinformatie.nl/document/...   \n",
       "615   https://amsterdam.raadsinformatie.nl/document/...   \n",
       "620   https://amsterdam.raadsinformatie.nl/document/...   \n",
       "856   https://amsterdam.raadsinformatie.nl/document/...   \n",
       "1084  https://amsterdam.raadsinformatie.nl/document/...   \n",
       "\n",
       "                                                   URLs  \n",
       "296   https://www.zwemwater.nl/.Hier\\nhttps://maps.a...  \n",
       "615   https://www.amsterdam.nl/zorg-ondersteuning/on...  \n",
       "620   https://www.amsterdam.nl/zorg-ondersteuning/on...  \n",
       "856   https://www.amsterdam.nl/wonen-leefomgeving/ve...  \n",
       "1084  http://www.amsterdam.nl/publish/pages/419505/a...  "
      ]
     },
     "execution_count": 6,
     "metadata": {},
     "output_type": "execute_result"
    }
   ],
   "source": [
    "amsterdam_questions.head()"
   ]
  },
  {
   "attachments": {},
   "cell_type": "markdown",
   "metadata": {},
   "source": [
    "### Clean URLs"
   ]
  },
  {
   "cell_type": "code",
   "execution_count": 27,
   "metadata": {},
   "outputs": [],
   "source": [
    "urls = sum(map(lambda x: x.split('\\n'), amsterdam_questions[amsterdam_questions['URLs'].notnull()]['URLs']), [])\n",
    "urls = list(map(lambda x: x if x.startswith('http') else f'http://{x}', urls)) # Get all URLs"
   ]
  },
  {
   "cell_type": "code",
   "execution_count": 31,
   "metadata": {},
   "outputs": [],
   "source": [
    "# TO DO:\n",
    "\n",
    "# input http://www.amsterdam.nl/internationaal  -> this is the old version of the link so it needs to be changed \n",
    "\n",
    "# update link to its current version by using a request: \n",
    "\n",
    "# result should be that: https://www.amsterdam.nl/bestuur-organisatie/organisatie/bestuur-organisatie/bureau-internationale-betrekkingen/?vkurl=internationaal\n",
    "\n",
    "# clean link to: www.amsterdam.nl/bestuur-organisatie/organisatie/bestuur-organisatie/bureau-internationale-betrekkingen/?vkurl=internationaal\n",
    "\n",
    "# add a function that adds back https:// in the front if necessary"
   ]
  },
  {
   "attachments": {},
   "cell_type": "markdown",
   "metadata": {},
   "source": [
    "### Update the URL path with the current path"
   ]
  },
  {
   "cell_type": "code",
   "execution_count": 36,
   "metadata": {},
   "outputs": [],
   "source": [
    "# Example\n",
    "r = requests.get('http://www.amsterdam.nl/internationaal')\n",
    "print('Statuscode:', r.status_code) # code is 200 but the path is still different"
   ]
  },
  {
   "attachments": {},
   "cell_type": "markdown",
   "metadata": {},
   "source": [
    "The URL in the reference answer is 'http://www.amsterdam.nl/internationaal' but the current URL path if the same page is: 'https://www.amsterdam.nl/bestuur-organisatie/organisatie/bestuur-organisatie/bureau-internationale-betrekkingen/?vkurl=internationaal'. \n",
    "\n",
    "**The following implementation deals with such cases and ensures that the URL path of the page is substituted its most recent version.**\n",
    "\n",
    "*Date 04.05.2023*"
   ]
  },
  {
   "cell_type": "code",
   "execution_count": 79,
   "metadata": {},
   "outputs": [
    {
     "name": "stdout",
     "output_type": "stream",
     "text": [
      "https://www.amsterdam.nl/bestuur-organisatie/organisatie/bestuur-organisatie/bureau-internationale-betrekkingen/?vkurl=internationaal\n"
     ]
    }
   ],
   "source": [
    "### Example ###\n",
    "\n",
    "url = 'http://www.amsterdam.nl/internationaal'\n",
    "\n",
    "response = requests.get(url, allow_redirects=True) # allow_redirects=True to follow redirects\n",
    "\n",
    "final_url = response.url # get URL\n",
    "\n",
    "print(final_url)\n"
   ]
  },
  {
   "attachments": {},
   "cell_type": "markdown",
   "metadata": {},
   "source": [
    "*The example in the previous cell returns the current URL path of the web-page. Next we create a function which is going to be applied to all URLs in our collection of reference URls.*"
   ]
  },
  {
   "cell_type": "code",
   "execution_count": 50,
   "metadata": {},
   "outputs": [],
   "source": [
    "def update_url(url):\n",
    "    \"\"\"\n",
    "    Returns the most recent version of a URL.\n",
    "    \"\"\"\n",
    "    # allow_redirects=True to follow redirects\n",
    "    response = requests.get(url, allow_redirects=True)\n",
    "\n",
    "    # get URL\n",
    "    final_url = response.url\n",
    "\n",
    "    return final_url"
   ]
  },
  {
   "attachments": {},
   "cell_type": "markdown",
   "metadata": {},
   "source": [
    "### Check for any invalid URLs"
   ]
  },
  {
   "attachments": {},
   "cell_type": "markdown",
   "metadata": {},
   "source": [
    "What are the most common characters that a URL ends with besides letters. \n",
    "\n",
    "The objective is to remove the '/' character in order to normalize the URLs and also to see if there are any potentially problematic characters. "
   ]
  },
  {
   "cell_type": "code",
   "execution_count": 80,
   "metadata": {},
   "outputs": [],
   "source": [
    "# create an empty list to store the invalid URLs\n",
    "invalid_urls = []\n",
    "invalid_chars = [url[-1] for url in urls if not url[-1].isalpha()]\n"
   ]
  },
  {
   "cell_type": "code",
   "execution_count": 81,
   "metadata": {},
   "outputs": [
    {
     "data": {
      "text/plain": [
       "[('/', 47),\n",
       " ('.', 32),\n",
       " (')', 7),\n",
       " ('=', 2),\n",
       " ('9', 2),\n",
       " ('2', 1),\n",
       " ('8', 1),\n",
       " ('4', 1),\n",
       " ('1', 1)]"
      ]
     },
     "execution_count": 81,
     "metadata": {},
     "output_type": "execute_result"
    }
   ],
   "source": [
    "Counter(invalid_chars).most_common()"
   ]
  },
  {
   "attachments": {},
   "cell_type": "markdown",
   "metadata": {},
   "source": [
    "There seem to be some characters which might be disturbing the URLs. First, we try to get the most recent version of the URL and then we check again how many of the characters are left. The assumption is that there will be less, since redirecting might update the uRL if there is an error. "
   ]
  },
  {
   "attachments": {},
   "cell_type": "markdown",
   "metadata": {},
   "source": [
    "### Apply URL update to all URLs"
   ]
  },
  {
   "cell_type": "code",
   "execution_count": 61,
   "metadata": {},
   "outputs": [],
   "source": [
    "updated_urls = []\n",
    "for url in urls:\n",
    "    try:\n",
    "        updated_urls.append(update_url(url))\n",
    "        time.sleep(random.uniform(2, 5)) # make sure not to overload the server\n",
    "    except: \n",
    "        updated_urls.append(('error',url)) # keep track of errors to check later"
   ]
  },
  {
   "attachments": {},
   "cell_type": "markdown",
   "metadata": {},
   "source": [
    "*Checking the 'error' URLs*"
   ]
  },
  {
   "cell_type": "code",
   "execution_count": 69,
   "metadata": {},
   "outputs": [
    {
     "name": "stdout",
     "output_type": "stream",
     "text": [
      "('error', 'http://www.Amsterdam.nl)')\n",
      "('error', 'http://www.voedselpoortamsterdam.nl')\n",
      "('error', 'http://www.voedselpoortamsterdam.nl')\n",
      "('error', 'http://www.voedselpoortamsterdam.nl')\n"
     ]
    }
   ],
   "source": [
    "for url in updated_urls:\n",
    "    if type(url) == tuple:\n",
    "        print(url)"
   ]
  },
  {
   "attachments": {},
   "cell_type": "markdown",
   "metadata": {},
   "source": [
    "*Check the 'faulty' chars again*"
   ]
  },
  {
   "cell_type": "code",
   "execution_count": 70,
   "metadata": {},
   "outputs": [],
   "source": [
    "invalid_urls = []\n",
    "invalid_chars = [url[-1] for url in updated_urls if not url[-1].isalpha()]\n"
   ]
  },
  {
   "cell_type": "code",
   "execution_count": 86,
   "metadata": {},
   "outputs": [],
   "source": [
    "valid_chars = [url[-1] for url in updated_urls if url[-1].isalpha()]"
   ]
  },
  {
   "cell_type": "code",
   "execution_count": 88,
   "metadata": {},
   "outputs": [
    {
     "data": {
      "text/plain": [
       "[('D', 5),\n",
       " ('e', 5),\n",
       " ('f', 4),\n",
       " ('s', 4),\n",
       " ('t', 4),\n",
       " ('n', 4),\n",
       " ('w', 3),\n",
       " ('l', 2),\n",
       " ('p', 2),\n",
       " ('r', 1),\n",
       " ('d', 1),\n",
       " ('k', 1),\n",
       " ('g', 1),\n",
       " ('i', 1),\n",
       " ('c', 1)]"
      ]
     },
     "execution_count": 88,
     "metadata": {},
     "output_type": "execute_result"
    }
   ],
   "source": [
    "Counter(valid_chars).most_common()"
   ]
  },
  {
   "cell_type": "code",
   "execution_count": 72,
   "metadata": {},
   "outputs": [
    {
     "data": {
      "text/plain": [
       "[('/', 68),\n",
       " ('.', 20),\n",
       " (')', 6),\n",
       " ('http://www.voedselpoortamsterdam.nl', 3),\n",
       " ('=', 2),\n",
       " ('9', 2),\n",
       " ('http://www.Amsterdam.nl)', 1),\n",
       " ('2', 1),\n",
       " ('8', 1),\n",
       " ('#', 1),\n",
       " ('4', 1),\n",
       " ('1', 1),\n",
       " ('5', 1)]"
      ]
     },
     "execution_count": 72,
     "metadata": {},
     "output_type": "execute_result"
    }
   ],
   "source": [
    "Counter(invalid_chars).most_common()"
   ]
  },
  {
   "attachments": {},
   "cell_type": "markdown",
   "metadata": {},
   "source": [
    "*Storing the URLs which might have an error*"
   ]
  },
  {
   "cell_type": "code",
   "execution_count": 74,
   "metadata": {},
   "outputs": [],
   "source": [
    "urls_to_check = []\n",
    "for url in updated_urls:\n",
    "    if  not url[-1].isalpha() and not url[-1] == '/':\n",
    "        urls_to_check.append(url)"
   ]
  },
  {
   "cell_type": "code",
   "execution_count": 78,
   "metadata": {},
   "outputs": [
    {
     "name": "stdout",
     "output_type": "stream",
     "text": [
      "['https://www.amsterdam.nl/vragenondernemers)', 'https://www.amsterdam.nl/vragenondernemers.', ('error', 'http://www.Amsterdam.nl)')]\n"
     ]
    }
   ],
   "source": [
    "print(urls_to_check[:3]) # 3 examples"
   ]
  },
  {
   "cell_type": "code",
   "execution_count": 85,
   "metadata": {},
   "outputs": [],
   "source": [
    "with open ('urls_to_check.pickle', 'wb') as f:\n",
    "    pickle.dump(urls_to_check, f) # save the list"
   ]
  },
  {
   "attachments": {},
   "cell_type": "markdown",
   "metadata": {},
   "source": [
    "### Findings\n",
    "\n",
    "- Remove the '.' for sure \n",
    "- ) might be useful example: \n",
    "-> https://www.amsterdam.nl/veelgevraagd/?productid=%7B87FAD1C9-60E9-4CEA-B9AE-6D5594A0E841%7D#case_%7B63E55F58-F93C-4A68-BEAA-896C8F8FBBB1%7D)\n",
    "-> with and without ) it changes \n",
    "- the = looks weird but the page opens \n",
    "- remove '/' since it doesn't affect the webpage\n"
   ]
  },
  {
   "cell_type": "code",
   "execution_count": null,
   "metadata": {},
   "outputs": [],
   "source": [
    "# Remove the '.' for sure \n",
    "# ) might be useful example: https://www.amsterdam.nl/veelgevraagd/?productid=%7B87FAD1C9-60E9-4CEA-B9AE-6D5594A0E841%7D#case_%7B63E55F58-F93C-4A68-BEAA-896C8F8FBBB1%7D)"
   ]
  },
  {
   "cell_type": "code",
   "execution_count": null,
   "metadata": {},
   "outputs": [],
   "source": [
    "# Updates the URL \n",
    "# Removes the last char if necessary \n",
    "# normalzies it "
   ]
  },
  {
   "attachments": {},
   "cell_type": "markdown",
   "metadata": {},
   "source": [
    "Class Reference_URL \n",
    "\n",
    "- get the most recent version\n",
    "- check for invalid characters\n",
    "\n"
   ]
  },
  {
   "attachments": {},
   "cell_type": "markdown",
   "metadata": {},
   "source": [
    "### Check how URLs are structured\n",
    "\n",
    "The objective is to check how URLs are structured so that the scraped content could be properly formatted to match"
   ]
  },
  {
   "cell_type": "code",
   "execution_count": 95,
   "metadata": {},
   "outputs": [
    {
     "name": "stdout",
     "output_type": "stream",
     "text": [
      "https://www.amsterdam.nl/veelgevraagd/?caseid=%7BD6E280FB-4A76-40A0-9B88-12B87E446FA6%7D\n",
      "https://www.amsterdam.nl/veelgevraagd/?productid=\n",
      "https://www.amsterdam.nl/veelgevraagd/?productid=%7B249D3A8E-ED07-4E4C-BFAD-49F174342FD5%7D\n",
      "https://www.amsterdam.nl/veelgevraagd/?caseid=%7B2A574844-AA85-4A2C-8CD3-8CB494F4997E%7D\n",
      "https://www.amsterdam.nl/veelgevraagd/?caseid=%7B81530DE0-8A69-4085-A9A8-739EF202B595%7D&_ga=2.153284539.280737159.1528702078-235779210.1528702078\n",
      "https://www.amsterdam.nl/veelgevraagd/?caseid=%7B0509871D-A851-40C4-8C1A-E79B5E121D67%7D\n",
      "https://www.amsterdam.nl/veelgevraagd/?productid=\n",
      "https://www.amsterdam.nl/veelgevraagd/?productid=%7BD5F9EF09-0F3A-4E59-8435-4873EB7CD609%7D#case_%7B33F0B504-EDEB-42EE-A8C5-7EF394F65D3A%7D#\n",
      "https://www.amsterdam.nl/veelgevraagd/?productid=%7B87FAD1C9-60E9-4CEA-B9AE-6D5594A0E841%7D#case_%7B63E55F58-F93C-4A68-BEAA-896C8F8FBBB1%7D)\n",
      "https://www.amsterdam.nl/veelgevraagd/?productid=%7B0497C2EC-D574-42FC-BB56-140DD7641EC5%7D\n"
     ]
    }
   ],
   "source": [
    "for url in updated_urls:\n",
    "    if 'www.amsterdam.nl/veelgevraagd' in url:\n",
    "        print(url)"
   ]
  },
  {
   "attachments": {},
   "cell_type": "markdown",
   "metadata": {},
   "source": [
    "In the collected documents I don't have any '%' symbols, instead I have {} symbols -> I think that's why there might be a mismatch between the two versions of the URLs (supporting docs and refrence docs)"
   ]
  },
  {
   "cell_type": "code",
   "execution_count": 92,
   "metadata": {},
   "outputs": [
    {
     "data": {
      "text/plain": [
       "['https://www.zwemwater.nl/.Hier',\n",
       " 'https://maps.amsterdam.nl/zwemwater/',\n",
       " 'https://www.amsterdam.nl/veelgevraagd/?caseid=%7BD6E280FB-4A76-40A0-9B88-12B87E446FA6%7D',\n",
       " 'https://www.ggd.amsterdam.nl/gezond-wonen/zwemmen-open-water/',\n",
       " 'https://www.amsterdam.nl/zorg-ondersteuning/ondersteuning/vluchtelingen/ongedocumenteerden/',\n",
       " 'https://www.amsterdam.nl/zorg-ondersteuning/ondersteuning/vluchtelingen/ongedocumenteerden/',\n",
       " 'https://www.amsterdam.nl/wonen-leefomgeving/veiligheid/openbare-orde/overlastgebieden/agressie-geweld/agressie-geweld/',\n",
       " 'https://www.amsterdam.nl/publish/pages/419505/amsterdamse_zorgambitie.pdf',\n",
       " 'https://www.amsterdam.nl/vragenondernemers)',\n",
       " 'https://www.amsterdam.nl/vragenondernemers.',\n",
       " ('error', 'http://www.Amsterdam.nl)'),\n",
       " 'https://www.amsterdam.nl/wonen-leefomgeving/groene-stad',\n",
       " 'https://www.amsterdam.nl/privacy/loket/',\n",
       " 'https://www.amsterdam.nl/veelgevraagd/?productid=',\n",
       " 'https://www.amsterdam.nl/publish/pages/858023/brief_wethouder_choho_hotspots_afval_d_d_21_de',\n",
       " 'https://www.amsterdam.nl/projecten/noorderpark/',\n",
       " 'https://www.amsterdam.nl/nieuwsbrieven/bestuur-organisatie/gemeenteraad/dagmails/2020/juni/5-juni-2020/?utm_source=nieuwsbrief&utm_medium=e-mail&utm_term=20200605&utm_content=link_ID0AS5BI055BI&utm_campaign=Dagmail%2520gemeenteraad%2520Amsterdam%252',\n",
       " 'https://www.amsterdam.nl/sociaaldomein/zorg-jeugd/artikelen/specialistische-jeugdhulp-speciaal/',\n",
       " 'https://www.amsterdam.nl/zorg-ondersteuning/ondersteuning/dak-of-thuisloos/?vkurl=dakloos',\n",
       " 'https://www.amsterdam.nl/gemeente/organisatie-diensten/wzs/publicaties/overig/stedelijke/stedelijke/amsterdamse/',\n",
       " 'https://www.amsterdam.nl/wonen-leefomgeving/zelfbouw/',\n",
       " 'https://www.amsterdam.nl/wonen-leefomgeving/vastgoedprofessionals/?vkurl=vastgoedprofessionals',\n",
       " 'https://www.amsterdam.nl/parkeren/parkeren-reizen/',\n",
       " 'https://www.amsterdam.nl/bestuur-organisatie/volg-beleid/stad-in-balans/geluidsoverlast/',\n",
       " 'https://www.amsterdam.nl/ratinjebuurt.',\n",
       " 'https://www.amsterdam.nl/projecten/elzenhagen-zuid/bomenkap-aanplant-groen-ehz/bomenkap-elzenhagen-zuid/',\n",
       " 'https://www.amsterdam.nl/projecten/elzenhagen-zuid/bomenkap-aanplant-groen-ehz/compensatie-groen/',\n",
       " 'https://www.amsterdam.nl/bestuur-organisatie/organisatie/overige/acvz/verwerking-persoonsgegevens-acvz/',\n",
       " 'https://www.amsterdam.nl/veelgevraagd/?productid=%7B249D3A8E-ED07-4E4C-BFAD-49F174342FD5%7D',\n",
       " 'https://www.amsterdam.nl/bestuur-organisatie/volg-beleid/coalitieakkoord-uitvoeringsagenda/gezonde-duurzame-stad/klimaatneutraal/',\n",
       " 'https://www.amsterdam.nl/wonen-leefomgeving/erfpacht/?vkurl=erfpacht',\n",
       " 'https://www.amsterdam.nl/toerisme-vrije-tijd/groen-natuur/ecologie/flora-fauna/)',\n",
       " 'https://www.rivm.nl/publicaties/health-effects-related-to-wind-turbine-sound-update',\n",
       " 'https://www.amsterdam.nl/zon.',\n",
       " 'https://www.amsterdam.nl/nieuwsbrieven/bestuur-organisatie/gemeenteraad/dagmails/2021/maart/donderdag-11-maart-2021/',\n",
       " 'https://www.amsterdam.nl/nieuwsbrieven/bestuur-organisatie/gemeenteraad/dagmails/2021/maart/donderdag-11-maart-2021/',\n",
       " 'https://www.amsterdam.nl/beleidwerkeninkomen.',\n",
       " 'https://maps.amsterdam.nl/vogels/?LANG=nl',\n",
       " 'https://www.amsterdam.nl/veelgevraagd/?caseid=%7B2A574844-AA85-4A2C-8CD3-8CB494F4997E%7D',\n",
       " 'https://www.amsterdam.nl/veelgevraagd/?caseid=%7B81530DE0-8A69-4085-A9A8-739EF202B595%7D&_ga=2.153284539.280737159.1528702078-235779210.1528702078',\n",
       " 'https://www.amsterdam.nl/publish/pages/931968/raadsbrief_positief_perspectief_-_weerbaar_opgroeien_in_amsterdam.pdf',\n",
       " 'https://www.amsterdam.nl/tipstegeninbraak',\n",
       " 'https://www.amsterdam.nl/ondernemen/bedrijfsruimte/vastgoed/maatwerkregeling-huurders-gemeente/?vkurl=maatwerkregeling',\n",
       " 'https://www.amsterdam.nl/zorg-ondersteuning/contact/meldpunt-zorg/',\n",
       " 'https://www.amsterdam.nl/vga/nadeelcompensatie/bureau-nadeelcompensatie',\n",
       " 'https://www.amsterdam.nl/ondernemen/ondersteuning/?vkurl=sterkerondernemen',\n",
       " 'https://www.amsterdam.nl/bestuur-organisatie/volg-beleid/groen/bomen/',\n",
       " 'https://www.amsterdam.nl/projecten/elzenhagen-zuid/thema/bomenkap-aanplant-groen/',\n",
       " 'https://www.amsterdam.nl/',\n",
       " 'https://www.amsterdam.nl/',\n",
       " 'https://www.amsterdam.nl/',\n",
       " 'https://www.amsterdam.nl/',\n",
       " 'https://www.amsterdam.nl/',\n",
       " 'https://www.amsterdam.nl/',\n",
       " 'https://www.amsterdam.nl/',\n",
       " 'https://www.amsterdam.nl/',\n",
       " 'https://www.amsterdam.nl/kwaliteitsconvenant.',\n",
       " 'https://www.amsterdam.nl/veelgevraagd/?caseid=%7B0509871D-A851-40C4-8C1A-E79B5E121D67%7D',\n",
       " 'https://www.amsterdam.nl/veelgevraagd/?productid=',\n",
       " 'https://www.amsterdam.nl/ondernemen/inkoop-opdrachten/externe-inzet/',\n",
       " 'https://www.amsterdam.nl/werk-inkomen/pak-je-kans)',\n",
       " 'https://www.amsterdam.nl/sterkerondernemen.',\n",
       " 'https://algoritmeregister.amsterdam.nl/top-400-600/',\n",
       " 'https://www.amsterdam.nl/AcVZ.',\n",
       " 'https://www.amsterdam.nl/bestuur-organisatie/organisatie/overige/acvz/verwerking-persoonsgegevens-acvz/',\n",
       " 'https://www.amsterdam.nl/AcVZ).',\n",
       " 'https://www.amsterdam.nl/bestuur-organisatie/organisatie/overige/acvz/verwerking-persoonsgegevens-acvz/',\n",
       " 'https://www.amsterdam.nl/afvalbedrijven',\n",
       " 'https://www.amsterdam.nl/bestuur-organisatie/organisatie/ruimte-economie/wonen/stedelijke/kaderafspraken/',\n",
       " 'https://www.amsterdam.nl/verkeer-vervoer/fiets/fietsdepot/fiets-graveren/',\n",
       " 'https://www.amsterdam.nl/nieuwsarchief',\n",
       " 'https://www.amsterdam.nl/komop',\n",
       " 'https://www.amsterdam.nl/komop',\n",
       " 'https://www.amsterdam.nl/nieuwsbrieven/bestuur-organisatie/gemeenteraad/dagmails/2021/maart/donderdag-11-maart-2021/',\n",
       " 'https://www.amsterdam.nl/nieuwsbrieven/bestuur-organisatie/gemeenteraad/dagmails/2021/maart/donderdag-11-maart-2021/',\n",
       " 'https://www.amsterdam.nl/nieuwsbrieven/bestuur-organisatie/gemeenteraad/dagmails/2021/maart/donderdag-11-maart-2021/',\n",
       " 'https://www.amsterdam.nl/pgb.',\n",
       " 'https://www.amsterdam.nl/publish/pages/409612/convenantsplitsenenverkoopsocialehuurdefinitief19',\n",
       " 'https://www.amsterdam.nl/nieuws/kennisgevingen-bekendmakingen/',\n",
       " 'https://loket.odnzkg.nl/',\n",
       " 'https://loket.odnzkg.nl/actuele-bekendmakingen/',\n",
       " 'https://www.amsterdam.nl/nieuws/kennisgevingen-bekendmakingen/',\n",
       " 'https://loket.odnzkg.nl/',\n",
       " 'https://www.amsterdam.nl/',\n",
       " 'https://www.amsterdam.nl/stadslandbouw',\n",
       " ('error', 'http://www.voedselpoortamsterdam.nl'),\n",
       " 'https://www.amsterdam.nl/stadslandbouw',\n",
       " ('error', 'http://www.voedselpoortamsterdam.nl'),\n",
       " 'https://www.amsterdam.nl/ondernemen.',\n",
       " 'https://www.amsterdam.nl/stadslandbouw',\n",
       " ('error', 'http://www.voedselpoortamsterdam.nl'),\n",
       " 'https://www.amsterdam.nl/bestuur-organisatie/organisatie/bestuur-organisatie/bureau-internationale-betrekkingen/?vkurl=internationaal',\n",
       " 'https://www.amsterdam.nl/internationaal.',\n",
       " 'https://www.amsterdam.nl/zorg-ondersteuning/contact/meldpunt-zorg/',\n",
       " 'https://www.amsterdam.nl/sport/corona-sport',\n",
       " 'https://www.amsterdam.nl/veelgevraagd/?productid=%7BD5F9EF09-0F3A-4E59-8435-4873EB7CD609%7D#case_%7B33F0B504-EDEB-42EE-A8C5-7EF394F65D3A%7D#',\n",
       " 'https://www.amsterdam.nl/wonen-leefomgeving/duurzaam-amsterdam/duurzaamontwikkelen/',\n",
       " 'https://www.amsterdam.nl/',\n",
       " 'https://data.amsterdam.nl/artikelen/artikel/over-onderzoek-informatie-en-statistiek/8cf61560-0f90-4b81-84bf-900a6755159d/',\n",
       " 'https://www.amsterdam.nl/',\n",
       " 'https://www.amsterdam.nl/veelgevraagd/?productid=%7B87FAD1C9-60E9-4CEA-B9AE-6D5594A0E841%7D#case_%7B63E55F58-F93C-4A68-BEAA-896C8F8FBBB1%7D)',\n",
       " 'https://www.rijksoverheid.nl/regering/bewindspersonen/alexandra-van-huffelen/documenten/kamerstukken/2021/01/18/kamerbrief-over-hersteloperatie-kinderopvangtoeslag-t.b.v.-debat-19-januari',\n",
       " 'https://www.amsterdam.nl/werk-inkomen/pak-je-kans/hulp-geldproblemen/hulp-gedupeerden-toeslagenaffaire/',\n",
       " 'https://amsterdam.raadsinformatie.nl/document/10508452/1/Raadsbrief%20gemeenteraad%20reflectiefase.',\n",
       " 'https://www.amsterdam.nl/wonen-leefomgeving/duurzaam-amsterdam/windmolens-amsterdam/reflectiefase/',\n",
       " 'https://www.amsterdam.nl/wonen-leefomgeving/duurzaam-amsterdam/windmolens-amsterdam/klankbordgroepen-windmolens-amsterdam/',\n",
       " 'https://www.amsterdam.nl/wonen-leefomgeving/wonen/funderingsloket/).',\n",
       " 'https://www.amsterdam.nl/projecten/marnixplein/)',\n",
       " 'https://www.amsterdam.nl/digitaalparkeren.',\n",
       " 'https://www.amsterdam.nl/osdorpplein.',\n",
       " 'https://www.amsterdam.nl/bestuur-organisatie/college/wethouder/marieke-doorninck/',\n",
       " 'https://www.amsterdam.nl/donkeredagentips',\n",
       " 'https://www.amsterdam.nl/publish/pages/944823/openbaar_bijlage_brief_update_aeb_commissie_f',\n",
       " 'https://www.amsterdam.nl/publish/pages/913893/1155_19_schriftelijke_vragen_boutkan_geluidsove',\n",
       " 'https://www.amsterdam.nl/jijstaatnietalleen/maatregelen/)',\n",
       " 'https://www.amsterdam.nl/wonen-leefomgeving/duurzaam-amsterdam/aan-de-slag-met-zonne-energie/?vkurl=zon',\n",
       " 'https://www.amsterdam.nl/sociaaldomein/onderwijs-leerplicht/mbo-agenda/',\n",
       " 'https://www.amsterdam.nl/wonen-leefomgeving/zelfbouw/wooncooperatie/kaartenbak-wooncooperaties/',\n",
       " 'https://amsterdam.raadsinformatie.nl/document/11344121/1/09012f978062c524',\n",
       " 'https://www.amsterdam.nl/basisregistratiepersonen.',\n",
       " 'https://www.amsterdam.nl/bestuur-organisatie/organisaties/organisaties/integriteit/?vkurl=integriteit',\n",
       " 'https://www.amsterdam.nl/publish/pages/901801/127_19_schriftelijke_vragen_poot_bericht_dat_opnieuw_een_c',\n",
       " 'https://www.amsterdam.nl/verkeer-vervoer/milieuzone-amsterdam/?vkurl=milieuzone',\n",
       " 'https://www.amsterdam.nl/wonen-leefomgeving/veiligheid/overlastgebieden/agressie-geweld/',\n",
       " 'https://www.amsterdam.nl/bestuur-organisatie/college/wethouder/marieke-doorninck/persberichten/zonnepanelen-18/',\n",
       " 'https://www.pbl.nl/publicaties/eindadvies-basisbedragen-sde-plus-plus-2021',\n",
       " 'https://www.amsterdam.nl/zon.',\n",
       " 'https://www.amsterdam.nl/zorg-ondersteuning/ondersteuning/vluchtelingen/24-uursopvang-ongedocumenteerden/',\n",
       " 'https://www.amsterdam.nl/wonen-leefomgeving/veiligheid/cameratoezicht/bekendmakingen-cameratoezicht/',\n",
       " 'https://www.amsterdam.nl/w99',\n",
       " 'https://www.amsterdam.nl/parkeren-verkeer/amsterdam-elektrisch/openbaar-oplaadpunt/',\n",
       " 'https://www.amsterdam.nl/bestuur-organisatie/college/wethouder/marieke-doorninck/persberichten/bijna-twee-derde-amsterdammers-positief/',\n",
       " 'https://data.amsterdam.nl/artikelen/artikel/Ruime-meerderheid-is-positief-over-extra-windmolens/cc316f8e-eddb-4d71-8f89-294f45fd6202/',\n",
       " 'https://www.amsterdam.nl/subsidies/subsidies-onderwerp/subsidies-ondernemen/',\n",
       " 'https://www.amsterdam.nl/projecten/arenapoort',\n",
       " 'https://www.amsterdam.nl/veelgevraagd/?productid=%7B0497C2EC-D574-42FC-BB56-140DD7641EC5%7D',\n",
       " 'https://www.iamsterdam.com/film.',\n",
       " 'https://www.amsterdam.nl/sociaaldomein/zorgprofessionals/huiselijk-geweld-en/adviseurs-sociale-basis-(preventie-hgkm)/',\n",
       " 'https://www.knmg.nl/advies-richtlijnen/dossiers/kindermishandeling-en-huiselijk-geweld-5',\n",
       " 'https://www.amsterdam.nl/nrga/',\n",
       " 'https://www.amsterdam.nl/bekendmakingen.',\n",
       " 'https://www.amsterdam.nl/nieuws/nieuwsoverzicht/coronavirus/noodverordening-14-oktober/',\n",
       " 'https://www.amsterdam.nl/wonen-leefomgeving/melding-openbare-ruimte-en-overlast/overlast-van-boten-melden/',\n",
       " 'https://www.portofamsterdam.com/nl/contact/klachten',\n",
       " 'https://www.amsterdam.nl/zorg-ondersteuning/ondersteuning/dak-of-thuisloos/?vkurl=dakloos',\n",
       " 'https://www.amsterdam.nl/nieuws/nieuwsoverzicht/dak-en-thuislozen.',\n",
       " 'https://www.amsterdam.nl/gemeente/organisatie/ruimte-economie/economie/amsterdams/samenwerking/nadeelcompensatie/']"
      ]
     },
     "execution_count": 92,
     "metadata": {},
     "output_type": "execute_result"
    }
   ],
   "source": [
    "updated_urls[:]"
   ]
  },
  {
   "cell_type": "code",
   "execution_count": 97,
   "metadata": {},
   "outputs": [],
   "source": [
    "with open ('updated_urls.pickle', 'wb') as f:\n",
    "    pickle.dump(updated_urls, f)"
   ]
  }
 ],
 "metadata": {
  "kernelspec": {
   "display_name": "base",
   "language": "python",
   "name": "python3"
  },
  "language_info": {
   "codemirror_mode": {
    "name": "ipython",
    "version": 3
   },
   "file_extension": ".py",
   "mimetype": "text/x-python",
   "name": "python",
   "nbconvert_exporter": "python",
   "pygments_lexer": "ipython3",
   "version": "3.8.5"
  },
  "orig_nbformat": 4,
  "vscode": {
   "interpreter": {
    "hash": "ea4c3bcc219a1292b0d1d9543a9b9f82ed18a35340190a3cbd50b3110bbb4e55"
   }
  }
 },
 "nbformat": 4,
 "nbformat_minor": 2
}
