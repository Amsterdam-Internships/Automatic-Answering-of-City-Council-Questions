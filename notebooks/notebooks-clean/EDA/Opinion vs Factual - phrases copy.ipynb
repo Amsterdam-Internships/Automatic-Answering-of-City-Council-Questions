{
 "cells": [
  {
   "cell_type": "code",
   "execution_count": 1,
   "metadata": {},
   "outputs": [],
   "source": [
    "import pandas as pd\n",
    "from matplotlib import pyplot as plt\n",
    "import os\n",
    "import nltk\n",
    "from nltk.tokenize import WordPunctTokenizer\n",
    "from nltk.stem import *\n",
    "from nltk.corpus import stopwords\n",
    "from nltk.tokenize import word_tokenize\n",
    "import numpy as np\n",
    "from collections import Counter\n",
    "import seaborn as sns\n",
    "import string\n",
    "from nltk.util import ngrams\n",
    "from sklearn.feature_extraction.text import CountVectorizer\n",
    "import gensim\n",
    "import math\n",
    "import matplotlib.colors as mcolors\n",
    "import matplotlib.pyplot as plt\n",
    "from wordcloud import WordCloud, STOPWORDS"
   ]
  },
  {
   "cell_type": "code",
   "execution_count": 2,
   "metadata": {},
   "outputs": [],
   "source": [
    "df_all = pd.read_csv('/Users/natalipeeva/Documents/GitHub/Automatic-Answering-of-City-Council-Questions/data/generation_results/tfidf_results_min50_max400_len - tfidf_results_min50_max400_len.csv')"
   ]
  },
  {
   "cell_type": "code",
   "execution_count": 3,
   "metadata": {},
   "outputs": [
    {
     "data": {
      "text/html": [
       "<div>\n",
       "<style scoped>\n",
       "    .dataframe tbody tr th:only-of-type {\n",
       "        vertical-align: middle;\n",
       "    }\n",
       "\n",
       "    .dataframe tbody tr th {\n",
       "        vertical-align: top;\n",
       "    }\n",
       "\n",
       "    .dataframe thead th {\n",
       "        text-align: right;\n",
       "    }\n",
       "</style>\n",
       "<table border=\"1\" class=\"dataframe\">\n",
       "  <thead>\n",
       "    <tr style=\"text-align: right;\">\n",
       "      <th></th>\n",
       "      <th>Unnamed: 0</th>\n",
       "      <th>input</th>\n",
       "      <th>generated_answer</th>\n",
       "      <th>target_answer</th>\n",
       "    </tr>\n",
       "  </thead>\n",
       "  <tbody>\n",
       "    <tr>\n",
       "      <th>0</th>\n",
       "      <td>0</td>\n",
       "      <td>\\n7.\\nKan het college de reeds bestaande zwemp...</td>\n",
       "      <td>[{'generated_text': 'Het college heeft de reed...</td>\n",
       "      <td>\\nVoor het vinden van de officiële zwemplekken...</td>\n",
       "    </tr>\n",
       "    <tr>\n",
       "      <th>1</th>\n",
       "      <td>1</td>\n",
       "      <td>\\n \\n3. Huisartsen geven aan meer informatie n...</td>\n",
       "      <td>[{'generated_text': 'Het college heeft zich be...</td>\n",
       "      <td>\\nDe uitvoerder van de regeling, het CAK, lij...</td>\n",
       "    </tr>\n",
       "    <tr>\n",
       "      <th>2</th>\n",
       "      <td>2</td>\n",
       "      <td>\\n \\n8. Weten ongedocumenteerden de weg naar m...</td>\n",
       "      <td>[{'generated_text': 'Het college heeft zich ve...</td>\n",
       "      <td>\\nDe Kruispost wordt goed bezocht, maar het c...</td>\n",
       "    </tr>\n",
       "    <tr>\n",
       "      <th>3</th>\n",
       "      <td>3</td>\n",
       "      <td>\\n \\n4. Is het college tot nu toe tevreden met...</td>\n",
       "      <td>[{'generated_text': 'Het college heeft zich ni...</td>\n",
       "      <td>\\nJa, met de beschikbare middelen is de uitvo...</td>\n",
       "    </tr>\n",
       "    <tr>\n",
       "      <th>4</th>\n",
       "      <td>4</td>\n",
       "      <td>\\n \\n1. \\nKan aan de werkinstructie worden toe...</td>\n",
       "      <td>[{'generated_text': 'Het college heeft zich ni...</td>\n",
       "      <td>...</td>\n",
       "    </tr>\n",
       "  </tbody>\n",
       "</table>\n",
       "</div>"
      ],
      "text/plain": [
       "   Unnamed: 0                                              input  \\\n",
       "0           0  \\n7.\\nKan het college de reeds bestaande zwemp...   \n",
       "1           1  \\n \\n3. Huisartsen geven aan meer informatie n...   \n",
       "2           2  \\n \\n8. Weten ongedocumenteerden de weg naar m...   \n",
       "3           3  \\n \\n4. Is het college tot nu toe tevreden met...   \n",
       "4           4  \\n \\n1. \\nKan aan de werkinstructie worden toe...   \n",
       "\n",
       "                                    generated_answer  \\\n",
       "0  [{'generated_text': 'Het college heeft de reed...   \n",
       "1  [{'generated_text': 'Het college heeft zich be...   \n",
       "2  [{'generated_text': 'Het college heeft zich ve...   \n",
       "3  [{'generated_text': 'Het college heeft zich ni...   \n",
       "4  [{'generated_text': 'Het college heeft zich ni...   \n",
       "\n",
       "                                       target_answer  \n",
       "0  \\nVoor het vinden van de officiële zwemplekken...  \n",
       "1   \\nDe uitvoerder van de regeling, het CAK, lij...  \n",
       "2   \\nDe Kruispost wordt goed bezocht, maar het c...  \n",
       "3   \\nJa, met de beschikbare middelen is de uitvo...  \n",
       "4                                                ...  "
      ]
     },
     "execution_count": 3,
     "metadata": {},
     "output_type": "execute_result"
    }
   ],
   "source": [
    "df_all.head()"
   ]
  },
  {
   "cell_type": "markdown",
   "metadata": {},
   "source": [
    "### Question types\n",
    "- **Factual**\n",
    "- with links \n",
    "- without links\n",
    "\n",
    "\n",
    "- **Opinion-seeking**\n",
    "- with links \n",
    "- without links"
   ]
  },
  {
   "cell_type": "markdown",
   "metadata": {},
   "source": [
    "#### Ideas:\n",
    "- Unsupervised Learning, where first some words are provided - relevant to each class\n",
    "https://towardsdatascience.com/unsupervised-text-classification-with-lbl2vec-6c5e040354de ;\n",
    "https://github.com/sebischair/Lbl2Vec"
   ]
  },
  {
   "cell_type": "markdown",
   "metadata": {},
   "source": [
    "**Frequent structures within factual questions**"
   ]
  },
  {
   "cell_type": "code",
   "execution_count": 4,
   "metadata": {},
   "outputs": [],
   "source": [
    "import nltk"
   ]
  },
  {
   "cell_type": "code",
   "execution_count": 5,
   "metadata": {},
   "outputs": [],
   "source": [
    "import nltk\n",
    "\n",
    "sentence = \"The quick brown fox jumps over the lazy dog. The lazy dog is not impressed.\"\n",
    "\n",
    "def detect_ngarms_beginning(sentence, n):\n",
    "    tokens = nltk.word_tokenize(str(sentence))\n",
    "\n",
    "    #n = 3 # trigrams\n",
    "    ngrams = list(nltk.ngrams(tokens, n))\n",
    "\n",
    "    beginning_ngrams = []\n",
    "    for gram in ngrams:\n",
    "        if gram[0][0].isupper():\n",
    "            beginning_ngrams.append(gram)\n",
    "    #single_list = [item for sublist in beginning_ngrams for item in sublist]\n",
    "    #freq_dist = nltk.FreqDist(beginning_ngrams)\n",
    "    #top_ngrams = freq_dist.most_common(5)\n",
    "\n",
    "    return beginning_ngrams\n"
   ]
  },
  {
   "cell_type": "code",
   "execution_count": 6,
   "metadata": {},
   "outputs": [
    {
     "data": {
      "text/plain": [
       "[('The', 'quick', 'brown'), ('The', 'lazy', 'dog')]"
      ]
     },
     "execution_count": 6,
     "metadata": {},
     "output_type": "execute_result"
    }
   ],
   "source": [
    "detect_ngarms_beginning(sentence,3)"
   ]
  },
  {
   "cell_type": "code",
   "execution_count": 7,
   "metadata": {},
   "outputs": [],
   "source": [
    "questions = df_all['input']"
   ]
  },
  {
   "cell_type": "code",
   "execution_count": 8,
   "metadata": {},
   "outputs": [],
   "source": [
    "answers = df_all['generated_answer']"
   ]
  },
  {
   "cell_type": "code",
   "execution_count": null,
   "metadata": {},
   "outputs": [],
   "source": []
  },
  {
   "cell_type": "code",
   "execution_count": 9,
   "metadata": {},
   "outputs": [],
   "source": [
    "q_ngrams = []\n",
    "q_3grams = []\n",
    "for q in questions: \n",
    "    q_ngrams.append(detect_ngarms_beginning(q, 3))\n",
    "    q_3grams.append(detect_ngarms_beginning(q, 3))"
   ]
  },
  {
   "cell_type": "code",
   "execution_count": 10,
   "metadata": {},
   "outputs": [],
   "source": [
    "q_4grams = []\n",
    "for q in questions: \n",
    "    q_ngrams.append(detect_ngarms_beginning(q, 4))\n",
    "    q_4grams.append(detect_ngarms_beginning(q, 4))"
   ]
  },
  {
   "cell_type": "code",
   "execution_count": 11,
   "metadata": {},
   "outputs": [],
   "source": [
    "q_5grams = []\n",
    "for q in questions: \n",
    "    q_ngrams.append(detect_ngarms_beginning(q, 5))\n",
    "    q_5grams.append(detect_ngarms_beginning(q, 5))"
   ]
  },
  {
   "cell_type": "code",
   "execution_count": 12,
   "metadata": {},
   "outputs": [],
   "source": [
    "q_6grams = []\n",
    "for q in questions: \n",
    "    q_ngrams.append(detect_ngarms_beginning(q, 6))\n",
    "    q_6grams.append(detect_ngarms_beginning(q, 6))"
   ]
  },
  {
   "cell_type": "code",
   "execution_count": 13,
   "metadata": {},
   "outputs": [],
   "source": [
    "q_7grams = []\n",
    "for q in questions: \n",
    "    q_ngrams.append(detect_ngarms_beginning(q, 7))\n",
    "    q_7grams.append(detect_ngarms_beginning(q, 7))"
   ]
  },
  {
   "cell_type": "markdown",
   "metadata": {},
   "source": [
    "### All ngrams - Questions"
   ]
  },
  {
   "cell_type": "code",
   "execution_count": 14,
   "metadata": {},
   "outputs": [
    {
     "data": {
      "text/plain": [
       "[(('B', 'en', 'W'), 148),\n",
       " (('Deel', 'deze', 'pagina'), 140),\n",
       " (('Mijn', 'Amsterdam', 'English'), 131),\n",
       " (('Amsterdam', 'English', 'site'), 131),\n",
       " (('English', 'site', 'Menuzoeken'), 131),\n",
       " (('Menuzoeken', 'Onderwerpen', 'Nieuws'), 131),\n",
       " (('Onderwerpen', 'Nieuws', 'Contact'), 131),\n",
       " (('Nieuws', 'Contact', 'Zoeken'), 131),\n",
       " (('Contact', 'Zoeken', 'in'), 131),\n",
       " (('Zoeken', 'in', 'Amsterdam.nl'), 131),\n",
       " (('Amsterdam.nl', 'Zoek', 'Zoek'), 131),\n",
       " (('Pad', 'tot', 'huidige'), 131),\n",
       " (('Mijn', 'Amsterdam', 'English', 'site'), 131),\n",
       " (('Amsterdam', 'English', 'site', 'Menuzoeken'), 131),\n",
       " (('English', 'site', 'Menuzoeken', 'Onderwerpen'), 131),\n",
       " (('Menuzoeken', 'Onderwerpen', 'Nieuws', 'Contact'), 131),\n",
       " (('Onderwerpen', 'Nieuws', 'Contact', 'Zoeken'), 131),\n",
       " (('Nieuws', 'Contact', 'Zoeken', 'in'), 131),\n",
       " (('Contact', 'Zoeken', 'in', 'Amsterdam.nl'), 131),\n",
       " (('Zoeken', 'in', 'Amsterdam.nl', 'Zoek'), 131),\n",
       " (('Pad', 'tot', 'huidige', 'pagina'), 131),\n",
       " (('Mijn', 'Amsterdam', 'English', 'site', 'Menuzoeken'), 131),\n",
       " (('Amsterdam', 'English', 'site', 'Menuzoeken', 'Onderwerpen'), 131),\n",
       " (('English', 'site', 'Menuzoeken', 'Onderwerpen', 'Nieuws'), 131),\n",
       " (('Menuzoeken', 'Onderwerpen', 'Nieuws', 'Contact', 'Zoeken'), 131),\n",
       " (('Onderwerpen', 'Nieuws', 'Contact', 'Zoeken', 'in'), 131),\n",
       " (('Nieuws', 'Contact', 'Zoeken', 'in', 'Amsterdam.nl'), 131),\n",
       " (('Contact', 'Zoeken', 'in', 'Amsterdam.nl', 'Zoek'), 131),\n",
       " (('Zoeken', 'in', 'Amsterdam.nl', 'Zoek', 'Zoek'), 131),\n",
       " (('Pad', 'tot', 'huidige', 'pagina', 'Home'), 131),\n",
       " (('Mijn', 'Amsterdam', 'English', 'site', 'Menuzoeken', 'Onderwerpen'), 131),\n",
       " (('Amsterdam', 'English', 'site', 'Menuzoeken', 'Onderwerpen', 'Nieuws'),\n",
       "  131),\n",
       " (('English', 'site', 'Menuzoeken', 'Onderwerpen', 'Nieuws', 'Contact'), 131),\n",
       " (('Menuzoeken', 'Onderwerpen', 'Nieuws', 'Contact', 'Zoeken', 'in'), 131),\n",
       " (('Onderwerpen', 'Nieuws', 'Contact', 'Zoeken', 'in', 'Amsterdam.nl'), 131),\n",
       " (('Nieuws', 'Contact', 'Zoeken', 'in', 'Amsterdam.nl', 'Zoek'), 131),\n",
       " (('Contact', 'Zoeken', 'in', 'Amsterdam.nl', 'Zoek', 'Zoek'), 131),\n",
       " (('Mijn',\n",
       "   'Amsterdam',\n",
       "   'English',\n",
       "   'site',\n",
       "   'Menuzoeken',\n",
       "   'Onderwerpen',\n",
       "   'Nieuws'),\n",
       "  131),\n",
       " (('Amsterdam',\n",
       "   'English',\n",
       "   'site',\n",
       "   'Menuzoeken',\n",
       "   'Onderwerpen',\n",
       "   'Nieuws',\n",
       "   'Contact'),\n",
       "  131),\n",
       " (('English',\n",
       "   'site',\n",
       "   'Menuzoeken',\n",
       "   'Onderwerpen',\n",
       "   'Nieuws',\n",
       "   'Contact',\n",
       "   'Zoeken'),\n",
       "  131),\n",
       " (('Menuzoeken',\n",
       "   'Onderwerpen',\n",
       "   'Nieuws',\n",
       "   'Contact',\n",
       "   'Zoeken',\n",
       "   'in',\n",
       "   'Amsterdam.nl'),\n",
       "  131),\n",
       " (('Onderwerpen', 'Nieuws', 'Contact', 'Zoeken', 'in', 'Amsterdam.nl', 'Zoek'),\n",
       "  131),\n",
       " (('Nieuws', 'Contact', 'Zoeken', 'in', 'Amsterdam.nl', 'Zoek', 'Zoek'), 131),\n",
       " (('Gemeente', 'Amsterdam', 'Direct'), 129),\n",
       " (('Amsterdam', 'Direct', 'naar'), 129)]"
      ]
     },
     "execution_count": 14,
     "metadata": {},
     "output_type": "execute_result"
    }
   ],
   "source": [
    "single_list = [item for sublist in q_ngrams for item in sublist]\n",
    "freq_dist = nltk.FreqDist(single_list)\n",
    "top_ngrams = freq_dist.most_common(45)\n",
    "top_ngrams"
   ]
  },
  {
   "cell_type": "markdown",
   "metadata": {},
   "source": [
    "#### 3-grams:"
   ]
  },
  {
   "cell_type": "code",
   "execution_count": 15,
   "metadata": {},
   "outputs": [
    {
     "data": {
      "text/plain": [
       "[(('B', 'en', 'W'), 148),\n",
       " (('Deel', 'deze', 'pagina'), 140),\n",
       " (('Mijn', 'Amsterdam', 'English'), 131),\n",
       " (('Amsterdam', 'English', 'site'), 131),\n",
       " (('English', 'site', 'Menuzoeken'), 131),\n",
       " (('Menuzoeken', 'Onderwerpen', 'Nieuws'), 131),\n",
       " (('Onderwerpen', 'Nieuws', 'Contact'), 131),\n",
       " (('Nieuws', 'Contact', 'Zoeken'), 131),\n",
       " (('Contact', 'Zoeken', 'in'), 131),\n",
       " (('Zoeken', 'in', 'Amsterdam.nl'), 131),\n",
       " (('Amsterdam.nl', 'Zoek', 'Zoek'), 131),\n",
       " (('Pad', 'tot', 'huidige'), 131),\n",
       " (('Gemeente', 'Amsterdam', 'Direct'), 129),\n",
       " (('Amsterdam', 'Direct', 'naar'), 129),\n",
       " (('Direct', 'naar', 'inhoud'), 129),\n",
       " (('Zoek', 'Zoek', 'Verbergen'), 129),\n",
       " (('Zoek', 'Verbergen', 'Deze'), 129),\n",
       " (('Verbergen', 'Deze', 'browser'), 129),\n",
       " (('Deze', 'browser', 'wordt'), 129),\n",
       " (('Gebruik', 'een', 'recente'), 129)]"
      ]
     },
     "execution_count": 15,
     "metadata": {},
     "output_type": "execute_result"
    }
   ],
   "source": [
    "single_list = [item for sublist in q_3grams for item in sublist]\n",
    "freq_dist = nltk.FreqDist(single_list)\n",
    "freq_dist.most_common(20)"
   ]
  },
  {
   "cell_type": "markdown",
   "metadata": {},
   "source": [
    "#### 4-grams:"
   ]
  },
  {
   "cell_type": "code",
   "execution_count": 16,
   "metadata": {},
   "outputs": [
    {
     "data": {
      "text/plain": [
       "[(('Mijn', 'Amsterdam', 'English', 'site'), 131),\n",
       " (('Amsterdam', 'English', 'site', 'Menuzoeken'), 131),\n",
       " (('English', 'site', 'Menuzoeken', 'Onderwerpen'), 131),\n",
       " (('Menuzoeken', 'Onderwerpen', 'Nieuws', 'Contact'), 131),\n",
       " (('Onderwerpen', 'Nieuws', 'Contact', 'Zoeken'), 131),\n",
       " (('Nieuws', 'Contact', 'Zoeken', 'in'), 131),\n",
       " (('Contact', 'Zoeken', 'in', 'Amsterdam.nl'), 131),\n",
       " (('Zoeken', 'in', 'Amsterdam.nl', 'Zoek'), 131),\n",
       " (('Pad', 'tot', 'huidige', 'pagina'), 131),\n",
       " (('Gemeente', 'Amsterdam', 'Direct', 'naar'), 129),\n",
       " (('Amsterdam', 'Direct', 'naar', 'inhoud'), 129),\n",
       " (('Direct', 'naar', 'inhoud', 'GemeenteAmsterdam'), 129),\n",
       " (('Amsterdam.nl', 'Zoek', 'Zoek', 'Verbergen'), 129),\n",
       " (('Zoek', 'Zoek', 'Verbergen', 'Deze'), 129),\n",
       " (('Zoek', 'Verbergen', 'Deze', 'browser'), 129),\n",
       " (('Verbergen', 'Deze', 'browser', 'wordt'), 129),\n",
       " (('Deze', 'browser', 'wordt', 'niet'), 129),\n",
       " (('Gebruik', 'een', 'recente', 'versie'), 129),\n",
       " (('Edge', ',', 'Chrome', 'of'), 129),\n",
       " (('Chrome', 'of', 'Firefox', '.'), 129)]"
      ]
     },
     "execution_count": 16,
     "metadata": {},
     "output_type": "execute_result"
    }
   ],
   "source": [
    "single_list = [item for sublist in q_4grams for item in sublist]\n",
    "freq_dist = nltk.FreqDist(single_list)\n",
    "freq_dist.most_common(20)"
   ]
  },
  {
   "cell_type": "markdown",
   "metadata": {},
   "source": [
    "#### 5-grams"
   ]
  },
  {
   "cell_type": "code",
   "execution_count": 17,
   "metadata": {},
   "outputs": [
    {
     "data": {
      "text/plain": [
       "[(('Mijn', 'Amsterdam', 'English', 'site', 'Menuzoeken'), 131),\n",
       " (('Amsterdam', 'English', 'site', 'Menuzoeken', 'Onderwerpen'), 131),\n",
       " (('English', 'site', 'Menuzoeken', 'Onderwerpen', 'Nieuws'), 131),\n",
       " (('Menuzoeken', 'Onderwerpen', 'Nieuws', 'Contact', 'Zoeken'), 131),\n",
       " (('Onderwerpen', 'Nieuws', 'Contact', 'Zoeken', 'in'), 131),\n",
       " (('Nieuws', 'Contact', 'Zoeken', 'in', 'Amsterdam.nl'), 131),\n",
       " (('Contact', 'Zoeken', 'in', 'Amsterdam.nl', 'Zoek'), 131),\n",
       " (('Zoeken', 'in', 'Amsterdam.nl', 'Zoek', 'Zoek'), 131),\n",
       " (('Pad', 'tot', 'huidige', 'pagina', 'Home'), 131),\n",
       " (('Gemeente', 'Amsterdam', 'Direct', 'naar', 'inhoud'), 129),\n",
       " (('Amsterdam', 'Direct', 'naar', 'inhoud', 'GemeenteAmsterdam'), 129),\n",
       " (('Amsterdam.nl', 'Zoek', 'Zoek', 'Verbergen', 'Deze'), 129),\n",
       " (('Zoek', 'Zoek', 'Verbergen', 'Deze', 'browser'), 129),\n",
       " (('Zoek', 'Verbergen', 'Deze', 'browser', 'wordt'), 129),\n",
       " (('Verbergen', 'Deze', 'browser', 'wordt', 'niet'), 129),\n",
       " (('Deze', 'browser', 'wordt', 'niet', 'meer'), 129),\n",
       " (('Gebruik', 'een', 'recente', 'versie', 'van'), 129),\n",
       " (('Edge', ',', 'Chrome', 'of', 'Firefox'), 129),\n",
       " (('Chrome', 'of', 'Firefox', '.', 'Pad'), 129),\n",
       " (('Firefox', '.', 'Pad', 'tot', 'huidige'), 129)]"
      ]
     },
     "execution_count": 17,
     "metadata": {},
     "output_type": "execute_result"
    }
   ],
   "source": [
    "single_list = [item for sublist in q_5grams for item in sublist]\n",
    "freq_dist = nltk.FreqDist(single_list)\n",
    "freq_dist.most_common(20)"
   ]
  },
  {
   "cell_type": "markdown",
   "metadata": {},
   "source": [
    "#### 6-grams"
   ]
  },
  {
   "cell_type": "code",
   "execution_count": 18,
   "metadata": {},
   "outputs": [
    {
     "data": {
      "text/plain": [
       "[(('Mijn', 'Amsterdam', 'English', 'site', 'Menuzoeken', 'Onderwerpen'), 131),\n",
       " (('Amsterdam', 'English', 'site', 'Menuzoeken', 'Onderwerpen', 'Nieuws'),\n",
       "  131),\n",
       " (('English', 'site', 'Menuzoeken', 'Onderwerpen', 'Nieuws', 'Contact'), 131),\n",
       " (('Menuzoeken', 'Onderwerpen', 'Nieuws', 'Contact', 'Zoeken', 'in'), 131),\n",
       " (('Onderwerpen', 'Nieuws', 'Contact', 'Zoeken', 'in', 'Amsterdam.nl'), 131),\n",
       " (('Nieuws', 'Contact', 'Zoeken', 'in', 'Amsterdam.nl', 'Zoek'), 131),\n",
       " (('Contact', 'Zoeken', 'in', 'Amsterdam.nl', 'Zoek', 'Zoek'), 131),\n",
       " (('Gemeente', 'Amsterdam', 'Direct', 'naar', 'inhoud', 'GemeenteAmsterdam'),\n",
       "  129),\n",
       " (('Zoeken', 'in', 'Amsterdam.nl', 'Zoek', 'Zoek', 'Verbergen'), 129),\n",
       " (('Amsterdam.nl', 'Zoek', 'Zoek', 'Verbergen', 'Deze', 'browser'), 129),\n",
       " (('Zoek', 'Zoek', 'Verbergen', 'Deze', 'browser', 'wordt'), 129),\n",
       " (('Zoek', 'Verbergen', 'Deze', 'browser', 'wordt', 'niet'), 129),\n",
       " (('Verbergen', 'Deze', 'browser', 'wordt', 'niet', 'meer'), 129),\n",
       " (('Deze', 'browser', 'wordt', 'niet', 'meer', 'ondersteund'), 129),\n",
       " (('Gebruik', 'een', 'recente', 'versie', 'van', 'Edge'), 129),\n",
       " (('Edge', ',', 'Chrome', 'of', 'Firefox', '.'), 129),\n",
       " (('Chrome', 'of', 'Firefox', '.', 'Pad', 'tot'), 129),\n",
       " (('Firefox', '.', 'Pad', 'tot', 'huidige', 'pagina'), 129),\n",
       " (('Amsterdam', 'Direct', 'naar', 'inhoud', 'GemeenteAmsterdam', 'AAA'), 109),\n",
       " (('Direct', 'naar', 'inhoud', 'GemeenteAmsterdam', 'AAA', 'Mijn'), 109)]"
      ]
     },
     "execution_count": 18,
     "metadata": {},
     "output_type": "execute_result"
    }
   ],
   "source": [
    "single_list = [item for sublist in q_6grams for item in sublist]\n",
    "freq_dist = nltk.FreqDist(single_list)\n",
    "freq_dist.most_common(20)"
   ]
  },
  {
   "cell_type": "markdown",
   "metadata": {},
   "source": [
    "#### 7-grams"
   ]
  },
  {
   "cell_type": "code",
   "execution_count": 19,
   "metadata": {},
   "outputs": [
    {
     "data": {
      "text/plain": [
       "[(('Mijn',\n",
       "   'Amsterdam',\n",
       "   'English',\n",
       "   'site',\n",
       "   'Menuzoeken',\n",
       "   'Onderwerpen',\n",
       "   'Nieuws'),\n",
       "  131),\n",
       " (('Amsterdam',\n",
       "   'English',\n",
       "   'site',\n",
       "   'Menuzoeken',\n",
       "   'Onderwerpen',\n",
       "   'Nieuws',\n",
       "   'Contact'),\n",
       "  131),\n",
       " (('English',\n",
       "   'site',\n",
       "   'Menuzoeken',\n",
       "   'Onderwerpen',\n",
       "   'Nieuws',\n",
       "   'Contact',\n",
       "   'Zoeken'),\n",
       "  131),\n",
       " (('Menuzoeken',\n",
       "   'Onderwerpen',\n",
       "   'Nieuws',\n",
       "   'Contact',\n",
       "   'Zoeken',\n",
       "   'in',\n",
       "   'Amsterdam.nl'),\n",
       "  131),\n",
       " (('Onderwerpen', 'Nieuws', 'Contact', 'Zoeken', 'in', 'Amsterdam.nl', 'Zoek'),\n",
       "  131),\n",
       " (('Nieuws', 'Contact', 'Zoeken', 'in', 'Amsterdam.nl', 'Zoek', 'Zoek'), 131),\n",
       " (('Contact', 'Zoeken', 'in', 'Amsterdam.nl', 'Zoek', 'Zoek', 'Verbergen'),\n",
       "  129),\n",
       " (('Zoeken', 'in', 'Amsterdam.nl', 'Zoek', 'Zoek', 'Verbergen', 'Deze'), 129),\n",
       " (('Amsterdam.nl', 'Zoek', 'Zoek', 'Verbergen', 'Deze', 'browser', 'wordt'),\n",
       "  129),\n",
       " (('Zoek', 'Zoek', 'Verbergen', 'Deze', 'browser', 'wordt', 'niet'), 129),\n",
       " (('Zoek', 'Verbergen', 'Deze', 'browser', 'wordt', 'niet', 'meer'), 129),\n",
       " (('Verbergen', 'Deze', 'browser', 'wordt', 'niet', 'meer', 'ondersteund'),\n",
       "  129),\n",
       " (('Deze', 'browser', 'wordt', 'niet', 'meer', 'ondersteund', '.'), 129),\n",
       " (('Gebruik', 'een', 'recente', 'versie', 'van', 'Edge', ','), 129),\n",
       " (('Edge', ',', 'Chrome', 'of', 'Firefox', '.', 'Pad'), 129),\n",
       " (('Chrome', 'of', 'Firefox', '.', 'Pad', 'tot', 'huidige'), 129),\n",
       " (('Firefox', '.', 'Pad', 'tot', 'huidige', 'pagina', 'Home'), 129),\n",
       " (('Gemeente',\n",
       "   'Amsterdam',\n",
       "   'Direct',\n",
       "   'naar',\n",
       "   'inhoud',\n",
       "   'GemeenteAmsterdam',\n",
       "   'AAA'),\n",
       "  109),\n",
       " (('Amsterdam',\n",
       "   'Direct',\n",
       "   'naar',\n",
       "   'inhoud',\n",
       "   'GemeenteAmsterdam',\n",
       "   'AAA',\n",
       "   'Mijn'),\n",
       "  109),\n",
       " (('Direct',\n",
       "   'naar',\n",
       "   'inhoud',\n",
       "   'GemeenteAmsterdam',\n",
       "   'AAA',\n",
       "   'Mijn',\n",
       "   'Amsterdam'),\n",
       "  109)]"
      ]
     },
     "execution_count": 19,
     "metadata": {},
     "output_type": "execute_result"
    }
   ],
   "source": [
    "single_list = [item for sublist in q_7grams for item in sublist]\n",
    "freq_dist = nltk.FreqDist(single_list)\n",
    "freq_dist.most_common(20)"
   ]
  },
  {
   "cell_type": "markdown",
   "metadata": {},
   "source": [
    "### All ngrams - Answers"
   ]
  },
  {
   "cell_type": "code",
   "execution_count": 20,
   "metadata": {},
   "outputs": [
    {
     "name": "stdout",
     "output_type": "stream",
     "text": [
      "/Users/natalipeeva/Documents/GitHub/Automatic-Answering-of-City-Council-Questions\n"
     ]
    }
   ],
   "source": [
    "%cd '/Users/natalipeeva/Documents/GitHub/Automatic-Answering-of-City-Council-Questions/'\n",
    "from src_clean.preprocessing.text_preprocessing import preprocess_text"
   ]
  },
  {
   "cell_type": "code",
   "execution_count": 21,
   "metadata": {},
   "outputs": [],
   "source": [
    "answers = df_all['generated_answer']"
   ]
  },
  {
   "cell_type": "code",
   "execution_count": null,
   "metadata": {},
   "outputs": [],
   "source": []
  },
  {
   "cell_type": "code",
   "execution_count": 31,
   "metadata": {},
   "outputs": [],
   "source": [
    "a_ngrams = []\n",
    "a_3grams = []\n",
    "a_4grams = []\n",
    "a_5grams = []\n",
    "a_6grams = []\n",
    "a_7grams = []\n",
    "\n",
    "for a in answers: \n",
    "    a_ngrams.append(detect_ngarms_beginning(str(a), 3))\n",
    "    a_ngrams.append(detect_ngarms_beginning(str(a), 4))\n",
    "    a_ngrams.append(detect_ngarms_beginning(str(a), 5))\n",
    "    a_ngrams.append(detect_ngarms_beginning(str(a), 6))\n",
    "    a_ngrams.append(detect_ngarms_beginning(str(a), 7))\n",
    "    \n",
    "    a_3grams.append(detect_ngarms_beginning(str(a), 3))\n",
    "    a_4grams.append(detect_ngarms_beginning(str(a), 4))\n",
    "    a_5grams.append(detect_ngarms_beginning(str(a), 5))\n",
    "    a_6grams.append(detect_ngarms_beginning(str(a), 6))\n",
    "    a_7grams.append(detect_ngarms_beginning(str(a), 7))\n",
    "    "
   ]
  },
  {
   "cell_type": "code",
   "execution_count": 32,
   "metadata": {},
   "outputs": [
    {
     "data": {
      "text/plain": [
       "[(('Er', 'is', 'geen'), 35),\n",
       " (('Er', 'is', 'geen', 'sprake'), 31),\n",
       " (('Er', 'is', 'geen', 'sprake', 'van'), 31),\n",
       " (('Het', 'gaat', 'om'), 25),\n",
       " (('Op', 'dit', 'moment'), 22),\n",
       " (('Op', 'dit', 'moment', 'is'), 22),\n",
       " (('Ook', 'is', 'dit'), 21),\n",
       " (('Daarnaast', 'is', 'het'), 20),\n",
       " (('Ook', 'is', 'dit', 'niet'), 19),\n",
       " (('Dit', 'gebeurt', 'in'), 19),\n",
       " (('Hierbij', 'is', 'een'), 15),\n",
       " (('Het', 'gaat', 'om', 'de'), 15),\n",
       " (('In', 'de', 'periode'), 15),\n",
       " (('In', 'de', 'periode', 'van'), 15),\n",
       " (('Op', 'basis', 'van'), 14),\n",
       " (('Op', 'dit', 'moment', 'is', 'er'), 13),\n",
       " (('Deze', 'maatregelen', 'zijn'), 10),\n",
       " (('Daarnaast', 'is', 'er'), 10),\n",
       " (('Daarnaast', 'is', 'de'), 10),\n",
       " (('In', 'de', 'praktijk'), 9),\n",
       " (('Deze', 'maatregelen', 'zijn', 'gericht'), 9),\n",
       " (('In', 'de', 'praktijk', 'is'), 9),\n",
       " (('Deze', 'maatregelen', 'zijn', 'gericht', 'op'), 9),\n",
       " (('Er', 'is', 'geen', 'sprake', 'van', 'geen'), 9),\n",
       " (('Er', 'is', 'geen', 'sprake', 'van', 'aanleiding'), 9),\n",
       " (('Op', 'dit', 'moment', 'is', 'er', 'geen'), 9),\n",
       " (('Er', 'is', 'geen', 'sprake', 'van', 'aanleiding', 'van'), 9),\n",
       " (('Daarnaast', 'is', 'er', 'een'), 8),\n",
       " (('Dit', 'gebeurt', 'in', 'het'), 7),\n",
       " (('Op', 'basis', 'van', 'dat'), 7),\n",
       " (('Op', 'basis', 'van', 'dat', 'de'), 7),\n",
       " (('Ook', 'is', 'dit', 'niet', 'in'), 7),\n",
       " (('Dit', 'gebeurt', 'in', 'de'), 7),\n",
       " (('Daarnaast', 'is', 'het', 'college'), 7),\n",
       " (('Het', 'College', 'haalde'), 6),\n",
       " (('Amsterdam', 'moeten', 'worden'), 6),\n",
       " (('In', 'de', 'praktijk', 'is', 'het'), 6),\n",
       " (('De', 'maatregelen', 'zijn'), 6),\n",
       " (('De', 'gemeente', 'haalde'), 6),\n",
       " (('De', 'gemeente', 'haalde', 'de'), 6),\n",
       " (('De', 'vraag', 'is'), 6),\n",
       " (('Zoals', 'eerder', 'verwachting'), 6),\n",
       " (('Zoals', 'eerder', 'verwachting', 'is'), 6),\n",
       " (('Op', 'dit', 'moment', 'is', 'de'), 6),\n",
       " (('Deze', 'vragen', 'zijn'), 6)]"
      ]
     },
     "execution_count": 32,
     "metadata": {},
     "output_type": "execute_result"
    }
   ],
   "source": [
    "single_list = [item for sublist in a_ngrams for item in sublist]\n",
    "freq_dist = nltk.FreqDist(single_list)\n",
    "top_ngrams = freq_dist.most_common(45)\n",
    "top_ngrams"
   ]
  },
  {
   "cell_type": "code",
   "execution_count": 35,
   "metadata": {},
   "outputs": [
    {
     "name": "stderr",
     "output_type": "stream",
     "text": [
      "[nltk_data] Downloading package stopwords to\n",
      "[nltk_data]     /Users/natalipeeva/nltk_data...\n",
      "[nltk_data]   Package stopwords is already up-to-date!\n",
      "[nltk_data] Downloading package punkt to\n",
      "[nltk_data]     /Users/natalipeeva/nltk_data...\n",
      "[nltk_data]   Package punkt is already up-to-date!\n"
     ]
    },
    {
     "data": {
      "image/png": "[encoded data removed]",
      "text/plain": [
       "<Figure size 720x360 with 1 Axes>"
      ]
     },
     "metadata": {
      "needs_background": "light"
     },
     "output_type": "display_data"
    }
   ],
   "source": [
    "import nltk\n",
    "from nltk.corpus import stopwords\n",
    "from nltk.tokenize import word_tokenize\n",
    "from nltk.util import ngrams\n",
    "from collections import Counter\n",
    "import matplotlib.pyplot as plt\n",
    "from wordcloud import WordCloud\n",
    "\n",
    "\n",
    "nltk.download('stopwords')\n",
    "nltk.download('punkt')\n",
    "stop_words = set(stopwords.words('dutch'))\n",
    "\n",
    "preprocessed_texts = []\n",
    "for text in questions:\n",
    "    text = text.lower()  # Convert to lowercase\n",
    "    tokens = word_tokenize(text)  # Tokenization\n",
    "    tokens = [token for token in tokens if token.isalpha()]  # Remove non-alphabetic characters\n",
    "    tokens = [token for token in tokens if token not in stop_words]  # Remove stopwords\n",
    "    preprocessed_texts.extend(tokens)\n",
    "\n",
    "# Counting\n",
    "ngram_counts = Counter(ngrams(preprocessed_texts, n=1))  # Change n to desired n-gram length\n",
    "most_common_ngrams = ngram_counts.most_common(10)  # Get the top 10 most common n-grams\n",
    "\n",
    "# Convert tuples to strings\n",
    "most_common_ngrams = [(str(ngram), count) for ngram, count in most_common_ngrams]\n",
    "\n",
    "# Create word cloud\n",
    "wordcloud = WordCloud(width=800, height=400, background_color='white').generate_from_frequencies(dict(most_common_ngrams))\n",
    "\n",
    "# Display the word cloud\n",
    "plt.figure(figsize=(10, 5))\n",
    "plt.imshow(wordcloud, interpolation='bilinear')\n",
    "plt.axis('off')\n",
    "plt.show()\n"
   ]
  },
  {
   "cell_type": "code",
   "execution_count": 36,
   "metadata": {},
   "outputs": [
    {
     "data": {
      "image/png": "[encoded data removed]",
      "text/plain": [
       "<Figure size 720x432 with 1 Axes>"
      ]
     },
     "metadata": {
      "needs_background": "light"
     },
     "output_type": "display_data"
    }
   ],
   "source": [
    "import matplotlib.pyplot as plt\n",
    "\n",
    "# Extract the 5-grams and their frequencies\n",
    "top_10 = freq_dist.most_common(10)\n",
    "ngrams = [ngram for ngram, count in top_10]\n",
    "frequencies = [count for ngram, count in top_10]\n",
    "\n",
    "# Create the bar chart\n",
    "plt.figure(figsize=(10, 6))\n",
    "plt.barh(range(len(ngrams)), frequencies, color='steelblue')\n",
    "plt.yticks(range(len(ngrams)), [' '.join(ngram) for ngram in ngrams], fontsize=10)\n",
    "plt.xlabel('Frequency')\n",
    "plt.ylabel('5-gram')\n",
    "plt.title('Top 10 Most Common 5-grams')\n",
    "plt.tight_layout()\n",
    "plt.show()\n"
   ]
  },
  {
   "cell_type": "markdown",
   "metadata": {},
   "source": [
    "#### 3-grams"
   ]
  },
  {
   "cell_type": "code",
   "execution_count": 37,
   "metadata": {},
   "outputs": [
    {
     "data": {
      "text/plain": [
       "[(('Er', 'is', 'geen'), 35),\n",
       " (('Het', 'gaat', 'om'), 25),\n",
       " (('Op', 'dit', 'moment'), 22),\n",
       " (('Ook', 'is', 'dit'), 21),\n",
       " (('Daarnaast', 'is', 'het'), 20),\n",
       " (('Dit', 'gebeurt', 'in'), 19),\n",
       " (('Hierbij', 'is', 'een'), 15),\n",
       " (('In', 'de', 'periode'), 15),\n",
       " (('Op', 'basis', 'van'), 14),\n",
       " (('Deze', 'maatregelen', 'zijn'), 10)]"
      ]
     },
     "execution_count": 37,
     "metadata": {},
     "output_type": "execute_result"
    }
   ],
   "source": [
    "single_list = [item for sublist in a_3grams for item in sublist]\n",
    "freq_dist = nltk.FreqDist(single_list)\n",
    "freq_dist.most_common(10)"
   ]
  },
  {
   "cell_type": "code",
   "execution_count": 39,
   "metadata": {},
   "outputs": [
    {
     "data": {
      "text/plain": [
       "52"
      ]
     },
     "execution_count": 39,
     "metadata": {},
     "output_type": "execute_result"
    }
   ],
   "source": [
    "len(answers)"
   ]
  },
  {
   "cell_type": "code",
   "execution_count": 38,
   "metadata": {},
   "outputs": [
    {
     "data": {
      "image/png": "[encoded data removed]",
      "text/plain": [
       "<Figure size 720x432 with 1 Axes>"
      ]
     },
     "metadata": {
      "needs_background": "light"
     },
     "output_type": "display_data"
    }
   ],
   "source": [
    "import matplotlib.pyplot as plt\n",
    "\n",
    "# Extract the 5-grams and their frequencies\n",
    "top_10 = freq_dist.most_common(10)\n",
    "ngrams = [ngram for ngram, count in top_10]\n",
    "frequencies = [count for ngram, count in top_10]\n",
    "\n",
    "# Create the bar chart\n",
    "plt.figure(figsize=(10, 6))\n",
    "plt.barh(range(len(ngrams)), frequencies, color='steelblue')\n",
    "plt.yticks(range(len(ngrams)), [' '.join(ngram) for ngram in ngrams], fontsize=10)\n",
    "plt.xlabel('Frequency')\n",
    "plt.ylabel('5-gram')\n",
    "plt.title('Top 10 Most Common 5-grams')\n",
    "plt.tight_layout()\n",
    "plt.show()\n"
   ]
  },
  {
   "cell_type": "markdown",
   "metadata": {},
   "source": [
    "#### 4-grams"
   ]
  },
  {
   "cell_type": "code",
   "execution_count": 27,
   "metadata": {},
   "outputs": [
    {
     "data": {
      "text/plain": [
       "[]"
      ]
     },
     "execution_count": 27,
     "metadata": {},
     "output_type": "execute_result"
    }
   ],
   "source": [
    "single_list = [item for sublist in a_4grams for item in sublist]\n",
    "freq_dist = nltk.FreqDist(single_list)\n",
    "freq_dist.most_common(10)"
   ]
  },
  {
   "cell_type": "markdown",
   "metadata": {},
   "source": [
    "#### 5-grams"
   ]
  },
  {
   "cell_type": "code",
   "execution_count": 28,
   "metadata": {},
   "outputs": [
    {
     "data": {
      "text/plain": [
       "[]"
      ]
     },
     "execution_count": 28,
     "metadata": {},
     "output_type": "execute_result"
    }
   ],
   "source": [
    "single_list = [item for sublist in a_5grams for item in sublist]\n",
    "freq_dist = nltk.FreqDist(single_list)\n",
    "freq_dist.most_common(10)"
   ]
  },
  {
   "cell_type": "code",
   "execution_count": 29,
   "metadata": {},
   "outputs": [
    {
     "data": {
      "image/png": "[encoded data removed]",
      "text/plain": [
       "<Figure size 720x432 with 1 Axes>"
      ]
     },
     "metadata": {
      "needs_background": "light"
     },
     "output_type": "display_data"
    }
   ],
   "source": [
    "import matplotlib.pyplot as plt\n",
    "\n",
    "# Extract the 5-grams and their frequencies\n",
    "top_10 = freq_dist.most_common(10)\n",
    "ngrams = [ngram for ngram, count in top_10]\n",
    "frequencies = [count for ngram, count in top_10]\n",
    "\n",
    "# Create the bar chart\n",
    "plt.figure(figsize=(10, 6))\n",
    "plt.barh(range(len(ngrams)), frequencies, color='steelblue')\n",
    "plt.yticks(range(len(ngrams)), [' '.join(ngram) for ngram in ngrams], fontsize=10)\n",
    "plt.xlabel('Frequency')\n",
    "plt.ylabel('5-gram')\n",
    "plt.title('Top 10 Most Common 5-grams')\n",
    "plt.tight_layout()\n",
    "plt.show()\n"
   ]
  },
  {
   "cell_type": "code",
   "execution_count": 30,
   "metadata": {},
   "outputs": [
    {
     "ename": "ValueError",
     "evalue": "We need at least 1 word to plot a word cloud, got 0.",
     "output_type": "error",
     "traceback": [
      "\u001b[0;31m---------------------------------------------------------------------------\u001b[0m",
      "\u001b[0;31mValueError\u001b[0m                                Traceback (most recent call last)",
      "\u001b[0;32m<ipython-input-30-32494397a8f4>\u001b[0m in \u001b[0;36m<module>\u001b[0;34m\u001b[0m\n\u001b[1;32m      5\u001b[0m \u001b[0;34m\u001b[0m\u001b[0m\n\u001b[1;32m      6\u001b[0m \u001b[0;31m# Generate the word cloud\u001b[0m\u001b[0;34m\u001b[0m\u001b[0;34m\u001b[0m\u001b[0;34m\u001b[0m\u001b[0m\n\u001b[0;32m----> 7\u001b[0;31m \u001b[0mwordcloud\u001b[0m \u001b[0;34m=\u001b[0m \u001b[0mWordCloud\u001b[0m\u001b[0;34m(\u001b[0m\u001b[0mwidth\u001b[0m\u001b[0;34m=\u001b[0m\u001b[0;36m800\u001b[0m\u001b[0;34m,\u001b[0m \u001b[0mheight\u001b[0m\u001b[0;34m=\u001b[0m\u001b[0;36m400\u001b[0m\u001b[0;34m,\u001b[0m \u001b[0mbackground_color\u001b[0m\u001b[0;34m=\u001b[0m\u001b[0;34m'white'\u001b[0m\u001b[0;34m)\u001b[0m\u001b[0;34m.\u001b[0m\u001b[0mgenerate\u001b[0m\u001b[0;34m(\u001b[0m\u001b[0mtext\u001b[0m\u001b[0;34m)\u001b[0m\u001b[0;34m\u001b[0m\u001b[0;34m\u001b[0m\u001b[0m\n\u001b[0m\u001b[1;32m      8\u001b[0m \u001b[0;34m\u001b[0m\u001b[0m\n\u001b[1;32m      9\u001b[0m \u001b[0;31m# Display the word cloud\u001b[0m\u001b[0;34m\u001b[0m\u001b[0;34m\u001b[0m\u001b[0;34m\u001b[0m\u001b[0m\n",
      "\u001b[0;32m~/opt/anaconda3/lib/python3.8/site-packages/wordcloud/wordcloud.py\u001b[0m in \u001b[0;36mgenerate\u001b[0;34m(self, text)\u001b[0m\n\u001b[1;32m    630\u001b[0m         \u001b[0mself\u001b[0m\u001b[0;34m\u001b[0m\u001b[0;34m\u001b[0m\u001b[0m\n\u001b[1;32m    631\u001b[0m         \"\"\"\n\u001b[0;32m--> 632\u001b[0;31m         \u001b[0;32mreturn\u001b[0m \u001b[0mself\u001b[0m\u001b[0;34m.\u001b[0m\u001b[0mgenerate_from_text\u001b[0m\u001b[0;34m(\u001b[0m\u001b[0mtext\u001b[0m\u001b[0;34m)\u001b[0m\u001b[0;34m\u001b[0m\u001b[0;34m\u001b[0m\u001b[0m\n\u001b[0m\u001b[1;32m    633\u001b[0m \u001b[0;34m\u001b[0m\u001b[0m\n\u001b[1;32m    634\u001b[0m     \u001b[0;32mdef\u001b[0m \u001b[0m_check_generated\u001b[0m\u001b[0;34m(\u001b[0m\u001b[0mself\u001b[0m\u001b[0;34m)\u001b[0m\u001b[0;34m:\u001b[0m\u001b[0;34m\u001b[0m\u001b[0;34m\u001b[0m\u001b[0m\n",
      "\u001b[0;32m~/opt/anaconda3/lib/python3.8/site-packages/wordcloud/wordcloud.py\u001b[0m in \u001b[0;36mgenerate_from_text\u001b[0;34m(self, text)\u001b[0m\n\u001b[1;32m    612\u001b[0m         \"\"\"\n\u001b[1;32m    613\u001b[0m         \u001b[0mwords\u001b[0m \u001b[0;34m=\u001b[0m \u001b[0mself\u001b[0m\u001b[0;34m.\u001b[0m\u001b[0mprocess_text\u001b[0m\u001b[0;34m(\u001b[0m\u001b[0mtext\u001b[0m\u001b[0;34m)\u001b[0m\u001b[0;34m\u001b[0m\u001b[0;34m\u001b[0m\u001b[0m\n\u001b[0;32m--> 614\u001b[0;31m         \u001b[0mself\u001b[0m\u001b[0;34m.\u001b[0m\u001b[0mgenerate_from_frequencies\u001b[0m\u001b[0;34m(\u001b[0m\u001b[0mwords\u001b[0m\u001b[0;34m)\u001b[0m\u001b[0;34m\u001b[0m\u001b[0;34m\u001b[0m\u001b[0m\n\u001b[0m\u001b[1;32m    615\u001b[0m         \u001b[0;32mreturn\u001b[0m \u001b[0mself\u001b[0m\u001b[0;34m\u001b[0m\u001b[0;34m\u001b[0m\u001b[0m\n\u001b[1;32m    616\u001b[0m \u001b[0;34m\u001b[0m\u001b[0m\n",
      "\u001b[0;32m~/opt/anaconda3/lib/python3.8/site-packages/wordcloud/wordcloud.py\u001b[0m in \u001b[0;36mgenerate_from_frequencies\u001b[0;34m(self, frequencies, max_font_size)\u001b[0m\n\u001b[1;32m    401\u001b[0m         \u001b[0mfrequencies\u001b[0m \u001b[0;34m=\u001b[0m \u001b[0msorted\u001b[0m\u001b[0;34m(\u001b[0m\u001b[0mfrequencies\u001b[0m\u001b[0;34m.\u001b[0m\u001b[0mitems\u001b[0m\u001b[0;34m(\u001b[0m\u001b[0;34m)\u001b[0m\u001b[0;34m,\u001b[0m \u001b[0mkey\u001b[0m\u001b[0;34m=\u001b[0m\u001b[0mitemgetter\u001b[0m\u001b[0;34m(\u001b[0m\u001b[0;36m1\u001b[0m\u001b[0;34m)\u001b[0m\u001b[0;34m,\u001b[0m \u001b[0mreverse\u001b[0m\u001b[0;34m=\u001b[0m\u001b[0;32mTrue\u001b[0m\u001b[0;34m)\u001b[0m\u001b[0;34m\u001b[0m\u001b[0;34m\u001b[0m\u001b[0m\n\u001b[1;32m    402\u001b[0m         \u001b[0;32mif\u001b[0m \u001b[0mlen\u001b[0m\u001b[0;34m(\u001b[0m\u001b[0mfrequencies\u001b[0m\u001b[0;34m)\u001b[0m \u001b[0;34m<=\u001b[0m \u001b[0;36m0\u001b[0m\u001b[0;34m:\u001b[0m\u001b[0;34m\u001b[0m\u001b[0;34m\u001b[0m\u001b[0m\n\u001b[0;32m--> 403\u001b[0;31m             raise ValueError(\"We need at least 1 word to plot a word cloud, \"\n\u001b[0m\u001b[1;32m    404\u001b[0m                              \"got %d.\" % len(frequencies))\n\u001b[1;32m    405\u001b[0m         \u001b[0mfrequencies\u001b[0m \u001b[0;34m=\u001b[0m \u001b[0mfrequencies\u001b[0m\u001b[0;34m[\u001b[0m\u001b[0;34m:\u001b[0m\u001b[0mself\u001b[0m\u001b[0;34m.\u001b[0m\u001b[0mmax_words\u001b[0m\u001b[0;34m]\u001b[0m\u001b[0;34m\u001b[0m\u001b[0;34m\u001b[0m\u001b[0m\n",
      "\u001b[0;31mValueError\u001b[0m: We need at least 1 word to plot a word cloud, got 0."
     ]
    }
   ],
   "source": [
    "from wordcloud import WordCloud\n",
    "\n",
    "# Create a string representation of the 5-grams and their frequencies\n",
    "text = ' '.join([' '.join(ngram) * count for ngram, count in top_10])\n",
    "\n",
    "# Generate the word cloud\n",
    "wordcloud = WordCloud(width=800, height=400, background_color='white').generate(text)\n",
    "\n",
    "# Display the word cloud\n",
    "plt.figure(figsize=(10, 6))\n",
    "plt.imshow(wordcloud, interpolation='bilinear')\n",
    "plt.axis('off')\n",
    "plt.title('Word Cloud of Top 10 Most Common 5-grams')\n",
    "plt.tight_layout()\n",
    "plt.show()\n"
   ]
  },
  {
   "cell_type": "markdown",
   "metadata": {},
   "source": [
    "#### 6-grams"
   ]
  },
  {
   "cell_type": "code",
   "execution_count": null,
   "metadata": {},
   "outputs": [
    {
     "data": {
      "text/plain": [
       "[(('Er', 'is', 'geen', 'sprake', 'van', 'geen'), 9),\n",
       " (('Er', 'is', 'geen', 'sprake', 'van', 'aanleiding'), 9),\n",
       " (('Op', 'dit', 'moment', 'is', 'er', 'geen'), 9),\n",
       " (('Dit', 'gebeurt', 'in', 'de', 'periode', 'van'), 5),\n",
       " (('De', 'maatregelen', 'zijn', 'gericht', 'op', 'het'), 5),\n",
       " (('Deze', 'maatregelen', 'zijn', 'gericht', 'op', 'het'), 5),\n",
       " (('Deze', 'maatregelen', 'zijn', 'gericht', 'op', 'de'), 4),\n",
       " (('In', 'de', 'periode', 'van', '2019', 'is'), 4),\n",
       " (('Op', 'dit', 'moment', 'is', 'er', 'een'), 4),\n",
       " (('Op', 'dit', 'moment', 'is', 'de', 'uitwerking'), 4)]"
      ]
     },
     "execution_count": 30,
     "metadata": {},
     "output_type": "execute_result"
    }
   ],
   "source": [
    "single_list = [item for sublist in a_6grams for item in sublist]\n",
    "freq_dist = nltk.FreqDist(single_list)\n",
    "freq_dist.most_common(10)"
   ]
  },
  {
   "cell_type": "markdown",
   "metadata": {},
   "source": [
    "#### 7-grams"
   ]
  },
  {
   "cell_type": "code",
   "execution_count": null,
   "metadata": {},
   "outputs": [
    {
     "data": {
      "text/plain": [
       "[(('Er', 'is', 'geen', 'sprake', 'van', 'aanleiding', 'van'), 9),\n",
       " (('Op', 'dit', 'moment', 'is', 'er', 'geen', 'aandacht'), 5),\n",
       " (('Op', 'dit', 'moment', 'is', 'de', 'uitwerking', 'van'), 4),\n",
       " (('Amsterdam', '.', 'Op', 'dit', 'moment', 'is', 'er'), 3),\n",
       " (('In', 'de', 'periode', 'van', 'oktober', '2015', 'is'), 3),\n",
       " (('Er', 'is', 'geen', 'sprake', 'van', 'geen', 'aanpassingen'), 3),\n",
       " (('Er', 'is', 'geen', 'sprake', 'van', 'aanpassing', 'van'), 3),\n",
       " (('Het', 'College', 'haalde', 'de', 'informatie', 'van', 'een'), 2),\n",
       " (('Amsterdam', 'moeten', 'worden', 'geïnformeerd', '.', 'Bij', 'de'), 2),\n",
       " (('Amsterdam', '.', 'Ook', 'is', 'dit', 'niet', 'in'), 2)]"
      ]
     },
     "execution_count": 31,
     "metadata": {},
     "output_type": "execute_result"
    }
   ],
   "source": [
    "single_list = [item for sublist in a_7grams for item in sublist]\n",
    "freq_dist = nltk.FreqDist(single_list)\n",
    "freq_dist.most_common(10)"
   ]
  },
  {
   "cell_type": "markdown",
   "metadata": {},
   "source": [
    "### URL Q&A"
   ]
  },
  {
   "cell_type": "code",
   "execution_count": null,
   "metadata": {},
   "outputs": [
    {
     "ename": "FileNotFoundError",
     "evalue": "[Errno 2] No such file or directory: 'Questions_links_translations.csv'",
     "output_type": "error",
     "traceback": [
      "\u001b[0;31m---------------------------------------------------------------------------\u001b[0m",
      "\u001b[0;31mFileNotFoundError\u001b[0m                         Traceback (most recent call last)",
      "\u001b[0;32m<ipython-input-32-de66bddc8abc>\u001b[0m in \u001b[0;36m<module>\u001b[0;34m\u001b[0m\n\u001b[0;32m----> 1\u001b[0;31m \u001b[0mdf_trans_links\u001b[0m \u001b[0;34m=\u001b[0m \u001b[0mpd\u001b[0m\u001b[0;34m.\u001b[0m\u001b[0mread_csv\u001b[0m\u001b[0;34m(\u001b[0m\u001b[0;34m'Questions_links_translations.csv'\u001b[0m\u001b[0;34m)\u001b[0m\u001b[0;34m\u001b[0m\u001b[0;34m\u001b[0m\u001b[0m\n\u001b[0m",
      "\u001b[0;32m~/opt/anaconda3/lib/python3.8/site-packages/pandas/io/parsers/readers.py\u001b[0m in \u001b[0;36mread_csv\u001b[0;34m(filepath_or_buffer, sep, delimiter, header, names, index_col, usecols, dtype, engine, converters, true_values, false_values, skipinitialspace, skiprows, skipfooter, nrows, na_values, keep_default_na, na_filter, verbose, skip_blank_lines, parse_dates, infer_datetime_format, keep_date_col, date_parser, date_format, dayfirst, cache_dates, iterator, chunksize, compression, thousands, decimal, lineterminator, quotechar, quoting, doublequote, escapechar, comment, encoding, encoding_errors, dialect, on_bad_lines, delim_whitespace, low_memory, memory_map, float_precision, storage_options, dtype_backend)\u001b[0m\n\u001b[1;32m    910\u001b[0m     \u001b[0mkwds\u001b[0m\u001b[0;34m.\u001b[0m\u001b[0mupdate\u001b[0m\u001b[0;34m(\u001b[0m\u001b[0mkwds_defaults\u001b[0m\u001b[0;34m)\u001b[0m\u001b[0;34m\u001b[0m\u001b[0;34m\u001b[0m\u001b[0m\n\u001b[1;32m    911\u001b[0m \u001b[0;34m\u001b[0m\u001b[0m\n\u001b[0;32m--> 912\u001b[0;31m     \u001b[0;32mreturn\u001b[0m \u001b[0m_read\u001b[0m\u001b[0;34m(\u001b[0m\u001b[0mfilepath_or_buffer\u001b[0m\u001b[0;34m,\u001b[0m \u001b[0mkwds\u001b[0m\u001b[0;34m)\u001b[0m\u001b[0;34m\u001b[0m\u001b[0;34m\u001b[0m\u001b[0m\n\u001b[0m\u001b[1;32m    913\u001b[0m \u001b[0;34m\u001b[0m\u001b[0m\n\u001b[1;32m    914\u001b[0m \u001b[0;34m\u001b[0m\u001b[0m\n",
      "\u001b[0;32m~/opt/anaconda3/lib/python3.8/site-packages/pandas/io/parsers/readers.py\u001b[0m in \u001b[0;36m_read\u001b[0;34m(filepath_or_buffer, kwds)\u001b[0m\n\u001b[1;32m    575\u001b[0m \u001b[0;34m\u001b[0m\u001b[0m\n\u001b[1;32m    576\u001b[0m     \u001b[0;31m# Create the parser.\u001b[0m\u001b[0;34m\u001b[0m\u001b[0;34m\u001b[0m\u001b[0;34m\u001b[0m\u001b[0m\n\u001b[0;32m--> 577\u001b[0;31m     \u001b[0mparser\u001b[0m \u001b[0;34m=\u001b[0m \u001b[0mTextFileReader\u001b[0m\u001b[0;34m(\u001b[0m\u001b[0mfilepath_or_buffer\u001b[0m\u001b[0;34m,\u001b[0m \u001b[0;34m**\u001b[0m\u001b[0mkwds\u001b[0m\u001b[0;34m)\u001b[0m\u001b[0;34m\u001b[0m\u001b[0;34m\u001b[0m\u001b[0m\n\u001b[0m\u001b[1;32m    578\u001b[0m \u001b[0;34m\u001b[0m\u001b[0m\n\u001b[1;32m    579\u001b[0m     \u001b[0;32mif\u001b[0m \u001b[0mchunksize\u001b[0m \u001b[0;32mor\u001b[0m \u001b[0miterator\u001b[0m\u001b[0;34m:\u001b[0m\u001b[0;34m\u001b[0m\u001b[0;34m\u001b[0m\u001b[0m\n",
      "\u001b[0;32m~/opt/anaconda3/lib/python3.8/site-packages/pandas/io/parsers/readers.py\u001b[0m in \u001b[0;36m__init__\u001b[0;34m(self, f, engine, **kwds)\u001b[0m\n\u001b[1;32m   1405\u001b[0m \u001b[0;34m\u001b[0m\u001b[0m\n\u001b[1;32m   1406\u001b[0m         \u001b[0mself\u001b[0m\u001b[0;34m.\u001b[0m\u001b[0mhandles\u001b[0m\u001b[0;34m:\u001b[0m \u001b[0mIOHandles\u001b[0m \u001b[0;34m|\u001b[0m \u001b[0;32mNone\u001b[0m \u001b[0;34m=\u001b[0m \u001b[0;32mNone\u001b[0m\u001b[0;34m\u001b[0m\u001b[0;34m\u001b[0m\u001b[0m\n\u001b[0;32m-> 1407\u001b[0;31m         \u001b[0mself\u001b[0m\u001b[0;34m.\u001b[0m\u001b[0m_engine\u001b[0m \u001b[0;34m=\u001b[0m \u001b[0mself\u001b[0m\u001b[0;34m.\u001b[0m\u001b[0m_make_engine\u001b[0m\u001b[0;34m(\u001b[0m\u001b[0mf\u001b[0m\u001b[0;34m,\u001b[0m \u001b[0mself\u001b[0m\u001b[0;34m.\u001b[0m\u001b[0mengine\u001b[0m\u001b[0;34m)\u001b[0m\u001b[0;34m\u001b[0m\u001b[0;34m\u001b[0m\u001b[0m\n\u001b[0m\u001b[1;32m   1408\u001b[0m \u001b[0;34m\u001b[0m\u001b[0m\n\u001b[1;32m   1409\u001b[0m     \u001b[0;32mdef\u001b[0m \u001b[0mclose\u001b[0m\u001b[0;34m(\u001b[0m\u001b[0mself\u001b[0m\u001b[0;34m)\u001b[0m \u001b[0;34m->\u001b[0m \u001b[0;32mNone\u001b[0m\u001b[0;34m:\u001b[0m\u001b[0;34m\u001b[0m\u001b[0;34m\u001b[0m\u001b[0m\n",
      "\u001b[0;32m~/opt/anaconda3/lib/python3.8/site-packages/pandas/io/parsers/readers.py\u001b[0m in \u001b[0;36m_make_engine\u001b[0;34m(self, f, engine)\u001b[0m\n\u001b[1;32m   1659\u001b[0m                 \u001b[0;32mif\u001b[0m \u001b[0;34m\"b\"\u001b[0m \u001b[0;32mnot\u001b[0m \u001b[0;32min\u001b[0m \u001b[0mmode\u001b[0m\u001b[0;34m:\u001b[0m\u001b[0;34m\u001b[0m\u001b[0;34m\u001b[0m\u001b[0m\n\u001b[1;32m   1660\u001b[0m                     \u001b[0mmode\u001b[0m \u001b[0;34m+=\u001b[0m \u001b[0;34m\"b\"\u001b[0m\u001b[0;34m\u001b[0m\u001b[0;34m\u001b[0m\u001b[0m\n\u001b[0;32m-> 1661\u001b[0;31m             self.handles = get_handle(\n\u001b[0m\u001b[1;32m   1662\u001b[0m                 \u001b[0mf\u001b[0m\u001b[0;34m,\u001b[0m\u001b[0;34m\u001b[0m\u001b[0;34m\u001b[0m\u001b[0m\n\u001b[1;32m   1663\u001b[0m                 \u001b[0mmode\u001b[0m\u001b[0;34m,\u001b[0m\u001b[0;34m\u001b[0m\u001b[0;34m\u001b[0m\u001b[0m\n",
      "\u001b[0;32m~/opt/anaconda3/lib/python3.8/site-packages/pandas/io/common.py\u001b[0m in \u001b[0;36mget_handle\u001b[0;34m(path_or_buf, mode, encoding, compression, memory_map, is_text, errors, storage_options)\u001b[0m\n\u001b[1;32m    857\u001b[0m         \u001b[0;32mif\u001b[0m \u001b[0mioargs\u001b[0m\u001b[0;34m.\u001b[0m\u001b[0mencoding\u001b[0m \u001b[0;32mand\u001b[0m \u001b[0;34m\"b\"\u001b[0m \u001b[0;32mnot\u001b[0m \u001b[0;32min\u001b[0m \u001b[0mioargs\u001b[0m\u001b[0;34m.\u001b[0m\u001b[0mmode\u001b[0m\u001b[0;34m:\u001b[0m\u001b[0;34m\u001b[0m\u001b[0;34m\u001b[0m\u001b[0m\n\u001b[1;32m    858\u001b[0m             \u001b[0;31m# Encoding\u001b[0m\u001b[0;34m\u001b[0m\u001b[0;34m\u001b[0m\u001b[0;34m\u001b[0m\u001b[0m\n\u001b[0;32m--> 859\u001b[0;31m             handle = open(\n\u001b[0m\u001b[1;32m    860\u001b[0m                 \u001b[0mhandle\u001b[0m\u001b[0;34m,\u001b[0m\u001b[0;34m\u001b[0m\u001b[0;34m\u001b[0m\u001b[0m\n\u001b[1;32m    861\u001b[0m                 \u001b[0mioargs\u001b[0m\u001b[0;34m.\u001b[0m\u001b[0mmode\u001b[0m\u001b[0;34m,\u001b[0m\u001b[0;34m\u001b[0m\u001b[0;34m\u001b[0m\u001b[0m\n",
      "\u001b[0;31mFileNotFoundError\u001b[0m: [Errno 2] No such file or directory: 'Questions_links_translations.csv'"
     ]
    }
   ],
   "source": [
    "df_trans_links = pd.read_csv('Questions_links_translations.csv')"
   ]
  },
  {
   "cell_type": "code",
   "execution_count": null,
   "metadata": {},
   "outputs": [],
   "source": [
    "questions = df_trans_links['Question']\n",
    "answers = df_trans_links['Answer']"
   ]
  },
  {
   "cell_type": "code",
   "execution_count": null,
   "metadata": {},
   "outputs": [],
   "source": [
    "q_ngrams_ = []\n",
    "q_3grams_ = []\n",
    "q_4grams_ = []\n",
    "q_5grams_ = []\n",
    "q_6grams_ = []\n",
    "q_7grams_ = []\n",
    "\n",
    "for q in questions: \n",
    "    q_ngrams_.append(detect_ngarms_beginning(str(q), 3))\n",
    "    q_ngrams_.append(detect_ngarms_beginning(str(q), 4))\n",
    "    q_ngrams_.append(detect_ngarms_beginning(str(q), 5))\n",
    "    q_ngrams_.append(detect_ngarms_beginning(str(q), 6))\n",
    "    q_ngrams_.append(detect_ngarms_beginning(str(q), 7))\n",
    "    \n",
    "    q_3grams_.append(detect_ngarms_beginning(str(q), 3))\n",
    "    q_4grams_.append(detect_ngarms_beginning(str(q), 4))\n",
    "    q_5grams_.append(detect_ngarms_beginning(str(q), 5))\n",
    "    q_6grams_.append(detect_ngarms_beginning(str(q), 6))\n",
    "    q_7grams_.append(detect_ngarms_beginning(str(q), 7))\n",
    "    "
   ]
  },
  {
   "cell_type": "code",
   "execution_count": null,
   "metadata": {},
   "outputs": [],
   "source": [
    "single_list = [item for sublist in q_ngrams_ for item in sublist]\n",
    "freq_dist = nltk.FreqDist(single_list)\n",
    "top_ngrams = freq_dist.most_common(45)\n",
    "top_ngrams"
   ]
  },
  {
   "cell_type": "code",
   "execution_count": null,
   "metadata": {},
   "outputs": [],
   "source": [
    "single_list = [item for sublist in q_4grams_ for item in sublist]\n",
    "freq_dist = nltk.FreqDist(single_list)\n",
    "top_ngrams = freq_dist.most_common(15)\n",
    "top_ngrams"
   ]
  },
  {
   "cell_type": "code",
   "execution_count": null,
   "metadata": {},
   "outputs": [],
   "source": [
    "single_list = [item for sublist in q_5grams_ for item in sublist]\n",
    "freq_dist = nltk.FreqDist(single_list)\n",
    "top_ngrams = freq_dist.most_common(15)\n",
    "top_ngrams"
   ]
  },
  {
   "cell_type": "code",
   "execution_count": null,
   "metadata": {},
   "outputs": [],
   "source": []
  }
 ],
 "metadata": {
  "kernelspec": {
   "display_name": "base",
   "language": "python",
   "name": "python3"
  },
  "language_info": {
   "codemirror_mode": {
    "name": "ipython",
    "version": 3
   },
   "file_extension": ".py",
   "mimetype": "text/x-python",
   "name": "python",
   "nbconvert_exporter": "python",
   "pygments_lexer": "ipython3",
   "version": "3.8.5"
  },
  "vscode": {
   "interpreter": {
    "hash": "ea4c3bcc219a1292b0d1d9543a9b9f82ed18a35340190a3cbd50b3110bbb4e55"
   }
  }
 },
 "nbformat": 4,
 "nbformat_minor": 4
}
