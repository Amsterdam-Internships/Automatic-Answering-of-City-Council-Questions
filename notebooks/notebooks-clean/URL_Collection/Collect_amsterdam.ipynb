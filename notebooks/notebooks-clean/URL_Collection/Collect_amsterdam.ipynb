{
 "cells": [
  {
   "cell_type": "code",
   "execution_count": 1,
   "metadata": {},
   "outputs": [
    {
     "name": "stdout",
     "output_type": "stream",
     "text": [
      "/Users/natalipeeva/Documents/GitHub/Automatic-Answering-of-City-Council-Questions\n"
     ]
    }
   ],
   "source": [
    "%cd /Users/natalipeeva/Documents/GitHub/Automatic-Answering-of-City-Council-Questions/"
   ]
  },
  {
   "cell_type": "code",
   "execution_count": 2,
   "metadata": {},
   "outputs": [],
   "source": [
    "import sys\n",
    "import os\n",
    "src_dir = os.path.join(os.getcwd(), 'src')\n",
    "sys.path.append(src_dir)\n",
    "\n",
    "from document_collection.supporting_documents.collect_documents_clean_clean import collect_and_save_urls"
   ]
  },
  {
   "cell_type": "code",
   "execution_count": 3,
   "metadata": {},
   "outputs": [],
   "source": [
    "subpages = ['afval-en-hergebruik/', 'belastingen-heffingen/', 'bestuur-en-organisatie/',\n",
    "             'projecten/', 'burgerzaken/', 'diversiteit/', 'onderwijs-jeugd/', 'parkeren/', 'sport/', \n",
    "             'stadsdelen/', 'subsidies/', 'verkeer-vervoer/', 'toerisme-vrije-tijd/', 'werk-inkomen/', \n",
    "             'wonen-leefomgeving/', 'zorg-ondersteuning']\n",
    "\n",
    "base_url = 'https://www.amsterdam.nl/'"
   ]
  },
  {
   "cell_type": "code",
   "execution_count": 4,
   "metadata": {},
   "outputs": [
    {
     "name": "stdout",
     "output_type": "stream",
     "text": [
      "An exception occurred:  The collected urls and the urls left to visit are stores in a tuple (collection, urls_to_visit).\n"
     ]
    }
   ],
   "source": [
    "for page in subpages:\n",
    "    collect_and_save_urls(base_url+page) # it will interrupt and save where it reached but then kernel -> restart"
   ]
  }
 ],
 "metadata": {
  "kernelspec": {
   "display_name": "base",
   "language": "python",
   "name": "python3"
  },
  "language_info": {
   "codemirror_mode": {
    "name": "ipython",
    "version": 3
   },
   "file_extension": ".py",
   "mimetype": "text/x-python",
   "name": "python",
   "nbconvert_exporter": "python",
   "pygments_lexer": "ipython3",
   "version": "3.8.5"
  },
  "orig_nbformat": 4,
  "vscode": {
   "interpreter": {
    "hash": "ea4c3bcc219a1292b0d1d9543a9b9f82ed18a35340190a3cbd50b3110bbb4e55"
   }
  }
 },
 "nbformat": 4,
 "nbformat_minor": 2
}
