{
 "cells": [
  {
   "cell_type": "code",
   "execution_count": 1,
   "metadata": {},
   "outputs": [],
   "source": [
    "import sys\n",
    "import os\n",
    "src_dir = os.path.join('/Users/natalipeeva/Documents/GitHub/Automatic-Answering-of-City-Council-Questions/', 'src')\n",
    "sys.path.append(src_dir)\n",
    "\n",
    "from document_collection.supporting_documents.collect_documents_clean_clean import collect_multiple_subpages, save_collected_urls"
   ]
  },
  {
   "attachments": {},
   "cell_type": "markdown",
   "metadata": {},
   "source": [
    "To collect: ['afval-en-hergebruik', 'afval-hergebruik', 'belastingen-heffingen', 'bestuur-en-organisatie',\n",
    "         'bestuur-organisatie', 'projecten', 'burgerzaken', 'diversiteit', 'kunst-cultuur', \n",
    "         'ondernemen', 'onderwijs-jeugd', 'parkeren', 'sport', 'stadsdelen', 'subsidies', \n",
    "         'verkeer-vervoer', 'toerisme-vrije-tijd', 'werk-inkomen', 'wonen-leefomgeving', \n",
    "         'zorg-ondersteuning'] vielgefragt"
   ]
  },
  {
   "cell_type": "code",
   "execution_count": 2,
   "metadata": {},
   "outputs": [],
   "source": [
    "subpages = ['afval-en-hergebruik', 'afval-hergebruik', 'belastingen-heffingen', 'bestuur-en-organisatie',\n",
    "         'bestuur-organisatie', 'projecten', 'burgerzaken', 'diversiteit', 'kunst-cultuur', \n",
    "         'ondernemen', 'onderwijs-jeugd', 'parkeren', 'sport', 'stadsdelen', 'subsidies', \n",
    "         'verkeer-vervoer', 'toerisme-vrije-tijd', 'werk-inkomen', 'wonen-leefomgeving', \n",
    "         'zorg-ondersteuning']\n",
    "\n",
    "base_url = 'https://www.amsterdam.nl/'"
   ]
  },
  {
   "cell_type": "code",
   "execution_count": 3,
   "metadata": {},
   "outputs": [],
   "source": [
    "collection = collect_multiple_subpages(base_url=base_url, subpages_list=subpages) "
   ]
  },
  {
   "cell_type": "code",
   "execution_count": null,
   "metadata": {},
   "outputs": [],
   "source": [
    "save_collected_urls(collection, 'amsterdam_full_collection.csv')"
   ]
  }
 ],
 "metadata": {
  "kernelspec": {
   "display_name": "base",
   "language": "python",
   "name": "python3"
  },
  "language_info": {
   "codemirror_mode": {
    "name": "ipython",
    "version": 3
   },
   "file_extension": ".py",
   "mimetype": "text/x-python",
   "name": "python",
   "nbconvert_exporter": "python",
   "pygments_lexer": "ipython3",
   "version": "3.8.5"
  },
  "orig_nbformat": 4,
  "vscode": {
   "interpreter": {
    "hash": "ea4c3bcc219a1292b0d1d9543a9b9f82ed18a35340190a3cbd50b3110bbb4e55"
   }
  }
 },
 "nbformat": 4,
 "nbformat_minor": 2
}
