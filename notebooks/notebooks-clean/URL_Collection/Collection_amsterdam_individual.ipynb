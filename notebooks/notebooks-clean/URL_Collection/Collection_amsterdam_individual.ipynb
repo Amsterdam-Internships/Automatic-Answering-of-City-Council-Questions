{
 "cells": [
  {
   "cell_type": "code",
   "execution_count": 1,
   "metadata": {},
   "outputs": [],
   "source": [
    "base_url =  '/Users/natalipeeva/Documents/GitHub/Automatic-Answering-of-City-Council-Questions/'"
   ]
  },
  {
   "cell_type": "code",
   "execution_count": 2,
   "metadata": {},
   "outputs": [],
   "source": [
    "import sys\n",
    "import os\n",
    "src_dir = os.path.join(base_url, 'src')\n",
    "sys.path.append(src_dir)\n",
    "\n",
    "from document_collection.supporting_documents.collect_documents_clean_clean import collect_and_save_urls"
   ]
  },
  {
   "cell_type": "code",
   "execution_count": 4,
   "metadata": {},
   "outputs": [
    {
     "name": "stdout",
     "output_type": "stream",
     "text": [
      "An exception occurred:  The collected urls and the urls left to visit are stores in a tuple (collection, urls_to_visit).\n"
     ]
    }
   ],
   "source": [
    "collect_and_save_urls('https://www.amsterdam.nl/afval-en-hergebruik/', os.path.join(base_url,'data/collected/'))"
   ]
  },
  {
   "cell_type": "code",
   "execution_count": null,
   "metadata": {},
   "outputs": [],
   "source": [
    "collect_and_save_urls('https://www.amsterdam.nl/bestuur-en-organisatie/', os.path.join(base_url,'data/collected/'))"
   ]
  },
  {
   "cell_type": "code",
   "execution_count": null,
   "metadata": {},
   "outputs": [],
   "source": [
    "collect_and_save_urls('https://www.amsterdam.nl/projecten/', os.path.join(base_url,'data/collected/'))"
   ]
  },
  {
   "cell_type": "code",
   "execution_count": 7,
   "metadata": {},
   "outputs": [
    {
     "name": "stdout",
     "output_type": "stream",
     "text": [
      "An exception occurred:  The collected urls and the urls left to visit are stores in a tuple (collection, urls_to_visit).\n"
     ]
    }
   ],
   "source": [
    "collect_and_save_urls('https://www.amsterdam.nl/burgerzaken/', os.path.join(base_url,'data/collected/'))"
   ]
  },
  {
   "cell_type": "code",
   "execution_count": null,
   "metadata": {},
   "outputs": [],
   "source": [
    "collect_and_save_urls('https://www.amsterdam.nl/diversiteit/', os.path.join(base_url,'data/collected/'))"
   ]
  },
  {
   "cell_type": "code",
   "execution_count": null,
   "metadata": {},
   "outputs": [],
   "source": [
    "collect_and_save_urls('https://www.amsterdam.nl/belastingen-heffingen/', os.path.join(base_url,'data/collected/'))"
   ]
  },
  {
   "cell_type": "code",
   "execution_count": null,
   "metadata": {},
   "outputs": [],
   "source": [
    "collect_and_save_urls('https://www.amsterdam.nl/kunst-cultuur/', os.path.join(base_url,'data/collected/'))"
   ]
  },
  {
   "cell_type": "code",
   "execution_count": null,
   "metadata": {},
   "outputs": [],
   "source": [
    "collect_and_save_urls('https://www.amsterdam.nl/ondernemen/', os.path.join(base_url,'data/collected/'))"
   ]
  },
  {
   "cell_type": "code",
   "execution_count": null,
   "metadata": {},
   "outputs": [],
   "source": [
    "collect_and_save_urls('https://www.amsterdam.nl/onderwijs-jeugd/', os.path.join(base_url,'data/collected/'))"
   ]
  },
  {
   "cell_type": "code",
   "execution_count": null,
   "metadata": {},
   "outputs": [],
   "source": [
    "collect_and_save_urls('https://www.amsterdam.nl/parkeren/', os.path.join(base_url,'data/collected/'))"
   ]
  },
  {
   "cell_type": "code",
   "execution_count": null,
   "metadata": {},
   "outputs": [],
   "source": [
    "collect_and_save_urls('https://www.amsterdam.nl/sport/', os.path.join(base_url,'data/collected/'))"
   ]
  },
  {
   "cell_type": "code",
   "execution_count": null,
   "metadata": {},
   "outputs": [],
   "source": [
    "collect_and_save_urls('https://www.amsterdam.nl/stadsdelen/', os.path.join(base_url,'data/collected/'))"
   ]
  },
  {
   "cell_type": "code",
   "execution_count": null,
   "metadata": {},
   "outputs": [],
   "source": [
    "collect_and_save_urls('https://www.amsterdam.nl/subsidies/', os.path.join(base_url,'data/collected/'))"
   ]
  },
  {
   "cell_type": "code",
   "execution_count": null,
   "metadata": {},
   "outputs": [],
   "source": [
    "collect_and_save_urls('https://www.amsterdam.nl/veelgevraagd/', os.path.join(base_url,'data/collected/'))"
   ]
  },
  {
   "cell_type": "code",
   "execution_count": null,
   "metadata": {},
   "outputs": [],
   "source": [
    "collect_and_save_urls('https://www.amsterdam.nl/verkeer-vervoer/', os.path.join(base_url,'data/collected/'))"
   ]
  },
  {
   "cell_type": "code",
   "execution_count": null,
   "metadata": {},
   "outputs": [],
   "source": [
    "collect_and_save_urls('https://www.amsterdam.nl/toerisme-vrije-tijd/', os.path.join(base_url,'data/collected/'))"
   ]
  },
  {
   "cell_type": "code",
   "execution_count": null,
   "metadata": {},
   "outputs": [],
   "source": [
    "collect_and_save_urls('https://www.amsterdam.nl/werk-inkomen/', os.path.join(base_url,'data/collected/'))"
   ]
  },
  {
   "cell_type": "code",
   "execution_count": null,
   "metadata": {},
   "outputs": [],
   "source": [
    "collect_and_save_urls('https://www.amsterdam.nl/wonen-leefomgeving/', os.path.join(base_url,'data/collected/'))"
   ]
  },
  {
   "cell_type": "code",
   "execution_count": null,
   "metadata": {},
   "outputs": [],
   "source": [
    "collect_and_save_urls('https://www.amsterdam.nl/zorg-ondersteuning/', os.path.join(base_url,'data/collected/'))"
   ]
  }
 ],
 "metadata": {
  "kernelspec": {
   "display_name": "base",
   "language": "python",
   "name": "python3"
  },
  "language_info": {
   "codemirror_mode": {
    "name": "ipython",
    "version": 3
   },
   "file_extension": ".py",
   "mimetype": "text/x-python",
   "name": "python",
   "nbconvert_exporter": "python",
   "pygments_lexer": "ipython3",
   "version": "3.8.5"
  },
  "orig_nbformat": 4,
  "vscode": {
   "interpreter": {
    "hash": "ea4c3bcc219a1292b0d1d9543a9b9f82ed18a35340190a3cbd50b3110bbb4e55"
   }
  }
 },
 "nbformat": 4,
 "nbformat_minor": 2
}
