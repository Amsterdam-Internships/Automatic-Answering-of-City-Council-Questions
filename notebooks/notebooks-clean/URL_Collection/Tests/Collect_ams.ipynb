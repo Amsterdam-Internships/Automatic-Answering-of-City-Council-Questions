{
 "cells": [
  {
   "cell_type": "code",
   "execution_count": 1,
   "metadata": {},
   "outputs": [],
   "source": [
    "import sys\n",
    "import os\n",
    "src_dir = os.path.join('/Users/natalipeeva/Documents/GitHub/Automatic-Answering-of-City-Council-Questions/', 'src')\n",
    "sys.path.append(src_dir)\n",
    "\n",
    "from dataset.dataset import create_dataset\n",
    "import random\n",
    "\n",
    "from document_collection.supporting_documents.collect_documents_clean_clean import collect_subpages100, save_collected_urls, collect_multiple_subpages\n"
   ]
  },
  {
   "cell_type": "code",
   "execution_count": 5,
   "metadata": {},
   "outputs": [],
   "source": [
    "belastingen_heffingen = collect_subpages('https://www.amsterdam.nl/belastingen-heffingen/') # finished 59 seconds?\n",
    "save_collected_urls(belastingen_heffingen, 'belastingen_heffingen.csv')"
   ]
  },
  {
   "cell_type": "code",
   "execution_count": 6,
   "metadata": {},
   "outputs": [
    {
     "data": {
      "text/plain": [
       "0"
      ]
     },
     "execution_count": 6,
     "metadata": {},
     "output_type": "execute_result"
    }
   ],
   "source": [
    "len(belastingen_heffingen)"
   ]
  },
  {
   "cell_type": "code",
   "execution_count": 5,
   "metadata": {},
   "outputs": [],
   "source": [
    "bel = pd.read_csv('belastingen_heffingen.csv')"
   ]
  },
  {
   "cell_type": "code",
   "execution_count": 2,
   "metadata": {},
   "outputs": [
    {
     "name": "stdout",
     "output_type": "stream",
     "text": [
      "Execution interrupted!\n"
     ]
    }
   ],
   "source": [
    "burgerzaken = collect_subpages100('https://www.amsterdam.nl/burgerzaken/')\n",
    "save_collected_urls(burgerzaken, 'burgerzaken.csv') # after 218 minutes - only 317 collected?"
   ]
  },
  {
   "cell_type": "code",
   "execution_count": 3,
   "metadata": {},
   "outputs": [
    {
     "data": {
      "text/plain": [
       "95"
      ]
     },
     "execution_count": 3,
     "metadata": {},
     "output_type": "execute_result"
    }
   ],
   "source": [
    "len(burgerzaken)"
   ]
  },
  {
   "cell_type": "code",
   "execution_count": 4,
   "metadata": {},
   "outputs": [],
   "source": [
    "import pandas as pd"
   ]
  },
  {
   "cell_type": "code",
   "execution_count": 5,
   "metadata": {},
   "outputs": [],
   "source": [
    "burg = pd.read_csv('burgerzaken.csv')"
   ]
  },
  {
   "cell_type": "code",
   "execution_count": 6,
   "metadata": {},
   "outputs": [
    {
     "data": {
      "text/plain": [
       "['https://www.amsterdam.nl/burgerzaken/',\n",
       " 'https://www.amsterdam.nl/burgerzaken/verhuizing-doorgeven/',\n",
       " 'https://www.amsterdam.nl/burgerzaken/paspoort-en-idkaart/',\n",
       " 'https://www.amsterdam.nl/burgerzaken/akten-uittreksels/',\n",
       " 'https://www.amsterdam.nl/burgerzaken/trouwen-partnerschap/',\n",
       " 'https://www.amsterdam.nl/burgerzaken/geboorte-erkenning-kinderen/',\n",
       " 'https://www.amsterdam.nl/burgerzaken/aangifte-doen-van-overlijden/',\n",
       " 'https://www.amsterdam.nl/burgerzaken/begraafplaatsen-crematoria/',\n",
       " 'https://www.amsterdam.nl/burgerzaken/aangifte-voor-uitvaartondernemers/',\n",
       " 'https://www.amsterdam.nl/burgerzaken/aangifte-doen-van-overlijden/overlijden-in-het-buitenland/',\n",
       " 'https://www.amsterdam.nl/burgerzaken/uitvaart-gemeentewege/',\n",
       " 'https://www.amsterdam.nl/burgerzaken/immigratie/verhuizen-amsterdam-vanuit-buitenland/',\n",
       " 'https://www.amsterdam.nl/burgerzaken/naturalisatie/',\n",
       " 'https://www.amsterdam.nl/burgerzaken/paspoort-en-idkaart/rijbewijs/',\n",
       " 'https://www.amsterdam.nl/burgerzaken/paspoort-en-idkaart/paspoort-aanvragen/',\n",
       " 'https://www.amsterdam.nl/burgerzaken/paspoort-en-idkaart/id-kaart-aanvragen/',\n",
       " 'https://www.amsterdam.nl/burgerzaken/paspoort-en-idkaart/paspoort-voor-kinderen-aanvragen/',\n",
       " 'https://www.amsterdam.nl/burgerzaken/paspoort-en-idkaart/id-kaart-voor-kinderen-aanvragen/',\n",
       " 'https://www.amsterdam.nl/burgerzaken/akten-uittreksels/uittreksel-brp-aanvragen/',\n",
       " 'https://www.amsterdam.nl/burgerzaken/trouwen-partnerschap/gratis-budget-standaard-ceremonie/',\n",
       " 'https://www.amsterdam.nl/burgerzaken/trouwen-partnerschap/kosten-trouwen-registreren-partnerschap/',\n",
       " 'https://www.amsterdam.nl/burgerzaken/trouwen-partnerschap/huwelijk-partnerschap-aankondigen/',\n",
       " 'https://www.amsterdam.nl/burgerzaken/trouwen-partnerschap/datum-locatie-vastleggen/',\n",
       " 'https://www.amsterdam.nl/burgerzaken/trouwen-partnerschap/getuigen-aanmelden/',\n",
       " 'https://www.amsterdam.nl/burgerzaken/trouwen-partnerschap/trouwlocaties-gemeente-amsterdam/',\n",
       " 'https://www.amsterdam.nl/burgerzaken/trouwen-partnerschap/locatie-aanvragen/',\n",
       " 'https://www.amsterdam.nl/burgerzaken/aangifte-doen-van-overlijden/overlijdensaangifte-pasgeboren-kind/',\n",
       " 'https://www.amsterdam.nl/burgerzaken/immigratie/',\n",
       " 'https://www.amsterdam.nl/burgerzaken/naturalisatie/ceremonie/',\n",
       " 'https://www.amsterdam.nl/burgerzaken/paspoort-en-idkaart/rijbewijs/eerste-rijbewijs-aanvragen/',\n",
       " 'https://www.amsterdam.nl/burgerzaken/paspoort-en-idkaart/rijbewijs/rijbewijs-verlengen-categorie-toevoegen/',\n",
       " 'https://www.amsterdam.nl/burgerzaken/paspoort-en-idkaart/rijbewijs/bromfietsrijbewijs-aanvragen/',\n",
       " 'https://www.amsterdam.nl/burgerzaken/paspoort-en-idkaart/rijbewijs/buitenlands-rijbewijs-omwisselen/',\n",
       " 'https://www.amsterdam.nl/burgerzaken/paspoort-en-idkaart/rijbewijs/rijbewijs-kwijt/',\n",
       " 'https://www.amsterdam.nl/burgerzaken/paspoort-en-idkaart/paspoort-aanvragen/#hc71b1f32-0412-42fe-9d2b-6676d65d6bd7',\n",
       " 'https://www.amsterdam.nl/burgerzaken/paspoort-en-idkaart/paspoort-of-id-kaart-laten-bezorgen/',\n",
       " 'https://www.amsterdam.nl/burgerzaken/paspoort-en-idkaart/veelgestelde-vragen-paspoort-en-id-kaart/',\n",
       " 'https://www.amsterdam.nl/burgerzaken/paspoort-en-idkaart/id-kaart-aanvragen/#hc71b1f32-0412-42fe-9d2b-6676d65d6bd7',\n",
       " 'https://www.amsterdam.nl/burgerzaken/paspoort-en-idkaart/paspoort-voor-kinderen-aanvragen/#h62d03e36-b08f-afe3-e367-83154e2007e4',\n",
       " 'https://www.amsterdam.nl/burgerzaken/paspoort-en-idkaart/paspoort-voor-kinderen-aanvragen/toestemming-ouders-voor-paspoort-kind/',\n",
       " 'https://www.amsterdam.nl/burgerzaken/paspoort-en-idkaart/id-kaart-voor-kinderen-aanvragen/toestemming-ouders-voor-id-kaart-kind/#h7d9c651e-5c5c-4f16-ad95-6332363673ad',\n",
       " 'https://www.amsterdam.nl/burgerzaken/paspoort-en-idkaart/id-kaart-voor-kinderen-aanvragen/toestemming-ouders-voor-id-kaart-kind/',\n",
       " 'https://www.amsterdam.nl/burgerzaken/trouwen-partnerschap/kosten-trouwen-registreren-partnerschap/trouwboekje-partnerschapsboekje/',\n",
       " 'https://www.amsterdam.nl/burgerzaken/trouwen-partnerschap/kosten-trouwen-registreren-partnerschap/trouwambtenaar-1-dag/',\n",
       " 'https://www.amsterdam.nl/burgerzaken/trouwen-partnerschap/datum-locatie-vastleggen/huwelijk-partnerschap-wijzigen-annuleren/',\n",
       " 'https://www.amsterdam.nl/burgerzaken/trouwen-partnerschap/huwelijk-partnerschap-aankondigen/verklaringen-huwelijk-partnerschap/',\n",
       " 'https://www.amsterdam.nl/burgerzaken/trouwen-partnerschap/huwelijk-partnerschap-aankondigen/geregistreerd-partnerschap-omzetten/',\n",
       " 'https://www.amsterdam.nl/burgerzaken/trouwen-partnerschap/huwelijk-partnerschap-aankondigen/trouwen-partnerschap-buitenland/',\n",
       " 'https://www.amsterdam.nl/burgerzaken/trouwen-partnerschap/huwelijk-partnerschap-aankondigen/buitenlands-huwelijk-partnerschap/',\n",
       " 'https://www.amsterdam.nl/burgerzaken/trouwen-partnerschap/trouwlocaties-gemeente-amsterdam/trouwlocaties-c/akhnaton/',\n",
       " 'https://www.amsterdam.nl/burgerzaken/trouwen-partnerschap/trouwlocaties-gemeente-amsterdam/trouwlocaties-c/andaz-amsterdam/',\n",
       " 'https://www.amsterdam.nl/burgerzaken/trouwen-partnerschap/trouwlocaties-gemeente-amsterdam/trouwlocaties-c/art-otel-amsterdam/',\n",
       " 'https://www.amsterdam.nl/burgerzaken/trouwen-partnerschap/trouwlocaties-gemeente-amsterdam/trouwlocaties-c/betty-asfalt-complex/',\n",
       " 'https://www.amsterdam.nl/burgerzaken/trouwen-partnerschap/trouwlocaties-gemeente-amsterdam/?pager_page=1',\n",
       " 'https://www.amsterdam.nl/burgerzaken/trouwen-partnerschap/trouwlocaties-gemeente-amsterdam/?pager_page=9',\n",
       " 'https://www.amsterdam.nl/burgerzaken/trouwen-partnerschap/kosten-trouwen-registreren-partnerschap/nieuw-trouwboekje-partnerschapsboekje/',\n",
       " 'https://www.amsterdam.nl/burgerzaken/trouwen-partnerschap/trouwlocaties-gemeente-amsterdam/trouwlocaties-n/buiksloterkerk/',\n",
       " 'https://www.amsterdam.nl/burgerzaken/trouwen-partnerschap/trouwlocaties-gemeente-amsterdam/trouwlocaties-o/cafe-restaurant-polder/',\n",
       " 'https://www.amsterdam.nl/burgerzaken/trouwen-partnerschap/trouwlocaties-gemeente-amsterdam/trouwlocaties-z/cobra-cafe/',\n",
       " 'https://www.amsterdam.nl/burgerzaken/trouwen-partnerschap/trouwlocaties-gemeente-amsterdam/trouwlocaties-n/crane-hotel-faralda/',\n",
       " 'https://www.amsterdam.nl/burgerzaken/trouwen-partnerschap/trouwlocaties-gemeente-amsterdam/trouwlocaties-z/crazy-kitchen/',\n",
       " 'https://www.amsterdam.nl/burgerzaken/trouwen-partnerschap/trouwlocaties-gemeente-amsterdam/?pager_page=0',\n",
       " 'https://www.amsterdam.nl/burgerzaken/trouwen-partnerschap/trouwlocaties-gemeente-amsterdam/?pager_page=2',\n",
       " 'https://www.amsterdam.nl/burgerzaken/trouwen-partnerschap/trouwlocaties-gemeente-amsterdam/trouwlocaties-c/voc-schreierstoren/',\n",
       " 'https://www.amsterdam.nl/burgerzaken/trouwen-partnerschap/trouwlocaties-gemeente-amsterdam/trouwlocaties-c/west-indisch-huis/',\n",
       " 'https://www.amsterdam.nl/burgerzaken/trouwen-partnerschap/trouwlocaties-gemeente-amsterdam/trouwlocaties-z/wyndham-apollo-hotel/',\n",
       " 'https://www.amsterdam.nl/burgerzaken/trouwen-partnerschap/trouwlocaties-gemeente-amsterdam/?pager_page=8',\n",
       " 'https://www.amsterdam.nl/burgerzaken/trouwen-partnerschap/trouwlocaties-gemeente-amsterdam/trouwlocaties-o/nieuwe-khl/',\n",
       " 'https://www.amsterdam.nl/burgerzaken/trouwen-partnerschap/trouwlocaties-gemeente-amsterdam/trouwlocaties-o/titaan/',\n",
       " 'https://www.amsterdam.nl/burgerzaken/trouwen-partnerschap/trouwlocaties-gemeente-amsterdam/trouwlocaties-c/eat-your-heart-out/',\n",
       " 'https://www.amsterdam.nl/burgerzaken/trouwen-partnerschap/trouwlocaties-gemeente-amsterdam/?pager_page=3',\n",
       " 'https://www.amsterdam.nl/burgerzaken/trouwen-partnerschap/trouwlocaties-gemeente-amsterdam/trouwlocaties-c/stadhuis-trouwzaal/',\n",
       " 'https://www.amsterdam.nl/burgerzaken/trouwen-partnerschap/trouwlocaties-gemeente-amsterdam/trouwlocaties-weesp/stadhuis-weesp-trouwzaal/',\n",
       " 'https://www.amsterdam.nl/burgerzaken/trouwen-partnerschap/trouwlocaties-gemeente-amsterdam/trouwlocaties-nw/stadsloket-nieuw-west-trouwzaal/',\n",
       " 'https://www.amsterdam.nl/burgerzaken/trouwen-partnerschap/trouwlocaties-gemeente-amsterdam/trouwlocaties-n/stadsloket-noord-trouwzalen/',\n",
       " 'https://www.amsterdam.nl/burgerzaken/trouwen-partnerschap/trouwlocaties-gemeente-amsterdam/trouwlocaties-o/stadsloket-oost-trouwzaal/',\n",
       " 'https://www.amsterdam.nl/burgerzaken/trouwen-partnerschap/trouwlocaties-gemeente-amsterdam/trouwlocaties-z/stadsloket-zuid-trouwzaal/',\n",
       " 'https://www.amsterdam.nl/burgerzaken/trouwen-partnerschap/trouwlocaties-gemeente-amsterdam/trouwlocaties-zo/stadsloket-zuidoost-trouwzaal/',\n",
       " 'https://www.amsterdam.nl/burgerzaken/trouwen-partnerschap/trouwlocaties-gemeente-amsterdam/trouwlocaties-c/stromma-nederland/',\n",
       " 'https://www.amsterdam.nl/burgerzaken/trouwen-partnerschap/trouwlocaties-gemeente-amsterdam/trouwlocaties-c/supperclub-cruise/',\n",
       " 'https://www.amsterdam.nl/burgerzaken/trouwen-partnerschap/trouwlocaties-gemeente-amsterdam/trouwlocaties-z/the-college-hotel/',\n",
       " 'https://www.amsterdam.nl/burgerzaken/trouwen-partnerschap/trouwlocaties-gemeente-amsterdam/trouwlocaties-c/hotel-the-dylan/',\n",
       " 'https://www.amsterdam.nl/burgerzaken/trouwen-partnerschap/trouwlocaties-gemeente-amsterdam/trouwlocaties-c/smoeshaan-cafe/',\n",
       " 'https://www.amsterdam.nl/burgerzaken/trouwen-partnerschap/trouwlocaties-gemeente-amsterdam/?pager_page=7',\n",
       " 'https://www.amsterdam.nl/burgerzaken/trouwen-partnerschap/trouwlocaties-gemeente-amsterdam/trouwlocaties-w/floor17/',\n",
       " 'https://www.amsterdam.nl/burgerzaken/trouwen-partnerschap/trouwlocaties-gemeente-amsterdam/trouwlocaties-c/flowerhouse-amsterdam/',\n",
       " 'https://www.amsterdam.nl/burgerzaken/trouwen-partnerschap/trouwlocaties-gemeente-amsterdam/trouwlocaties-o/gemeenlandshuis/',\n",
       " 'https://www.amsterdam.nl/burgerzaken/trouwen-partnerschap/trouwlocaties-gemeente-amsterdam/trouwlocaties-o/george-marina/',\n",
       " 'https://www.amsterdam.nl/burgerzaken/trouwen-partnerschap/trouwlocaties-gemeente-amsterdam/trouwlocaties-c/grand-krasnapolsky/',\n",
       " 'https://www.amsterdam.nl/burgerzaken/trouwen-partnerschap/trouwlocaties-gemeente-amsterdam/?pager_page=4',\n",
       " 'https://www.amsterdam.nl/burgerzaken/trouwen-partnerschap/trouwlocaties-gemeente-amsterdam/trouwlocaties-c/',\n",
       " 'https://www.amsterdam.nl/burgerzaken/trouwen-partnerschap/trouwlocaties-gemeente-amsterdam/trouwlocaties-weesp/',\n",
       " 'https://www.amsterdam.nl/burgerzaken/trouwen-partnerschap/trouwlocaties-gemeente-amsterdam/trouwlocaties-nw/',\n",
       " 'https://www.amsterdam.nl/burgerzaken/trouwen-partnerschap/trouwlocaties-gemeente-amsterdam/trouwlocaties-n/',\n",
       " 'https://www.amsterdam.nl/burgerzaken/trouwen-partnerschap/trouwlocaties-gemeente-amsterdam/trouwlocaties-o/']"
      ]
     },
     "execution_count": 6,
     "metadata": {},
     "output_type": "execute_result"
    }
   ],
   "source": [
    "list(burg['URL'])"
   ]
  },
  {
   "cell_type": "code",
   "execution_count": 11,
   "metadata": {},
   "outputs": [],
   "source": [
    "from dataset.dataset import ReferenceURL"
   ]
  },
  {
   "cell_type": "code",
   "execution_count": 17,
   "metadata": {},
   "outputs": [],
   "source": [
    "url = ReferenceURL('https://www.amsterdam.nl/burgerzaken/')\n",
    "url.fetch_url()"
   ]
  },
  {
   "cell_type": "code",
   "execution_count": 16,
   "metadata": {},
   "outputs": [],
   "source": [
    "url.exception"
   ]
  },
  {
   "cell_type": "code",
   "execution_count": 18,
   "metadata": {},
   "outputs": [],
   "source": [
    "links = url.content.find_all(\"a\", href=lambda href: href)"
   ]
  },
  {
   "cell_type": "code",
   "execution_count": 20,
   "metadata": {},
   "outputs": [],
   "source": [
    "from urllib.parse import urlparse, urljoin"
   ]
  },
  {
   "cell_type": "code",
   "execution_count": 33,
   "metadata": {},
   "outputs": [],
   "source": [
    "urls_to_visit=[]\n",
    "for link in links:\n",
    "    linked_url = urljoin('https://www.amsterdam.nl/burgerzaken/', link[\"href\"])\n",
    "    if linked_url.startswith('https://www.amsterdam.nl/burgerzaken/') and not any(pattern in linked_url for pattern in ['#Content', '#mainmenu', '#megamenu', '?mode=hide', '#PagCls', 'tel:', '?print=true']):\n",
    "        urls_to_visit.append(linked_url)"
   ]
  },
  {
   "cell_type": "code",
   "execution_count": 34,
   "metadata": {},
   "outputs": [
    {
     "data": {
      "text/plain": [
       "['https://www.amsterdam.nl/burgerzaken/verhuizing-doorgeven/',\n",
       " 'https://www.amsterdam.nl/burgerzaken/paspoort-en-idkaart/',\n",
       " 'https://www.amsterdam.nl/burgerzaken/akten-uittreksels/',\n",
       " 'https://www.amsterdam.nl/burgerzaken/trouwen-partnerschap/',\n",
       " 'https://www.amsterdam.nl/burgerzaken/geboorte-erkenning-kinderen/',\n",
       " 'https://www.amsterdam.nl/burgerzaken/aangifte-doen-van-overlijden/',\n",
       " 'https://www.amsterdam.nl/burgerzaken/begraafplaatsen-crematoria/',\n",
       " 'https://www.amsterdam.nl/burgerzaken/aangifte-voor-uitvaartondernemers/',\n",
       " 'https://www.amsterdam.nl/burgerzaken/aangifte-doen-van-overlijden/overlijden-in-het-buitenland/',\n",
       " 'https://www.amsterdam.nl/burgerzaken/uitvaart-gemeentewege/',\n",
       " 'https://www.amsterdam.nl/burgerzaken/immigratie/verhuizen-amsterdam-vanuit-buitenland/',\n",
       " 'https://www.amsterdam.nl/burgerzaken/naturalisatie/']"
      ]
     },
     "execution_count": 34,
     "metadata": {},
     "output_type": "execute_result"
    }
   ],
   "source": [
    "urls_to_visit"
   ]
  },
  {
   "cell_type": "code",
   "execution_count": 4,
   "metadata": {},
   "outputs": [],
   "source": [
    "subpages = ['afval-en-hergebruik', 'afval-hergebruik', 'belastingen-heffingen', 'bestuur-en-organisatie',\n",
    "         'bestuur-organisatie', 'projecten', 'burgerzaken', 'diversiteit', 'kunst-cultuur', \n",
    "         'ondernemen', 'onderwijs-jeugd', 'parkeren', 'sport', 'stadsdelen', 'subsidies', \n",
    "         'verkeer-vervoer', 'toerisme-vrije-tijd', 'werk-inkomen', 'wonen-leefomgeving', \n",
    "         'zorg-ondersteuning']\n",
    "\n",
    "base_url = 'https://www.amsterdam.nl/'"
   ]
  },
  {
   "cell_type": "code",
   "execution_count": 5,
   "metadata": {},
   "outputs": [],
   "source": [
    "collection = collect_multiple_subpages(base_url=base_url, subpages_list=subpages) "
   ]
  },
  {
   "cell_type": "code",
   "execution_count": null,
   "metadata": {},
   "outputs": [],
   "source": [
    "belastingen_heffingen = collect_subpages('https://www.amsterdam.nl/belastingen-heffingen/') # finished 59 seconds?\n",
    "save_collected_urls(belastingen_heffingen, 'belastingen_heffingen.csv')"
   ]
  }
 ],
 "metadata": {
  "kernelspec": {
   "display_name": "base",
   "language": "python",
   "name": "python3"
  },
  "language_info": {
   "codemirror_mode": {
    "name": "ipython",
    "version": 3
   },
   "file_extension": ".py",
   "mimetype": "text/x-python",
   "name": "python",
   "nbconvert_exporter": "python",
   "pygments_lexer": "ipython3",
   "version": "3.8.5"
  },
  "orig_nbformat": 4,
  "vscode": {
   "interpreter": {
    "hash": "ea4c3bcc219a1292b0d1d9543a9b9f82ed18a35340190a3cbd50b3110bbb4e55"
   }
  }
 },
 "nbformat": 4,
 "nbformat_minor": 2
}
