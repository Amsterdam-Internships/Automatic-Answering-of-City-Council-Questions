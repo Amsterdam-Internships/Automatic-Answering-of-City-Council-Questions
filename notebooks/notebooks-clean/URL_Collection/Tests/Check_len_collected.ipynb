{
 "cells": [
  {
   "cell_type": "code",
   "execution_count": 1,
   "metadata": {},
   "outputs": [],
   "source": [
    "import pandas as pd"
   ]
  },
  {
   "attachments": {},
   "cell_type": "markdown",
   "metadata": {},
   "source": [
    "To check:\n",
    "1. Afval 118\n",
    "2. Bestuur en organisatie 1605\n",
    "3. Bouw- en verkeersprojecten (projekten) - 1432 collected\n",
    "4. Burgerzaken - 43\n",
    "5. Diversiteit - 37\n",
    "6. Gemeentebelastingen - 23\n",
    "7. Kunst en cultuur - 741\n",
    "8. Ondernemen - 246\n",
    "9. Onderwijs en jeugd - 97\n",
    "10. Parkeren - 134\n",
    "11. Sport - 191\n",
    "12. *Stadsdelen - 993 (interrupted) !!!* - probably more to collect\n",
    "13. Subsidies - 132\n",
    "14. Veelgevraagd - 2239\n",
    "15. Verkeer en vervoer - 96\n",
    "16. Vrije tijd - 104\n",
    "17. Wegwerkzaamheden \n",
    "18. Werk en inkomen - 105\n",
    "19. Wonen en leefomgeving - 569\n",
    "20. Zorg en ondersteuning - 120"
   ]
  },
  {
   "cell_type": "code",
   "execution_count": 2,
   "metadata": {},
   "outputs": [
    {
     "name": "stdout",
     "output_type": "stream",
     "text": [
      "/Users/natalipeeva/Desktop/Data/Collected_URLs\n"
     ]
    }
   ],
   "source": [
    "%cd /Users/natalipeeva/Desktop/Data/Collected_URLs"
   ]
  },
  {
   "attachments": {},
   "cell_type": "markdown",
   "metadata": {},
   "source": [
    "### Collected - see length + inspect if ncessary"
   ]
  },
  {
   "attachments": {},
   "cell_type": "markdown",
   "metadata": {},
   "source": [
    "#### projekten"
   ]
  },
  {
   "cell_type": "code",
   "execution_count": 3,
   "metadata": {},
   "outputs": [
    {
     "data": {
      "text/plain": [
       "1432"
      ]
     },
     "execution_count": 3,
     "metadata": {},
     "output_type": "execute_result"
    }
   ],
   "source": [
    "projekten = pd.read_csv('projecten.csv')\n",
    "len(projekten)"
   ]
  },
  {
   "attachments": {},
   "cell_type": "markdown",
   "metadata": {},
   "source": [
    "#### burgerzaken"
   ]
  },
  {
   "cell_type": "code",
   "execution_count": 4,
   "metadata": {},
   "outputs": [
    {
     "data": {
      "text/plain": [
       "113"
      ]
     },
     "execution_count": 4,
     "metadata": {},
     "output_type": "execute_result"
    }
   ],
   "source": [
    "burgerzaken = pd.read_csv('burgerzaken.csv')\n",
    "len(burgerzaken) # need to check this one"
   ]
  },
  {
   "cell_type": "code",
   "execution_count": 5,
   "metadata": {},
   "outputs": [
    {
     "data": {
      "text/html": [
       "<div>\n",
       "<style scoped>\n",
       "    .dataframe tbody tr th:only-of-type {\n",
       "        vertical-align: middle;\n",
       "    }\n",
       "\n",
       "    .dataframe tbody tr th {\n",
       "        vertical-align: top;\n",
       "    }\n",
       "\n",
       "    .dataframe thead th {\n",
       "        text-align: right;\n",
       "    }\n",
       "</style>\n",
       "<table border=\"1\" class=\"dataframe\">\n",
       "  <thead>\n",
       "    <tr style=\"text-align: right;\">\n",
       "      <th></th>\n",
       "      <th>Unnamed: 0</th>\n",
       "      <th>URL</th>\n",
       "      <th>Content</th>\n",
       "      <th>Textual_Content</th>\n",
       "      <th>Exception</th>\n",
       "    </tr>\n",
       "  </thead>\n",
       "  <tbody>\n",
       "    <tr>\n",
       "      <th>108</th>\n",
       "      <td>108</td>\n",
       "      <td>https://www.amsterdam.nl/burgerzaken/trouwen-p...</td>\n",
       "      <td>NaN</td>\n",
       "      <td>NaN</td>\n",
       "      <td>Error fetching URL: 403 Client Error: Forbidde...</td>\n",
       "    </tr>\n",
       "    <tr>\n",
       "      <th>109</th>\n",
       "      <td>109</td>\n",
       "      <td>https://www.amsterdam.nl/burgerzaken/trouwen-p...</td>\n",
       "      <td>NaN</td>\n",
       "      <td>NaN</td>\n",
       "      <td>Error fetching URL: 404 Client Error: Not Foun...</td>\n",
       "    </tr>\n",
       "    <tr>\n",
       "      <th>110</th>\n",
       "      <td>110</td>\n",
       "      <td>https://www.amsterdam.nl/burgerzaken/trouwen-p...</td>\n",
       "      <td>&lt;!DOCTYPE html&gt;\\n\\n&lt;html lang=\"nl\"&gt;\\n&lt;head pre...</td>\n",
       "      <td>\\n\\n\\n\\nTrouwlocaties in Amsterdam - Gemeente ...</td>\n",
       "      <td>NaN</td>\n",
       "    </tr>\n",
       "    <tr>\n",
       "      <th>111</th>\n",
       "      <td>111</td>\n",
       "      <td>https://www.amsterdam.nl/burgerzaken/trouwen-p...</td>\n",
       "      <td>NaN</td>\n",
       "      <td>NaN</td>\n",
       "      <td>Error fetching URL: HTTPSConnectionPool(host='...</td>\n",
       "    </tr>\n",
       "    <tr>\n",
       "      <th>112</th>\n",
       "      <td>112</td>\n",
       "      <td>https://www.amsterdam.nl/burgerzaken/trouwen-p...</td>\n",
       "      <td>NaN</td>\n",
       "      <td>NaN</td>\n",
       "      <td>Error fetching URL: 403 Client Error: Forbidde...</td>\n",
       "    </tr>\n",
       "  </tbody>\n",
       "</table>\n",
       "</div>"
      ],
      "text/plain": [
       "     Unnamed: 0                                                URL  \\\n",
       "108         108  https://www.amsterdam.nl/burgerzaken/trouwen-p...   \n",
       "109         109  https://www.amsterdam.nl/burgerzaken/trouwen-p...   \n",
       "110         110  https://www.amsterdam.nl/burgerzaken/trouwen-p...   \n",
       "111         111  https://www.amsterdam.nl/burgerzaken/trouwen-p...   \n",
       "112         112  https://www.amsterdam.nl/burgerzaken/trouwen-p...   \n",
       "\n",
       "                                               Content  \\\n",
       "108                                                NaN   \n",
       "109                                                NaN   \n",
       "110  <!DOCTYPE html>\\n\\n<html lang=\"nl\">\\n<head pre...   \n",
       "111                                                NaN   \n",
       "112                                                NaN   \n",
       "\n",
       "                                       Textual_Content  \\\n",
       "108                                                NaN   \n",
       "109                                                NaN   \n",
       "110  \\n\\n\\n\\nTrouwlocaties in Amsterdam - Gemeente ...   \n",
       "111                                                NaN   \n",
       "112                                                NaN   \n",
       "\n",
       "                                             Exception  \n",
       "108  Error fetching URL: 403 Client Error: Forbidde...  \n",
       "109  Error fetching URL: 404 Client Error: Not Foun...  \n",
       "110                                                NaN  \n",
       "111  Error fetching URL: HTTPSConnectionPool(host='...  \n",
       "112  Error fetching URL: 403 Client Error: Forbidde...  "
      ]
     },
     "execution_count": 5,
     "metadata": {},
     "output_type": "execute_result"
    }
   ],
   "source": [
    "burgerzaken.tail() # a lot of them are just trouwlocaties-gemeente-amsterdam, there are also a lot more -> loop goes on for a while"
   ]
  },
  {
   "attachments": {},
   "cell_type": "markdown",
   "metadata": {},
   "source": [
    "#### diversiteit"
   ]
  },
  {
   "cell_type": "code",
   "execution_count": 6,
   "metadata": {},
   "outputs": [
    {
     "data": {
      "text/plain": [
       "124"
      ]
     },
     "execution_count": 6,
     "metadata": {},
     "output_type": "execute_result"
    }
   ],
   "source": [
    "diversiteit = pd.read_csv('diversiteit.csv')\n",
    "len(diversiteit) # need to check this one"
   ]
  },
  {
   "cell_type": "code",
   "execution_count": 7,
   "metadata": {},
   "outputs": [
    {
     "data": {
      "text/plain": [
       "['https://www.amsterdam.nl/diversiteit/nationaal-slavernijmuseum/kalender/?mode=calendar&CalDtm=20231126&evt_SttDtm=20231101&evt_EndDtm=20231130',\n",
       " 'https://www.amsterdam.nl/diversiteit/nationaal-slavernijmuseum/kalender/?mode=calendar&CalDtm=20240109&evt_SttDtm=20240101&evt_EndDtm=20240131',\n",
       " 'https://www.amsterdam.nl/diversiteit/nationaal-slavernijmuseum/kalender/?CalDtm=20220828',\n",
       " 'https://www.amsterdam.nl/diversiteit/nationaal-slavernijmuseum/kalender/?CalDtm=20221004',\n",
       " 'https://www.amsterdam.nl/diversiteit/nationaal-slavernijmuseum/kalender/?CalDtm=20220925&evt_EndDtm=20220930&mode=calendar&print=true&evt_SttDtm=20220901']"
      ]
     },
     "execution_count": 7,
     "metadata": {},
     "output_type": "execute_result"
    }
   ],
   "source": [
    "list(diversiteit['URL'])[-5:] # at some point they all are part of https://www.amsterdam.nl/diversiteit/nationaal-slavernijmuseum/"
   ]
  },
  {
   "attachments": {},
   "cell_type": "markdown",
   "metadata": {},
   "source": [
    "#### belastingen_heffingen"
   ]
  },
  {
   "cell_type": "code",
   "execution_count": 8,
   "metadata": {},
   "outputs": [
    {
     "data": {
      "text/plain": [
       "23"
      ]
     },
     "execution_count": 8,
     "metadata": {},
     "output_type": "execute_result"
    }
   ],
   "source": [
    "belastingen_heffingen = pd.read_csv('belastingen_heffingen.csv')\n",
    "len(belastingen_heffingen) # 23 around 3 times less than collected with wget which makes sense because mode=hide and print=True not collected"
   ]
  },
  {
   "attachments": {},
   "cell_type": "markdown",
   "metadata": {},
   "source": [
    "#### kunst_cultuur_collected"
   ]
  },
  {
   "cell_type": "code",
   "execution_count": 9,
   "metadata": {},
   "outputs": [
    {
     "data": {
      "text/plain": [
       "741"
      ]
     },
     "execution_count": 9,
     "metadata": {},
     "output_type": "execute_result"
    }
   ],
   "source": [
    "kunst_cultuur_collected = pd.read_csv('kunst_cultuur_collected.csv')\n",
    "len(kunst_cultuur_collected) # 741 compared to 1057 -> makes sense - some wget are collected 3 times, some not "
   ]
  },
  {
   "attachments": {},
   "cell_type": "markdown",
   "metadata": {},
   "source": [
    "#### ondernemen"
   ]
  },
  {
   "cell_type": "code",
   "execution_count": 10,
   "metadata": {},
   "outputs": [
    {
     "data": {
      "text/plain": [
       "246"
      ]
     },
     "execution_count": 10,
     "metadata": {},
     "output_type": "execute_result"
    }
   ],
   "source": [
    "ondernemen_collected = pd.read_csv('ondernemen_collected.csv')\n",
    "len(ondernemen_collected) # 246 compared to 564, kinda makes sense too "
   ]
  },
  {
   "attachments": {},
   "cell_type": "markdown",
   "metadata": {},
   "source": [
    "#### onderwijs_jeugd"
   ]
  },
  {
   "cell_type": "code",
   "execution_count": 11,
   "metadata": {},
   "outputs": [
    {
     "data": {
      "text/plain": [
       "97"
      ]
     },
     "execution_count": 11,
     "metadata": {},
     "output_type": "execute_result"
    }
   ],
   "source": [
    "onderwijs_jeugd = pd.read_csv('onderwijs_jeugd.csv')\n",
    "len(onderwijs_jeugd) # 97 compared to 373 with wget makes sense ?? # CHECK"
   ]
  },
  {
   "attachments": {},
   "cell_type": "markdown",
   "metadata": {},
   "source": [
    "#### parkeren"
   ]
  },
  {
   "attachments": {},
   "cell_type": "markdown",
   "metadata": {},
   "source": [
    "onderwijs_jeugd = pd.read_csv('onderwijs_jeugd.csv')\n",
    "len(onderwijs_jeugd) # 97 compared to 373 with wget makes sense ?? # CHECK"
   ]
  },
  {
   "cell_type": "code",
   "execution_count": 12,
   "metadata": {},
   "outputs": [
    {
     "data": {
      "text/plain": [
       "134"
      ]
     },
     "execution_count": 12,
     "metadata": {},
     "output_type": "execute_result"
    }
   ],
   "source": [
    "ams_parkeren_collected = pd.read_csv('ams_parkeren_collected.csv')\n",
    "len(ams_parkeren_collected) # 134 compared to 496 "
   ]
  },
  {
   "attachments": {},
   "cell_type": "markdown",
   "metadata": {},
   "source": [
    "#### sport_collected"
   ]
  },
  {
   "cell_type": "code",
   "execution_count": 13,
   "metadata": {},
   "outputs": [
    {
     "data": {
      "text/plain": [
       "191"
      ]
     },
     "execution_count": 13,
     "metadata": {},
     "output_type": "execute_result"
    }
   ],
   "source": [
    "sport_collected = pd.read_csv('sport_collected.csv')\n",
    "len(sport_collected) # 191 compared to 289"
   ]
  },
  {
   "attachments": {},
   "cell_type": "markdown",
   "metadata": {},
   "source": [
    "#### stadsdelen"
   ]
  },
  {
   "cell_type": "code",
   "execution_count": 14,
   "metadata": {},
   "outputs": [
    {
     "data": {
      "text/plain": [
       "993"
      ]
     },
     "execution_count": 14,
     "metadata": {},
     "output_type": "execute_result"
    }
   ],
   "source": [
    "stadsdelen = pd.read_csv('stadsdelen.csv')\n",
    "len(stadsdelen) # 993 - but not finished compared to 2 603, there are probably some more to collect"
   ]
  },
  {
   "attachments": {},
   "cell_type": "markdown",
   "metadata": {},
   "source": [
    "#### subsidies_collected"
   ]
  },
  {
   "cell_type": "code",
   "execution_count": 15,
   "metadata": {},
   "outputs": [
    {
     "data": {
      "text/plain": [
       "35"
      ]
     },
     "execution_count": 15,
     "metadata": {},
     "output_type": "execute_result"
    }
   ],
   "source": [
    "subsidies_collected = pd.read_csv('subsidies_collected.csv')\n",
    "len(subsidies_collected) # 35 comp to 138 - interrupted!"
   ]
  },
  {
   "attachments": {},
   "cell_type": "markdown",
   "metadata": {},
   "source": [
    "#### veelgefragt"
   ]
  },
  {
   "cell_type": "code",
   "execution_count": 16,
   "metadata": {},
   "outputs": [
    {
     "data": {
      "text/plain": [
       "2239"
      ]
     },
     "execution_count": 16,
     "metadata": {},
     "output_type": "execute_result"
    }
   ],
   "source": [
    "veelgevraagd = pd.read_csv('veelgevraagd.csv')\n",
    "len(veelgevraagd) # 2239 comp to 5296 makes sense"
   ]
  },
  {
   "attachments": {},
   "cell_type": "markdown",
   "metadata": {},
   "source": [
    "#### verkeer_vervoer_collected"
   ]
  },
  {
   "cell_type": "code",
   "execution_count": 17,
   "metadata": {},
   "outputs": [
    {
     "data": {
      "text/plain": [
       "96"
      ]
     },
     "execution_count": 17,
     "metadata": {},
     "output_type": "execute_result"
    }
   ],
   "source": [
    "verkeer_vervoer_collected = pd.read_csv('verkeer_vervoer_collected.csv')\n",
    "len(verkeer_vervoer_collected) # 96 compared to 348 ?? - makes sense - a lot of ? print=True etc."
   ]
  },
  {
   "attachments": {},
   "cell_type": "markdown",
   "metadata": {},
   "source": [
    "#### toerisme_vrije_tijd"
   ]
  },
  {
   "cell_type": "code",
   "execution_count": 18,
   "metadata": {},
   "outputs": [
    {
     "data": {
      "text/plain": [
       "104"
      ]
     },
     "execution_count": 18,
     "metadata": {},
     "output_type": "execute_result"
    }
   ],
   "source": [
    "toerisme_vrije_tijd = pd.read_csv('toerisme_vrije_tijd.csv')\n",
    "len(toerisme_vrije_tijd) # 104 comp to 489 ???"
   ]
  },
  {
   "attachments": {},
   "cell_type": "markdown",
   "metadata": {},
   "source": [
    "#### werk_inkomen"
   ]
  },
  {
   "cell_type": "code",
   "execution_count": 19,
   "metadata": {},
   "outputs": [
    {
     "data": {
      "text/plain": [
       "105"
      ]
     },
     "execution_count": 19,
     "metadata": {},
     "output_type": "execute_result"
    }
   ],
   "source": [
    "werk_inkomen = pd.read_csv('werk_inkomen.csv')\n",
    "len(werk_inkomen) # 105 comp to 393"
   ]
  },
  {
   "attachments": {},
   "cell_type": "markdown",
   "metadata": {},
   "source": [
    "#### wonen_leefomgeving - Check"
   ]
  },
  {
   "cell_type": "code",
   "execution_count": 20,
   "metadata": {},
   "outputs": [
    {
     "data": {
      "text/plain": [
       "569"
      ]
     },
     "execution_count": 20,
     "metadata": {},
     "output_type": "execute_result"
    }
   ],
   "source": [
    "wonen_leefomgeving = pd.read_csv('wonen_leefomgeving.csv')\n",
    "len(wonen_leefomgeving) # 569 comp to 2 304 items ??? a bit weird"
   ]
  },
  {
   "attachments": {},
   "cell_type": "markdown",
   "metadata": {},
   "source": [
    "#### zorg_ondersteuning"
   ]
  },
  {
   "cell_type": "code",
   "execution_count": 21,
   "metadata": {},
   "outputs": [
    {
     "data": {
      "text/plain": [
       "120"
      ]
     },
     "execution_count": 21,
     "metadata": {},
     "output_type": "execute_result"
    }
   ],
   "source": [
    "zorg_ondersteuning = pd.read_csv('zorg_ondersteuning.csv')\n",
    "len(zorg_ondersteuning) # 120 comp to not collected "
   ]
  },
  {
   "attachments": {},
   "cell_type": "markdown",
   "metadata": {},
   "source": [
    "### Combine all collected"
   ]
  },
  {
   "cell_type": "code",
   "execution_count": 22,
   "metadata": {},
   "outputs": [],
   "source": [
    "import os"
   ]
  },
  {
   "cell_type": "code",
   "execution_count": 23,
   "metadata": {},
   "outputs": [
    {
     "data": {
      "text/plain": [
       "'/Users/natalipeeva/Desktop/Data/Collected_URLs'"
      ]
     },
     "execution_count": 23,
     "metadata": {},
     "output_type": "execute_result"
    }
   ],
   "source": [
    "os.getcwd()"
   ]
  },
  {
   "cell_type": "code",
   "execution_count": 24,
   "metadata": {},
   "outputs": [],
   "source": [
    "import os\n",
    "import pandas as pd\n",
    "\n",
    "def combine_csv_files(folder_path, output_file_path):\n",
    "    # Get a list of all files in the folder\n",
    "    file_list = os.listdir(folder_path)\n",
    "\n",
    "    # Filter only CSV files\n",
    "    csv_files = [file for file in file_list if file.endswith('.csv')]\n",
    "\n",
    "    # Initialize an empty list to store the dataframes\n",
    "    dfs = []\n",
    "\n",
    "    # Read each CSV file and append its contents to the list of dataframes\n",
    "    for csv_file in csv_files:\n",
    "        file_path = os.path.join(folder_path, csv_file)\n",
    "        df = pd.read_csv(file_path)\n",
    "        dfs.append(df)\n",
    "\n",
    "    # Concatenate all dataframes into a single dataframe\n",
    "    combined_df = pd.concat(dfs, ignore_index=True)\n",
    "\n",
    "    # Save the combined dataframe to a new CSV file\n",
    "    combined_df.to_csv(output_file_path, index=False)"
   ]
  },
  {
   "cell_type": "code",
   "execution_count": 27,
   "metadata": {},
   "outputs": [],
   "source": [
    "combine_csv_files('/Users/natalipeeva/Desktop/Data/Collected_URLs', '/Users/natalipeeva/Desktop/Data/Collected_URLs/combines_collected_1June.csv')"
   ]
  },
  {
   "cell_type": "code",
   "execution_count": 28,
   "metadata": {},
   "outputs": [],
   "source": [
    "combined = pd.read_csv('combines_collected_1June.csv')"
   ]
  },
  {
   "cell_type": "code",
   "execution_count": 29,
   "metadata": {},
   "outputs": [
    {
     "name": "stdout",
     "output_type": "stream",
     "text": [
      "<class 'pandas.core.frame.DataFrame'>\n",
      "RangeIndex: 7362 entries, 0 to 7361\n",
      "Data columns (total 5 columns):\n",
      " #   Column           Non-Null Count  Dtype \n",
      "---  ------           --------------  ----- \n",
      " 0   Unnamed: 0       7362 non-null   int64 \n",
      " 1   URL              7362 non-null   object\n",
      " 2   Content          7270 non-null   object\n",
      " 3   Textual_Content  7270 non-null   object\n",
      " 4   Exception        95 non-null     object\n",
      "dtypes: int64(1), object(4)\n",
      "memory usage: 287.7+ KB\n"
     ]
    }
   ],
   "source": [
    "combined.info()"
   ]
  },
  {
   "cell_type": "code",
   "execution_count": null,
   "metadata": {},
   "outputs": [],
   "source": [
    "# subsidies also collected - 6 minutes -> 132 collected "
   ]
  }
 ],
 "metadata": {
  "kernelspec": {
   "display_name": "base",
   "language": "python",
   "name": "python3"
  },
  "language_info": {
   "codemirror_mode": {
    "name": "ipython",
    "version": 3
   },
   "file_extension": ".py",
   "mimetype": "text/x-python",
   "name": "python",
   "nbconvert_exporter": "python",
   "pygments_lexer": "ipython3",
   "version": "3.8.5"
  },
  "orig_nbformat": 4,
  "vscode": {
   "interpreter": {
    "hash": "ea4c3bcc219a1292b0d1d9543a9b9f82ed18a35340190a3cbd50b3110bbb4e55"
   }
  }
 },
 "nbformat": 4,
 "nbformat_minor": 2
}
