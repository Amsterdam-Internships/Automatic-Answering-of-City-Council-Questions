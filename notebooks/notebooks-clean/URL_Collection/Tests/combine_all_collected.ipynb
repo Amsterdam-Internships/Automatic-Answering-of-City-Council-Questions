{
 "cells": [
  {
   "cell_type": "code",
   "execution_count": 2,
   "metadata": {},
   "outputs": [],
   "source": [
    "import os\n",
    "import pandas as pd\n",
    "\n",
    "def combine_csv_files(folder_path, output_file_path):\n",
    "    # Get a list of all files in the folder\n",
    "    file_list = os.listdir(folder_path)\n",
    "\n",
    "    # Filter only CSV files\n",
    "    csv_files = [file for file in file_list if file.endswith('.csv')]\n",
    "\n",
    "    # Initialize an empty list to store the dataframes\n",
    "    dfs = []\n",
    "\n",
    "    # Read each CSV file and append its contents to the list of dataframes\n",
    "    for csv_file in csv_files:\n",
    "        file_path = os.path.join(folder_path, csv_file)\n",
    "        df = pd.read_csv(file_path)\n",
    "        dfs.append(df)\n",
    "\n",
    "    # Concatenate all dataframes into a single dataframe\n",
    "    combined_df = pd.concat(dfs, ignore_index=True)\n",
    "\n",
    "    # Save the combined dataframe to a new CSV file\n",
    "    combined_df.to_csv(output_file_path, index=False)\n"
   ]
  },
  {
   "cell_type": "code",
   "execution_count": 3,
   "metadata": {},
   "outputs": [],
   "source": [
    "folder_path = '/Users/natalipeeva/Desktop/Data/Automatic-Answering-of-City-Council-Questions/notebooks/Drafts/Collection'\n",
    "output_file_path = '/Users/natalipeeva/Desktop/Data/Automatic-Answering-of-City-Council-Questions/notebooks/Drafts/Collection/ams-combines.csv'\n",
    "combine_csv_files(folder_path, output_file_path)"
   ]
  },
  {
   "cell_type": "code",
   "execution_count": 4,
   "metadata": {},
   "outputs": [],
   "source": [
    "import pandas as pd"
   ]
  },
  {
   "cell_type": "code",
   "execution_count": 5,
   "metadata": {},
   "outputs": [],
   "source": [
    "ams = pd.read_csv('/Users/natalipeeva/Desktop/Data/Automatic-Answering-of-City-Council-Questions/notebooks/Drafts/Collection/ams-combines.csv')"
   ]
  },
  {
   "cell_type": "code",
   "execution_count": 8,
   "metadata": {},
   "outputs": [
    {
     "data": {
      "text/html": [
       "<div>\n",
       "<style scoped>\n",
       "    .dataframe tbody tr th:only-of-type {\n",
       "        vertical-align: middle;\n",
       "    }\n",
       "\n",
       "    .dataframe tbody tr th {\n",
       "        vertical-align: top;\n",
       "    }\n",
       "\n",
       "    .dataframe thead th {\n",
       "        text-align: right;\n",
       "    }\n",
       "</style>\n",
       "<table border=\"1\" class=\"dataframe\">\n",
       "  <thead>\n",
       "    <tr style=\"text-align: right;\">\n",
       "      <th></th>\n",
       "      <th>Unnamed: 0</th>\n",
       "      <th>URL</th>\n",
       "      <th>Content</th>\n",
       "      <th>Textual_Content</th>\n",
       "      <th>Exception</th>\n",
       "    </tr>\n",
       "  </thead>\n",
       "  <tbody>\n",
       "    <tr>\n",
       "      <th>5005</th>\n",
       "      <td>100</td>\n",
       "      <td>https://www.amsterdam.nl/werk-inkomen/hulp-bij...</td>\n",
       "      <td>&lt;!DOCTYPE html&gt;\\n\\n&lt;html lang=\"nl\"&gt;\\n&lt;head pre...</td>\n",
       "      <td>\\n\\n\\n\\nComputerles middelbare school - Gemeen...</td>\n",
       "      <td>NaN</td>\n",
       "    </tr>\n",
       "    <tr>\n",
       "      <th>5006</th>\n",
       "      <td>101</td>\n",
       "      <td>https://www.amsterdam.nl/werk-inkomen/hulp-bij...</td>\n",
       "      <td>&lt;!DOCTYPE html&gt;\\n\\n&lt;html lang=\"nl\"&gt;\\n&lt;head pre...</td>\n",
       "      <td>\\n\\n\\n\\nHoe werkt Scholierenvergoeding - Gemee...</td>\n",
       "      <td>NaN</td>\n",
       "    </tr>\n",
       "    <tr>\n",
       "      <th>5007</th>\n",
       "      <td>102</td>\n",
       "      <td>https://www.amsterdam.nl/werk-inkomen/hulp-bij...</td>\n",
       "      <td>&lt;!DOCTYPE html&gt;\\n\\n&lt;html lang=\"nl\"&gt;\\n&lt;head pre...</td>\n",
       "      <td>\\n\\n\\n\\nBelangrijke informatie voor ouders die...</td>\n",
       "      <td>NaN</td>\n",
       "    </tr>\n",
       "    <tr>\n",
       "      <th>5008</th>\n",
       "      <td>103</td>\n",
       "      <td>https://www.amsterdam.nl/werk-inkomen/hulp-bij...</td>\n",
       "      <td>&lt;!DOCTYPE html&gt;\\n\\n&lt;html lang=\"nl\"&gt;\\n&lt;head pre...</td>\n",
       "      <td>\\n\\n\\n\\nScholierenvergoeding declareren - Geme...</td>\n",
       "      <td>NaN</td>\n",
       "    </tr>\n",
       "    <tr>\n",
       "      <th>5009</th>\n",
       "      <td>104</td>\n",
       "      <td>https://www.amsterdam.nl/werk-inkomen/hulp-bij...</td>\n",
       "      <td>&lt;!DOCTYPE html&gt;\\n\\n&lt;html lang=\"nl\"&gt;\\n&lt;head pre...</td>\n",
       "      <td>\\n\\n\\n\\nWat u wel en niet mag declareren bij S...</td>\n",
       "      <td>NaN</td>\n",
       "    </tr>\n",
       "  </tbody>\n",
       "</table>\n",
       "</div>"
      ],
      "text/plain": [
       "      Unnamed: 0                                                URL  \\\n",
       "5005         100  https://www.amsterdam.nl/werk-inkomen/hulp-bij...   \n",
       "5006         101  https://www.amsterdam.nl/werk-inkomen/hulp-bij...   \n",
       "5007         102  https://www.amsterdam.nl/werk-inkomen/hulp-bij...   \n",
       "5008         103  https://www.amsterdam.nl/werk-inkomen/hulp-bij...   \n",
       "5009         104  https://www.amsterdam.nl/werk-inkomen/hulp-bij...   \n",
       "\n",
       "                                                Content  \\\n",
       "5005  <!DOCTYPE html>\\n\\n<html lang=\"nl\">\\n<head pre...   \n",
       "5006  <!DOCTYPE html>\\n\\n<html lang=\"nl\">\\n<head pre...   \n",
       "5007  <!DOCTYPE html>\\n\\n<html lang=\"nl\">\\n<head pre...   \n",
       "5008  <!DOCTYPE html>\\n\\n<html lang=\"nl\">\\n<head pre...   \n",
       "5009  <!DOCTYPE html>\\n\\n<html lang=\"nl\">\\n<head pre...   \n",
       "\n",
       "                                        Textual_Content Exception  \n",
       "5005  \\n\\n\\n\\nComputerles middelbare school - Gemeen...       NaN  \n",
       "5006  \\n\\n\\n\\nHoe werkt Scholierenvergoeding - Gemee...       NaN  \n",
       "5007  \\n\\n\\n\\nBelangrijke informatie voor ouders die...       NaN  \n",
       "5008  \\n\\n\\n\\nScholierenvergoeding declareren - Geme...       NaN  \n",
       "5009  \\n\\n\\n\\nWat u wel en niet mag declareren bij S...       NaN  "
      ]
     },
     "execution_count": 8,
     "metadata": {},
     "output_type": "execute_result"
    }
   ],
   "source": [
    "ams.tail()"
   ]
  }
 ],
 "metadata": {
  "kernelspec": {
   "display_name": "base",
   "language": "python",
   "name": "python3"
  },
  "language_info": {
   "codemirror_mode": {
    "name": "ipython",
    "version": 3
   },
   "file_extension": ".py",
   "mimetype": "text/x-python",
   "name": "python",
   "nbconvert_exporter": "python",
   "pygments_lexer": "ipython3",
   "version": "3.8.5"
  },
  "orig_nbformat": 4,
  "vscode": {
   "interpreter": {
    "hash": "ea4c3bcc219a1292b0d1d9543a9b9f82ed18a35340190a3cbd50b3110bbb4e55"
   }
  }
 },
 "nbformat": 4,
 "nbformat_minor": 2
}
