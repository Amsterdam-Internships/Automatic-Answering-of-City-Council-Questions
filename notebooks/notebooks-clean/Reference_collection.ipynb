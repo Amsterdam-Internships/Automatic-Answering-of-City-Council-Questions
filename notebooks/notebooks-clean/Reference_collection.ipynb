{
 "cells": [
  {
   "cell_type": "code",
   "execution_count": 1,
   "metadata": {},
   "outputs": [],
   "source": [
    "import pandas as pd\n",
    "import sys\n",
    "import os\n",
    "src_dir = os.path.join('/Users/natalipeeva/Documents/GitHub/Automatic-Answering-of-City-Council-Questions/', 'src')\n",
    "sys.path.append(src_dir)\n",
    "from preprocessing.dataset_filtering import filter_by_domains, clean_urls\n",
    "from document_collection.reference_documents.collect_documents_clean import apply_url_fetching\n",
    "from dataset.dataset import ReferenceURL"
   ]
  },
  {
   "cell_type": "code",
   "execution_count": 4,
   "metadata": {},
   "outputs": [
    {
     "data": {
      "text/plain": [
       "781"
      ]
     },
     "execution_count": 4,
     "metadata": {},
     "output_type": "execute_result"
    }
   ],
   "source": [
    "questions = pd.read_csv(open('/Users/natalipeeva/Desktop/Clean work/questions.csv', 'r'))\n",
    "urls = sum(map(lambda x: x.split('\\n'), questions[questions['URLs'].notnull()]['URLs']), [])\n",
    "urls = list(map(lambda x: x if x.startswith('http') else f'https://{x}', urls))\n",
    "len(urls)"
   ]
  },
  {
   "cell_type": "code",
   "execution_count": 5,
   "metadata": {},
   "outputs": [],
   "source": [
    "# filter by domains\n",
    "domains = ['www.amsterdam.nl', 'www.rijksoverheid.nl', 'www.ggd.amsterdam.nl', 'www.rivm.nl']\n",
    "filtered_df = filter_by_domains(questions, domains)\n",
    "filtered_df.info()"
   ]
  },
  {
   "cell_type": "code",
   "execution_count": 8,
   "metadata": {},
   "outputs": [],
   "source": [
    "# Create a short test set\n",
    "test = filtered_df.head(5)\n",
    "test_urls = sum(map(lambda x: x.split('\\n'),  test[test['URLs'].notnull()]['URLs']), [])\n",
    "test_urls = list(map(lambda x: x if x.startswith('http') else f'https://{x}', test_urls))\n",
    "len(test_urls)"
   ]
  },
  {
   "cell_type": "code",
   "execution_count": 9,
   "metadata": {},
   "outputs": [
    {
     "data": {
      "text/plain": [
       "['https://www.rivm.nl/coronavirus-covid-19/onderzoek',\n",
       " 'https://www.amsterdam.nl/veelgevraagd/?caseid=%7BD6E280FB-4A76-40A0-9B88-12B87E446FA6%7D',\n",
       " 'https://www.ggd.amsterdam.nl/gezond-wonen/zwemmen-open-water/',\n",
       " 'https://www.ggd.amsterdam.nl/publish/pages/858771/180110_notitie_op_weg_naar_een_rookvrij_amsterdam.p',\n",
       " 'https://www.rijksoverheid.nl/documenten/kamerstukken/2021/07/06/kamerbrief-over-de-gevolgen-van-de-uitspraak-van-de-raad-van-state-over-de-milieubeoordeling-voor-windturbinenormen',\n",
       " 'https://www.rijksoverheid.nl/documenten/kamerstukken/2021/07/06/kamerbrief-over-de-gevolgen-van-de-uitspraak-van-de-raad-van-state-over-de-milieubeoordeling-voor-windturbinenormen']"
      ]
     },
     "execution_count": 9,
     "metadata": {},
     "output_type": "execute_result"
    }
   ],
   "source": [
    "# Clean URLs\n",
    "clean_test = clean_urls(test_urls)\n",
    "clean_test"
   ]
  },
  {
   "cell_type": "code",
   "execution_count": 47,
   "metadata": {},
   "outputs": [],
   "source": [
    "collected = apply_url_fetching(clean_test, 5) ### TODO ### check if the timeout works "
   ]
  }
 ],
 "metadata": {
  "kernelspec": {
   "display_name": "base",
   "language": "python",
   "name": "python3"
  },
  "language_info": {
   "codemirror_mode": {
    "name": "ipython",
    "version": 3
   },
   "file_extension": ".py",
   "mimetype": "text/x-python",
   "name": "python",
   "nbconvert_exporter": "python",
   "pygments_lexer": "ipython3",
   "version": "3.8.5"
  },
  "orig_nbformat": 4,
  "vscode": {
   "interpreter": {
    "hash": "ea4c3bcc219a1292b0d1d9543a9b9f82ed18a35340190a3cbd50b3110bbb4e55"
   }
  }
 },
 "nbformat": 4,
 "nbformat_minor": 2
}
