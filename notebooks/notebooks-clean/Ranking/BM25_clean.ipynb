{
 "cells": [
  {
   "cell_type": "code",
   "execution_count": 1,
   "metadata": {},
   "outputs": [
    {
     "name": "stdout",
     "output_type": "stream",
     "text": [
      "/Users/natalipeeva/Documents/GitHub/Automatic-Answering-of-City-Council-Questions\n"
     ]
    }
   ],
   "source": [
    "%cd /Users/natalipeeva/Documents/GitHub/Automatic-Answering-of-City-Council-Questions/"
   ]
  },
  {
   "cell_type": "code",
   "execution_count": 2,
   "metadata": {},
   "outputs": [],
   "source": [
    "import sys\n",
    "import os\n",
    "src_dir = os.path.join(os.getcwd(), 'src')\n",
    "sys.path.append(src_dir)\n",
    "\n",
    "from read_data.read_data import read_urls_questions, get_questions, get_url_content_tuples, get_relevant_docs\n",
    "from elasticsearch import Elasticsearch\n",
    "from retrieval.sparse_retrieval.bm25 import set_index, get_result_tuples"
   ]
  },
  {
   "cell_type": "code",
   "execution_count": 3,
   "metadata": {},
   "outputs": [],
   "source": [
    "es_client = Elasticsearch(\"http://localhost:9200\")"
   ]
  },
  {
   "cell_type": "code",
   "execution_count": 36,
   "metadata": {},
   "outputs": [],
   "source": [
    "collected, questions =  read_urls_questions(os.path.join('data/reference_urls/reference_urls_collected.csv'),\n",
    "                                            os.path.join('data/question_answer/questions_updated_urls.csv'), clean_url_nan=True) # read collected urls and questions + remove unsuccessful collection"
   ]
  },
  {
   "cell_type": "code",
   "execution_count": 5,
   "metadata": {},
   "outputs": [],
   "source": [
    "df_filtered = questions[~questions['URLs'].apply(lambda urls: any(url.startswith(\"https://www.rijksoverheid.nl/\") for url in urls))]"
   ]
  },
  {
   "cell_type": "code",
   "execution_count": 22,
   "metadata": {},
   "outputs": [],
   "source": [
    "import ast"
   ]
  },
  {
   "cell_type": "code",
   "execution_count": 23,
   "metadata": {},
   "outputs": [],
   "source": [
    "urls_lists = []\n",
    "for i in range(len(questions)):\n",
    "        urls = list(ast.literal_eval(questions['URLs'][i]))\n",
    "        urls_lists.append(urls)"
   ]
  },
  {
   "cell_type": "code",
   "execution_count": 24,
   "metadata": {},
   "outputs": [],
   "source": [
    "questions['Cleaned_URLs'] = urls_lists"
   ]
  },
  {
   "cell_type": "code",
   "execution_count": 37,
   "metadata": {},
   "outputs": [],
   "source": [
    "# Assuming your DataFrame is named 'questions' and the column with URLs is named 'URLs'\n",
    "filtered_questions = questions[questions['Cleaned_URLs'].apply(lambda urls: any(url.startswith('https://www.amsterdam.nl') for url in urls))]\n",
    "\n",
    "# The 'filtered_questions' DataFrame will contain only the questions with at least one URL starting with 'https://amsterdam.nl'\n",
    "col_urls = set(list(collected['URL'])) # check how many common items i have - unfortunately only 20\n",
    "list_of_lists= list(filtered_questions['Cleaned_URLs'])\n",
    "flattened_list = [item for sublist in list_of_lists for item in sublist]\n",
    "# Assuming your two lists are named 'list1' and 'list2'\n",
    "common_items = set(col_urls).intersection(flattened_list)\n",
    "\n",
    "filtered_questions2 = questions[questions['URLs'].apply(lambda urls: any(url in urls for url in common_items))]"
   ]
  },
  {
   "cell_type": "code",
   "execution_count": 48,
   "metadata": {},
   "outputs": [],
   "source": [
    "filtered = collected[collected['URL'].str.startswith('https://www.amsterdam.nl')]"
   ]
  },
  {
   "cell_type": "code",
   "execution_count": 49,
   "metadata": {},
   "outputs": [
    {
     "data": {
      "text/html": [
       "<div>\n",
       "<style scoped>\n",
       "    .dataframe tbody tr th:only-of-type {\n",
       "        vertical-align: middle;\n",
       "    }\n",
       "\n",
       "    .dataframe tbody tr th {\n",
       "        vertical-align: top;\n",
       "    }\n",
       "\n",
       "    .dataframe thead th {\n",
       "        text-align: right;\n",
       "    }\n",
       "</style>\n",
       "<table border=\"1\" class=\"dataframe\">\n",
       "  <thead>\n",
       "    <tr style=\"text-align: right;\">\n",
       "      <th></th>\n",
       "      <th>Unnamed: 0</th>\n",
       "      <th>URL</th>\n",
       "      <th>Content</th>\n",
       "      <th>Textual_Content</th>\n",
       "      <th>Exception</th>\n",
       "    </tr>\n",
       "  </thead>\n",
       "  <tbody>\n",
       "    <tr>\n",
       "      <th>1</th>\n",
       "      <td>1</td>\n",
       "      <td>https://www.amsterdam.nl/veelgevraagd/?caseid=...</td>\n",
       "      <td>&lt;!DOCTYPE html&gt;\\n\\n&lt;html lang=\"nl\"&gt;\\n&lt;head pre...</td>\n",
       "      <td>\\n\\n\\n\\nMag ik in Amsterdam zwemmen in open wa...</td>\n",
       "      <td>NaN</td>\n",
       "    </tr>\n",
       "    <tr>\n",
       "      <th>8</th>\n",
       "      <td>8</td>\n",
       "      <td>https://www.amsterdam.nl/zorg-ondersteuning/on...</td>\n",
       "      <td>&lt;!DOCTYPE html&gt;\\n\\n&lt;html lang=\"nl\"&gt;\\n&lt;head pre...</td>\n",
       "      <td>\\n\\n\\n\\nOngedocumenteerden - Gemeente Amsterda...</td>\n",
       "      <td>NaN</td>\n",
       "    </tr>\n",
       "    <tr>\n",
       "      <th>9</th>\n",
       "      <td>9</td>\n",
       "      <td>https://www.amsterdam.nl/zorg-ondersteuning/on...</td>\n",
       "      <td>&lt;!DOCTYPE html&gt;\\n\\n&lt;html lang=\"nl\"&gt;\\n&lt;head pre...</td>\n",
       "      <td>\\n\\n\\n\\nOngedocumenteerden - Gemeente Amsterda...</td>\n",
       "      <td>NaN</td>\n",
       "    </tr>\n",
       "    <tr>\n",
       "      <th>15</th>\n",
       "      <td>15</td>\n",
       "      <td>https://www.amsterdam.nl/wonen-leefomgeving/gr...</td>\n",
       "      <td>&lt;!DOCTYPE html&gt;\\n\\n&lt;html lang=\"nl\"&gt;\\n&lt;head pre...</td>\n",
       "      <td>\\n\\n\\n\\nGroene stad - Gemeente Amsterdam\\n\\n\\n...</td>\n",
       "      <td>NaN</td>\n",
       "    </tr>\n",
       "    <tr>\n",
       "      <th>17</th>\n",
       "      <td>17</td>\n",
       "      <td>https://www.amsterdam.nl/privacy/loket/</td>\n",
       "      <td>&lt;!DOCTYPE html&gt;\\n\\n&lt;html lang=\"nl\"&gt;\\n&lt;head pre...</td>\n",
       "      <td>\\n\\n\\n\\nLoket persoonsgegevens gemeente Amster...</td>\n",
       "      <td>NaN</td>\n",
       "    </tr>\n",
       "    <tr>\n",
       "      <th>...</th>\n",
       "      <td>...</td>\n",
       "      <td>...</td>\n",
       "      <td>...</td>\n",
       "      <td>...</td>\n",
       "      <td>...</td>\n",
       "    </tr>\n",
       "    <tr>\n",
       "      <th>199</th>\n",
       "      <td>199</td>\n",
       "      <td>https://www.amsterdam.nl/veelgevraagd/?product...</td>\n",
       "      <td>&lt;!DOCTYPE html&gt;\\n\\n&lt;html lang=\"nl\"&gt;\\n&lt;head pre...</td>\n",
       "      <td>\\n\\n\\n\\nFilmen en fotograferen in de gemeente ...</td>\n",
       "      <td>NaN</td>\n",
       "    </tr>\n",
       "    <tr>\n",
       "      <th>202</th>\n",
       "      <td>202</td>\n",
       "      <td>https://www.amsterdam.nl/sociaaldomein/zorgpro...</td>\n",
       "      <td>&lt;!DOCTYPE html&gt;\\n\\n&lt;html lang=\"nl\"&gt;\\n&lt;head pre...</td>\n",
       "      <td>\\n\\n\\n\\nAdviseurs sociale basis (preventie HGK...</td>\n",
       "      <td>NaN</td>\n",
       "    </tr>\n",
       "    <tr>\n",
       "      <th>203</th>\n",
       "      <td>203</td>\n",
       "      <td>https://www.amsterdam.nl/nrga/</td>\n",
       "      <td>&lt;!DOCTYPE html&gt;\\n\\n&lt;html lang=\"nl\"&gt;\\n&lt;head pre...</td>\n",
       "      <td>\\n\\n\\n\\nNieuwe Rechtspositieregeling Gemeente ...</td>\n",
       "      <td>NaN</td>\n",
       "    </tr>\n",
       "    <tr>\n",
       "      <th>204</th>\n",
       "      <td>204</td>\n",
       "      <td>https://www.amsterdam.nl/nieuws/kennisgevingen...</td>\n",
       "      <td>&lt;!DOCTYPE html&gt;\\n\\n&lt;html lang=\"nl\"&gt;\\n&lt;head pre...</td>\n",
       "      <td>\\n\\n\\n\\nKennisgevingen en bekendmakingen - Gem...</td>\n",
       "      <td>NaN</td>\n",
       "    </tr>\n",
       "    <tr>\n",
       "      <th>214</th>\n",
       "      <td>214</td>\n",
       "      <td>https://www.amsterdam.nl/zorg-ondersteuning/on...</td>\n",
       "      <td>&lt;!DOCTYPE html&gt;\\n\\n&lt;html lang=\"nl\"&gt;\\n&lt;head pre...</td>\n",
       "      <td>\\n\\n\\n\\nHulp voor dak- of thuislozen - Gemeent...</td>\n",
       "      <td>NaN</td>\n",
       "    </tr>\n",
       "  </tbody>\n",
       "</table>\n",
       "<p>80 rows × 5 columns</p>\n",
       "</div>"
      ],
      "text/plain": [
       "     Unnamed: 0                                                URL  \\\n",
       "1             1  https://www.amsterdam.nl/veelgevraagd/?caseid=...   \n",
       "8             8  https://www.amsterdam.nl/zorg-ondersteuning/on...   \n",
       "9             9  https://www.amsterdam.nl/zorg-ondersteuning/on...   \n",
       "15           15  https://www.amsterdam.nl/wonen-leefomgeving/gr...   \n",
       "17           17            https://www.amsterdam.nl/privacy/loket/   \n",
       "..          ...                                                ...   \n",
       "199         199  https://www.amsterdam.nl/veelgevraagd/?product...   \n",
       "202         202  https://www.amsterdam.nl/sociaaldomein/zorgpro...   \n",
       "203         203                     https://www.amsterdam.nl/nrga/   \n",
       "204         204  https://www.amsterdam.nl/nieuws/kennisgevingen...   \n",
       "214         214  https://www.amsterdam.nl/zorg-ondersteuning/on...   \n",
       "\n",
       "                                               Content  \\\n",
       "1    <!DOCTYPE html>\\n\\n<html lang=\"nl\">\\n<head pre...   \n",
       "8    <!DOCTYPE html>\\n\\n<html lang=\"nl\">\\n<head pre...   \n",
       "9    <!DOCTYPE html>\\n\\n<html lang=\"nl\">\\n<head pre...   \n",
       "15   <!DOCTYPE html>\\n\\n<html lang=\"nl\">\\n<head pre...   \n",
       "17   <!DOCTYPE html>\\n\\n<html lang=\"nl\">\\n<head pre...   \n",
       "..                                                 ...   \n",
       "199  <!DOCTYPE html>\\n\\n<html lang=\"nl\">\\n<head pre...   \n",
       "202  <!DOCTYPE html>\\n\\n<html lang=\"nl\">\\n<head pre...   \n",
       "203  <!DOCTYPE html>\\n\\n<html lang=\"nl\">\\n<head pre...   \n",
       "204  <!DOCTYPE html>\\n\\n<html lang=\"nl\">\\n<head pre...   \n",
       "214  <!DOCTYPE html>\\n\\n<html lang=\"nl\">\\n<head pre...   \n",
       "\n",
       "                                       Textual_Content Exception  \n",
       "1    \\n\\n\\n\\nMag ik in Amsterdam zwemmen in open wa...       NaN  \n",
       "8    \\n\\n\\n\\nOngedocumenteerden - Gemeente Amsterda...       NaN  \n",
       "9    \\n\\n\\n\\nOngedocumenteerden - Gemeente Amsterda...       NaN  \n",
       "15   \\n\\n\\n\\nGroene stad - Gemeente Amsterdam\\n\\n\\n...       NaN  \n",
       "17   \\n\\n\\n\\nLoket persoonsgegevens gemeente Amster...       NaN  \n",
       "..                                                 ...       ...  \n",
       "199  \\n\\n\\n\\nFilmen en fotograferen in de gemeente ...       NaN  \n",
       "202  \\n\\n\\n\\nAdviseurs sociale basis (preventie HGK...       NaN  \n",
       "203  \\n\\n\\n\\nNieuwe Rechtspositieregeling Gemeente ...       NaN  \n",
       "204  \\n\\n\\n\\nKennisgevingen en bekendmakingen - Gem...       NaN  \n",
       "214  \\n\\n\\n\\nHulp voor dak- of thuislozen - Gemeent...       NaN  \n",
       "\n",
       "[80 rows x 5 columns]"
      ]
     },
     "execution_count": 49,
     "metadata": {},
     "output_type": "execute_result"
    }
   ],
   "source": [
    "filtered"
   ]
  },
  {
   "cell_type": "code",
   "execution_count": 53,
   "metadata": {},
   "outputs": [],
   "source": [
    "filtered_questions.to_csv('data/question_answer/amsterdam_questions.csv')"
   ]
  },
  {
   "cell_type": "code",
   "execution_count": 38,
   "metadata": {},
   "outputs": [
    {
     "data": {
      "text/plain": [
       "[['https://www.amsterdam.nl/veelgevraagd/?caseid=%7BD6E280FB-4A76-40A0-9B88-12B87E446FA6%7D',\n",
       "  'https://www.ggd.amsterdam.nl/gezond-wonen/zwemmen-open-water/'],\n",
       " ['https://www.amsterdam.nl/zorg-ondersteuning/ondersteuning/vluchtelingen/ongedocumenteerden/'],\n",
       " ['https://www.amsterdam.nl/zorg-ondersteuning/ondersteuning/vluchtelingen/ongedocumenteerden/'],\n",
       " ['https://www.amsterdam.nl/wonen-leefomgeving/groene-stad'],\n",
       " ['https://www.amsterdam.nl/privacy/loket/'],\n",
       " ['https://www.amsterdam.nl/veelgevraagd/?productid='],\n",
       " ['https://www.amsterdam.nl/projecten/noorderpark/'],\n",
       " ['https://www.amsterdam.nl/nieuwsbrieven/bestuur-organisatie/gemeenteraad/dagmails/2020/juni/5-juni-2020/?utm_source=nieuwsbrief&utm_medium=e-mail&utm_term=20200605&utm_content=link_ID0AS5BI055BI&utm_campaign=Dagmail%2520gemeenteraad%2520Amsterdam%252'],\n",
       " ['https://www.amsterdam.nl/sociaaldomein/zorg-jeugd/artikelen/specialistische-jeugdhulp-speciaal/'],\n",
       " ['https://www.amsterdam.nl/zorg-ondersteuning/ondersteuning/dak-of-thuisloos/?vkurl=dakloos'],\n",
       " ['https://www.amsterdam.nl/wonen-leefomgeving/zelfbouw/'],\n",
       " ['https://www.amsterdam.nl/wonen-leefomgeving/vastgoedprofessionals/?vkurl=vastgoedprofessionals'],\n",
       " ['https://www.amsterdam.nl/parkeren/parkeren-reizen/'],\n",
       " ['https://www.amsterdam.nl/bestuur-organisatie/organisatie/overige/acvz/verwerking-persoonsgegevens-acvz/'],\n",
       " ['https://www.amsterdam.nl/veelgevraagd/?productid=%7B249D3A8E-ED07-4E4C-BFAD-49F174342FD5%7D'],\n",
       " ['https://www.amsterdam.nl/bestuur-organisatie/volg-beleid/coalitieakkoord-uitvoeringsagenda/gezonde-duurzame-stad/klimaatneutraal/'],\n",
       " ['https://www.amsterdam.nl/wonen-leefomgeving/erfpacht/?vkurl=erfpacht'],\n",
       " ['https://www.rivm.nl/publicaties/health-effects-related-to-wind-turbine-sound-update',\n",
       "  'https://www.amsterdam.nl/wonen-leefomgeving/duurzaam-amsterdam/aan-de-slag-met-zonne-energie/?vkurl=zon'],\n",
       " ['https://www.amsterdam.nl/nieuwsbrieven/bestuur-organisatie/gemeenteraad/dagmails/2021/maart/donderdag-11-maart-2021/'],\n",
       " ['https://www.amsterdam.nl/nieuwsbrieven/bestuur-organisatie/gemeenteraad/dagmails/2021/maart/donderdag-11-maart-2021/'],\n",
       " ['https://www.amsterdam.nl/veelgevraagd/?caseid=%7B2A574844-AA85-4A2C-8CD3-8CB494F4997E%7D'],\n",
       " ['https://www.amsterdam.nl/publish/pages/931968/raadsbrief_positief_perspectief_-_weerbaar_opgroeien_in_amsterdam.pdf'],\n",
       " ['https://www.amsterdam.nl/tipstegeninbraak'],\n",
       " ['https://www.amsterdam.nl/ondernemen/bedrijfsruimte/vastgoed/maatwerkregeling-huurders-gemeente/?vkurl=maatwerkregeling'],\n",
       " ['https://www.amsterdam.nl/vga/nadeelcompensatie/bureau-nadeelcompensatie'],\n",
       " ['https://www.amsterdam.nl/ondernemen/ondersteuning/?vkurl=sterkerondernemen'],\n",
       " ['https://www.amsterdam.nl/bestuur-organisatie/volg-beleid/groen/bomen/'],\n",
       " ['https://www.amsterdam.nl/projecten/elzenhagen-zuid/thema/bomenkap-aanplant-groen/'],\n",
       " ['https://www.amsterdam.nl/', 'https://www.amsterdam.nl/'],\n",
       " ['https://www.amsterdam.nl/',\n",
       "  'https://www.amsterdam.nl/',\n",
       "  'https://www.amsterdam.nl/',\n",
       "  'https://www.amsterdam.nl/',\n",
       "  'https://www.amsterdam.nl/',\n",
       "  'https://www.amsterdam.nl/'],\n",
       " ['https://www.amsterdam.nl/sociaaldomein/nederlandse-taal/kwaliteitsconvenant-taal-inburgering/'],\n",
       " ['https://www.amsterdam.nl/veelgevraagd/?caseid=%7B0509871D-A851-40C4-8C1A-E79B5E121D67%7D'],\n",
       " ['https://www.amsterdam.nl/veelgevraagd/?productid='],\n",
       " ['https://www.amsterdam.nl/ondernemen/inkoop-opdrachten/externe-inzet/'],\n",
       " ['https://www.amsterdam.nl/ondernemen/ondersteuning/?vkurl=sterkerondernemen'],\n",
       " ['https://www.amsterdam.nl/bestuur-organisatie/organisatie/overige/acvz/?vkurl=acvz'],\n",
       " ['https://www.amsterdam.nl/bestuur-organisatie/organisatie/overige/acvz/verwerking-persoonsgegevens-acvz/'],\n",
       " ['https://www.amsterdam.nl/bestuur-organisatie/organisatie/overige/acvz/?vkurl=acvz'],\n",
       " ['https://www.amsterdam.nl/bestuur-organisatie/organisatie/overige/acvz/verwerking-persoonsgegevens-acvz/'],\n",
       " ['https://www.amsterdam.nl/verkeer-vervoer/fiets/fietsdepot/fiets-graveren/'],\n",
       " ['https://www.amsterdam.nl/komop'],\n",
       " ['https://www.amsterdam.nl/komop'],\n",
       " ['https://www.amsterdam.nl/nieuwsbrieven/bestuur-organisatie/gemeenteraad/dagmails/2021/maart/donderdag-11-maart-2021/'],\n",
       " ['https://www.amsterdam.nl/nieuwsbrieven/bestuur-organisatie/gemeenteraad/dagmails/2021/maart/donderdag-11-maart-2021/'],\n",
       " ['https://www.amsterdam.nl/nieuwsbrieven/bestuur-organisatie/gemeenteraad/dagmails/2021/maart/donderdag-11-maart-2021/'],\n",
       " ['https://www.amsterdam.nl/zorg-ondersteuning/hulp-zorg-betalen/persoonsgebonden/?vkurl=pgb'],\n",
       " ['https://www.amsterdam.nl/nieuws/kennisgevingen-bekendmakingen/'],\n",
       " ['https://www.amsterdam.nl/nieuws/kennisgevingen-bekendmakingen/'],\n",
       " ['https://www.amsterdam.nl/'],\n",
       " ['https://www.amsterdam.nl/ondernemen'],\n",
       " ['https://www.amsterdam.nl/bestuur-organisatie/organisatie/bestuur-organisatie/bureau-internationale-betrekkingen/?vkurl=internationaal'],\n",
       " ['https://www.amsterdam.nl/bestuur-organisatie/organisatie/bestuur-organisatie/bureau-internationale-betrekkingen/?vkurl=internationaal'],\n",
       " ['https://www.amsterdam.nl/veelgevraagd/?productid=%7BD5F9EF09-0F3A-4E59-8435-4873EB7CD609%7D#case_%7B33F0B504-EDEB-42EE-A8C5-7EF394F65D3A%7D#'],\n",
       " ['https://www.amsterdam.nl/'],\n",
       " ['https://www.amsterdam.nl/',\n",
       "  'https://www.amsterdam.nl/veelgevraagd/?productid=%7B87FAD1C9-60E9-4CEA-B9AE-6D5594A0E841%7D#case_%7B63E55F58-F93C-4A68-BEAA-896C8F8FBBB1%7D)'],\n",
       " ['https://www.amsterdam.nl/wonen-leefomgeving/duurzaam-amsterdam/windmolens-amsterdam/reflectiefase/'],\n",
       " ['https://www.amsterdam.nl/wonen-leefomgeving/duurzaam-amsterdam/windmolens-amsterdam/klankbordgroepen-windmolens-amsterdam/'],\n",
       " ['https://www.amsterdam.nl/wonen-leefomgeving/wonen/funderingsloket/'],\n",
       " ['https://www.amsterdam.nl/projecten/osdorpplein/?vkurl=osdorpplein'],\n",
       " ['https://www.amsterdam.nl/wonen-leefomgeving/duurzaam-amsterdam/aan-de-slag-met-zonne-energie/?vkurl=zon'],\n",
       " ['https://www.amsterdam.nl/sociaaldomein/onderwijs-leerplicht/mbo-agenda/'],\n",
       " ['https://www.amsterdam.nl/wonen-leefomgeving/zelfbouw/wooncooperatie/kaartenbak-wooncooperaties/'],\n",
       " ['https://www.amsterdam.nl/bestuur-organisatie/organisaties/organisaties/integriteit/?vkurl=integriteit'],\n",
       " ['https://www.amsterdam.nl/verkeer-vervoer/milieuzone-amsterdam/?vkurl=milieuzone'],\n",
       " ['https://www.amsterdam.nl/wonen-leefomgeving/duurzaam-amsterdam/aan-de-slag-met-zonne-energie/?vkurl=zon'],\n",
       " ['https://www.amsterdam.nl/zorg-ondersteuning/ondersteuning/vluchtelingen/24-uursopvang-ongedocumenteerden/'],\n",
       " ['https://www.amsterdam.nl/subsidies/subsidies-onderwerp/subsidies-ondernemen/'],\n",
       " ['https://www.amsterdam.nl/projecten/arenapoort'],\n",
       " ['https://www.amsterdam.nl/veelgevraagd/?productid=%7B0497C2EC-D574-42FC-BB56-140DD7641EC5%7D'],\n",
       " ['https://www.amsterdam.nl/sociaaldomein/zorgprofessionals/huiselijk-geweld-en/adviseurs-sociale-basis-(preventie-hgkm)/'],\n",
       " ['https://www.amsterdam.nl/nrga/'],\n",
       " ['https://www.amsterdam.nl/nieuws/kennisgevingen-bekendmakingen/?vkurl=bekendmakingen'],\n",
       " ['https://www.amsterdam.nl/zorg-ondersteuning/ondersteuning/dak-of-thuisloos/?vkurl=dakloos']]"
      ]
     },
     "execution_count": 38,
     "metadata": {},
     "output_type": "execute_result"
    }
   ],
   "source": [
    "list(filtered_questions['Cleaned_URLs'])"
   ]
  },
  {
   "cell_type": "code",
   "execution_count": 8,
   "metadata": {},
   "outputs": [],
   "source": [
    "question_list = get_questions(filtered_questions2)\n",
    "document_list = get_url_content_tuples(collected)\n",
    "mappings = {\n",
    "        \"properties\": {\n",
    "            \"url\": {\"type\": \"text\"},\n",
    "            \"text\": {\"type\": \"text\", \"analyzer\": \"standard\", \"similarity\": \"BM25\"}\n",
    "    }\n",
    "}"
   ]
  },
  {
   "cell_type": "code",
   "execution_count": 9,
   "metadata": {},
   "outputs": [],
   "source": [
    "es_client = set_index(es_client=es_client, collected=collected, mappings=mappings) # 48 secs"
   ]
  },
  {
   "cell_type": "code",
   "execution_count": 60,
   "metadata": {},
   "outputs": [],
   "source": [
    "results = get_result_tuples(es_client=es_client, questions=question_list, n=10) # 15 gives the best results ; when i set it to 5 gives 0,26"
   ]
  },
  {
   "cell_type": "code",
   "execution_count": 61,
   "metadata": {},
   "outputs": [],
   "source": [
    "from irmetrics.topk import recall"
   ]
  },
  {
   "cell_type": "code",
   "execution_count": 62,
   "metadata": {},
   "outputs": [],
   "source": [
    "predictions = []\n",
    "for question in results.keys():\n",
    "    urls = []\n",
    "    for result in results[question][1]:\n",
    "        urls.append(result['url'])\n",
    "    predictions.append(list(set(urls)))"
   ]
  },
  {
   "cell_type": "code",
   "execution_count": 63,
   "metadata": {},
   "outputs": [],
   "source": [
    "relevant_docs = get_relevant_docs(df_filtered)"
   ]
  },
  {
   "cell_type": "code",
   "execution_count": 64,
   "metadata": {},
   "outputs": [],
   "source": [
    "true = []\n",
    "for question in relevant_docs.keys():\n",
    "    true.append(list(set(relevant_docs[question])))"
   ]
  },
  {
   "cell_type": "code",
   "execution_count": 65,
   "metadata": {},
   "outputs": [
    {
     "name": "stdout",
     "output_type": "stream",
     "text": [
      "Average Mean Reciprocal Rank: 0.017080745341614908\n"
     ]
    }
   ],
   "source": [
    "import numpy as np\n",
    "from irmetrics.topk import rr\n",
    "\n",
    "# Calculate the Mean Reciprocal Rank for each question\n",
    "mrr_values = []\n",
    "for i in range(len(predictions)):\n",
    "    true_values = true[i]\n",
    "    mrr = rr(true_values, predictions[i], k =10)\n",
    "    mrr_values.append(mrr)\n",
    "\n",
    "# Calculate the average Mean Reciprocal Rank\n",
    "average_mrr = np.mean(mrr_values)\n",
    "\n",
    "print(\"Average Mean Reciprocal Rank:\", average_mrr)\n"
   ]
  },
  {
   "cell_type": "code",
   "execution_count": 66,
   "metadata": {},
   "outputs": [
    {
     "name": "stdout",
     "output_type": "stream",
     "text": [
      "Average Mean Reciprocal Rank: 0.13043478260869565\n"
     ]
    }
   ],
   "source": [
    "from irmetrics.topk import recall\n",
    "\n",
    "# Calculate the Mean Reciprocal Rank for each question\n",
    "mrr_values = []\n",
    "for i in range(len(predictions)):\n",
    "    true_values = true[i]\n",
    "    mrr = recall(true_values, predictions[i], k=100)\n",
    "    mrr_values.append(mrr)\n",
    "\n",
    "# Calculate the average Mean Reciprocal Rank\n",
    "average_recall = np.mean(mrr_values)\n",
    "\n",
    "print(\"Average Mean Reciprocal Rank:\", average_recall)"
   ]
  }
 ],
 "metadata": {
  "kernelspec": {
   "display_name": "base",
   "language": "python",
   "name": "python3"
  },
  "language_info": {
   "codemirror_mode": {
    "name": "ipython",
    "version": 3
   },
   "file_extension": ".py",
   "mimetype": "text/x-python",
   "name": "python",
   "nbconvert_exporter": "python",
   "pygments_lexer": "ipython3",
   "version": "3.8.5"
  },
  "orig_nbformat": 4,
  "vscode": {
   "interpreter": {
    "hash": "ea4c3bcc219a1292b0d1d9543a9b9f82ed18a35340190a3cbd50b3110bbb4e55"
   }
  }
 },
 "nbformat": 4,
 "nbformat_minor": 2
}
