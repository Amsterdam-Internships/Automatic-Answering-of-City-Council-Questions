{
 "cells": [
  {
   "cell_type": "code",
   "execution_count": null,
   "metadata": {},
   "outputs": [],
   "source": [
    "# convert dataframe to a list of text? "
   ]
  },
  {
   "cell_type": "code",
   "execution_count": 1,
   "metadata": {},
   "outputs": [
    {
     "name": "stdout",
     "output_type": "stream",
     "text": [
      "/Users/natalipeeva/Documents/GitHub/Automatic-Answering-of-City-Council-Questions\n"
     ]
    }
   ],
   "source": [
    "%cd /Users/natalipeeva/Documents/GitHub/Automatic-Answering-of-City-Council-Questions/"
   ]
  },
  {
   "cell_type": "code",
   "execution_count": 2,
   "metadata": {},
   "outputs": [],
   "source": [
    "import sys\n",
    "import os\n",
    "src_dir = os.path.join(os.getcwd(), 'src')\n",
    "sys.path.append(src_dir)\n",
    "\n",
    "from read_data.read_data import read_urls_questions, get_questions, get_url_content_tuples, get_relevant_docs\n",
    "from elasticsearch import Elasticsearch\n",
    "from retrieval.sparse_retrieval.bm25 import set_index_paragraphs, query_es_index_paragraphs, get_result_tuples"
   ]
  },
  {
   "cell_type": "code",
   "execution_count": 3,
   "metadata": {},
   "outputs": [],
   "source": [
    "es_client = Elasticsearch(\"http://localhost:9200\")"
   ]
  },
  {
   "cell_type": "code",
   "execution_count": 4,
   "metadata": {},
   "outputs": [],
   "source": [
    "mappings = {\n",
    "    \"properties\": {\n",
    "        \"url\": {\"type\": \"text\"},\n",
    "        \"text\": {\"type\": \"text\", \"analyzer\": \"standard\", \"similarity\": \"BM25\"},\n",
    "        \"h1\": {\"type\": \"text\", \"analyzer\": \"standard\", \"similarity\": \"BM25\"},\n",
    "        \"h2\": {\"type\": \"text\", \"analyzer\": \"standard\", \"similarity\": \"BM25\"},\n",
    "        \"h3\": {\"type\": \"text\", \"analyzer\": \"standard\", \"similarity\": \"BM25\"},\n",
    "        \"h4\": {\"type\": \"text\", \"analyzer\": \"standard\", \"similarity\": \"BM25\"}\n",
    "    }\n",
    "}"
   ]
  },
  {
   "cell_type": "code",
   "execution_count": 5,
   "metadata": {},
   "outputs": [],
   "source": [
    "import pandas as pd"
   ]
  },
  {
   "cell_type": "code",
   "execution_count": 6,
   "metadata": {},
   "outputs": [],
   "source": [
    "collected = pd.read_csv('data/collected/paragraphs.csv')"
   ]
  },
  {
   "cell_type": "code",
   "execution_count": 7,
   "metadata": {},
   "outputs": [],
   "source": [
    "es_client = set_index_paragraphs(es_client=es_client, collected=collected, mappings=mappings) # 8:44 minutes"
   ]
  },
  {
   "cell_type": "code",
   "execution_count": 19,
   "metadata": {},
   "outputs": [],
   "source": [
    "col, questions =  read_urls_questions(os.path.join('data/reference_urls/reference_urls_collected.csv'),\n",
    "                                            os.path.join('data/question_answer/questions_updated_urls.csv'),\n",
    "                                            clean_url_nan=True) # read collected urls and questions + remove unsuccessful collection"
   ]
  },
  {
   "cell_type": "code",
   "execution_count": 20,
   "metadata": {},
   "outputs": [],
   "source": [
    "question_list = get_questions(questions)"
   ]
  },
  {
   "cell_type": "code",
   "execution_count": 21,
   "metadata": {},
   "outputs": [],
   "source": [
    "# Assuming your DataFrame is named 'questions' and the column with URLs is named 'URLs'\n",
    "filtered_questions = questions[questions['Cleaned_URLs'].apply(lambda urls: any(url.startswith('https://www.amsterdam.nl') for url in urls))]\n",
    "\n",
    "# The 'filtered_questions' DataFrame will contain only the questions with at least one URL starting with 'https://amsterdam.nl'"
   ]
  },
  {
   "cell_type": "code",
   "execution_count": 22,
   "metadata": {},
   "outputs": [],
   "source": [
    "col_urls = set(list(collected['url'])) # check how many common items i have - unfortunately only 20\n",
    "list_of_lists= list(filtered_questions['Cleaned_URLs'])\n",
    "flattened_list = [item for sublist in list_of_lists for item in sublist]\n",
    "# Assuming your two lists are named 'list1' and 'list2'\n",
    "common_items = set(col_urls).intersection(flattened_list)"
   ]
  },
  {
   "cell_type": "code",
   "execution_count": 23,
   "metadata": {},
   "outputs": [],
   "source": [
    "filtered_questions2 = questions[questions['URLs'].apply(lambda urls: any(url in urls for url in common_items))]\n",
    "\n",
    "# The 'filtered_questions' DataFrame will contain only the questions with URLs present in the 'url_list'\n"
   ]
  },
  {
   "cell_type": "code",
   "execution_count": 24,
   "metadata": {},
   "outputs": [],
   "source": [
    "question_list = get_questions(filtered_questions2)"
   ]
  },
  {
   "cell_type": "code",
   "execution_count": 25,
   "metadata": {},
   "outputs": [
    {
     "data": {
      "text/plain": [
       "23"
      ]
     },
     "execution_count": 25,
     "metadata": {},
     "output_type": "execute_result"
    }
   ],
   "source": [
    "len(question_list)"
   ]
  },
  {
   "cell_type": "code",
   "execution_count": 26,
   "metadata": {},
   "outputs": [],
   "source": [
    "def get_result_tuples(es_client, questions, index_name='qa_attempt1', n=10):\n",
    "\n",
    "    results = {}  # To store the results for all questions\n",
    "\n",
    "    for question in questions:\n",
    "        doc, res_list = query_es_index_paragraphs(question, es_client, index_name=index_name, n_results=n)\n",
    "        results[question] = (doc, res_list)  # it took 9 seconds to finish \n",
    "    \n",
    "    return results"
   ]
  },
  {
   "cell_type": "code",
   "execution_count": 34,
   "metadata": {},
   "outputs": [],
   "source": [
    "results = get_result_tuples(es_client=es_client, questions=question_list, n=250) # 8 seconds"
   ]
  },
  {
   "cell_type": "code",
   "execution_count": 35,
   "metadata": {},
   "outputs": [],
   "source": [
    "from retrieval.evaluation.evaluate import calculate_recall_at_k, calculate_average_recall"
   ]
  },
  {
   "cell_type": "code",
   "execution_count": 71,
   "metadata": {},
   "outputs": [],
   "source": [
    "def recall_k(results, relevant_docs, k):\n",
    "    \"\"\"\n",
    "    Compute Recall@K\n",
    "    Input:\n",
    "        results: A sorted list of tuples (document_id, score), with the most relevant document in the first position\n",
    "        relevant_docs: A set of relevant documents.\n",
    "        k: the cut-off\n",
    "    Output: Recall@K\n",
    "    \"\"\"\n",
    "    # Get unique document IDs from the results\n",
    "    unique_results = list(set(result[0] for result in results))\n",
    "\n",
    "    if k > len(unique_results):\n",
    "        k = len(unique_results)\n",
    "\n",
    "    relevant_count = 0\n",
    "    for i in range(k):\n",
    "        if unique_results[i] in relevant_docs:  # Check if result is in relevant\n",
    "            relevant_count += 1\n",
    "\n",
    "    k_recall = float(relevant_count) / float(len(relevant_docs))\n",
    "\n",
    "    return k_recall\n",
    "\n",
    "def get_k_urls(bm25_results):\n",
    "    urls = []\n",
    "    counter = 1\n",
    "    for result in bm25_results:\n",
    "\n",
    "        urls.append((result['url'], result['score']))\n",
    "        counter+=1\n",
    "    return urls\n",
    "\n",
    "def calculate_recall_at_k(queries, search_results, relevant_docs, k_values, ranking_method):\n",
    "    \"\"\"\n",
    "    Calculate Recall@K for a list of queries and specified values of k.\n",
    "    Input:\n",
    "        queries - a list of queries\n",
    "        collection: a list of tuples (document_id, document_content)\n",
    "        relevant_docs: a dictionary where the key is the query and the value is a set of relevant document IDs\n",
    "        k_values: a list of k values for recall calculation\n",
    "    Output: a dictionary where the key is the query and the value is a dictionary of recall values at each k\n",
    "    \"\"\"\n",
    "    recall_results = {}\n",
    "\n",
    "    for query in queries:\n",
    "        if ranking_method=='bm25':\n",
    "            results = get_k_urls(search_results[query][1])\n",
    "        elif ranking_method=='tf-idf':\n",
    "            results = search_results[query]\n",
    "        relevant = relevant_docs[query]\n",
    "\n",
    "        recall_values = {}\n",
    "        for k in k_values:\n",
    "            recall = recall_k(results, relevant, k)\n",
    "            recall_values[k] = recall\n",
    "\n",
    "        recall_results[query] = recall_values\n",
    "\n",
    "    return recall_results\n",
    "\n",
    "\n",
    "def calculate_average_recall(recall_results):\n",
    "    \"\"\"\n",
    "    Calculate the average recall values per recall type from a dictionary of recall values.\n",
    "    Input:\n",
    "        recall_results: a dictionary where the key is the query and the value is a dictionary of recall values at each k\n",
    "    Output: a dictionary where the key is the recall type and the value is the average recall value\n",
    "    \"\"\"\n",
    "    average_recall = {}\n",
    "\n",
    "    for query_recall in recall_results.values():\n",
    "        for k, recall in query_recall.items():\n",
    "            if k not in average_recall:\n",
    "                average_recall[k] = 0.0\n",
    "            average_recall[k] += recall\n",
    "\n",
    "    query_count = len(recall_results)\n",
    "    for k in average_recall:\n",
    "        average_recall[k] /= query_count\n",
    "\n",
    "    return average_recall"
   ]
  },
  {
   "cell_type": "code",
   "execution_count": 72,
   "metadata": {},
   "outputs": [
    {
     "data": {
      "text/plain": [
       "{5: 0.0,\n",
       " 10: 0.0,\n",
       " 20: 0.08695652173913043,\n",
       " 30: 0.08695652173913043,\n",
       " 40: 0.13043478260869565,\n",
       " 50: 0.13043478260869565,\n",
       " 250: 0.2826086956521739}"
      ]
     },
     "execution_count": 72,
     "metadata": {},
     "output_type": "execute_result"
    }
   ],
   "source": [
    "relevant_docs = get_relevant_docs(questions)\n",
    "recalls = calculate_recall_at_k(question_list, results, relevant_docs, [5, 10, 20, 30, 40, 50, 250], 'bm25') # think of a metric similarity recall? \n",
    "calculate_average_recall(recalls) # recall at 20 is 0,26 which is pretty good considering we query a huge set of documents "
   ]
  },
  {
   "cell_type": "code",
   "execution_count": 59,
   "metadata": {},
   "outputs": [
    {
     "name": "stdout",
     "output_type": "stream",
     "text": [
      "https://www.amsterdam.nl/parkeren/parkeren-reizen/\n",
      "https://www.amsterdam.nl/veelgevraagd/?caseid=%7BD6E280FB-4A76-40A0-9B88-12B87E446FA6%7D\n",
      "https://www.amsterdam.nl/bestuur-organisatie/volg-beleid/groen/bomen/\n",
      "https://www.amsterdam.nl/veelgevraagd/?productid=%7B249D3A8E-ED07-4E4C-BFAD-49F174342FD5%7D\n",
      "https://www.amsterdam.nl/bestuur-organisatie/organisatie/overige/acvz/verwerking-persoonsgegevens-acvz/\n",
      "https://www.amsterdam.nl/wonen-leefomgeving/wonen/funderingsloket/\n",
      "https://www.amsterdam.nl/zorg-ondersteuning/ondersteuning/vluchtelingen/24-uursopvang-ongedocumenteerden/\n",
      "https://www.amsterdam.nl/wonen-leefomgeving/duurzaam-amsterdam/windmolens-amsterdam/reflectiefase/\n",
      "https://www.amsterdam.nl/wonen-leefomgeving/zelfbouw/\n",
      "https://www.amsterdam.nl/verkeer-vervoer/fiets/fietsdepot/fiets-graveren/\n",
      "https://www.amsterdam.nl/projecten/noorderpark/\n",
      "https://www.amsterdam.nl/veelgevraagd/?caseid=%7B2A574844-AA85-4A2C-8CD3-8CB494F4997E%7D\n",
      "https://www.amsterdam.nl/wonen-leefomgeving/zelfbouw/wooncooperatie/kaartenbak-wooncooperaties/\n",
      "https://www.amsterdam.nl/ondernemen/inkoop-opdrachten/externe-inzet/\n",
      "https://www.amsterdam.nl/subsidies/subsidies-onderwerp/subsidies-ondernemen/\n",
      "https://www.amsterdam.nl/veelgevraagd/?caseid=%7B0509871D-A851-40C4-8C1A-E79B5E121D67%7D\n",
      "https://www.amsterdam.nl/projecten/elzenhagen-zuid/thema/bomenkap-aanplant-groen/\n",
      "https://www.amsterdam.nl/veelgevraagd/?productid=%7B0497C2EC-D574-42FC-BB56-140DD7641EC5%7D\n",
      "https://www.amsterdam.nl/wonen-leefomgeving/duurzaam-amsterdam/windmolens-amsterdam/klankbordgroepen-windmolens-amsterdam/\n",
      "https://www.amsterdam.nl/zorg-ondersteuning/ondersteuning/vluchtelingen/ongedocumenteerden/\n"
     ]
    }
   ],
   "source": [
    "for item in common_items:\n",
    "    print(item)"
   ]
  },
  {
   "cell_type": "code",
   "execution_count": 40,
   "metadata": {},
   "outputs": [
    {
     "name": "stdout",
     "output_type": "stream",
     "text": [
      "https://www.amsterdam.nl/zorg-ondersteuning/ondersteuning/dak-of-thuisloos/?vkurl=dakloos\n",
      "https://www.amsterdam.nl/sociaaldomein/nederlandse-taal/kwaliteitsconvenant-taal-inburgering/\n",
      "https://www.amsterdam.nl/komop\n",
      "https://www.amsterdam.nl/bestuur-organisatie/volg-beleid/coalitieakkoord-uitvoeringsagenda/gezonde-duurzame-stad/klimaatneutraal/\n",
      "https://www.amsterdam.nl/nieuws/kennisgevingen-bekendmakingen/\n",
      "https://www.amsterdam.nl/nrga/\n",
      "https://www.rivm.nl/publicaties/health-effects-related-to-wind-turbine-sound-update\n",
      "https://www.amsterdam.nl/sociaaldomein/onderwijs-leerplicht/mbo-agenda/\n",
      "https://www.amsterdam.nl/sociaaldomein/zorgprofessionals/huiselijk-geweld-en/adviseurs-sociale-basis-(preventie-hgkm)/\n",
      "https://www.amsterdam.nl/wonen-leefomgeving/groene-stad\n",
      "https://www.amsterdam.nl/projecten/arenapoort\n",
      "https://www.amsterdam.nl/veelgevraagd/?productid=%7B87FAD1C9-60E9-4CEA-B9AE-6D5594A0E841%7D#case_%7B63E55F58-F93C-4A68-BEAA-896C8F8FBBB1%7D)\n",
      "https://www.amsterdam.nl/ondernemen/ondersteuning/?vkurl=sterkerondernemen\n",
      "https://www.ggd.amsterdam.nl/gezond-wonen/zwemmen-open-water/\n",
      "https://www.amsterdam.nl/sociaaldomein/zorg-jeugd/artikelen/specialistische-jeugdhulp-speciaal/\n",
      "https://www.amsterdam.nl/wonen-leefomgeving/duurzaam-amsterdam/aan-de-slag-met-zonne-energie/?vkurl=zon\n",
      "https://www.amsterdam.nl/\n",
      "https://www.amsterdam.nl/publish/pages/931968/raadsbrief_positief_perspectief_-_weerbaar_opgroeien_in_amsterdam.pdf\n",
      "https://www.amsterdam.nl/nieuwsbrieven/bestuur-organisatie/gemeenteraad/dagmails/2020/juni/5-juni-2020/?utm_source=nieuwsbrief&utm_medium=e-mail&utm_term=20200605&utm_content=link_ID0AS5BI055BI&utm_campaign=Dagmail%2520gemeenteraad%2520Amsterdam%252\n",
      "https://www.amsterdam.nl/vga/nadeelcompensatie/bureau-nadeelcompensatie\n",
      "https://www.amsterdam.nl/zorg-ondersteuning/hulp-zorg-betalen/persoonsgebonden/?vkurl=pgb\n",
      "https://www.amsterdam.nl/projecten/osdorpplein/?vkurl=osdorpplein\n",
      "https://www.amsterdam.nl/wonen-leefomgeving/erfpacht/?vkurl=erfpacht\n",
      "https://www.amsterdam.nl/bestuur-organisatie/organisaties/organisaties/integriteit/?vkurl=integriteit\n",
      "https://www.amsterdam.nl/bestuur-organisatie/organisatie/overige/acvz/?vkurl=acvz\n",
      "https://www.amsterdam.nl/bestuur-organisatie/organisatie/bestuur-organisatie/bureau-internationale-betrekkingen/?vkurl=internationaal\n",
      "https://www.amsterdam.nl/nieuws/kennisgevingen-bekendmakingen/?vkurl=bekendmakingen\n",
      "https://www.amsterdam.nl/wonen-leefomgeving/vastgoedprofessionals/?vkurl=vastgoedprofessionals\n",
      "https://www.amsterdam.nl/veelgevraagd/?productid=\n",
      "https://www.amsterdam.nl/tipstegeninbraak\n",
      "https://www.amsterdam.nl/verkeer-vervoer/milieuzone-amsterdam/?vkurl=milieuzone\n",
      "https://www.amsterdam.nl/ondernemen/bedrijfsruimte/vastgoed/maatwerkregeling-huurders-gemeente/?vkurl=maatwerkregeling\n",
      "https://www.amsterdam.nl/veelgevraagd/?productid=%7BD5F9EF09-0F3A-4E59-8435-4873EB7CD609%7D#case_%7B33F0B504-EDEB-42EE-A8C5-7EF394F65D3A%7D#\n",
      "https://www.amsterdam.nl/ondernemen\n",
      "https://www.amsterdam.nl/nieuwsbrieven/bestuur-organisatie/gemeenteraad/dagmails/2021/maart/donderdag-11-maart-2021/\n",
      "https://www.amsterdam.nl/privacy/loket/\n"
     ]
    }
   ],
   "source": [
    "for item in set(flattened_list):\n",
    "    if item not in col_urls:\n",
    "        print(item)"
   ]
  },
  {
   "cell_type": "code",
   "execution_count": 60,
   "metadata": {},
   "outputs": [],
   "source": [
    "predictions = []\n",
    "for question in results.keys():\n",
    "    urls = []\n",
    "    for result in results[question][1]:\n",
    "        urls.append(result['url'])\n",
    "    predictions.append(list(set(urls)))"
   ]
  },
  {
   "cell_type": "code",
   "execution_count": 61,
   "metadata": {},
   "outputs": [],
   "source": [
    "true = []\n",
    "for question in relevant_docs.keys():\n",
    "    true.append(list(set(relevant_docs[question])))"
   ]
  },
  {
   "cell_type": "code",
   "execution_count": 70,
   "metadata": {},
   "outputs": [
    {
     "name": "stdout",
     "output_type": "stream",
     "text": [
      "Average Mean Reciprocal Rank: 0.0\n"
     ]
    }
   ],
   "source": [
    "import numpy as np\n",
    "from irmetrics.topk import recall\n",
    "\n",
    "# Calculate the Mean Reciprocal Rank for each question\n",
    "mrr_values = []\n",
    "for i in range(len(predictions)):\n",
    "    true_values = true[i]\n",
    "    mrr = recall(true_values, predictions[i], k=30)\n",
    "    mrr_values.append(mrr)\n",
    "\n",
    "# Calculate the average Mean Reciprocal Rank\n",
    "average_recall = np.mean(mrr_values)\n",
    "\n",
    "print(\"Average Mean Reciprocal Rank:\", average_recall)\n"
   ]
  }
 ],
 "metadata": {
  "kernelspec": {
   "display_name": "base",
   "language": "python",
   "name": "python3"
  },
  "language_info": {
   "codemirror_mode": {
    "name": "ipython",
    "version": 3
   },
   "file_extension": ".py",
   "mimetype": "text/x-python",
   "name": "python",
   "nbconvert_exporter": "python",
   "pygments_lexer": "ipython3",
   "version": "3.8.5"
  },
  "orig_nbformat": 4,
  "vscode": {
   "interpreter": {
    "hash": "ea4c3bcc219a1292b0d1d9543a9b9f82ed18a35340190a3cbd50b3110bbb4e55"
   }
  }
 },
 "nbformat": 4,
 "nbformat_minor": 2
}
