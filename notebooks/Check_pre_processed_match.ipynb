{
 "cells": [
  {
   "cell_type": "code",
   "execution_count": 1,
   "metadata": {},
   "outputs": [],
   "source": [
    "import pandas as pd"
   ]
  },
  {
   "cell_type": "code",
   "execution_count": 5,
   "metadata": {},
   "outputs": [],
   "source": [
    "import pickle"
   ]
  },
  {
   "cell_type": "code",
   "execution_count": 3,
   "metadata": {},
   "outputs": [
    {
     "name": "stdout",
     "output_type": "stream",
     "text": [
      "/Users/natalipeeva/Desktop\n"
     ]
    }
   ],
   "source": [
    "%cd '/Users/natalipeeva/Desktop'"
   ]
  },
  {
   "cell_type": "code",
   "execution_count": 4,
   "metadata": {},
   "outputs": [],
   "source": [
    "filtered_amsterdam = pd.read_csv('filtered_ams_questions.csv')"
   ]
  },
  {
   "cell_type": "code",
   "execution_count": 6,
   "metadata": {},
   "outputs": [],
   "source": [
    "with open('supporting_docs_df.pickle', 'rb') as f:\n",
    "    supporting_documents= pickle.load(f)"
   ]
  },
  {
   "cell_type": "code",
   "execution_count": 7,
   "metadata": {},
   "outputs": [
    {
     "data": {
      "text/html": [
       "<div>\n",
       "<style scoped>\n",
       "    .dataframe tbody tr th:only-of-type {\n",
       "        vertical-align: middle;\n",
       "    }\n",
       "\n",
       "    .dataframe tbody tr th {\n",
       "        vertical-align: top;\n",
       "    }\n",
       "\n",
       "    .dataframe thead th {\n",
       "        text-align: right;\n",
       "    }\n",
       "</style>\n",
       "<table border=\"1\" class=\"dataframe\">\n",
       "  <thead>\n",
       "    <tr style=\"text-align: right;\">\n",
       "      <th></th>\n",
       "      <th>Unnamed: 0</th>\n",
       "      <th>Year</th>\n",
       "      <th>Month</th>\n",
       "      <th>Question</th>\n",
       "      <th>Answer</th>\n",
       "      <th>Document</th>\n",
       "      <th>URLs</th>\n",
       "      <th>Paths</th>\n",
       "      <th>Pre-processed Question</th>\n",
       "      <th>HTML</th>\n",
       "      <th>HTML Text</th>\n",
       "    </tr>\n",
       "  </thead>\n",
       "  <tbody>\n",
       "    <tr>\n",
       "      <th>0</th>\n",
       "      <td>615</td>\n",
       "      <td>2021</td>\n",
       "      <td>8</td>\n",
       "      <td>\\n \\n3. Huisartsen geven aan meer informatie n...</td>\n",
       "      <td>\\nDe uitvoerder van de regeling, het CAK, lij...</td>\n",
       "      <td>https://amsterdam.raadsinformatie.nl/document/...</td>\n",
       "      <td>https://www.amsterdam.nl/zorg-ondersteuning/on...</td>\n",
       "      <td>zorg-ondersteuning</td>\n",
       "      <td>huisarts gev informatie nodig declaratiemog ge...</td>\n",
       "      <td>&lt;!DOCTYPE html&gt;\\n\\n&lt;html lang=\"nl\"&gt;\\n&lt;head pre...</td>\n",
       "      <td>\\n\\n\\n\\nOngedocumenteerden - Gemeente Amsterda...</td>\n",
       "    </tr>\n",
       "    <tr>\n",
       "      <th>1</th>\n",
       "      <td>620</td>\n",
       "      <td>2021</td>\n",
       "      <td>8</td>\n",
       "      <td>\\n \\n8. Weten ongedocumenteerden de weg naar m...</td>\n",
       "      <td>\\nDe Kruispost wordt goed bezocht, maar het c...</td>\n",
       "      <td>https://amsterdam.raadsinformatie.nl/document/...</td>\n",
       "      <td>https://www.amsterdam.nl/zorg-ondersteuning/on...</td>\n",
       "      <td>zorg-ondersteuning</td>\n",
       "      <td>wet ongedocumenteerd weg medisch instell zoal ...</td>\n",
       "      <td>&lt;!DOCTYPE html&gt;\\n\\n&lt;html lang=\"nl\"&gt;\\n&lt;head pre...</td>\n",
       "      <td>\\n\\n\\n\\nOngedocumenteerden - Gemeente Amsterda...</td>\n",
       "    </tr>\n",
       "    <tr>\n",
       "      <th>2</th>\n",
       "      <td>856</td>\n",
       "      <td>2015</td>\n",
       "      <td>11</td>\n",
       "      <td>\\n \\n6. Het spuug zal door een speciaal daarto...</td>\n",
       "      <td>\\nEr zijn 50 BOA’s van GVB opgeleid om speeks...</td>\n",
       "      <td>https://amsterdam.raadsinformatie.nl/document/...</td>\n",
       "      <td>https://www.amsterdam.nl/wonen-leefomgeving/ve...</td>\n",
       "      <td>wonen-leefomgeving</td>\n",
       "      <td>spug speciaal daartoe getraind opsporingsambte...</td>\n",
       "      <td>&lt;!DOCTYPE html&gt;\\n\\n&lt;html lang=\"nl\"&gt;\\n&lt;head pre...</td>\n",
       "      <td>\\n\\n\\n\\nFout - Pagina niet gevonden - Gemeente...</td>\n",
       "    </tr>\n",
       "    <tr>\n",
       "      <th>3</th>\n",
       "      <td>1237</td>\n",
       "      <td>2022</td>\n",
       "      <td>7</td>\n",
       "      <td>\\n \\n4. Is het college tot nu toe tevreden met...</td>\n",
       "      <td>\\nJa, met de beschikbare middelen is de uitvo...</td>\n",
       "      <td>https://amsterdam.raadsinformatie.nl/document/...</td>\n",
       "      <td>www.amsterdam.nl/wonen-leefomgeving/groene-stad</td>\n",
       "      <td>wonen-leefomgeving</td>\n",
       "      <td>colleg toe tevred voortgang groenvisie</td>\n",
       "      <td>error</td>\n",
       "      <td>error</td>\n",
       "    </tr>\n",
       "    <tr>\n",
       "      <th>4</th>\n",
       "      <td>1587</td>\n",
       "      <td>2018</td>\n",
       "      <td>7</td>\n",
       "      <td>\\n \\n \\n \\n \\n \\n \\n \\n \\n  \\n2. In zijn react...</td>\n",
       "      <td>\\nHet inzichtelijk maken van het aantal meldi...</td>\n",
       "      <td>https://amsterdam.raadsinformatie.nl/document/...</td>\n",
       "      <td>https://www.amsterdam.nl/veelgevraagd/?productid=</td>\n",
       "      <td>veelgevraagd</td>\n",
       "      <td>reactie rapport schrijft colleg klopt all sign...</td>\n",
       "      <td>&lt;!DOCTYPE html&gt;\\n\\n&lt;html lang=\"nl\"&gt;\\n&lt;head pre...</td>\n",
       "      <td>\\n\\n\\n\\nVeelgevraagd - Gemeente Amsterdam\\n\\n\\...</td>\n",
       "    </tr>\n",
       "  </tbody>\n",
       "</table>\n",
       "</div>"
      ],
      "text/plain": [
       "   Unnamed: 0  Year  Month                                           Question  \\\n",
       "0         615  2021      8  \\n \\n3. Huisartsen geven aan meer informatie n...   \n",
       "1         620  2021      8  \\n \\n8. Weten ongedocumenteerden de weg naar m...   \n",
       "2         856  2015     11  \\n \\n6. Het spuug zal door een speciaal daarto...   \n",
       "3        1237  2022      7  \\n \\n4. Is het college tot nu toe tevreden met...   \n",
       "4        1587  2018      7  \\n \\n \\n \\n \\n \\n \\n \\n \\n  \\n2. In zijn react...   \n",
       "\n",
       "                                              Answer  \\\n",
       "0   \\nDe uitvoerder van de regeling, het CAK, lij...   \n",
       "1   \\nDe Kruispost wordt goed bezocht, maar het c...   \n",
       "2   \\nEr zijn 50 BOA’s van GVB opgeleid om speeks...   \n",
       "3   \\nJa, met de beschikbare middelen is de uitvo...   \n",
       "4   \\nHet inzichtelijk maken van het aantal meldi...   \n",
       "\n",
       "                                            Document  \\\n",
       "0  https://amsterdam.raadsinformatie.nl/document/...   \n",
       "1  https://amsterdam.raadsinformatie.nl/document/...   \n",
       "2  https://amsterdam.raadsinformatie.nl/document/...   \n",
       "3  https://amsterdam.raadsinformatie.nl/document/...   \n",
       "4  https://amsterdam.raadsinformatie.nl/document/...   \n",
       "\n",
       "                                                URLs               Paths  \\\n",
       "0  https://www.amsterdam.nl/zorg-ondersteuning/on...  zorg-ondersteuning   \n",
       "1  https://www.amsterdam.nl/zorg-ondersteuning/on...  zorg-ondersteuning   \n",
       "2  https://www.amsterdam.nl/wonen-leefomgeving/ve...  wonen-leefomgeving   \n",
       "3    www.amsterdam.nl/wonen-leefomgeving/groene-stad  wonen-leefomgeving   \n",
       "4  https://www.amsterdam.nl/veelgevraagd/?productid=        veelgevraagd   \n",
       "\n",
       "                              Pre-processed Question  \\\n",
       "0  huisarts gev informatie nodig declaratiemog ge...   \n",
       "1  wet ongedocumenteerd weg medisch instell zoal ...   \n",
       "2  spug speciaal daartoe getraind opsporingsambte...   \n",
       "3             colleg toe tevred voortgang groenvisie   \n",
       "4  reactie rapport schrijft colleg klopt all sign...   \n",
       "\n",
       "                                                HTML  \\\n",
       "0  <!DOCTYPE html>\\n\\n<html lang=\"nl\">\\n<head pre...   \n",
       "1  <!DOCTYPE html>\\n\\n<html lang=\"nl\">\\n<head pre...   \n",
       "2  <!DOCTYPE html>\\n\\n<html lang=\"nl\">\\n<head pre...   \n",
       "3                                              error   \n",
       "4  <!DOCTYPE html>\\n\\n<html lang=\"nl\">\\n<head pre...   \n",
       "\n",
       "                                           HTML Text  \n",
       "0  \\n\\n\\n\\nOngedocumenteerden - Gemeente Amsterda...  \n",
       "1  \\n\\n\\n\\nOngedocumenteerden - Gemeente Amsterda...  \n",
       "2  \\n\\n\\n\\nFout - Pagina niet gevonden - Gemeente...  \n",
       "3                                              error  \n",
       "4  \\n\\n\\n\\nVeelgevraagd - Gemeente Amsterdam\\n\\n\\...  "
      ]
     },
     "execution_count": 7,
     "metadata": {},
     "output_type": "execute_result"
    }
   ],
   "source": [
    "filtered_amsterdam.head()"
   ]
  },
  {
   "cell_type": "code",
   "execution_count": 13,
   "metadata": {},
   "outputs": [
    {
     "data": {
      "text/plain": [
       "'/onderwepen/amstrdam-sport/www.amsterdam.nl/sport/sportverhuur/tarieven-sportaccomm/index.html?print=true.html'"
      ]
     },
     "execution_count": 13,
     "metadata": {},
     "output_type": "execute_result"
    }
   ],
   "source": [
    "supporting_documents.tail()['URL'][11653]"
   ]
  }
 ],
 "metadata": {
  "kernelspec": {
   "display_name": "base",
   "language": "python",
   "name": "python3"
  },
  "language_info": {
   "codemirror_mode": {
    "name": "ipython",
    "version": 3
   },
   "file_extension": ".py",
   "mimetype": "text/x-python",
   "name": "python",
   "nbconvert_exporter": "python",
   "pygments_lexer": "ipython3",
   "version": "3.8.5"
  },
  "orig_nbformat": 4,
  "vscode": {
   "interpreter": {
    "hash": "ea4c3bcc219a1292b0d1d9543a9b9f82ed18a35340190a3cbd50b3110bbb4e55"
   }
  }
 },
 "nbformat": 4,
 "nbformat_minor": 2
}
