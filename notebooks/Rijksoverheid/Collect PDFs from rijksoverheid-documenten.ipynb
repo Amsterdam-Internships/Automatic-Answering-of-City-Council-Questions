{
 "cells": [
  {
   "cell_type": "markdown",
   "metadata": {},
   "source": [
    "This Notebook collects the PDFs from https://www.rijksoverheid.nl/documenten"
   ]
  },
  {
   "cell_type": "markdown",
   "metadata": {},
   "source": [
    "### Functions"
   ]
  },
  {
   "cell_type": "code",
   "execution_count": null,
   "metadata": {},
   "outputs": [],
   "source": [
    "import requests\n",
    "from bs4 import BeautifulSoup"
   ]
  },
  {
   "cell_type": "code",
   "execution_count": 39,
   "metadata": {},
   "outputs": [],
   "source": [
    "def get_pdf_url(url):\n",
    "    \"\"\"\n",
    "    Input: A document URL from https://www.rijksoverheid.nl/documenten\n",
    "    Output: The URLs of the PDFs referenced in the document URL\n",
    "    \"\"\"\n",
    "    response = requests.get(url)\n",
    "    if response.status_code == 200:\n",
    "        soup = BeautifulSoup(response.content, \"html.parser\")\n",
    "        links = soup.find_all(\"a\")\n",
    "\n",
    "        #pdf_urls = []\n",
    "\n",
    "        for link in links:\n",
    "            href = link.get(\"href\")\n",
    "            if href.endswith(\".pdf\"):\n",
    "                pdf_url = 'https://www.rijksoverheid.nl'+ href\n",
    "                \n",
    "                #pdf_urls.append(pdf_url)\n",
    "        return pdf_url "
   ]
  },
  {
   "cell_type": "code",
   "execution_count": null,
   "metadata": {},
   "outputs": [],
   "source": [
    "import io\n",
    "import PyPDF2"
   ]
  },
  {
   "cell_type": "code",
   "execution_count": 42,
   "metadata": {},
   "outputs": [],
   "source": [
    "def get_pdf_text(pdf_url):\n",
    "    \"\"\"\n",
    "    Input: PDF URL\n",
    "    Output: PDF textual content\n",
    "    \"\"\"\n",
    "    pdf = requests.get(pdf_url)\n",
    "    pdf_content = pdf.content \n",
    "    pdf_text = io.BytesIO(pdf_content)\n",
    "    pdf_reader = PyPDF2.PdfReader(pdf_text)\n",
    "    text = \"\"\n",
    "    for page_num in range(len(pdf_reader.pages)):\n",
    "        page = pdf_reader.pages[page_num]\n",
    "        text += page.extract_text()\n",
    "    \n",
    "    return text\n",
    "    "
   ]
  },
  {
   "cell_type": "code",
   "execution_count": 60,
   "metadata": {},
   "outputs": [],
   "source": [
    "def get_document_urls(page_url):\n",
    "    \"\"\"\n",
    "    Input: URL of page in https://www.rijksoverheid.nl/documenten\n",
    "    Output: A list of the document URLs on this page of len 10\n",
    "    \"\"\"\n",
    "    response = requests.get(page_url)\n",
    "    document_urls = []\n",
    "    if response.status_code == 200:\n",
    "        soup = BeautifulSoup(response.content, \"html.parser\")\n",
    "        links = soup.find_all(\"a\")\n",
    "\n",
    "        for link in links:\n",
    "                href = link.get(\"href\")\n",
    "                if href.startswith('/documenten'):\n",
    "                    document_urls.append('https://www.rijksoverheid.nl'+ href)\n",
    "                    \n",
    "    return document_urls"
   ]
  },
  {
   "cell_type": "code",
   "execution_count": 62,
   "metadata": {},
   "outputs": [
    {
     "data": {
      "text/plain": [
       "10"
      ]
     },
     "execution_count": 62,
     "metadata": {},
     "output_type": "execute_result"
    }
   ],
   "source": [
    "# Example \n",
    "#example = get_document_urls('https://www.rijksoverheid.nl/documenten?pagina=6')\n",
    "#len(example)\n",
    "#print(example)"
   ]
  },
  {
   "cell_type": "code",
   "execution_count": 67,
   "metadata": {},
   "outputs": [],
   "source": [
    "def get_pages(number_pages):\n",
    "    \"\"\"\n",
    "    Input: Number of pages to be scraped\n",
    "    Output: URLs of pages\n",
    "    \"\"\"\n",
    "    pages_l = []\n",
    "    for page in range(1, number_pages + 1):\n",
    "        page_url = 'https://www.rijksoverheid.nl/documenten?pagina=' + str(page)\n",
    "        pages_l.append(page_url)\n",
    "    return pages_l"
   ]
  },
  {
   "cell_type": "code",
   "execution_count": 69,
   "metadata": {},
   "outputs": [],
   "source": [
    "def scrape_documents(num_pages = 5):\n",
    "    \n",
    "    \"\"\"\n",
    "    Input: Number of pages to be scraped; default = 5\n",
    "    Output: Dictionary url: pdf text\n",
    "    \"\"\"\n",
    "    url_pdf = {}\n",
    "    \n",
    "    pages = get_pages(num_pages)\n",
    "    \n",
    "    for page in pages:\n",
    "        document_urls = get_document_urls(page)\n",
    "        \n",
    "        for doc_url in document_urls:\n",
    "            pdf_url = get_pdf_url(doc_url)\n",
    "            pdf_text = get_pdf_text(pdf_url)\n",
    "            \n",
    "            url_pdf[doc_url] = pdf_text\n",
    "    \n",
    "    return url_pdf\n"
   ]
  },
  {
   "cell_type": "code",
   "execution_count": null,
   "metadata": {},
   "outputs": [],
   "source": [
    "# Example\n",
    "# scrape_two_pages = scrape_documents(2)\n",
    "# scrape_two_pages"
   ]
  }
 ],
 "metadata": {
  "kernelspec": {
   "display_name": "Python 3",
   "language": "python",
   "name": "python3"
  },
  "language_info": {
   "codemirror_mode": {
    "name": "ipython",
    "version": 3
   },
   "file_extension": ".py",
   "mimetype": "text/x-python",
   "name": "python",
   "nbconvert_exporter": "python",
   "pygments_lexer": "ipython3",
   "version": "3.8.5"
  }
 },
 "nbformat": 4,
 "nbformat_minor": 4
}
