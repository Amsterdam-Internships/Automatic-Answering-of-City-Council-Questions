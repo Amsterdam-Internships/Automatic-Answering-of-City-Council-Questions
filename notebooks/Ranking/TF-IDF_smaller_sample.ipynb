{
 "cells": [
  {
   "attachments": {},
   "cell_type": "markdown",
   "metadata": {},
   "source": [
    "####"
   ]
  },
  {
   "attachments": {},
   "cell_type": "markdown",
   "metadata": {},
   "source": [
    "# TF-IDF - smaller sample\n",
    "This notebook will perform TF-IDF & cosine similarity based retrieval, where the sample would include only paths that have been collected."
   ]
  },
  {
   "cell_type": "code",
   "execution_count": 1,
   "metadata": {},
   "outputs": [
    {
     "name": "stderr",
     "output_type": "stream",
     "text": [
      "[nltk_data] Downloading package stopwords to\n",
      "[nltk_data]     /Users/natalipeeva/nltk_data...\n",
      "[nltk_data]   Package stopwords is already up-to-date!\n",
      "[nltk_data] Downloading package punkt to\n",
      "[nltk_data]     /Users/natalipeeva/nltk_data...\n",
      "[nltk_data]   Package punkt is already up-to-date!\n"
     ]
    },
    {
     "data": {
      "text/plain": [
       "True"
      ]
     },
     "execution_count": 1,
     "metadata": {},
     "output_type": "execute_result"
    }
   ],
   "source": [
    "import pickle\n",
    "from sklearn.feature_extraction.text import TfidfVectorizer\n",
    "from sklearn.metrics.pairwise import cosine_similarity\n",
    "from bs4 import BeautifulSoup\n",
    "import pandas as pd\n",
    "import re\n",
    "import nltk\n",
    "from nltk.corpus import stopwords\n",
    "from nltk.tokenize import word_tokenize\n",
    "nltk.download('stopwords')\n",
    "nltk.download('punkt')"
   ]
  },
  {
   "cell_type": "code",
   "execution_count": 85,
   "metadata": {},
   "outputs": [],
   "source": [
    "from collections import Counter"
   ]
  },
  {
   "cell_type": "code",
   "execution_count": 113,
   "metadata": {},
   "outputs": [],
   "source": [
    "from sklearn.metrics import classification_report"
   ]
  },
  {
   "cell_type": "code",
   "execution_count": 119,
   "metadata": {},
   "outputs": [],
   "source": [
    "import requests"
   ]
  },
  {
   "cell_type": "code",
   "execution_count": 131,
   "metadata": {},
   "outputs": [],
   "source": [
    "import time\n",
    "import random"
   ]
  },
  {
   "cell_type": "code",
   "execution_count": 2,
   "metadata": {},
   "outputs": [
    {
     "name": "stdout",
     "output_type": "stream",
     "text": [
      "/Users/natalipeeva/Desktop\n"
     ]
    }
   ],
   "source": [
    "%cd '/Users/natalipeeva/Desktop'"
   ]
  },
  {
   "cell_type": "code",
   "execution_count": 5,
   "metadata": {},
   "outputs": [],
   "source": [
    "with open('Data Samples/amsterdam_corpus.pickle', 'rb') as f:\n",
    "    html_contents = pickle.load(f)\n",
    "\n",
    "with open('amsterdam_questions.pickle', \"rb\") as f:\n",
    "     amsterdam_questions = pickle.load(f)\n",
    "\n",
    "with open('/Users/natalipeeva/Desktop/TF-IDF Ranking/afval-hergebruik.pickle', 'rb') as f:\n",
    "    afval_contents = pickle.load(f)\n",
    "\n",
    "with open('/Users/natalipeeva/Desktop/TF-IDF Ranking/bestur-organisatie.pickle', 'rb') as f:\n",
    "    bestur_contents = pickle.load(f)"
   ]
  },
  {
   "attachments": {},
   "cell_type": "markdown",
   "metadata": {},
   "source": [
    "#### Combine supporting documents data"
   ]
  },
  {
   "cell_type": "code",
   "execution_count": 16,
   "metadata": {},
   "outputs": [
    {
     "data": {
      "text/plain": [
       "11660"
      ]
     },
     "execution_count": 16,
     "metadata": {},
     "output_type": "execute_result"
    }
   ],
   "source": [
    "combined = afval_contents + bestur_contents + html_contents\n",
    "len(combined)"
   ]
  },
  {
   "attachments": {},
   "cell_type": "markdown",
   "metadata": {},
   "source": [
    "#### Get URLs and URL paths"
   ]
  },
  {
   "cell_type": "code",
   "execution_count": 9,
   "metadata": {},
   "outputs": [],
   "source": [
    "def extract_path(link, start):\n",
    "    \"\"\"\n",
    "    Where start is the domain name; e.g. 'www.amsterdam.nl/'\n",
    "    \"\"\"\n",
    "    # start = 'www.amsterdam.nl/'\n",
    "    end = '/'\n",
    "\n",
    "    start_index = link.index(start) + len(start)\n",
    "    end_index = link.index(end, start_index)\n",
    "\n",
    "    result = link[start_index:end_index]\n",
    "\n",
    "    return result"
   ]
  },
  {
   "cell_type": "code",
   "execution_count": 10,
   "metadata": {},
   "outputs": [],
   "source": [
    "def get_all_paths(l):\n",
    "    url_paths = []\n",
    "    for link in l:\n",
    "        try: \n",
    "            url_paths.append((link, extract_path(link, 'www.amsterdam.nl/')))\n",
    "        except:\n",
    "            try: \n",
    "                url_paths.append((link, link.split('http://www.amsterdam.nl/')[1]))\n",
    "            except:\n",
    "                url_paths.append((link, link))\n",
    "    return url_paths"
   ]
  },
  {
   "cell_type": "code",
   "execution_count": null,
   "metadata": {},
   "outputs": [],
   "source": [
    "def remove_path_and_index(url):\n",
    "    \"\"\"\n",
    "    Function that cleans the folder path to transform it to URL\n",
    "    \"\"\"\n",
    "    first_slash_index = url.find('/') + 1  # Find index of first slash and add 1 to exclude it\n",
    "    index_index = url.find('index')  # Find index of \"index\"\n",
    "    if index_index == -1:  # If \"index\" not found, return the original string\n",
    "        return url\n",
    "    else:\n",
    "        return url[first_slash_index:index_index]  # Return the string between the first slash and \"index\""
   ]
  },
  {
   "cell_type": "code",
   "execution_count": null,
   "metadata": {},
   "outputs": [],
   "source": [
    "def clean_url(url):\n",
    "    \"\"\"Keep the URL part that only contains www.amsterdam onwards.\"\"\"\n",
    "    pattern = r'(www\\.amsterdam.*)'\n",
    "    match = re.search(pattern, url)\n",
    "    if match:\n",
    "        url = match.group(1)\n",
    "        return url"
   ]
  },
  {
   "cell_type": "code",
   "execution_count": null,
   "metadata": {},
   "outputs": [],
   "source": [
    "def modify_link(link):\n",
    "    # Remove '/index.html' and '.html' using regex\n",
    "    modified_link = re.sub(r'(/index)?\\.html', '', link)\n",
    "    \n",
    "    if 'veelgevraagd' in link:\n",
    "        # Remove curly braces around categoryid using regex\n",
    "        modified_link = re.sub(r'{(.+?)}', r'\\1', modified_link)\n",
    "    \n",
    "    # Replace '?' with '/?'\n",
    "    modified_link = modified_link.replace('?', '/?')\n",
    "    return modified_link"
   ]
  },
  {
   "cell_type": "code",
   "execution_count": 44,
   "metadata": {},
   "outputs": [],
   "source": [
    "def get_path(URL):\n",
    "    match = re.search(r\"(?<=amsterdam\\.nl/)[^/]+\", url)\n",
    "\n",
    "    if match:\n",
    "        result = match.group(0)\n",
    "        return match.group()\n",
    "    else:\n",
    "        return str(URL)"
   ]
  },
  {
   "attachments": {},
   "cell_type": "markdown",
   "metadata": {},
   "source": [
    "#### Get text and pre-process"
   ]
  },
  {
   "cell_type": "code",
   "execution_count": 51,
   "metadata": {},
   "outputs": [],
   "source": [
    "def get_doc_text(html_content):\n",
    "    \"\"\"\n",
    "    Input: HTML\n",
    "    Output: text\n",
    "    \"\"\"\n",
    "    soup = BeautifulSoup(html_content, 'html.parser')\n",
    "    text = soup.get_text()\n",
    "    \n",
    "    return text"
   ]
  },
  {
   "cell_type": "code",
   "execution_count": 52,
   "metadata": {},
   "outputs": [],
   "source": [
    "def preprocess_text(text):\n",
    "    # Convert text to lowercase\n",
    "    text = text.lower()\n",
    "\n",
    "    # Remove URLs\n",
    "    text = re.sub(r'http\\S+', '', text)\n",
    "\n",
    "    # Remove numbers\n",
    "    text = re.sub(r'\\d+', '', text)\n",
    "\n",
    "    # Remove punctuation\n",
    "    text = re.sub(r'[^\\w\\s]', '', text)\n",
    "\n",
    "    # Tokenize text into words\n",
    "    words = word_tokenize(text)\n",
    "\n",
    "    # Remove stop words\n",
    "    stop_words = set(stopwords.words('dutch'))\n",
    "    words = [word for word in words if word not in stop_words]\n",
    "\n",
    "    # Stem words\n",
    "    stemmer = nltk.stem.snowball.DutchStemmer()\n",
    "    words = [stemmer.stem(word) for word in words]\n",
    "\n",
    "    # Join words back into a string\n",
    "    text = ' '.join(words)\n",
    "\n",
    "    return text"
   ]
  },
  {
   "attachments": {},
   "cell_type": "markdown",
   "metadata": {},
   "source": [
    "#### Pre-process + Make a supporting documents DataFrame\n",
    "The following cells will make a DataFrame for the supporting documents which consists of the URL, HTML, Text, Pre-processed text as well as the URL Path of the documents."
   ]
  },
  {
   "cell_type": "code",
   "execution_count": 45,
   "metadata": {},
   "outputs": [],
   "source": [
    "supporting_documents = pd.DataFrame(combined, columns=['URL', 'HTML'])"
   ]
  },
  {
   "cell_type": "code",
   "execution_count": 1,
   "metadata": {},
   "outputs": [
    {
     "ename": "NameError",
     "evalue": "name 'supporting_documents' is not defined",
     "output_type": "error",
     "traceback": [
      "\u001b[0;31m---------------------------------------------------------------------------\u001b[0m",
      "\u001b[0;31mNameError\u001b[0m                                 Traceback (most recent call last)",
      "\u001b[0;32m<ipython-input-1-5e2c9fba4656>\u001b[0m in \u001b[0;36m<module>\u001b[0;34m\u001b[0m\n\u001b[0;32m----> 1\u001b[0;31m \u001b[0msupporting_documents\u001b[0m\u001b[0;34m.\u001b[0m\u001b[0mhead\u001b[0m\u001b[0;34m(\u001b[0m\u001b[0;34m)\u001b[0m\u001b[0;34m\u001b[0m\u001b[0;34m\u001b[0m\u001b[0m\n\u001b[0m",
      "\u001b[0;31mNameError\u001b[0m: name 'supporting_documents' is not defined"
     ]
    }
   ],
   "source": [
    "supporting_documents.head()"
   ]
  },
  {
   "cell_type": "code",
   "execution_count": null,
   "metadata": {},
   "outputs": [],
   "source": []
  },
  {
   "cell_type": "code",
   "execution_count": 47,
   "metadata": {},
   "outputs": [],
   "source": [
    "paths = []\n",
    "for url in supporting_documents['URL']:\n",
    "    paths.append(get_path(url))"
   ]
  },
  {
   "cell_type": "code",
   "execution_count": 50,
   "metadata": {},
   "outputs": [
    {
     "data": {
      "text/html": [
       "<div>\n",
       "<style scoped>\n",
       "    .dataframe tbody tr th:only-of-type {\n",
       "        vertical-align: middle;\n",
       "    }\n",
       "\n",
       "    .dataframe tbody tr th {\n",
       "        vertical-align: top;\n",
       "    }\n",
       "\n",
       "    .dataframe thead th {\n",
       "        text-align: right;\n",
       "    }\n",
       "</style>\n",
       "<table border=\"1\" class=\"dataframe\">\n",
       "  <thead>\n",
       "    <tr style=\"text-align: right;\">\n",
       "      <th></th>\n",
       "      <th>URL</th>\n",
       "      <th>HTML</th>\n",
       "      <th>Paths</th>\n",
       "    </tr>\n",
       "  </thead>\n",
       "  <tbody>\n",
       "    <tr>\n",
       "      <th>0</th>\n",
       "      <td>https://www.amsterdam.nl/afval-en-hergebruik</td>\n",
       "      <td>b'&lt;!DOCTYPE html&gt;\\n&lt;html lang=nl&gt;\\n&lt;head prefi...</td>\n",
       "      <td>afval-en-hergebruik</td>\n",
       "    </tr>\n",
       "    <tr>\n",
       "      <th>1</th>\n",
       "      <td>https://www.amsterdam.nl/afval-en-hergebruik/?...</td>\n",
       "      <td>b'&lt;!DOCTYPE html&gt;\\n&lt;html lang=nl&gt;\\n&lt;head prefi...</td>\n",
       "      <td>afval-en-hergebruik</td>\n",
       "    </tr>\n",
       "    <tr>\n",
       "      <th>2</th>\n",
       "      <td>https://www.amsterdam.nl/afval-en-hergebruik/?...</td>\n",
       "      <td>b'&lt;!DOCTYPE html&gt;\\n&lt;html lang=nl&gt;\\n&lt;head prefi...</td>\n",
       "      <td>afval-en-hergebruik</td>\n",
       "    </tr>\n",
       "    <tr>\n",
       "      <th>3</th>\n",
       "      <td>https://www.amsterdam.nl/afval-en-hergebruik/?...</td>\n",
       "      <td>b'&lt;!DOCTYPE html&gt;\\n&lt;html lang=nl&gt;\\n&lt;head prefi...</td>\n",
       "      <td>afval-en-hergebruik</td>\n",
       "    </tr>\n",
       "    <tr>\n",
       "      <th>4</th>\n",
       "      <td>https://www.amsterdam.nl/afval-en-hergebruik?p...</td>\n",
       "      <td>b'&lt;!DOCTYPE html&gt;\\n&lt;html lang=nl&gt;\\n&lt;head prefi...</td>\n",
       "      <td>afval-en-hergebruik?print=true</td>\n",
       "    </tr>\n",
       "  </tbody>\n",
       "</table>\n",
       "</div>"
      ],
      "text/plain": [
       "                                                 URL  \\\n",
       "0       https://www.amsterdam.nl/afval-en-hergebruik   \n",
       "1  https://www.amsterdam.nl/afval-en-hergebruik/?...   \n",
       "2  https://www.amsterdam.nl/afval-en-hergebruik/?...   \n",
       "3  https://www.amsterdam.nl/afval-en-hergebruik/?...   \n",
       "4  https://www.amsterdam.nl/afval-en-hergebruik?p...   \n",
       "\n",
       "                                                HTML  \\\n",
       "0  b'<!DOCTYPE html>\\n<html lang=nl>\\n<head prefi...   \n",
       "1  b'<!DOCTYPE html>\\n<html lang=nl>\\n<head prefi...   \n",
       "2  b'<!DOCTYPE html>\\n<html lang=nl>\\n<head prefi...   \n",
       "3  b'<!DOCTYPE html>\\n<html lang=nl>\\n<head prefi...   \n",
       "4  b'<!DOCTYPE html>\\n<html lang=nl>\\n<head prefi...   \n",
       "\n",
       "                            Paths  \n",
       "0             afval-en-hergebruik  \n",
       "1             afval-en-hergebruik  \n",
       "2             afval-en-hergebruik  \n",
       "3             afval-en-hergebruik  \n",
       "4  afval-en-hergebruik?print=true  "
      ]
     },
     "execution_count": 50,
     "metadata": {},
     "output_type": "execute_result"
    }
   ],
   "source": [
    "supporting_documents['Paths'] = paths\n",
    "supporting_documents.head()"
   ]
  },
  {
   "cell_type": "code",
   "execution_count": 53,
   "metadata": {},
   "outputs": [],
   "source": [
    "text = [get_doc_text(html) for html in supporting_documents['HTML']]\n",
    "pre_processed_text = [preprocess_text(t) for t in text]"
   ]
  },
  {
   "cell_type": "code",
   "execution_count": 54,
   "metadata": {},
   "outputs": [],
   "source": [
    "supporting_documents['Text'] = text\n",
    "supporting_documents['Pre-processed Text'] = pre_processed_text"
   ]
  },
  {
   "cell_type": "code",
   "execution_count": 55,
   "metadata": {},
   "outputs": [
    {
     "data": {
      "text/html": [
       "<div>\n",
       "<style scoped>\n",
       "    .dataframe tbody tr th:only-of-type {\n",
       "        vertical-align: middle;\n",
       "    }\n",
       "\n",
       "    .dataframe tbody tr th {\n",
       "        vertical-align: top;\n",
       "    }\n",
       "\n",
       "    .dataframe thead th {\n",
       "        text-align: right;\n",
       "    }\n",
       "</style>\n",
       "<table border=\"1\" class=\"dataframe\">\n",
       "  <thead>\n",
       "    <tr style=\"text-align: right;\">\n",
       "      <th></th>\n",
       "      <th>URL</th>\n",
       "      <th>HTML</th>\n",
       "      <th>Paths</th>\n",
       "      <th>Text</th>\n",
       "      <th>Pre-processed Text</th>\n",
       "    </tr>\n",
       "  </thead>\n",
       "  <tbody>\n",
       "    <tr>\n",
       "      <th>0</th>\n",
       "      <td>https://www.amsterdam.nl/afval-en-hergebruik</td>\n",
       "      <td>b'&lt;!DOCTYPE html&gt;\\n&lt;html lang=nl&gt;\\n&lt;head prefi...</td>\n",
       "      <td>afval-en-hergebruik</td>\n",
       "      <td>\\n\\n\\n\\nAfval - Gemeente Amsterdam\\n\\n\\n\\n\\n\\n...</td>\n",
       "      <td>afval gemeent amsterdam direct inhoud gemeente...</td>\n",
       "    </tr>\n",
       "    <tr>\n",
       "      <th>1</th>\n",
       "      <td>https://www.amsterdam.nl/afval-en-hergebruik/?...</td>\n",
       "      <td>b'&lt;!DOCTYPE html&gt;\\n&lt;html lang=nl&gt;\\n&lt;head prefi...</td>\n",
       "      <td>afval-en-hergebruik</td>\n",
       "      <td>\\n\\n\\n\\nAfval - Gemeente Amsterdam\\n\\n\\n\\n\\n\\n...</td>\n",
       "      <td>afval gemeent amsterdam direct inhoud gemeente...</td>\n",
       "    </tr>\n",
       "    <tr>\n",
       "      <th>2</th>\n",
       "      <td>https://www.amsterdam.nl/afval-en-hergebruik/?...</td>\n",
       "      <td>b'&lt;!DOCTYPE html&gt;\\n&lt;html lang=nl&gt;\\n&lt;head prefi...</td>\n",
       "      <td>afval-en-hergebruik</td>\n",
       "      <td>\\n\\n\\n\\nAfval - Gemeente Amsterdam\\n\\n\\n\\n\\n\\n...</td>\n",
       "      <td>afval gemeent amsterdam direct inhoud gemeente...</td>\n",
       "    </tr>\n",
       "    <tr>\n",
       "      <th>3</th>\n",
       "      <td>https://www.amsterdam.nl/afval-en-hergebruik/?...</td>\n",
       "      <td>b'&lt;!DOCTYPE html&gt;\\n&lt;html lang=nl&gt;\\n&lt;head prefi...</td>\n",
       "      <td>afval-en-hergebruik</td>\n",
       "      <td>\\n\\n\\n\\nAfval - Gemeente Amsterdam\\n\\n\\n\\n\\n\\n...</td>\n",
       "      <td>afval gemeent amsterdam gemeenteamsterdam amst...</td>\n",
       "    </tr>\n",
       "    <tr>\n",
       "      <th>4</th>\n",
       "      <td>https://www.amsterdam.nl/afval-en-hergebruik?p...</td>\n",
       "      <td>b'&lt;!DOCTYPE html&gt;\\n&lt;html lang=nl&gt;\\n&lt;head prefi...</td>\n",
       "      <td>afval-en-hergebruik?print=true</td>\n",
       "      <td>\\n\\n\\n\\nAfval - Gemeente Amsterdam\\n\\n\\n\\n\\n\\n...</td>\n",
       "      <td>afval gemeent amsterdam gemeenteamsterdam amst...</td>\n",
       "    </tr>\n",
       "  </tbody>\n",
       "</table>\n",
       "</div>"
      ],
      "text/plain": [
       "                                                 URL  \\\n",
       "0       https://www.amsterdam.nl/afval-en-hergebruik   \n",
       "1  https://www.amsterdam.nl/afval-en-hergebruik/?...   \n",
       "2  https://www.amsterdam.nl/afval-en-hergebruik/?...   \n",
       "3  https://www.amsterdam.nl/afval-en-hergebruik/?...   \n",
       "4  https://www.amsterdam.nl/afval-en-hergebruik?p...   \n",
       "\n",
       "                                                HTML  \\\n",
       "0  b'<!DOCTYPE html>\\n<html lang=nl>\\n<head prefi...   \n",
       "1  b'<!DOCTYPE html>\\n<html lang=nl>\\n<head prefi...   \n",
       "2  b'<!DOCTYPE html>\\n<html lang=nl>\\n<head prefi...   \n",
       "3  b'<!DOCTYPE html>\\n<html lang=nl>\\n<head prefi...   \n",
       "4  b'<!DOCTYPE html>\\n<html lang=nl>\\n<head prefi...   \n",
       "\n",
       "                            Paths  \\\n",
       "0             afval-en-hergebruik   \n",
       "1             afval-en-hergebruik   \n",
       "2             afval-en-hergebruik   \n",
       "3             afval-en-hergebruik   \n",
       "4  afval-en-hergebruik?print=true   \n",
       "\n",
       "                                                Text  \\\n",
       "0  \\n\\n\\n\\nAfval - Gemeente Amsterdam\\n\\n\\n\\n\\n\\n...   \n",
       "1  \\n\\n\\n\\nAfval - Gemeente Amsterdam\\n\\n\\n\\n\\n\\n...   \n",
       "2  \\n\\n\\n\\nAfval - Gemeente Amsterdam\\n\\n\\n\\n\\n\\n...   \n",
       "3  \\n\\n\\n\\nAfval - Gemeente Amsterdam\\n\\n\\n\\n\\n\\n...   \n",
       "4  \\n\\n\\n\\nAfval - Gemeente Amsterdam\\n\\n\\n\\n\\n\\n...   \n",
       "\n",
       "                                  Pre-processed Text  \n",
       "0  afval gemeent amsterdam direct inhoud gemeente...  \n",
       "1  afval gemeent amsterdam direct inhoud gemeente...  \n",
       "2  afval gemeent amsterdam direct inhoud gemeente...  \n",
       "3  afval gemeent amsterdam gemeenteamsterdam amst...  \n",
       "4  afval gemeent amsterdam gemeenteamsterdam amst...  "
      ]
     },
     "execution_count": 55,
     "metadata": {},
     "output_type": "execute_result"
    }
   ],
   "source": [
    "supporting_documents.head()"
   ]
  },
  {
   "cell_type": "code",
   "execution_count": 60,
   "metadata": {},
   "outputs": [
    {
     "name": "stdout",
     "output_type": "stream",
     "text": [
      "11660\n",
      "9107\n",
      "=> There are duplicates\n"
     ]
    }
   ],
   "source": [
    "# Check for duplicates \n",
    "print(len(supporting_documents['Pre-processed Text']))\n",
    "print(len(set(supporting_documents['Pre-processed Text'])))\n",
    "print('=> There are duplicates')"
   ]
  },
  {
   "cell_type": "code",
   "execution_count": 61,
   "metadata": {},
   "outputs": [],
   "source": [
    "supporting_documents = supporting_documents.drop_duplicates(subset='Pre-processed Text', keep='first')"
   ]
  },
  {
   "cell_type": "code",
   "execution_count": 65,
   "metadata": {},
   "outputs": [
    {
     "name": "stdout",
     "output_type": "stream",
     "text": [
      "Our collection has the following paths {'subsidies', 'kunst-cultuur', 'afval-en-hergebruik', 'sport', 'zorg-ondersteuning', 'diversiteit', 'afval-hergebruik', 'veelgevraagd', 'onderwijs-jeugd', 'bestuur-organisatie', 'bestuur-en-organisatie', 'wonen-leefomgeving', 'projecten', 'parkeren', 'burgerzaken', 'belastingen-heffingen', 'toerisme-vrije-tijd', 'verkeer-vervoer', 'ondernemen', 'stadsdelen', 'werk-inkomen'}\n"
     ]
    }
   ],
   "source": [
    "print('Our collection has the following paths', set(supporting_documents['Paths']))"
   ]
  },
  {
   "cell_type": "code",
   "execution_count": 90,
   "metadata": {},
   "outputs": [],
   "source": [
    "keep_urls = list(set(supporting_documents['Paths']))"
   ]
  },
  {
   "cell_type": "code",
   "execution_count": null,
   "metadata": {},
   "outputs": [],
   "source": [
    "# chcek which questions are amsterdam.nl & have one of the distinct paths\n",
    "# remove URLs that "
   ]
  },
  {
   "attachments": {},
   "cell_type": "markdown",
   "metadata": {},
   "source": [
    "### Pre-process Q&A and restructure DataFrame"
   ]
  },
  {
   "cell_type": "code",
   "execution_count": 66,
   "metadata": {},
   "outputs": [],
   "source": [
    "with open('amsterdam_questions.pickle', \"rb\") as f:\n",
    "     amsterdam_questions = pickle.load(f)"
   ]
  },
  {
   "cell_type": "code",
   "execution_count": 69,
   "metadata": {},
   "outputs": [],
   "source": [
    "questions = pd.read_csv(open('URL Analysis/questions.csv', 'r'))"
   ]
  },
  {
   "cell_type": "code",
   "execution_count": 71,
   "metadata": {},
   "outputs": [
    {
     "data": {
      "text/html": [
       "<div>\n",
       "<style scoped>\n",
       "    .dataframe tbody tr th:only-of-type {\n",
       "        vertical-align: middle;\n",
       "    }\n",
       "\n",
       "    .dataframe tbody tr th {\n",
       "        vertical-align: top;\n",
       "    }\n",
       "\n",
       "    .dataframe thead th {\n",
       "        text-align: right;\n",
       "    }\n",
       "</style>\n",
       "<table border=\"1\" class=\"dataframe\">\n",
       "  <thead>\n",
       "    <tr style=\"text-align: right;\">\n",
       "      <th></th>\n",
       "      <th>Year</th>\n",
       "      <th>Month</th>\n",
       "      <th>Question</th>\n",
       "      <th>Answer</th>\n",
       "      <th>Document</th>\n",
       "      <th>URLs</th>\n",
       "    </tr>\n",
       "  </thead>\n",
       "  <tbody>\n",
       "    <tr>\n",
       "      <th>0</th>\n",
       "      <td>2018</td>\n",
       "      <td>12</td>\n",
       "      <td>\\n \\n1. Heeft het college kennisgenomen van de...</td>\n",
       "      <td>\\nNee.</td>\n",
       "      <td>https://amsterdam.raadsinformatie.nl/document/...</td>\n",
       "      <td>NaN</td>\n",
       "    </tr>\n",
       "    <tr>\n",
       "      <th>1</th>\n",
       "      <td>2018</td>\n",
       "      <td>12</td>\n",
       "      <td>\\n \\n2. Kan het college bevestigen of dit lesm...</td>\n",
       "      <td>\\nNee, het college heeft hier geen zicht op. ...</td>\n",
       "      <td>https://amsterdam.raadsinformatie.nl/document/...</td>\n",
       "      <td>NaN</td>\n",
       "    </tr>\n",
       "    <tr>\n",
       "      <th>2</th>\n",
       "      <td>2018</td>\n",
       "      <td>12</td>\n",
       "      <td>\\n \\n                                         ...</td>\n",
       "      <td>\\nHet CIDI is duidelijk over de eigen doelste...</td>\n",
       "      <td>https://amsterdam.raadsinformatie.nl/document/...</td>\n",
       "      <td>NaN</td>\n",
       "    </tr>\n",
       "    <tr>\n",
       "      <th>3</th>\n",
       "      <td>2018</td>\n",
       "      <td>12</td>\n",
       "      <td>\\n \\n4. Is het college bekend met de jaarlijks...</td>\n",
       "      <td>\\nHet college heeft hier kennis van genomen.</td>\n",
       "      <td>https://amsterdam.raadsinformatie.nl/document/...</td>\n",
       "      <td>NaN</td>\n",
       "    </tr>\n",
       "    <tr>\n",
       "      <th>4</th>\n",
       "      <td>2018</td>\n",
       "      <td>12</td>\n",
       "      <td>\\n \\na. Is het college van oordeel dat het CID...</td>\n",
       "      <td>vraag 4a: \\nHet college is voor een pluriform...</td>\n",
       "      <td>https://amsterdam.raadsinformatie.nl/document/...</td>\n",
       "      <td>NaN</td>\n",
       "    </tr>\n",
       "  </tbody>\n",
       "</table>\n",
       "</div>"
      ],
      "text/plain": [
       "   Year Month                                           Question  \\\n",
       "0  2018    12  \\n \\n1. Heeft het college kennisgenomen van de...   \n",
       "1  2018    12  \\n \\n2. Kan het college bevestigen of dit lesm...   \n",
       "2  2018    12  \\n \\n                                         ...   \n",
       "3  2018    12  \\n \\n4. Is het college bekend met de jaarlijks...   \n",
       "4  2018    12  \\n \\na. Is het college van oordeel dat het CID...   \n",
       "\n",
       "                                              Answer  \\\n",
       "0                                           \\nNee.     \n",
       "1   \\nNee, het college heeft hier geen zicht op. ...   \n",
       "2   \\nHet CIDI is duidelijk over de eigen doelste...   \n",
       "3      \\nHet college heeft hier kennis van genomen.    \n",
       "4   vraag 4a: \\nHet college is voor een pluriform...   \n",
       "\n",
       "                                            Document URLs  \n",
       "0  https://amsterdam.raadsinformatie.nl/document/...  NaN  \n",
       "1  https://amsterdam.raadsinformatie.nl/document/...  NaN  \n",
       "2  https://amsterdam.raadsinformatie.nl/document/...  NaN  \n",
       "3  https://amsterdam.raadsinformatie.nl/document/...  NaN  \n",
       "4  https://amsterdam.raadsinformatie.nl/document/...  NaN  "
      ]
     },
     "execution_count": 71,
     "metadata": {},
     "output_type": "execute_result"
    }
   ],
   "source": [
    "questions.head()"
   ]
  },
  {
   "cell_type": "code",
   "execution_count": 77,
   "metadata": {},
   "outputs": [],
   "source": [
    "mask = questions['URLs'].astype(str).str.contains('www.amsterdam.nl')\n",
    "amsterdam_questions = questions[mask]"
   ]
  },
  {
   "cell_type": "code",
   "execution_count": 81,
   "metadata": {},
   "outputs": [
    {
     "data": {
      "text/plain": [
       "'https://www.zwemwater.nl/.Hier\\nhttps://maps.amsterdam.nl/zwemwater/\\nhttps://www.amsterdam.nl/veelgevraagd/?caseid=%7BD6E280FB-4A76-40A0-9B88-12B87E446FA6%7D\\nhttps://www.ggd.amsterdam.nl/gezond-wonen/zwemmen-open-water/'"
      ]
     },
     "execution_count": 81,
     "metadata": {},
     "output_type": "execute_result"
    }
   ],
   "source": [
    "amsterdam_questions['URLs'].iloc[0]"
   ]
  },
  {
   "cell_type": "code",
   "execution_count": 83,
   "metadata": {},
   "outputs": [],
   "source": [
    "reference_paths = []\n",
    "for url in amsterdam_questions['URLs']:\n",
    "    reference_paths.append(get_path(url))"
   ]
  },
  {
   "cell_type": "code",
   "execution_count": 87,
   "metadata": {},
   "outputs": [
    {
     "data": {
      "text/plain": [
       "[('wonen-leefomgeving', 12),\n",
       " ('bestuur-organisatie', 10),\n",
       " ('publish', 7),\n",
       " ('veelgevraagd', 6),\n",
       " ('nieuwsbrieven', 6)]"
      ]
     },
     "execution_count": 87,
     "metadata": {},
     "output_type": "execute_result"
    }
   ],
   "source": [
    "Counter(reference_paths).most_common(5)"
   ]
  },
  {
   "cell_type": "code",
   "execution_count": 88,
   "metadata": {},
   "outputs": [
    {
     "name": "stderr",
     "output_type": "stream",
     "text": [
      "<ipython-input-88-1f8481935177>:1: SettingWithCopyWarning: \n",
      "A value is trying to be set on a copy of a slice from a DataFrame.\n",
      "Try using .loc[row_indexer,col_indexer] = value instead\n",
      "\n",
      "See the caveats in the documentation: https://pandas.pydata.org/pandas-docs/stable/user_guide/indexing.html#returning-a-view-versus-a-copy\n",
      "  amsterdam_questions['Paths'] = reference_paths\n"
     ]
    }
   ],
   "source": [
    "amsterdam_questions['Paths'] = reference_paths"
   ]
  },
  {
   "cell_type": "code",
   "execution_count": 93,
   "metadata": {},
   "outputs": [
    {
     "data": {
      "text/plain": [
       "['subsidies', 'kunst-cultuur', 'afval-en-hergebruik']"
      ]
     },
     "execution_count": 93,
     "metadata": {},
     "output_type": "execute_result"
    }
   ],
   "source": [
    "keep_urls[:3]"
   ]
  },
  {
   "cell_type": "code",
   "execution_count": 94,
   "metadata": {},
   "outputs": [],
   "source": [
    "filtered_amsterdam = amsterdam_questions[amsterdam_questions['Paths'].isin(keep_urls)]"
   ]
  },
  {
   "cell_type": "code",
   "execution_count": 97,
   "metadata": {},
   "outputs": [
    {
     "data": {
      "text/plain": [
       "{'bestuur-organisatie',\n",
       " 'ondernemen',\n",
       " 'projecten',\n",
       " 'sport',\n",
       " 'subsidies',\n",
       " 'toerisme-vrije-tijd',\n",
       " 'veelgevraagd',\n",
       " 'werk-inkomen',\n",
       " 'wonen-leefomgeving',\n",
       " 'zorg-ondersteuning'}"
      ]
     },
     "execution_count": 97,
     "metadata": {},
     "output_type": "execute_result"
    }
   ],
   "source": [
    "# Check if filtering worked \n",
    "set(filtered_amsterdam['Paths'])"
   ]
  },
  {
   "cell_type": "code",
   "execution_count": 117,
   "metadata": {},
   "outputs": [
    {
     "data": {
      "text/plain": [
       "[('wonen-leefomgeving', 12),\n",
       " ('bestuur-organisatie', 10),\n",
       " ('veelgevraagd', 6),\n",
       " ('zorg-ondersteuning', 5),\n",
       " ('projecten', 5),\n",
       " ('werk-inkomen', 2),\n",
       " ('toerisme-vrije-tijd', 1),\n",
       " ('ondernemen', 1),\n",
       " ('sport', 1),\n",
       " ('subsidies', 1)]"
      ]
     },
     "execution_count": 117,
     "metadata": {},
     "output_type": "execute_result"
    }
   ],
   "source": [
    "Counter(filtered_amsterdam['Paths']).most_common()"
   ]
  },
  {
   "cell_type": "code",
   "execution_count": 98,
   "metadata": {},
   "outputs": [
    {
     "name": "stderr",
     "output_type": "stream",
     "text": [
      "<ipython-input-98-c89a02546002>:2: SettingWithCopyWarning: \n",
      "A value is trying to be set on a copy of a slice from a DataFrame.\n",
      "Try using .loc[row_indexer,col_indexer] = value instead\n",
      "\n",
      "See the caveats in the documentation: https://pandas.pydata.org/pandas-docs/stable/user_guide/indexing.html#returning-a-view-versus-a-copy\n",
      "  filtered_amsterdam['Pre-processed Question'] = pre_processed_questions\n"
     ]
    }
   ],
   "source": [
    "pre_processed_questions = [preprocess_text(q) for q in filtered_amsterdam['Question']]\n",
    "filtered_amsterdam['Pre-processed Question'] = pre_processed_questions"
   ]
  },
  {
   "cell_type": "code",
   "execution_count": 109,
   "metadata": {},
   "outputs": [
    {
     "data": {
      "text/plain": [
       "44"
      ]
     },
     "execution_count": 109,
     "metadata": {},
     "output_type": "execute_result"
    }
   ],
   "source": [
    "len(filtered_amsterdam)"
   ]
  },
  {
   "attachments": {},
   "cell_type": "markdown",
   "metadata": {},
   "source": [
    "### TF-IDF"
   ]
  },
  {
   "cell_type": "code",
   "execution_count": 102,
   "metadata": {},
   "outputs": [],
   "source": [
    "documents = list(supporting_documents['Pre-processed Text'])\n",
    "queries = list(filtered_amsterdam['Pre-processed Question'])"
   ]
  },
  {
   "cell_type": "code",
   "execution_count": 103,
   "metadata": {},
   "outputs": [],
   "source": [
    "vectorizer = TfidfVectorizer()\n",
    "document_vectors = vectorizer.fit_transform(documents)\n",
    "query_vectors = vectorizer.transform(queries)\n",
    "\n",
    "# Calculate cosine similarity\n",
    "similarity_matrix = cosine_similarity(query_vectors, document_vectors)\n",
    "\n",
    "# Sort documents by cosine similarity score and return top k\n",
    "k = 1\n",
    "top_k_docs = []\n",
    "for i, query in enumerate(queries):\n",
    "    doc_indices = similarity_matrix[i].argsort()[::-1][:k]\n",
    "    #top_k_docs.append((query, [documents[j] for j in doc_indices]))\n",
    "    \n",
    "    top_k_docs.append((query, [documents[j] for j in doc_indices]))\n",
    "    \n",
    "#print(top_k_docs)\n"
   ]
  },
  {
   "cell_type": "code",
   "execution_count": 105,
   "metadata": {},
   "outputs": [],
   "source": [
    "ranking = pd.DataFrame()\n",
    "ranking['Question'] = [pair[0] for pair in top_k_docs]\n",
    "ranking['Rank1'] = [pair[1][0] for pair in top_k_docs]"
   ]
  },
  {
   "cell_type": "code",
   "execution_count": 106,
   "metadata": {},
   "outputs": [],
   "source": [
    "ranking = pd.merge(ranking, supporting_documents, left_on='Rank1', right_on='Pre-processed Text', how='left')"
   ]
  },
  {
   "attachments": {},
   "cell_type": "markdown",
   "metadata": {},
   "source": [
    "### Predictions"
   ]
  },
  {
   "cell_type": "code",
   "execution_count": 114,
   "metadata": {},
   "outputs": [
    {
     "data": {
      "text/plain": [
       "0    bestuur-organisatie\n",
       "1     zorg-ondersteuning\n",
       "2           veelgevraagd\n",
       "3     wonen-leefomgeving\n",
       "4           veelgevraagd\n",
       "Name: Paths, dtype: object"
      ]
     },
     "execution_count": 114,
     "metadata": {},
     "output_type": "execute_result"
    }
   ],
   "source": [
    "ranking['Paths'][:5]"
   ]
  },
  {
   "cell_type": "code",
   "execution_count": 115,
   "metadata": {},
   "outputs": [
    {
     "data": {
      "text/plain": [
       "615     zorg-ondersteuning\n",
       "620     zorg-ondersteuning\n",
       "856     wonen-leefomgeving\n",
       "1237    wonen-leefomgeving\n",
       "1587          veelgevraagd\n",
       "Name: Paths, dtype: object"
      ]
     },
     "execution_count": 115,
     "metadata": {},
     "output_type": "execute_result"
    }
   ],
   "source": [
    "filtered_amsterdam['Paths'][:5]"
   ]
  },
  {
   "cell_type": "code",
   "execution_count": 118,
   "metadata": {},
   "outputs": [
    {
     "name": "stdout",
     "output_type": "stream",
     "text": [
      "[('wonen-leefomgeving', 12), ('bestuur-organisatie', 10), ('veelgevraagd', 6), ('zorg-ondersteuning', 5), ('projecten', 5), ('werk-inkomen', 2), ('toerisme-vrije-tijd', 1), ('ondernemen', 1), ('sport', 1), ('subsidies', 1)]\n"
     ]
    }
   ],
   "source": [
    "print(Counter(filtered_amsterdam['Paths']).most_common())"
   ]
  },
  {
   "cell_type": "code",
   "execution_count": 116,
   "metadata": {},
   "outputs": [
    {
     "name": "stdout",
     "output_type": "stream",
     "text": [
      "                     precision    recall  f1-score   support\n",
      "\n",
      "bestuur-organisatie       0.40      0.40      0.40        10\n",
      "      kunst-cultuur       0.00      0.00      0.00         0\n",
      "         ondernemen       0.00      0.00      0.00         1\n",
      "           parkeren       0.00      0.00      0.00         0\n",
      "          projecten       0.33      0.20      0.25         5\n",
      "              sport       0.00      0.00      0.00         1\n",
      "         stadsdelen       0.00      0.00      0.00         0\n",
      "          subsidies       0.00      0.00      0.00         1\n",
      "toerisme-vrije-tijd       0.00      0.00      0.00         1\n",
      "       veelgevraagd       0.21      0.50      0.30         6\n",
      "       werk-inkomen       0.50      0.50      0.50         2\n",
      " wonen-leefomgeving       0.56      0.42      0.48        12\n",
      " zorg-ondersteuning       1.00      0.20      0.33         5\n",
      "\n",
      "           accuracy                           0.34        44\n",
      "          macro avg       0.23      0.17      0.17        44\n",
      "       weighted avg       0.45      0.34      0.35        44\n",
      "\n"
     ]
    },
    {
     "name": "stderr",
     "output_type": "stream",
     "text": [
      "/Users/natalipeeva/opt/anaconda3/lib/python3.8/site-packages/sklearn/metrics/_classification.py:1318: UndefinedMetricWarning: Precision and F-score are ill-defined and being set to 0.0 in labels with no predicted samples. Use `zero_division` parameter to control this behavior.\n",
      "  _warn_prf(average, modifier, msg_start, len(result))\n",
      "/Users/natalipeeva/opt/anaconda3/lib/python3.8/site-packages/sklearn/metrics/_classification.py:1318: UndefinedMetricWarning: Recall and F-score are ill-defined and being set to 0.0 in labels with no true samples. Use `zero_division` parameter to control this behavior.\n",
      "  _warn_prf(average, modifier, msg_start, len(result))\n",
      "/Users/natalipeeva/opt/anaconda3/lib/python3.8/site-packages/sklearn/metrics/_classification.py:1318: UndefinedMetricWarning: Precision and F-score are ill-defined and being set to 0.0 in labels with no predicted samples. Use `zero_division` parameter to control this behavior.\n",
      "  _warn_prf(average, modifier, msg_start, len(result))\n",
      "/Users/natalipeeva/opt/anaconda3/lib/python3.8/site-packages/sklearn/metrics/_classification.py:1318: UndefinedMetricWarning: Recall and F-score are ill-defined and being set to 0.0 in labels with no true samples. Use `zero_division` parameter to control this behavior.\n",
      "  _warn_prf(average, modifier, msg_start, len(result))\n",
      "/Users/natalipeeva/opt/anaconda3/lib/python3.8/site-packages/sklearn/metrics/_classification.py:1318: UndefinedMetricWarning: Precision and F-score are ill-defined and being set to 0.0 in labels with no predicted samples. Use `zero_division` parameter to control this behavior.\n",
      "  _warn_prf(average, modifier, msg_start, len(result))\n",
      "/Users/natalipeeva/opt/anaconda3/lib/python3.8/site-packages/sklearn/metrics/_classification.py:1318: UndefinedMetricWarning: Recall and F-score are ill-defined and being set to 0.0 in labels with no true samples. Use `zero_division` parameter to control this behavior.\n",
      "  _warn_prf(average, modifier, msg_start, len(result))\n"
     ]
    }
   ],
   "source": [
    "print(classification_report(filtered_amsterdam['Paths'], ranking['Paths'])) # predictions without removing the not working URls"
   ]
  },
  {
   "attachments": {},
   "cell_type": "markdown",
   "metadata": {},
   "source": [
    "#### Filter out non-existent URLs "
   ]
  },
  {
   "cell_type": "code",
   "execution_count": 123,
   "metadata": {},
   "outputs": [
    {
     "data": {
      "text/plain": [
       "'https://www.amsterdam.nl/zorg-ondersteuning/ondersteuning/vluchtelingen/ongedocumenteerden/'"
      ]
     },
     "execution_count": 123,
     "metadata": {},
     "output_type": "execute_result"
    }
   ],
   "source": [
    "urls = list(filtered_amsterdam['URLs'])\n",
    "urls[0]"
   ]
  },
  {
   "cell_type": "code",
   "execution_count": 132,
   "metadata": {},
   "outputs": [],
   "source": [
    "urls = list(filtered_amsterdam['URLs'])\n",
    "\n",
    "html = []\n",
    "for url in urls:\n",
    "    try:\n",
    "        response = requests.get(url)\n",
    "        soup = BeautifulSoup(response.content, 'html.parser')\n",
    "        \n",
    "        html.append(soup)\n",
    "    except:\n",
    "        html.append('error')\n",
    "        \n",
    "    time.sleep(random.uniform(2, 8))\n"
   ]
  },
  {
   "attachments": {},
   "cell_type": "markdown",
   "metadata": {},
   "source": [
    "#### Remove 'Helaas. De pagina waar u naar op zoek was bestaat niet (meer).' and error"
   ]
  },
  {
   "cell_type": "code",
   "execution_count": 140,
   "metadata": {},
   "outputs": [
    {
     "name": "stderr",
     "output_type": "stream",
     "text": [
      "<ipython-input-140-1f4a61e1e36c>:1: SettingWithCopyWarning: \n",
      "A value is trying to be set on a copy of a slice from a DataFrame.\n",
      "Try using .loc[row_indexer,col_indexer] = value instead\n",
      "\n",
      "See the caveats in the documentation: https://pandas.pydata.org/pandas-docs/stable/user_guide/indexing.html#returning-a-view-versus-a-copy\n",
      "  filtered_amsterdam['HTML'] = html\n",
      "<ipython-input-140-1f4a61e1e36c>:2: SettingWithCopyWarning: \n",
      "A value is trying to be set on a copy of a slice from a DataFrame.\n",
      "Try using .loc[row_indexer,col_indexer] = value instead\n",
      "\n",
      "See the caveats in the documentation: https://pandas.pydata.org/pandas-docs/stable/user_guide/indexing.html#returning-a-view-versus-a-copy\n",
      "  filtered_amsterdam['HTML Text'] = [get_doc_text(str(t)) for t in html]\n"
     ]
    }
   ],
   "source": [
    "filtered_amsterdam['HTML'] = html\n",
    "filtered_amsterdam['HTML Text'] = [get_doc_text(str(t)) for t in html]"
   ]
  },
  {
   "cell_type": "code",
   "execution_count": 145,
   "metadata": {},
   "outputs": [
    {
     "name": "stderr",
     "output_type": "stream",
     "text": [
      "<ipython-input-145-0323d787bdcf>:1: UserWarning: This pattern is interpreted as a regular expression, and has match groups. To actually get the groups, use str.extract.\n",
      "  filtered_amsterdam_2 = filtered_amsterdam[~filtered_amsterdam[\"HTML Text\"].astype(str).str.contains(\"Helaas. De pagina waar u naar op zoek was bestaat niet (meer).\")]\n"
     ]
    }
   ],
   "source": [
    "filtered_amsterdam_2 = filtered_amsterdam[~filtered_amsterdam[\"HTML\"].astype(str).str.contains(\"error\")]\n"
   ]
  },
  {
   "cell_type": "code",
   "execution_count": 154,
   "metadata": {},
   "outputs": [],
   "source": [
    "filtered_amsterdam_2 = filtered_amsterdam_2[~filtered_amsterdam_2[\"HTML Text\"].astype(str).str.contains(\"Fout - Pagina niet gevonden - Gemeente Amsterdam\")]\n"
   ]
  },
  {
   "cell_type": "code",
   "execution_count": 156,
   "metadata": {},
   "outputs": [
    {
     "data": {
      "text/plain": [
       "30"
      ]
     },
     "execution_count": 156,
     "metadata": {},
     "output_type": "execute_result"
    }
   ],
   "source": [
    "len(filtered_amsterdam_2)"
   ]
  },
  {
   "attachments": {},
   "cell_type": "markdown",
   "metadata": {},
   "source": [
    "### Check predictions on second filtering of amsterdam.nl referenced"
   ]
  },
  {
   "cell_type": "code",
   "execution_count": 157,
   "metadata": {},
   "outputs": [],
   "source": [
    "queries = list(filtered_amsterdam_2['Pre-processed Question'])"
   ]
  },
  {
   "cell_type": "code",
   "execution_count": 158,
   "metadata": {},
   "outputs": [],
   "source": [
    "vectorizer = TfidfVectorizer()\n",
    "document_vectors = vectorizer.fit_transform(documents)\n",
    "query_vectors = vectorizer.transform(queries)\n",
    "\n",
    "# Calculate cosine similarity\n",
    "similarity_matrix = cosine_similarity(query_vectors, document_vectors)\n",
    "\n",
    "# Sort documents by cosine similarity score and return top k\n",
    "k = 1\n",
    "top_k_docs = []\n",
    "for i, query in enumerate(queries):\n",
    "    doc_indices = similarity_matrix[i].argsort()[::-1][:k]\n",
    "    #top_k_docs.append((query, [documents[j] for j in doc_indices]))\n",
    "    \n",
    "    top_k_docs.append((query, [documents[j] for j in doc_indices]))\n",
    "    \n",
    "#print(top_k_docs)\n"
   ]
  },
  {
   "cell_type": "code",
   "execution_count": 159,
   "metadata": {},
   "outputs": [],
   "source": [
    "ranking_2 = pd.DataFrame()\n",
    "ranking_2['Question'] = [pair[0] for pair in top_k_docs]\n",
    "ranking_2['Rank1'] = [pair[1][0] for pair in top_k_docs]"
   ]
  },
  {
   "cell_type": "code",
   "execution_count": 160,
   "metadata": {},
   "outputs": [],
   "source": [
    "ranking_2 = pd.merge(ranking_2, supporting_documents, left_on='Rank1', right_on='Pre-processed Text', how='left')"
   ]
  },
  {
   "cell_type": "code",
   "execution_count": 161,
   "metadata": {},
   "outputs": [
    {
     "data": {
      "text/plain": [
       "30"
      ]
     },
     "execution_count": 161,
     "metadata": {},
     "output_type": "execute_result"
    }
   ],
   "source": [
    "len(ranking_2)"
   ]
  },
  {
   "cell_type": "code",
   "execution_count": 163,
   "metadata": {},
   "outputs": [
    {
     "data": {
      "text/plain": [
       "0    bestuur-organisatie\n",
       "1     zorg-ondersteuning\n",
       "2           veelgevraagd\n",
       "3             stadsdelen\n",
       "4           veelgevraagd\n",
       "Name: Paths, dtype: object"
      ]
     },
     "execution_count": 163,
     "metadata": {},
     "output_type": "execute_result"
    }
   ],
   "source": [
    "ranking_2['Paths'][:5]"
   ]
  },
  {
   "cell_type": "code",
   "execution_count": 164,
   "metadata": {},
   "outputs": [
    {
     "data": {
      "text/plain": [
       "615     zorg-ondersteuning\n",
       "620     zorg-ondersteuning\n",
       "1587          veelgevraagd\n",
       "1934             projecten\n",
       "2641    wonen-leefomgeving\n",
       "Name: Paths, dtype: object"
      ]
     },
     "execution_count": 164,
     "metadata": {},
     "output_type": "execute_result"
    }
   ],
   "source": [
    "filtered_amsterdam_2['Paths'][:5]"
   ]
  },
  {
   "cell_type": "code",
   "execution_count": 165,
   "metadata": {},
   "outputs": [
    {
     "name": "stdout",
     "output_type": "stream",
     "text": [
      "                     precision    recall  f1-score   support\n",
      "\n",
      "bestuur-organisatie       0.25      0.33      0.29         6\n",
      "      kunst-cultuur       0.00      0.00      0.00         0\n",
      "         ondernemen       0.00      0.00      0.00         1\n",
      "           parkeren       0.00      0.00      0.00         0\n",
      "          projecten       0.00      0.00      0.00         4\n",
      "              sport       0.00      0.00      0.00         1\n",
      "         stadsdelen       0.00      0.00      0.00         0\n",
      "          subsidies       0.00      0.00      0.00         1\n",
      "       veelgevraagd       0.20      0.50      0.29         4\n",
      " wonen-leefomgeving       0.67      0.50      0.57         8\n",
      " zorg-ondersteuning       1.00      0.20      0.33         5\n",
      "\n",
      "           accuracy                           0.30        30\n",
      "          macro avg       0.19      0.14      0.13        30\n",
      "       weighted avg       0.42      0.30      0.30        30\n",
      "\n"
     ]
    },
    {
     "name": "stderr",
     "output_type": "stream",
     "text": [
      "/Users/natalipeeva/opt/anaconda3/lib/python3.8/site-packages/sklearn/metrics/_classification.py:1318: UndefinedMetricWarning: Precision and F-score are ill-defined and being set to 0.0 in labels with no predicted samples. Use `zero_division` parameter to control this behavior.\n",
      "  _warn_prf(average, modifier, msg_start, len(result))\n",
      "/Users/natalipeeva/opt/anaconda3/lib/python3.8/site-packages/sklearn/metrics/_classification.py:1318: UndefinedMetricWarning: Recall and F-score are ill-defined and being set to 0.0 in labels with no true samples. Use `zero_division` parameter to control this behavior.\n",
      "  _warn_prf(average, modifier, msg_start, len(result))\n",
      "/Users/natalipeeva/opt/anaconda3/lib/python3.8/site-packages/sklearn/metrics/_classification.py:1318: UndefinedMetricWarning: Precision and F-score are ill-defined and being set to 0.0 in labels with no predicted samples. Use `zero_division` parameter to control this behavior.\n",
      "  _warn_prf(average, modifier, msg_start, len(result))\n",
      "/Users/natalipeeva/opt/anaconda3/lib/python3.8/site-packages/sklearn/metrics/_classification.py:1318: UndefinedMetricWarning: Recall and F-score are ill-defined and being set to 0.0 in labels with no true samples. Use `zero_division` parameter to control this behavior.\n",
      "  _warn_prf(average, modifier, msg_start, len(result))\n",
      "/Users/natalipeeva/opt/anaconda3/lib/python3.8/site-packages/sklearn/metrics/_classification.py:1318: UndefinedMetricWarning: Precision and F-score are ill-defined and being set to 0.0 in labels with no predicted samples. Use `zero_division` parameter to control this behavior.\n",
      "  _warn_prf(average, modifier, msg_start, len(result))\n",
      "/Users/natalipeeva/opt/anaconda3/lib/python3.8/site-packages/sklearn/metrics/_classification.py:1318: UndefinedMetricWarning: Recall and F-score are ill-defined and being set to 0.0 in labels with no true samples. Use `zero_division` parameter to control this behavior.\n",
      "  _warn_prf(average, modifier, msg_start, len(result))\n"
     ]
    }
   ],
   "source": [
    "print(classification_report(filtered_amsterdam_2['Paths'], ranking_2['Paths'])) # predictions without removing the not working URls"
   ]
  },
  {
   "attachments": {},
   "cell_type": "markdown",
   "metadata": {},
   "source": [
    "### Check if any of the three retrieved appears"
   ]
  },
  {
   "cell_type": "code",
   "execution_count": 168,
   "metadata": {},
   "outputs": [],
   "source": [
    "vectorizer = TfidfVectorizer()\n",
    "document_vectors = vectorizer.fit_transform(documents)\n",
    "query_vectors = vectorizer.transform(queries)\n",
    "\n",
    "# Calculate cosine similarity\n",
    "similarity_matrix = cosine_similarity(query_vectors, document_vectors)\n",
    "\n",
    "# Sort documents by cosine similarity score and return top k\n",
    "k = 3\n",
    "top_k_docs = []\n",
    "for i, query in enumerate(queries):\n",
    "    doc_indices = similarity_matrix[i].argsort()[::-1][:k]\n",
    "    #top_k_docs.append((query, [documents[j] for j in doc_indices]))\n",
    "    \n",
    "    top_k_docs.append(([documents[j] for j in doc_indices]))\n",
    "    \n",
    "#print(top_k_docs)"
   ]
  },
  {
   "cell_type": "code",
   "execution_count": 174,
   "metadata": {},
   "outputs": [
    {
     "data": {
      "text/html": [
       "<div>\n",
       "<style scoped>\n",
       "    .dataframe tbody tr th:only-of-type {\n",
       "        vertical-align: middle;\n",
       "    }\n",
       "\n",
       "    .dataframe tbody tr th {\n",
       "        vertical-align: top;\n",
       "    }\n",
       "\n",
       "    .dataframe thead th {\n",
       "        text-align: right;\n",
       "    }\n",
       "</style>\n",
       "<table border=\"1\" class=\"dataframe\">\n",
       "  <thead>\n",
       "    <tr style=\"text-align: right;\">\n",
       "      <th></th>\n",
       "      <th>URL</th>\n",
       "      <th>HTML</th>\n",
       "      <th>Paths</th>\n",
       "      <th>Text</th>\n",
       "      <th>Pre-processed Text</th>\n",
       "    </tr>\n",
       "  </thead>\n",
       "  <tbody>\n",
       "    <tr>\n",
       "      <th>42</th>\n",
       "      <td>https://www.amsterdam.nl/bestuur-organisatie/c...</td>\n",
       "      <td>b'&lt;!DOCTYPE html&gt;\\n&lt;html lang=nl&gt;\\n&lt;head prefi...</td>\n",
       "      <td>bestuur-organisatie</td>\n",
       "      <td>\\n\\n\\n\\nNieuws uit B en W 5 april 2023 - Gemee...</td>\n",
       "      <td>nieuw b w april gemeent amsterdam direct inhou...</td>\n",
       "    </tr>\n",
       "  </tbody>\n",
       "</table>\n",
       "</div>"
      ],
      "text/plain": [
       "                                                  URL  \\\n",
       "42  https://www.amsterdam.nl/bestuur-organisatie/c...   \n",
       "\n",
       "                                                 HTML                Paths  \\\n",
       "42  b'<!DOCTYPE html>\\n<html lang=nl>\\n<head prefi...  bestuur-organisatie   \n",
       "\n",
       "                                                 Text  \\\n",
       "42  \\n\\n\\n\\nNieuws uit B en W 5 april 2023 - Gemee...   \n",
       "\n",
       "                                   Pre-processed Text  \n",
       "42  nieuw b w april gemeent amsterdam direct inhou...  "
      ]
     },
     "execution_count": 174,
     "metadata": {},
     "output_type": "execute_result"
    }
   ],
   "source": [
    "supporting_documents.loc[supporting_documents['Pre-processed Text']=='nieuw b w april gemeent amsterdam direct inhoud gemeenteamsterdam aaa amsterdam english sit menuzoek onderwerp nieuw contact zoek amsterdamnl zoek zoek verberg browser ondersteund gebruik recent versie edg chrom firefox pad huidig pagina hom bestur organisatie colleg burgemeester wethouder nieuw b w nieuw b w april abesluit algemen zak colleg b w kennisgenom uitkomst landelijk voorgeschrev zelfevaluaties vier basisregistraties colleg bijhoudt basisregistraties adress gebouw grootschal topograﬁ ondergrond waard onroer zak uitkomst aangebod landelijk toezichthouder basisregistraties ter kennisnam geagendeerd vergader raadscommissie financien kunst diversiteit colleg b w stelt open ruimt geleg marktkwartier stadsdel west amsterdam vast betreft peterseliekad kurkumakad saﬀraanlan kardemomstrat vanillestrat laosstrat oreganostrat steranijsstrat gemberstrat dragonstrat basilicumstrat garam masalastrat nootmuskaatstrat kruidnagelstrat jeneverbesstrat salieplein expeditiestrat oost expeditiestrat west groothandelsmarktplein juridisch zak colleg b w ingestemd opdrachtverlen programmamanager open informatiehuishoud uurtarief euro daarmee afgewek maximal bedrag opgenom protocol extern inzet afwijk voorgelegd colleg onderwijs colleg b w verleent eenmal aanvull subsidie uitvoer werkplat onderwijsonderzoek amsterdam voortgezet middel beroepsonderwijs werkplat schol opleid kennisinstell onderzoek bijdraagt professionaliser docent kwaliteit amsterdam onderwijs aanvull subsidie onderzoek eind huidig schooljar voortgezet social zak colleg b w ingestemd evaluatie participatierad elk drie jar functioner participatierad geevalueerd laatst ker colleg ziet aanleid jar evaluatie lat voer onafhank advies onderzoeksbureau evaluatie verwacht zomerreces afgerond daarna rad hierover geinformeerd gemeent vastgoed colleg b w ingestemd actualisatie procedur gemeent vastgoed vrijkomt doel hiervan vrijkom vastgoed efficient zet maatschapp beleidsdoel ondersteun faciliter grond ontwikkel colleg b w stemt ophog bestaand corporatiesubsidie duurzam nieuwbouwwon buiksloterham strandeiland afschaﬀ beng bijna energieneutral gebouw vervalt del beoogd dekking corporaties buiksloterham strandeiland ophog bestaand corporatiesubsidie duurzam nieuwbouwwon buiksloterham strandeiland hersteld verker vervoer luchtkwaliteitopen ruimt groen colleg b w stuurt brief gemeenterad afhandel motie raadslid ernsting groenlink oproept fietsknelpunt kaart breng bestaand dashboard verkeersveil uitgebreid fietsknelpunt basis melding gemeent fietsersbond colleg b w stuurt brief gemeenterad programma aanpak wegtunnel vierd kwartal hierin stat belangrijkst ontwikkel uitstel openstell piet heintunnel besluit vernieuw verkeerscentral amsterdam colleg b w besluit weesperstrat tuss juni juli af sluit autoverker effect daarvan omgev stad onderzoek del pagina del pagina facebok del pagina twitter del pagina linkedin del pagina whatsapp print pagina gemeent amsterdam contact hebt vrag kunt antwoord vind websit nem contact contactformulier bel telefoonnummer maandag vrijdag uur contactgegeven openingstijd volg gemeent nieuwsbrief amsterdam twitter facebok instagram linkedin youtub werkenbij kalender buurtactiviteit inspraakavond organiseert gemeent kijk kalender amsterdam amsterdam benieuwd allemal stad iamsterdamcom vindt best tip gebied cultur uitgan evenement lijst sit privacy cookies sit webarchief']"
   ]
  },
  {
   "cell_type": "code",
   "execution_count": 180,
   "metadata": {},
   "outputs": [],
   "source": [
    "def add_url_path(results_k, supporting_documents):\n",
    "    results = []\n",
    "    for result in results_k:\n",
    "        #supporting_documents.loc[supporting_documents[str(result)]]\n",
    "        results.append(supporting_documents.loc[supporting_documents[str(result)]])\n",
    "\n",
    "    return results"
   ]
  },
  {
   "cell_type": "code",
   "execution_count": 170,
   "metadata": {},
   "outputs": [],
   "source": [
    "def check_results(predicted_results, true_labels):\n",
    "    results = []\n",
    "    for result in predicted_results:\n",
    "        if result in true_labels:\n",
    "            results.append(1)\n",
    "        else:\n",
    "            results.append(0)\n",
    "    \n",
    "    return results"
   ]
  },
  {
   "cell_type": "code",
   "execution_count": 182,
   "metadata": {},
   "outputs": [],
   "source": [
    "with open('supporting_docs_df.pickle', 'wb') as f:\n",
    "    pickle.dump(supporting_documents, f)"
   ]
  },
  {
   "cell_type": "code",
   "execution_count": 187,
   "metadata": {},
   "outputs": [],
   "source": [
    "filtered_amsterdam.to_csv('filtered_ams_questions.csv')"
   ]
  }
 ],
 "metadata": {
  "kernelspec": {
   "display_name": "base",
   "language": "python",
   "name": "python3"
  },
  "language_info": {
   "codemirror_mode": {
    "name": "ipython",
    "version": 3
   },
   "file_extension": ".py",
   "mimetype": "text/x-python",
   "name": "python",
   "nbconvert_exporter": "python",
   "pygments_lexer": "ipython3",
   "version": "3.8.5"
  },
  "orig_nbformat": 4,
  "vscode": {
   "interpreter": {
    "hash": "ea4c3bcc219a1292b0d1d9543a9b9f82ed18a35340190a3cbd50b3110bbb4e55"
   }
  }
 },
 "nbformat": 4,
 "nbformat_minor": 2
}
