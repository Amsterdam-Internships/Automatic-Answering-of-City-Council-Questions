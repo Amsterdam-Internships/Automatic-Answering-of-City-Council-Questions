{
 "cells": [
  {
   "cell_type": "code",
   "execution_count": 1,
   "metadata": {},
   "outputs": [],
   "source": [
    "import pickle"
   ]
  },
  {
   "cell_type": "code",
   "execution_count": 3,
   "metadata": {},
   "outputs": [],
   "source": [
    "with open('/Users/natalipeeva/Desktop/updated_urls.pickle', 'rb') as f:\n",
    "    updated_urls = pickle.load(f)"
   ]
  },
  {
   "cell_type": "code",
   "execution_count": 4,
   "metadata": {},
   "outputs": [
    {
     "data": {
      "text/plain": [
       "['https://www.zwemwater.nl/.Hier',\n",
       " 'https://maps.amsterdam.nl/zwemwater/',\n",
       " 'https://www.amsterdam.nl/veelgevraagd/?caseid=%7BD6E280FB-4A76-40A0-9B88-12B87E446FA6%7D']"
      ]
     },
     "execution_count": 4,
     "metadata": {},
     "output_type": "execute_result"
    }
   ],
   "source": [
    "updated_urls[:3]"
   ]
  },
  {
   "cell_type": "code",
   "execution_count": 5,
   "metadata": {},
   "outputs": [],
   "source": [
    "veelgevragd = [url for url in updated_urls if 'veelgevraagd' in url]"
   ]
  },
  {
   "cell_type": "code",
   "execution_count": 6,
   "metadata": {},
   "outputs": [
    {
     "data": {
      "text/plain": [
       "['https://www.amsterdam.nl/veelgevraagd/?caseid=%7BD6E280FB-4A76-40A0-9B88-12B87E446FA6%7D',\n",
       " 'https://www.amsterdam.nl/veelgevraagd/?productid=',\n",
       " 'https://www.amsterdam.nl/veelgevraagd/?productid=%7B249D3A8E-ED07-4E4C-BFAD-49F174342FD5%7D',\n",
       " 'https://www.amsterdam.nl/veelgevraagd/?caseid=%7B2A574844-AA85-4A2C-8CD3-8CB494F4997E%7D',\n",
       " 'https://www.amsterdam.nl/veelgevraagd/?caseid=%7B81530DE0-8A69-4085-A9A8-739EF202B595%7D&_ga=2.153284539.280737159.1528702078-235779210.1528702078',\n",
       " 'https://www.amsterdam.nl/veelgevraagd/?caseid=%7B0509871D-A851-40C4-8C1A-E79B5E121D67%7D',\n",
       " 'https://www.amsterdam.nl/veelgevraagd/?productid=',\n",
       " 'https://www.amsterdam.nl/veelgevraagd/?productid=%7BD5F9EF09-0F3A-4E59-8435-4873EB7CD609%7D#case_%7B33F0B504-EDEB-42EE-A8C5-7EF394F65D3A%7D#',\n",
       " 'https://www.amsterdam.nl/veelgevraagd/?productid=%7B87FAD1C9-60E9-4CEA-B9AE-6D5594A0E841%7D#case_%7B63E55F58-F93C-4A68-BEAA-896C8F8FBBB1%7D)',\n",
       " 'https://www.amsterdam.nl/veelgevraagd/?productid=%7B0497C2EC-D574-42FC-BB56-140DD7641EC5%7D']"
      ]
     },
     "execution_count": 6,
     "metadata": {},
     "output_type": "execute_result"
    }
   ],
   "source": [
    "veelgevragd"
   ]
  },
  {
   "cell_type": "code",
   "execution_count": 7,
   "metadata": {},
   "outputs": [],
   "source": [
    "with open('/Users/natalipeeva/Desktop/supporting_documents.pickle', 'rb') as f:\n",
    "    supporting_docs = pickle.load(f)"
   ]
  },
  {
   "cell_type": "code",
   "execution_count": 9,
   "metadata": {},
   "outputs": [],
   "source": [
    "supporting_urls = list(supporting_docs['URL'])"
   ]
  },
  {
   "cell_type": "code",
   "execution_count": 10,
   "metadata": {},
   "outputs": [],
   "source": [
    "supporting_veelgevraagd = [url for url in supporting_urls if 'amsterdam.nl/veelgevraagd' in url]"
   ]
  },
  {
   "cell_type": "code",
   "execution_count": 31,
   "metadata": {},
   "outputs": [
    {
     "data": {
      "text/plain": [
       "['/amsterdam-veelgevraagd/www.amsterdam.nl/veelgevraagd/index.html',\n",
       " '/amsterdam-veelgevraagd/www.amsterdam.nl/veelgevraagd/index.html?mode=hide_WebNote_19824.html',\n",
       " '/amsterdam-veelgevraagd/www.amsterdam.nl/veelgevraagd/index.html?categoryid={01F31850-867C-4A9F-9796-8DF29DA07490}.html',\n",
       " '/amsterdam-veelgevraagd/www.amsterdam.nl/veelgevraagd/index.html?categoryid={317474FA-FF4D-43E1-BBA9-2C6C54A1E246}.html',\n",
       " '/amsterdam-veelgevraagd/www.amsterdam.nl/veelgevraagd/index.html?categoryid={736083DF-D6D9-430E-BED9-15A6A46C45D3}.html',\n",
       " '/amsterdam-veelgevraagd/www.amsterdam.nl/veelgevraagd/index.html?categoryid={16A7A552-0879-47B7-B1F4-B53891FDE2D4}.html',\n",
       " '/amsterdam-veelgevraagd/www.amsterdam.nl/veelgevraagd/index.html?categoryid={41EE3555-B122-46E5-A4C9-A18926BA7D0A}.html',\n",
       " '/amsterdam-veelgevraagd/www.amsterdam.nl/veelgevraagd/index.html?categoryid={C0B0C06C-6DD6-4EE4-A90A-B154D2B76E65}.html',\n",
       " '/amsterdam-veelgevraagd/www.amsterdam.nl/veelgevraagd/index.html?categoryid={01CDA108-7097-4136-93DC-CCA7505929E2}.html',\n",
       " '/amsterdam-veelgevraagd/www.amsterdam.nl/veelgevraagd/index.html?categoryid={BDEAFD0A-5F1B-4185-8538-9D28CA6CB872}.html']"
      ]
     },
     "execution_count": 31,
     "metadata": {},
     "output_type": "execute_result"
    }
   ],
   "source": [
    "supporting_veelgevraagd[:10]"
   ]
  },
  {
   "cell_type": "code",
   "execution_count": null,
   "metadata": {},
   "outputs": [],
   "source": [
    "#### TO DO ####\n",
    "\n",
    "# Check where www.amsterdam.nl starts \n",
    "# Add https//: before that \n",
    "# Remove 'index.html' from the URL\n",
    "# If .html still at the end of the URL -> remove"
   ]
  },
  {
   "cell_type": "code",
   "execution_count": null,
   "metadata": {},
   "outputs": [],
   "source": [
    "# Add HTTPS at the beginnig \n",
    "# remove index.html \n",
    "# if .html at the end left -> remove \n",
    "# transform to URL encoding "
   ]
  },
  {
   "cell_type": "code",
   "execution_count": 13,
   "metadata": {},
   "outputs": [],
   "source": [
    "import urllib.parse"
   ]
  },
  {
   "cell_type": "code",
   "execution_count": 14,
   "metadata": {},
   "outputs": [],
   "source": [
    "def url_encode(url):\n",
    "    \"\"\"Encode a URL using percent encoding\"\"\"\n",
    "    parts = urllib.parse.urlparse(url)\n",
    "    new_query = urllib.parse.quote_plus(parts.query, safe='=&')\n",
    "    new_url = urllib.parse.urlunparse((parts.scheme, parts.netloc, parts.path, parts.params, new_query, parts.fragment))\n",
    "    return new_url"
   ]
  },
  {
   "cell_type": "code",
   "execution_count": 18,
   "metadata": {},
   "outputs": [
    {
     "name": "stdout",
     "output_type": "stream",
     "text": [
      "www.amsterdam.nl/veelgevraagd/index.html?mode=hide_WebNote_19824.html\n"
     ]
    }
   ],
   "source": [
    "url = \"https://www.amsterdam.nl/veelgevraagd/index.html?mode=hide_WebNote_19824.html\"\n",
    "encoded_url = url_encode(url)\n",
    "print(encoded_url)"
   ]
  },
  {
   "cell_type": "code",
   "execution_count": 19,
   "metadata": {},
   "outputs": [],
   "source": [
    "def format_url(url):\n",
    "    \"\"\"Format a URL with 'https://' and without 'www' prefix\"\"\"\n",
    "    prefix = \"www.amsterdam.nl\"\n",
    "    if prefix in url:\n",
    "        index = url.index(prefix)\n",
    "        url = \"https://\" + url[index:]\n",
    "        url = url.replace(\"www.\", \"\")\n",
    "    return url\n"
   ]
  },
  {
   "cell_type": "code",
   "execution_count": 20,
   "metadata": {},
   "outputs": [
    {
     "data": {
      "text/plain": [
       "'https://amsterdam.nl/veelgevraagd/index.html'"
      ]
     },
     "execution_count": 20,
     "metadata": {},
     "output_type": "execute_result"
    }
   ],
   "source": [
    "format_url('/amsterdam-veelgevraagd/www.amsterdam.nl/veelgevraagd/index.html')"
   ]
  },
  {
   "cell_type": "code",
   "execution_count": null,
   "metadata": {},
   "outputs": [],
   "source": [
    "#### TO DO ####\n",
    "\n",
    "# Check where www.amsterdam.nl starts  ### DONE\n",
    "# Add https//: before that   ### DONE\n",
    "# Remove 'index.html' from the URL\n",
    "# If .html still at the end of the URL -> remove"
   ]
  },
  {
   "cell_type": "code",
   "execution_count": 22,
   "metadata": {},
   "outputs": [],
   "source": [
    "import re"
   ]
  },
  {
   "cell_type": "code",
   "execution_count": 27,
   "metadata": {},
   "outputs": [],
   "source": [
    "def remove_index_html(url):\n",
    "    \"\"\"Remove 'index.html' from a URL\"\"\"\n",
    "    while \"index.html\" in url:\n",
    "        url = url.replace(\"index.html\", \"\")\n",
    "    return url\n"
   ]
  },
  {
   "cell_type": "code",
   "execution_count": 29,
   "metadata": {},
   "outputs": [
    {
     "data": {
      "text/plain": [
       "'/amsterdam-veelgevraagd/www.amsterdam.nl/veelgevraagd/?categoryid={01F31850-867C-4A9F-9796-8DF29DA07490}.html'"
      ]
     },
     "execution_count": 29,
     "metadata": {},
     "output_type": "execute_result"
    }
   ],
   "source": [
    "remove_index_html('/amsterdam-veelgevraagd/www.amsterdam.nl/veelgevraagd/index.html?categoryid={01F31850-867C-4A9F-9796-8DF29DA07490}.html')"
   ]
  },
  {
   "cell_type": "code",
   "execution_count": 79,
   "metadata": {},
   "outputs": [],
   "source": [
    "class CleanWgetURL:\n",
    "    def __init__(self, folder_path) -> None:\n",
    "        self.url = folder_path\n",
    "    \n",
    "    def add_https(self):\n",
    "        \"\"\"Format a URL with 'https://' and without 'www' prefix\"\"\"\n",
    "\n",
    "        prefix = \"www.amsterdam.nl\"\n",
    "        if prefix in self.url:\n",
    "            index = self.url.index(prefix)\n",
    "            self.url = \"https://\" + self.url[index:]\n",
    "            #self.url = self.url.replace(\"www.\", \"\")\n",
    "    \n",
    "    def remove_index_html(self):\n",
    "        \"\"\"Remove 'index.html' from a URL\"\"\"\n",
    "        while \"index.html\" in self.url:\n",
    "            self.url = self.url.replace(\"index.html\", \"\")\n",
    "    \n",
    "    def url_encode(self):\n",
    "        \"\"\"Encode a URL using percent encoding\"\"\"\n",
    "        parts = urllib.parse.urlparse(self.url)\n",
    "        new_query = urllib.parse.quote_plus(parts.query, safe='=&')\n",
    "        self.url = urllib.parse.urlunparse((parts.scheme, parts.netloc, parts.path, parts.params, new_query, parts.fragment))\n",
    "    \n",
    "    def normalize_ending(self):\n",
    "        \"\"\"Removes ending if URL ends with '.html' or '/' \"\"\"\n",
    "        if self.url.endswith(\".html\") or self.url.endswith(\"/\"):\n",
    "            self.url = self.url[:-5] if self.url.endswith(\".html\") else self.url[:-1]\n",
    "    \n",
    "    def clean_url(self):\n",
    "        self.add_https()\n",
    "        self.remove_index_html()\n",
    "        self.url_encode()\n",
    "        self.normalize_ending()\n",
    "        \n",
    "        return self.url"
   ]
  },
  {
   "cell_type": "code",
   "execution_count": 80,
   "metadata": {},
   "outputs": [],
   "source": [
    "test = CleanWgetURL('/amsterdam-veelgevraagd/www.amsterdam.nl/veelgevraagd/index.html?categoryid={01F31850-867C-4A9F-9796-8DF29DA07490}.html')"
   ]
  },
  {
   "cell_type": "code",
   "execution_count": 81,
   "metadata": {},
   "outputs": [
    {
     "name": "stdout",
     "output_type": "stream",
     "text": [
      "https://www.amsterdam.nl/veelgevraagd/?categoryid=%7B01F31850-867C-4A9F-9796-8DF29DA07490%7D\n"
     ]
    }
   ],
   "source": [
    "print(test.clean_url())"
   ]
  },
  {
   "cell_type": "code",
   "execution_count": 82,
   "metadata": {},
   "outputs": [],
   "source": [
    "cleaned_urls = []\n",
    "for url in supporting_urls:\n",
    "    url_to_clean = CleanWgetURL(url)\n",
    "\n",
    "    cleaned_urls.append(url_to_clean.clean_url())"
   ]
  },
  {
   "cell_type": "code",
   "execution_count": 97,
   "metadata": {},
   "outputs": [],
   "source": [
    "cleaned_reference = []\n",
    "for url in updated_urls:\n",
    "    url_to_clean = CleanWgetURL(url)\n",
    "    try: \n",
    "        cleaned_reference.append(url_to_clean.clean_url())\n",
    "    except:\n",
    "        cleaned_reference.append('error') "
   ]
  },
  {
   "cell_type": "code",
   "execution_count": 83,
   "metadata": {},
   "outputs": [
    {
     "data": {
      "text/plain": [
       "['https://www.amsterdam.nl/kunst-cultuur/ateliers-broedplaatsen/over-broedplaatsen/broedplaatsenoverzicht/broedplaatsen/honigfabriek',\n",
       " 'https://www.amsterdam.nl/kunst-cultuur/ateliers-broedplaatsen/over-broedplaatsen/broedplaatsenoverzicht/broedplaatsen/tempel',\n",
       " 'https://www.amsterdam.nl/kunst-cultuur/ateliers-broedplaatsen/over-broedplaatsen/broedplaatsenoverzicht/broedplaatsen/kempenaarstudio',\n",
       " 'https://www.amsterdam.nl/kunst-cultuur/ateliers-broedplaatsen/over-broedplaatsen/broedplaatsenoverzicht/broedplaatsen/treehouse',\n",
       " 'https://www.amsterdam.nl/kunst-cultuur/ateliers-broedplaatsen/over-broedplaatsen/broedplaatsenoverzicht/broedplaatsen/diderotstraat',\n",
       " 'https://www.amsterdam.nl/kunst-cultuur/ateliers-broedplaatsen/over-broedplaatsen/broedplaatsenoverzicht/broedplaatsen/filmacademie-ot301',\n",
       " 'https://www.amsterdam.nl/kunst-cultuur/ateliers-broedplaatsen/over-broedplaatsen/broedplaatsenoverzicht/broedplaatsen/dw10',\n",
       " 'https://www.amsterdam.nl/kunst-cultuur/ateliers-broedplaatsen/over-broedplaatsen/broedplaatsenoverzicht/broedplaatsen/vlugt',\n",
       " 'https://www.amsterdam.nl/kunst-cultuur/ateliers-broedplaatsen/over-broedplaatsen/broedplaatsenoverzicht/broedplaatsen/garage-notweg',\n",
       " 'https://www.amsterdam.nl/kunst-cultuur/ateliers-broedplaatsen/over-broedplaatsen/broedplaatsenoverzicht/broedplaatsen/ondertussen']"
      ]
     },
     "execution_count": 83,
     "metadata": {},
     "output_type": "execute_result"
    }
   ],
   "source": [
    "cleaned_urls[5000:5010]"
   ]
  },
  {
   "cell_type": "code",
   "execution_count": null,
   "metadata": {},
   "outputs": [],
   "source": [
    "# Check if the ones I have are in the"
   ]
  },
  {
   "cell_type": "code",
   "execution_count": 57,
   "metadata": {},
   "outputs": [
    {
     "name": "stdout",
     "output_type": "stream",
     "text": [
      "False\n"
     ]
    }
   ],
   "source": [
    "list1 = [1, 2, 3, 4, 5]\n",
    "list2 = [3, 5, 7, 9, 11]\n",
    "\n",
    "# check if all items in list1 are in list2\n",
    "result = any(item in supporting_urls for item in updated_urls)\n",
    "\n",
    "print(result) # this will output False, since not all items in list1 are in list2\n"
   ]
  },
  {
   "cell_type": "code",
   "execution_count": 93,
   "metadata": {},
   "outputs": [
    {
     "data": {
      "text/plain": [
       "['https://www.amsterdam.nl/veelgevraagd/?caseid=%7BD6E280FB-4A76-40A0-9B88-12B87E446FA6%7D',\n",
       " 'https://www.amsterdam.nl/zorg-ondersteuning/ondersteuning/vluchtelingen/ongedocumenteerden/',\n",
       " 'https://www.amsterdam.nl/zorg-ondersteuning/ondersteuning/vluchtelingen/ongedocumenteerden/',\n",
       " 'https://www.amsterdam.nl/wonen-leefomgeving/veiligheid/openbare-orde/overlastgebieden/agressie-geweld/agressie-geweld/',\n",
       " 'https://www.amsterdam.nl/publish/pages/419505/amsterdamse_zorgambitie.pdf',\n",
       " 'https://www.amsterdam.nl/vragenondernemers)',\n",
       " 'https://www.amsterdam.nl/vragenondernemers.',\n",
       " 'https://www.amsterdam.nl/wonen-leefomgeving/groene-stad',\n",
       " 'https://www.amsterdam.nl/privacy/loket/',\n",
       " 'https://www.amsterdam.nl/veelgevraagd/?productid=',\n",
       " 'https://www.amsterdam.nl/publish/pages/858023/brief_wethouder_choho_hotspots_afval_d_d_21_de',\n",
       " 'https://www.amsterdam.nl/projecten/noorderpark/',\n",
       " 'https://www.amsterdam.nl/nieuwsbrieven/bestuur-organisatie/gemeenteraad/dagmails/2020/juni/5-juni-2020/?utm_source=nieuwsbrief&utm_medium=e-mail&utm_term=20200605&utm_content=link_ID0AS5BI055BI&utm_campaign=Dagmail%2520gemeenteraad%2520Amsterdam%252',\n",
       " 'https://www.amsterdam.nl/sociaaldomein/zorg-jeugd/artikelen/specialistische-jeugdhulp-speciaal/',\n",
       " 'https://www.amsterdam.nl/zorg-ondersteuning/ondersteuning/dak-of-thuisloos/?vkurl=dakloos',\n",
       " 'https://www.amsterdam.nl/gemeente/organisatie-diensten/wzs/publicaties/overig/stedelijke/stedelijke/amsterdamse/',\n",
       " 'https://www.amsterdam.nl/wonen-leefomgeving/zelfbouw/',\n",
       " 'https://www.amsterdam.nl/wonen-leefomgeving/vastgoedprofessionals/?vkurl=vastgoedprofessionals',\n",
       " 'https://www.amsterdam.nl/parkeren/parkeren-reizen/',\n",
       " 'https://www.amsterdam.nl/bestuur-organisatie/volg-beleid/stad-in-balans/geluidsoverlast/',\n",
       " 'https://www.amsterdam.nl/ratinjebuurt.',\n",
       " 'https://www.amsterdam.nl/projecten/elzenhagen-zuid/bomenkap-aanplant-groen-ehz/bomenkap-elzenhagen-zuid/',\n",
       " 'https://www.amsterdam.nl/projecten/elzenhagen-zuid/bomenkap-aanplant-groen-ehz/compensatie-groen/',\n",
       " 'https://www.amsterdam.nl/bestuur-organisatie/organisatie/overige/acvz/verwerking-persoonsgegevens-acvz/',\n",
       " 'https://www.amsterdam.nl/veelgevraagd/?productid=%7B249D3A8E-ED07-4E4C-BFAD-49F174342FD5%7D',\n",
       " 'https://www.amsterdam.nl/bestuur-organisatie/volg-beleid/coalitieakkoord-uitvoeringsagenda/gezonde-duurzame-stad/klimaatneutraal/',\n",
       " 'https://www.amsterdam.nl/wonen-leefomgeving/erfpacht/?vkurl=erfpacht',\n",
       " 'https://www.amsterdam.nl/toerisme-vrije-tijd/groen-natuur/ecologie/flora-fauna/)',\n",
       " 'https://www.amsterdam.nl/zon.',\n",
       " 'https://www.amsterdam.nl/nieuwsbrieven/bestuur-organisatie/gemeenteraad/dagmails/2021/maart/donderdag-11-maart-2021/',\n",
       " 'https://www.amsterdam.nl/nieuwsbrieven/bestuur-organisatie/gemeenteraad/dagmails/2021/maart/donderdag-11-maart-2021/',\n",
       " 'https://www.amsterdam.nl/beleidwerkeninkomen.',\n",
       " 'https://www.amsterdam.nl/veelgevraagd/?caseid=%7B2A574844-AA85-4A2C-8CD3-8CB494F4997E%7D',\n",
       " 'https://www.amsterdam.nl/veelgevraagd/?caseid=%7B81530DE0-8A69-4085-A9A8-739EF202B595%7D&_ga=2.153284539.280737159.1528702078-235779210.1528702078',\n",
       " 'https://www.amsterdam.nl/publish/pages/931968/raadsbrief_positief_perspectief_-_weerbaar_opgroeien_in_amsterdam.pdf',\n",
       " 'https://www.amsterdam.nl/tipstegeninbraak',\n",
       " 'https://www.amsterdam.nl/ondernemen/bedrijfsruimte/vastgoed/maatwerkregeling-huurders-gemeente/?vkurl=maatwerkregeling',\n",
       " 'https://www.amsterdam.nl/zorg-ondersteuning/contact/meldpunt-zorg/',\n",
       " 'https://www.amsterdam.nl/vga/nadeelcompensatie/bureau-nadeelcompensatie',\n",
       " 'https://www.amsterdam.nl/ondernemen/ondersteuning/?vkurl=sterkerondernemen',\n",
       " 'https://www.amsterdam.nl/bestuur-organisatie/volg-beleid/groen/bomen/',\n",
       " 'https://www.amsterdam.nl/projecten/elzenhagen-zuid/thema/bomenkap-aanplant-groen/',\n",
       " 'https://www.amsterdam.nl/',\n",
       " 'https://www.amsterdam.nl/',\n",
       " 'https://www.amsterdam.nl/',\n",
       " 'https://www.amsterdam.nl/',\n",
       " 'https://www.amsterdam.nl/',\n",
       " 'https://www.amsterdam.nl/',\n",
       " 'https://www.amsterdam.nl/',\n",
       " 'https://www.amsterdam.nl/',\n",
       " 'https://www.amsterdam.nl/kwaliteitsconvenant.',\n",
       " 'https://www.amsterdam.nl/veelgevraagd/?caseid=%7B0509871D-A851-40C4-8C1A-E79B5E121D67%7D',\n",
       " 'https://www.amsterdam.nl/veelgevraagd/?productid=',\n",
       " 'https://www.amsterdam.nl/ondernemen/inkoop-opdrachten/externe-inzet/',\n",
       " 'https://www.amsterdam.nl/werk-inkomen/pak-je-kans)',\n",
       " 'https://www.amsterdam.nl/sterkerondernemen.',\n",
       " 'https://www.amsterdam.nl/AcVZ.',\n",
       " 'https://www.amsterdam.nl/bestuur-organisatie/organisatie/overige/acvz/verwerking-persoonsgegevens-acvz/',\n",
       " 'https://www.amsterdam.nl/AcVZ).',\n",
       " 'https://www.amsterdam.nl/bestuur-organisatie/organisatie/overige/acvz/verwerking-persoonsgegevens-acvz/',\n",
       " 'https://www.amsterdam.nl/afvalbedrijven',\n",
       " 'https://www.amsterdam.nl/bestuur-organisatie/organisatie/ruimte-economie/wonen/stedelijke/kaderafspraken/',\n",
       " 'https://www.amsterdam.nl/verkeer-vervoer/fiets/fietsdepot/fiets-graveren/',\n",
       " 'https://www.amsterdam.nl/nieuwsarchief',\n",
       " 'https://www.amsterdam.nl/komop',\n",
       " 'https://www.amsterdam.nl/komop',\n",
       " 'https://www.amsterdam.nl/nieuwsbrieven/bestuur-organisatie/gemeenteraad/dagmails/2021/maart/donderdag-11-maart-2021/',\n",
       " 'https://www.amsterdam.nl/nieuwsbrieven/bestuur-organisatie/gemeenteraad/dagmails/2021/maart/donderdag-11-maart-2021/',\n",
       " 'https://www.amsterdam.nl/nieuwsbrieven/bestuur-organisatie/gemeenteraad/dagmails/2021/maart/donderdag-11-maart-2021/',\n",
       " 'https://www.amsterdam.nl/pgb.',\n",
       " 'https://www.amsterdam.nl/publish/pages/409612/convenantsplitsenenverkoopsocialehuurdefinitief19',\n",
       " 'https://www.amsterdam.nl/nieuws/kennisgevingen-bekendmakingen/',\n",
       " 'https://www.amsterdam.nl/nieuws/kennisgevingen-bekendmakingen/',\n",
       " 'https://www.amsterdam.nl/',\n",
       " 'https://www.amsterdam.nl/stadslandbouw',\n",
       " 'https://www.amsterdam.nl/stadslandbouw',\n",
       " 'https://www.amsterdam.nl/ondernemen.',\n",
       " 'https://www.amsterdam.nl/stadslandbouw',\n",
       " 'https://www.amsterdam.nl/bestuur-organisatie/organisatie/bestuur-organisatie/bureau-internationale-betrekkingen/?vkurl=internationaal',\n",
       " 'https://www.amsterdam.nl/internationaal.',\n",
       " 'https://www.amsterdam.nl/zorg-ondersteuning/contact/meldpunt-zorg/',\n",
       " 'https://www.amsterdam.nl/sport/corona-sport',\n",
       " 'https://www.amsterdam.nl/veelgevraagd/?productid=%7BD5F9EF09-0F3A-4E59-8435-4873EB7CD609%7D#case_%7B33F0B504-EDEB-42EE-A8C5-7EF394F65D3A%7D#',\n",
       " 'https://www.amsterdam.nl/wonen-leefomgeving/duurzaam-amsterdam/duurzaamontwikkelen/',\n",
       " 'https://www.amsterdam.nl/',\n",
       " 'https://www.amsterdam.nl/',\n",
       " 'https://www.amsterdam.nl/veelgevraagd/?productid=%7B87FAD1C9-60E9-4CEA-B9AE-6D5594A0E841%7D#case_%7B63E55F58-F93C-4A68-BEAA-896C8F8FBBB1%7D)',\n",
       " 'https://www.amsterdam.nl/werk-inkomen/pak-je-kans/hulp-geldproblemen/hulp-gedupeerden-toeslagenaffaire/',\n",
       " 'https://www.amsterdam.nl/wonen-leefomgeving/duurzaam-amsterdam/windmolens-amsterdam/reflectiefase/',\n",
       " 'https://www.amsterdam.nl/wonen-leefomgeving/duurzaam-amsterdam/windmolens-amsterdam/klankbordgroepen-windmolens-amsterdam/',\n",
       " 'https://www.amsterdam.nl/wonen-leefomgeving/wonen/funderingsloket/).',\n",
       " 'https://www.amsterdam.nl/projecten/marnixplein/)',\n",
       " 'https://www.amsterdam.nl/digitaalparkeren.',\n",
       " 'https://www.amsterdam.nl/osdorpplein.',\n",
       " 'https://www.amsterdam.nl/bestuur-organisatie/college/wethouder/marieke-doorninck/',\n",
       " 'https://www.amsterdam.nl/donkeredagentips',\n",
       " 'https://www.amsterdam.nl/publish/pages/944823/openbaar_bijlage_brief_update_aeb_commissie_f',\n",
       " 'https://www.amsterdam.nl/publish/pages/913893/1155_19_schriftelijke_vragen_boutkan_geluidsove',\n",
       " 'https://www.amsterdam.nl/jijstaatnietalleen/maatregelen/)',\n",
       " 'https://www.amsterdam.nl/wonen-leefomgeving/duurzaam-amsterdam/aan-de-slag-met-zonne-energie/?vkurl=zon',\n",
       " 'https://www.amsterdam.nl/sociaaldomein/onderwijs-leerplicht/mbo-agenda/',\n",
       " 'https://www.amsterdam.nl/wonen-leefomgeving/zelfbouw/wooncooperatie/kaartenbak-wooncooperaties/',\n",
       " 'https://www.amsterdam.nl/basisregistratiepersonen.',\n",
       " 'https://www.amsterdam.nl/bestuur-organisatie/organisaties/organisaties/integriteit/?vkurl=integriteit',\n",
       " 'https://www.amsterdam.nl/publish/pages/901801/127_19_schriftelijke_vragen_poot_bericht_dat_opnieuw_een_c',\n",
       " 'https://www.amsterdam.nl/verkeer-vervoer/milieuzone-amsterdam/?vkurl=milieuzone',\n",
       " 'https://www.amsterdam.nl/wonen-leefomgeving/veiligheid/overlastgebieden/agressie-geweld/',\n",
       " 'https://www.amsterdam.nl/bestuur-organisatie/college/wethouder/marieke-doorninck/persberichten/zonnepanelen-18/',\n",
       " 'https://www.amsterdam.nl/zon.',\n",
       " 'https://www.amsterdam.nl/zorg-ondersteuning/ondersteuning/vluchtelingen/24-uursopvang-ongedocumenteerden/',\n",
       " 'https://www.amsterdam.nl/wonen-leefomgeving/veiligheid/cameratoezicht/bekendmakingen-cameratoezicht/',\n",
       " 'https://www.amsterdam.nl/w99',\n",
       " 'https://www.amsterdam.nl/parkeren-verkeer/amsterdam-elektrisch/openbaar-oplaadpunt/',\n",
       " 'https://www.amsterdam.nl/bestuur-organisatie/college/wethouder/marieke-doorninck/persberichten/bijna-twee-derde-amsterdammers-positief/',\n",
       " 'https://www.amsterdam.nl/subsidies/subsidies-onderwerp/subsidies-ondernemen/',\n",
       " 'https://www.amsterdam.nl/projecten/arenapoort',\n",
       " 'https://www.amsterdam.nl/veelgevraagd/?productid=%7B0497C2EC-D574-42FC-BB56-140DD7641EC5%7D',\n",
       " 'https://www.amsterdam.nl/sociaaldomein/zorgprofessionals/huiselijk-geweld-en/adviseurs-sociale-basis-(preventie-hgkm)/',\n",
       " 'https://www.amsterdam.nl/nrga/',\n",
       " 'https://www.amsterdam.nl/bekendmakingen.',\n",
       " 'https://www.amsterdam.nl/nieuws/nieuwsoverzicht/coronavirus/noodverordening-14-oktober/',\n",
       " 'https://www.amsterdam.nl/wonen-leefomgeving/melding-openbare-ruimte-en-overlast/overlast-van-boten-melden/',\n",
       " 'https://www.amsterdam.nl/zorg-ondersteuning/ondersteuning/dak-of-thuisloos/?vkurl=dakloos',\n",
       " 'https://www.amsterdam.nl/nieuws/nieuwsoverzicht/dak-en-thuislozen.',\n",
       " 'https://www.amsterdam.nl/gemeente/organisatie/ruimte-economie/economie/amsterdams/samenwerking/nadeelcompensatie/']"
      ]
     },
     "execution_count": 93,
     "metadata": {},
     "output_type": "execute_result"
    }
   ],
   "source": [
    "[url for url in updated_urls if 'www.amsterdam.nl' in url]"
   ]
  },
  {
   "cell_type": "code",
   "execution_count": 94,
   "metadata": {},
   "outputs": [
    {
     "data": {
      "text/plain": [
       "False"
      ]
     },
     "execution_count": 94,
     "metadata": {},
     "output_type": "execute_result"
    }
   ],
   "source": [
    "'https://www.amsterdam.nl/vragenondernemers' in cleaned_urls"
   ]
  },
  {
   "cell_type": "code",
   "execution_count": 103,
   "metadata": {},
   "outputs": [
    {
     "ename": "TypeError",
     "evalue": "object of type 'bool' has no len()",
     "output_type": "error",
     "traceback": [
      "\u001b[0;31m---------------------------------------------------------------------------\u001b[0m",
      "\u001b[0;31mTypeError\u001b[0m                                 Traceback (most recent call last)",
      "\u001b[0;32m<ipython-input-103-457eb6905aab>\u001b[0m in \u001b[0;36m<module>\u001b[0;34m\u001b[0m\n\u001b[0;32m----> 1\u001b[0;31m \u001b[0mlen\u001b[0m\u001b[0;34m(\u001b[0m\u001b[0;34m[\u001b[0m\u001b[0mitem\u001b[0m \u001b[0;32min\u001b[0m \u001b[0mcleaned_urls\u001b[0m \u001b[0;32mfor\u001b[0m \u001b[0mitem\u001b[0m \u001b[0;32min\u001b[0m \u001b[0mcleaned_reference\u001b[0m\u001b[0;34m]\u001b[0m \u001b[0;34m==\u001b[0m \u001b[0;32mTrue\u001b[0m\u001b[0;34m)\u001b[0m\u001b[0;34m\u001b[0m\u001b[0;34m\u001b[0m\u001b[0m\n\u001b[0m",
      "\u001b[0;31mTypeError\u001b[0m: object of type 'bool' has no len()"
     ]
    }
   ],
   "source": [
    "len([item in cleaned_urls for item in cleaned_reference])"
   ]
  },
  {
   "cell_type": "code",
   "execution_count": 105,
   "metadata": {},
   "outputs": [
    {
     "data": {
      "text/plain": [
       "26"
      ]
     },
     "execution_count": 105,
     "metadata": {},
     "output_type": "execute_result"
    }
   ],
   "source": [
    "len([label for label in [item in cleaned_urls for item in cleaned_reference] if label == True])"
   ]
  },
  {
   "cell_type": "code",
   "execution_count": 99,
   "metadata": {},
   "outputs": [
    {
     "data": {
      "text/plain": [
       "147"
      ]
     },
     "execution_count": 99,
     "metadata": {},
     "output_type": "execute_result"
    }
   ],
   "source": [
    "len(cleaned_reference)"
   ]
  },
  {
   "cell_type": "code",
   "execution_count": 77,
   "metadata": {},
   "outputs": [],
   "source": [
    "matching = [s for s in cleaned_urls if 'subsidies/subsidies-onderwerp/subsidies-ondernemen' in s]"
   ]
  },
  {
   "cell_type": "code",
   "execution_count": 78,
   "metadata": {},
   "outputs": [
    {
     "data": {
      "text/plain": [
       "['https://amsterdam.nl/subsidies/subsidies-onderwerp/subsidies-ondernemen',\n",
       " 'https://amsterdam.nl/subsidies/subsidies-onderwerp/subsidies-ondernemen/?mode=hide_WebNote_19824',\n",
       " 'https://amsterdam.nl/subsidies/subsidies-onderwerp/subsidies-ondernemen/?print=true']"
      ]
     },
     "execution_count": 78,
     "metadata": {},
     "output_type": "execute_result"
    }
   ],
   "source": [
    "matching"
   ]
  },
  {
   "cell_type": "code",
   "execution_count": 106,
   "metadata": {},
   "outputs": [],
   "source": [
    "supporting_docs['Fixed URL'] = cleaned_urls"
   ]
  },
  {
   "cell_type": "code",
   "execution_count": 109,
   "metadata": {},
   "outputs": [
    {
     "name": "stdout",
     "output_type": "stream",
     "text": [
      "/Users/natalipeeva/Desktop\n"
     ]
    }
   ],
   "source": [
    "%cd '/Users/natalipeeva/Desktop'"
   ]
  },
  {
   "cell_type": "code",
   "execution_count": 110,
   "metadata": {},
   "outputs": [],
   "source": [
    "supporting_docs.to_csv('supporting_docs_fixed_linked.csv')"
   ]
  }
 ],
 "metadata": {
  "kernelspec": {
   "display_name": "base",
   "language": "python",
   "name": "python3"
  },
  "language_info": {
   "codemirror_mode": {
    "name": "ipython",
    "version": 3
   },
   "file_extension": ".py",
   "mimetype": "text/x-python",
   "name": "python",
   "nbconvert_exporter": "python",
   "pygments_lexer": "ipython3",
   "version": "3.8.5"
  },
  "orig_nbformat": 4,
  "vscode": {
   "interpreter": {
    "hash": "ea4c3bcc219a1292b0d1d9543a9b9f82ed18a35340190a3cbd50b3110bbb4e55"
   }
  }
 },
 "nbformat": 4,
 "nbformat_minor": 2
}
