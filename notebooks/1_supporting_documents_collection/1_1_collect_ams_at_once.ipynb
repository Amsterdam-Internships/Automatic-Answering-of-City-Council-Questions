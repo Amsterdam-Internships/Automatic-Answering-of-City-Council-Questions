{
 "cells": [
  {
   "attachments": {},
   "cell_type": "markdown",
   "metadata": {},
   "source": [
    "### Collect full collection of amsterdam.nl\n",
    "- This notebook collects all pre-defined by the user subpages of amsterdam.nl\n",
    "- After the execution of the collection a .csv file is created which stores the scraped web-pages with four features: **\"URL\"** (URL of webpage), **\"HTML_Content\"** (HTML of web-page), **\"Textual_Content\"**(Cleaned from HTML textual content ) and **\"Exception\"** (if any arised by collcetion)\n",
    "- You can interrput the kernel during the collection, then all collected websites will be stored in the same .csv format till the reached nested URL before the interruption"
   ]
  },
  {
   "cell_type": "code",
   "execution_count": null,
   "metadata": {},
   "outputs": [],
   "source": [
    "%cd /Users/natalipeeva/Documents/GitHub/Automatic-Answering-of-City-Council-Questions/ #set directory"
   ]
  },
  {
   "cell_type": "code",
   "execution_count": null,
   "metadata": {},
   "outputs": [],
   "source": [
    "import sys\n",
    "import os"
   ]
  },
  {
   "cell_type": "code",
   "execution_count": null,
   "metadata": {},
   "outputs": [],
   "source": [
    "import sys\n",
    "import os\n",
    "src_dir = os.path.join(os.getcwd(), 'src')\n",
    "sys.path.append(src_dir)\n",
    "\n",
    "from document_collection.supporting_documents.collect_documents_clean_clean import collect_and_save_urls"
   ]
  },
  {
   "attachments": {},
   "cell_type": "markdown",
   "metadata": {},
   "source": [
    "- Here you can pree-define, which subpages should be collected and the base_url from which these subpages originate. In this case the base_url is https://www.amsterdam.nl/ and the subpages are all subjects uder the 'onderwepen' (subjects) category of the website"
   ]
  },
  {
   "cell_type": "code",
   "execution_count": null,
   "metadata": {},
   "outputs": [],
   "source": [
    "subpages = ['afval-en-hergebruik/', 'belastingen-heffingen/', 'bestuur-en-organisatie/',\n",
    "             'projecten/', 'burgerzaken/', 'diversiteit/', 'onderwijs-jeugd/', 'parkeren/', 'sport/', \n",
    "             'stadsdelen/', 'subsidies/', 'verkeer-vervoer/', 'toerisme-vrije-tijd/', 'werk-inkomen/', \n",
    "             'wonen-leefomgeving/', 'zorg-ondersteuning']\n",
    "\n",
    "base_url = 'https://www.amsterdam.nl/'"
   ]
  },
  {
   "cell_type": "code",
   "execution_count": null,
   "metadata": {},
   "outputs": [],
   "source": [
    "for page in subpages:\n",
    "    collect_and_save_urls(base_url+page) # it will interrupt and save where it reached but then kernel -> restart"
   ]
  }
 ],
 "metadata": {
  "kernelspec": {
   "display_name": "base",
   "language": "python",
   "name": "python3"
  },
  "language_info": {
   "codemirror_mode": {
    "name": "ipython",
    "version": 3
   },
   "file_extension": ".py",
   "mimetype": "text/x-python",
   "name": "python",
   "nbconvert_exporter": "python",
   "pygments_lexer": "ipython3",
   "version": "3.8.5"
  },
  "orig_nbformat": 4,
  "vscode": {
   "interpreter": {
    "hash": "ea4c3bcc219a1292b0d1d9543a9b9f82ed18a35340190a3cbd50b3110bbb4e55"
   }
  }
 },
 "nbformat": 4,
 "nbformat_minor": 2
}
