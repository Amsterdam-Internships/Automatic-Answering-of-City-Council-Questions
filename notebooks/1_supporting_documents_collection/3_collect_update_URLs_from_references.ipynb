{
 "cells": [
  {
   "attachments": {},
   "cell_type": "markdown",
   "metadata": {},
   "source": [
    "#### Collect all referenced URLs from the answers, containing a reference"
   ]
  },
  {
   "attachments": {},
   "cell_type": "markdown",
   "metadata": {},
   "source": [
    "- The execution of this notebook is going to collect all URLs that are refenced in the municipal answers, which have a reference URL in them under the name: reference_urls_collected.csv\n",
    "- The entries in the resulting .csv file all consist of: **\"URL\"** (URL of webpage), **\"HTML_Content\"** (HTML of web-page), **\"Textual_Content\"**(Cleaned from HTML textual content ) and **\"Exception\"** (if any arised by collcetion)"
   ]
  },
  {
   "cell_type": "code",
   "execution_count": null,
   "metadata": {},
   "outputs": [],
   "source": [
    "import os\n",
    "\n",
    "# Get the notebook directory\n",
    "notebook_dir = os.getcwd()\n",
    "\n",
    "# Get the root directory by navigating upwards two levels\n",
    "root_dir = os.path.dirname(os.path.abspath(os.path.join(notebook_dir, '../')))\n",
    "\n",
    "import sys\n",
    "src_dir = os.path.join(root_dir, 'src')\n",
    "sys.path.append(src_dir)\n",
    "\n",
    "from dataset.dataset import create_dataset\n",
    "from document_collection.reference_documents.collect_documents_clean import collect_all, save_data_question_answer, save_collected_urls \n",
    "\n",
    "import random"
   ]
  },
  {
   "cell_type": "code",
   "execution_count": null,
   "metadata": {},
   "outputs": [],
   "source": [
    "data = create_dataset(os.path.join(root_dir, 'data/question_answer/questions.csv'), # add clean urls\n",
    "               filter_by_urls=True, filter_by_domains=True)"
   ]
  },
  {
   "cell_type": "code",
   "execution_count": null,
   "metadata": {},
   "outputs": [],
   "source": [
    "collect_all(data, timeout=10, waiting_time=random.uniform(2, 5)) # finished in 12 minutes"
   ]
  },
  {
   "cell_type": "code",
   "execution_count": null,
   "metadata": {},
   "outputs": [],
   "source": [
    "save_data_question_answer(data, os.path.join(root_dir, 'data/question_answer/')) # save data\n",
    "save_collected_urls(data, os.path.join(root_dir, 'data/reference_urls/'))"
   ]
  }
 ],
 "metadata": {
  "kernelspec": {
   "display_name": "base",
   "language": "python",
   "name": "python3"
  },
  "language_info": {
   "codemirror_mode": {
    "name": "ipython",
    "version": 3
   },
   "file_extension": ".py",
   "mimetype": "text/x-python",
   "name": "python",
   "nbconvert_exporter": "python",
   "pygments_lexer": "ipython3",
   "version": "3.8.5"
  },
  "vscode": {
   "interpreter": {
    "hash": "ea4c3bcc219a1292b0d1d9543a9b9f82ed18a35340190a3cbd50b3110bbb4e55"
   }
  }
 },
 "nbformat": 4,
 "nbformat_minor": 2
}
