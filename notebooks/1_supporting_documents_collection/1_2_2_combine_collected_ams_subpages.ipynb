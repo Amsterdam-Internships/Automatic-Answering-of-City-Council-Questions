{
 "cells": [
  {
   "attachments": {},
   "cell_type": "markdown",
   "metadata": {},
   "source": [
    "### Combine all individually collected https://amsterdam.nl subpages in a single file\n",
    "- Combines all individually collected https://amsterdam.nl subpages in a single .csv file called combined.csv\n",
    "- The entries in the resulting .csv file all consist of: **\"URL\"** (URL of webpage), **\"HTML_Content\"** (HTML of web-page), **\"Textual_Content\"**(Cleaned from HTML textual content ) and **\"Exception\"** (if any arised by collcetion)"
   ]
  },
  {
   "cell_type": "code",
   "execution_count": null,
   "metadata": {},
   "outputs": [],
   "source": [
    "import os\n",
    "\n",
    "# Get the notebook directory\n",
    "notebook_dir = os.getcwd()\n",
    "\n",
    "# Get the root directory by navigating upwards two levels\n",
    "root_dir = os.path.dirname(os.path.abspath(os.path.join(notebook_dir, '../')))\n",
    "\n",
    "import sys\n",
    "src_dir = os.path.join(root_dir, 'src')\n",
    "sys.path.append(src_dir)\n",
    "\n",
    "from document_collection.supporting_documents.combine_collected import combine_csv_files"
   ]
  },
  {
   "cell_type": "code",
   "execution_count": null,
   "metadata": {},
   "outputs": [],
   "source": [
    "combine_csv_files(os.path.join(os.getcwd(), 'data/collected/'), os.path.join(root_dir, 'data/collected/combined.csv')) # 9 sec"
   ]
  }
 ],
 "metadata": {
  "kernelspec": {
   "display_name": "base",
   "language": "python",
   "name": "python3"
  },
  "language_info": {
   "codemirror_mode": {
    "name": "ipython",
    "version": 3
   },
   "file_extension": ".py",
   "mimetype": "text/x-python",
   "name": "python",
   "nbconvert_exporter": "python",
   "pygments_lexer": "ipython3",
   "version": "3.8.5"
  },
  "vscode": {
   "interpreter": {
    "hash": "ea4c3bcc219a1292b0d1d9543a9b9f82ed18a35340190a3cbd50b3110bbb4e55"
   }
  }
 },
 "nbformat": 4,
 "nbformat_minor": 2
}
