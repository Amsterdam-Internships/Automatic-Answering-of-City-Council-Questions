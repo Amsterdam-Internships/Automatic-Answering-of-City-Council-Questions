{
 "cells": [
  {
   "cell_type": "code",
   "execution_count": 6,
   "metadata": {},
   "outputs": [],
   "source": [
    "import re\n",
    "import json\n",
    "import pandas as pd"
   ]
  },
  {
   "cell_type": "code",
   "execution_count": 2,
   "metadata": {},
   "outputs": [
    {
     "name": "stdout",
     "output_type": "stream",
     "text": [
      "/Users/natalipeeva/Desktop/Data/Collected_URLs\n"
     ]
    }
   ],
   "source": [
    "%cd /Users/natalipeeva/Desktop/Data/Collected_URLs"
   ]
  },
  {
   "attachments": {},
   "cell_type": "markdown",
   "metadata": {},
   "source": [
    "#### Prepare data for pre-training - GPL"
   ]
  },
  {
   "cell_type": "code",
   "execution_count": 3,
   "metadata": {},
   "outputs": [],
   "source": [
    "def split_into_passages(document):\n",
    "    # Split the document into passages based on a delimiter or desired length\n",
    "    passages = document.split(\"\\n\") \n",
    "    return passages"
   ]
  },
  {
   "cell_type": "code",
   "execution_count": 4,
   "metadata": {},
   "outputs": [],
   "source": [
    "def format_passage(passage, doc_id):\n",
    "    # Format a passage into the desired JSONL format\n",
    "    formatted = {\n",
    "        \"text\": passage.strip(),\n",
    "        \"title\": \"\",\n",
    "        \"_id\": doc_id\n",
    "    }\n",
    "    return formatted"
   ]
  },
  {
   "cell_type": "code",
   "execution_count": 5,
   "metadata": {},
   "outputs": [],
   "source": [
    "def count_words(text):\n",
    "    # Count the number of words in a passage\n",
    "    words = re.findall(r'\\b\\w+\\b', text)\n",
    "    return len(words)"
   ]
  },
  {
   "cell_type": "code",
   "execution_count": 7,
   "metadata": {},
   "outputs": [],
   "source": [
    "corpus = pd.read_csv('combines_collected_1June.csv')"
   ]
  },
  {
   "cell_type": "code",
   "execution_count": 12,
   "metadata": {},
   "outputs": [],
   "source": [
    "documents = list(corpus['Textual_Content'])"
   ]
  },
  {
   "cell_type": "code",
   "execution_count": 13,
   "metadata": {},
   "outputs": [],
   "source": [
    "output_file = \"passages.jsonl\""
   ]
  },
  {
   "cell_type": "code",
   "execution_count": 19,
   "metadata": {},
   "outputs": [],
   "source": [
    "output_file2 = \"corpus.jsonl\""
   ]
  },
  {
   "cell_type": "code",
   "execution_count": 18,
   "metadata": {},
   "outputs": [],
   "source": [
    "with open(output_file, \"w\") as f:\n",
    "    for i, document in enumerate(documents):\n",
    "        document_str = str(document)  # Convert the document to a string\n",
    "        passages = split_into_passages(document_str)\n",
    "        for passage in passages:\n",
    "            if passage.strip() and count_words(passage) > 5:\n",
    "                formatted = format_passage(passage, str(i))\n",
    "                json.dump(formatted, f)\n",
    "                f.write(\"\\n\")"
   ]
  },
  {
   "cell_type": "code",
   "execution_count": 21,
   "metadata": {},
   "outputs": [],
   "source": [
    "def format_passage(passage, doc_id, passage_index):\n",
    "    # Format a passage into the desired JSONL format with a unique ID\n",
    "    passage_id = f\"{doc_id}_{passage_index}\"\n",
    "    formatted = {\n",
    "        \"text\": passage.strip(),\n",
    "        \"title\": \"\",\n",
    "        \"_id\": passage_id\n",
    "    }\n",
    "    return formatted"
   ]
  },
  {
   "cell_type": "code",
   "execution_count": 22,
   "metadata": {},
   "outputs": [],
   "source": [
    "with open(output_file2, \"w\") as f:\n",
    "    for i, document in enumerate(documents):\n",
    "        document_str = str(document)  # Convert the document to a string\n",
    "        passages = split_into_passages(document_str)\n",
    "        for j, passage in enumerate(passages):\n",
    "            if passage.strip() and count_words(passage) > 5:\n",
    "                formatted = format_passage(passage, str(i), j)\n",
    "                json.dump(formatted, f)\n",
    "                f.write(\"\\n\")"
   ]
  }
 ],
 "metadata": {
  "kernelspec": {
   "display_name": "base",
   "language": "python",
   "name": "python3"
  },
  "language_info": {
   "codemirror_mode": {
    "name": "ipython",
    "version": 3
   },
   "file_extension": ".py",
   "mimetype": "text/x-python",
   "name": "python",
   "nbconvert_exporter": "python",
   "pygments_lexer": "ipython3",
   "version": "3.8.5"
  },
  "orig_nbformat": 4,
  "vscode": {
   "interpreter": {
    "hash": "ea4c3bcc219a1292b0d1d9543a9b9f82ed18a35340190a3cbd50b3110bbb4e55"
   }
  }
 },
 "nbformat": 4,
 "nbformat_minor": 2
}
