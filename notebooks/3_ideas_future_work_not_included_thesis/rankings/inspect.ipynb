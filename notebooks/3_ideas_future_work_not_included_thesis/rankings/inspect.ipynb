{
 "cells": [
  {
   "cell_type": "code",
   "execution_count": 1,
   "metadata": {},
   "outputs": [
    {
     "name": "stdout",
     "output_type": "stream",
     "text": [
      "/Users/natalipeeva/Documents/GitHub/Automatic-Answering-of-City-Council-Questions\n"
     ]
    }
   ],
   "source": [
    "%cd  /Users/natalipeeva/Documents/GitHub/Automatic-Answering-of-City-Council-Questions/"
   ]
  },
  {
   "cell_type": "code",
   "execution_count": 2,
   "metadata": {},
   "outputs": [],
   "source": [
    "import pickle"
   ]
  },
  {
   "cell_type": "code",
   "execution_count": 3,
   "metadata": {},
   "outputs": [],
   "source": [
    "with open ('data/results_ranking/amsterdam_100words_bm25_elastic.pickle', 'rb') as f:\n",
    "    bm25_elastic = pickle.load(f)"
   ]
  },
  {
   "cell_type": "code",
   "execution_count": 4,
   "metadata": {},
   "outputs": [],
   "source": [
    "with open ('data/results_ranking/amsterdam_100words_ranked_bm25.pickle', 'rb') as f:\n",
    "    bm25_okapi = pickle.load(f)"
   ]
  },
  {
   "cell_type": "code",
   "execution_count": 5,
   "metadata": {},
   "outputs": [],
   "source": [
    "with open ('data/results_ranking/amsterdam_100words_ranked_random.pickle', 'rb') as f:\n",
    "    random = pickle.load(f)"
   ]
  },
  {
   "cell_type": "code",
   "execution_count": 7,
   "metadata": {},
   "outputs": [],
   "source": [
    "with open ('data/results_ranking/amsterdam_100words_ranked_tfidf.pickle', 'rb') as f:\n",
    "    tfidf = pickle.load(f)"
   ]
  },
  {
   "cell_type": "code",
   "execution_count": 24,
   "metadata": {},
   "outputs": [
    {
     "data": {
      "text/plain": [
       "'\\n \\n3. Huisartsen geven aan meer informatie nodig te hebben over declaratiemogelijkheden van de \\ngeboden zorg. Is het college bereid om te onderzoeken hoe de gemeente hierin beter kan \\nvoorzien?  \\n \\n'"
      ]
     },
     "execution_count": 24,
     "metadata": {},
     "output_type": "execute_result"
    }
   ],
   "source": [
    "bm25_okapi[1]['question']"
   ]
  },
  {
   "cell_type": "code",
   "execution_count": 25,
   "metadata": {},
   "outputs": [
    {
     "data": {
      "text/plain": [
       "[{'url': 'https://www.amsterdam.nl/bestuur-organisatie/organisatie/overige/adviesraden/commissie-persoonsgegevens-amsterdam/adviezen-cpa-2020/advies-integraal-klantbeeld-27-augustus/',\n",
       "  'text': \", die geautoriseerd is om toegang te krijgen tot de persoonsgegevens , sneller en beter een zaak kan beoordelen of onderzoeken . het klantbeeld voegt de persoonlijke autorisaties voor de verschillende applicaties/ databronnen samen , zodat de informatie uit deze applicaties/ databronnen in één overzicht kunnen worden weergegeven . de doelen van de automatisering zijn : 1 ) verbetering van informatiepositie , mede door zoveel mogelijk gebruikt te maken van api 's voor accurate en betrouwbare gegevens2 . op het moment dat alle bronbestanden voorzien zijn van api dan is er geen aparte opslag nodig bij raadpleging ; 2 )\",\n",
       "  'passage_id': '47518',\n",
       "  'score': 27.290138,\n",
       "  'passage_text': \", die geautoriseerd is om toegang te krijgen tot de persoonsgegevens , sneller en beter een zaak kan beoordelen of onderzoeken . het klantbeeld voegt de persoonlijke autorisaties voor de verschillende applicaties/ databronnen samen , zodat de informatie uit deze applicaties/ databronnen in één overzicht kunnen worden weergegeven . de doelen van de automatisering zijn : 1 ) verbetering van informatiepositie , mede door zoveel mogelijk gebruikt te maken van api 's voor accurate en betrouwbare gegevens2 . op het moment dat alle bronbestanden voorzien zijn van api dan is er geen aparte opslag nodig bij raadpleging ; 2 )\"},\n",
       " {'url': 'https://www.amsterdam.nl/bestuur-organisatie/college/nieuws/nieuws-26-oktober-2022/',\n",
       "  'text': 'en w stemt in met extra financiële ondersteuning voor ondernemers bij de afhandeling van aanvragen op basis van het besluit bijstandverlening zelfstandigen ( bbz ) . het college vindt het van belang om dit jaar nog extra aandacht te geven aan ondernemers die na de coronacrisis nog onvoldoende inkomen hebben om in hun levensonderhoud te voorzien . deze ondernemers hebben opnieuw te maken met een onzekere periode door onder meer stijgende energieprijzen en hoge inflatie . het college wil perspectief bieden door tijdelijk coulanter om te gaan met de afhandeling van de aanvraag voor een bbz-uitkering . verkeer , vervoer',\n",
       "  'passage_id': '40233',\n",
       "  'score': 25.942146,\n",
       "  'passage_text': 'en w stemt in met extra financiële ondersteuning voor ondernemers bij de afhandeling van aanvragen op basis van het besluit bijstandverlening zelfstandigen ( bbz ) . het college vindt het van belang om dit jaar nog extra aandacht te geven aan ondernemers die na de coronacrisis nog onvoldoende inkomen hebben om in hun levensonderhoud te voorzien . deze ondernemers hebben opnieuw te maken met een onzekere periode door onder meer stijgende energieprijzen en hoge inflatie . het college wil perspectief bieden door tijdelijk coulanter om te gaan met de afhandeling van de aanvraag voor een bbz-uitkering . verkeer , vervoer'},\n",
       " {'url': 'https://www.amsterdam.nl/wonen-leefomgeving/duurzaam-amsterdam/energieadvies-vve/',\n",
       "  'text': 'vve . al in bezit van een mjop/bereid om deze te laten verbeteren indien nodig . ambitie om te renoveren . bestuur en/of commissie duurzaam is bereid extra tijd te steken in dit project . 2 leden nemen deel aan de cursus verduurzaming vve ’ s . deze vve kan als voorbeeld dienen voor vergelijkbare vve ’ s in de omgeving . voor meer informatie kunt u een mail sturen aan : vve.wonen @ amsterdam.nl vraag een advies aan ! contact heeft u nog vragen ? mail naar vve.wonen @ amsterdam.nl deel deze pagina deel deze pagina op facebook deel',\n",
       "  'passage_id': '20172',\n",
       "  'score': 25.907429,\n",
       "  'passage_text': 'vve . al in bezit van een mjop/bereid om deze te laten verbeteren indien nodig . ambitie om te renoveren . bestuur en/of commissie duurzaam is bereid extra tijd te steken in dit project . 2 leden nemen deel aan de cursus verduurzaming vve ’ s . deze vve kan als voorbeeld dienen voor vergelijkbare vve ’ s in de omgeving . voor meer informatie kunt u een mail sturen aan : vve.wonen @ amsterdam.nl vraag een advies aan ! contact heeft u nog vragen ? mail naar vve.wonen @ amsterdam.nl deel deze pagina deel deze pagina op facebook deel'}]"
      ]
     },
     "execution_count": 25,
     "metadata": {},
     "output_type": "execute_result"
    }
   ],
   "source": [
    "bm25_elastic[bm25_okapi[1]['question'].lower()][1][:3]"
   ]
  },
  {
   "cell_type": "code",
   "execution_count": 11,
   "metadata": {},
   "outputs": [
    {
     "data": {
      "text/plain": [
       "['uw leven . U wordt op dit moment erkend voor de inspanningen die u zich getroost heeft de afgelopen jaren . En u weet daarmee ook dat ze gezien zijn door anderen . Het werk dat u verricht heeft , en de manier waarop u zich heeft ingezet voor de mensen die u dierbaar zijn , de mensen om u heen . We hebben het gezien ; we hebben het gewaardeerd Nadat alle onderscheidingen zijn uitgereikt , zal ik u verzoeken om nog één keer op het podium te komen zodat we een groepsfoto kunnen maken . Het uitreiken van',\n",
       " 'Ook adviseert de CPA voorbeelden te noemen van situaties waarin de context een rol kan spelen . Het is een gegeven dat mensen in sommige wijken zich gediscrimineerd voelen omdat de aanwezigheid van camera ’ s in hun buurt erop duidt dat de gemeente het nodig vindt ze in de gaten te houden . Die gevoeligheden kan men niet negeren . Het is daarom wel zaak alle gemeentelijke sensoren en camera ’ s goed op de kaart te zetten zodat burgers weten waar die zich allemaal bevinden . Het verdient aanbeveling daar ook , bij voorkeur in samenspraak met mensen',\n",
       " 'investering wordt gedaan in het verbeteren van bestaande fietsroutes , de aanleg van nieuwe routes en het beter verbinden van de verschillende delen van de stad . Ook het aantal fietsparkeerplekken op stations wordt flink uitgebreid en er komen meer parkeerplekken in de drukste gebieden van de stad . Daarnaast is er veel aandacht voor het nieuwe fietsen . Onder deze noemer vallen alle maatregelen die we inzetten om meer mensen op de fiets te krijgen én het gedrag van fietsers te veranderen . Dat laatste is hard nodig . De drukte in de stad vraagt om beter benutten en']"
      ]
     },
     "execution_count": 11,
     "metadata": {},
     "output_type": "execute_result"
    }
   ],
   "source": [
    "bm25_okapi[0]['ranked_text'][:3]"
   ]
  },
  {
   "cell_type": "code",
   "execution_count": 12,
   "metadata": {},
   "outputs": [
    {
     "data": {
      "text/plain": [
       "['Ook adviseert de CPA voorbeelden te noemen van situaties waarin de context een rol kan spelen . Het is een gegeven dat mensen in sommige wijken zich gediscrimineerd voelen omdat de aanwezigheid van camera ’ s in hun buurt erop duidt dat de gemeente het nodig vindt ze in de gaten te houden . Die gevoeligheden kan men niet negeren . Het is daarom wel zaak alle gemeentelijke sensoren en camera ’ s goed op de kaart te zetten zodat burgers weten waar die zich allemaal bevinden . Het verdient aanbeveling daar ook , bij voorkeur in samenspraak met mensen',\n",
       " 'mensen die zich in de openbare ruimte bevinden , gegevens van mensen die zich in een woonobject of bijvoorbeeld kantoor bevinden , kentekengegevens , bedrijfsgegevens op bijvoorbeeld op bedrijfsvoertuigen , borden of panden en adresgegevens uit gemeentelijke systemen van ( rechts ) personen die een objectontheffing hebben verkregen voor een container . Doel verwerking persoonsgegevens Het doel van de beoogde verwerking is drieledig : personen en zaken die zich in de openbare ruimte bevinden te beschermen tegen het instorten van kwetsbare bruggen en kademuren . Dit sluit aan bij de doelstellingen van Programma Bruggen en Kademuren , de bruggen en',\n",
       " 'tijd niet kan gebruiken ? Het kan natuurlijk voorkomen dat u uw fiets langere tijd niet gebruikt door een lange vakantie of door ziekte . De beste oplossing is dan om de fiets binnen te zetten of uit te lenen . Maar dat kan niet altijd . Vraag dan aan uw buren of vrienden om uw fiets in de gaten te houden . Dan kunnen zij , als de gemeente een label op de fiets geplakt heeft , de fiets gebruiken en het label verwijderen . De fiets wordt dan niet verwijderd . Ik heb een oude fiets die ik']"
      ]
     },
     "execution_count": 12,
     "metadata": {},
     "output_type": "execute_result"
    }
   ],
   "source": [
    "tfidf[0]['ranked_text'][:3]"
   ]
  },
  {
   "cell_type": "code",
   "execution_count": 13,
   "metadata": {},
   "outputs": [
    {
     "data": {
      "text/plain": [
       "[\"het huurcontract of koopcontract waarop uw naam en adres en de handtekeningen staan . Als u bij iemand woont : een toestemmingsverklaring van de bewoner en een kopie van paspoort , rijbewijs of ID-kaart van de bewoner . Bij antikraak : kopie gebruikersovereenkomst . Verhuizing doorgeven per post Meesturen Kopie Paspoort , ID-kaart , rijbewijs of verblijfsvergunning . Kopie van de pagina 's van het huurcontract of koopcontract waarop uw naam en adres en de handtekeningen staan . Als u bij iemand woont : een toestemmingsverklaring van de bewoner en een kopie van paspoort , rijbewijs of ID-kaart van de\",\n",
       " '. Huidige regeling ( tot en met 31 maart 2023 ) Sinds 1 april 2022 kunt u zich als ontheemde uit Oekraïne inschrijven in de gemeente Amsterdam en leefgeld ontvangen . De hoogte van het leefgeld is afhankelijk van uw verblijfsplaats en leeftijd . U ontvangt € 55 , - per maand per persoon . Dit is een toelage voor kleding en persoonlijke uitgaven . Dit geldt voor volwassenen en minderjarigen ( onder de 18 jaar ) . Daarnaast stelt de overheid een tegemoetkoming ( € 205 , - per maand ) beschikbaar voor eten en drinken . Deze toeslag',\n",
       " 'kost . Lees ook wat u kunt doen als u daarna uw oude ID-kaart weer terugvindt . Vermissing doorgeven en nieuwe ID aanvragen Om de vermissing van uw paspoort of ID-kaart online door te geven , hebt u DigiD nodig . Bent u meerdere reisdocumenten kwijt ? Geef dan per document een vermissing door . Vermissing reisdocument doorgeven Bent u in het buitenland ? U kunt het online formulier alleen gebruiken vanuit België , Duitsland , Frankrijk , het Verenigd Koninkrijk of Ierland . Vermissing doorgeven bij een Stadsloket U kunt de vermissing van uw paspoort of ID-kaart ook doorgeven']"
      ]
     },
     "execution_count": 13,
     "metadata": {},
     "output_type": "execute_result"
    }
   ],
   "source": [
    "random[0]['ranked_text'][:3]"
   ]
  },
  {
   "cell_type": "code",
   "execution_count": null,
   "metadata": {},
   "outputs": [],
   "source": [
    "# HTML tags"
   ]
  },
  {
   "cell_type": "code",
   "execution_count": 14,
   "metadata": {},
   "outputs": [],
   "source": [
    "with open ('data/results_ranking/amsterdam_html_preprocessing_ranked_bm25.pickle', 'rb') as f:\n",
    "    bm25_okapi_html = pickle.load(f)"
   ]
  },
  {
   "cell_type": "code",
   "execution_count": 15,
   "metadata": {},
   "outputs": [],
   "source": [
    "with open ('data/results_ranking/amsterdam_html_preprocessing_ranked_random.pickle', 'rb') as f:\n",
    "    random_html = pickle.load(f)"
   ]
  },
  {
   "cell_type": "code",
   "execution_count": 16,
   "metadata": {},
   "outputs": [],
   "source": [
    "with open ('data/results_ranking/amsterdam_html_preprocessing_ranked_tfidf.pickle', 'rb') as f:\n",
    "    tfidf_html = pickle.load(f)"
   ]
  },
  {
   "cell_type": "code",
   "execution_count": 17,
   "metadata": {},
   "outputs": [
    {
     "data": {
      "text/plain": [
       "['Verslag 5 november 2020 5. Responsible sensing (Directie R&E) omdat de aanwezigheid van camera ’ s in hun buurt erop duidt dat de gemeente het nodig vindt ze in de gaten te houden . Die gevoeligheden kan men niet negeren . Het is daarom wel zaak alle gemeentelijke sensoren en camera ’ s goed op de kaart te zetten zodat burgers weten waar die zich allemaal bevinden . Het verdient aanbeveling daar ook , bij voorkeur in samenspraak met mensen uit de praktijk , labels met kleuren en symbolen',\n",
       " 'Slavernijverleden en doorwerking 10 dingen die u moet weten over de slavernij nu . Enkele rijke en machtige families verdeelden alle bestuursfuncties . Vaak liepen publieke en privé belangen door elkaar heen . Zo waren burgemeesters óók eigenaar van een plantage of handelaar in mensen . Zij hielpen via hun bestuursfunctie om de slavernij in stand te houden , omdat ze daar zelf aan verdienden . Veel mensen hebben zich verzet tegen slavernij Vanaf het begin hebben mensen zich verzet tegen de slavernij . Er waren geregeld opstanden op de schepen die',\n",
       " 'Slavernijverleden en doorwerking 10 dingen die u moet weten over de slavernij nu . Enkele rijke en machtige families verdeelden alle bestuursfuncties . Vaak liepen publieke en privé belangen door elkaar heen . Zo waren burgemeesters óók eigenaar van een plantage of handelaar in mensen . Zij hielpen via hun bestuursfunctie om de slavernij in stand te houden , omdat ze daar zelf aan verdienden . Veel mensen hebben zich verzet tegen slavernij Vanaf het begin hebben mensen zich verzet tegen de slavernij . Er waren geregeld opstanden op de schepen die']"
      ]
     },
     "execution_count": 17,
     "metadata": {},
     "output_type": "execute_result"
    }
   ],
   "source": [
    "bm25_okapi_html[0]['ranked_text'][:3]"
   ]
  },
  {
   "cell_type": "code",
   "execution_count": 21,
   "metadata": {},
   "outputs": [
    {
     "data": {
      "text/plain": [
       "['Het buitenbad van het Noorderparkbad gaat weer open Alle officiële zwemplekken Bekijk de kaart Zwem- en speelwater voor alle officiële zwemplekken in Amsterdam.',\n",
       " 'Mag ik in Amsterdam zwemmen in open water? Waterkwaliteit Actuele informatie van alle bekende zwemwaterplassen in Noord-Holland is op te vragen via de zwemwatertelefoon: 088 102 1300 (gratis). Of kijk op zwemwater.nl voor informatie over de waterkwaliteit op de officiële zwemplekken. U leest daar ook wat u kunt doen als u gezondheidsklachten krijgt door het zwemmen in open water.',\n",
       " 'Verslag 5 november 2020 5. Responsible sensing (Directie R&E) omdat de aanwezigheid van camera ’ s in hun buurt erop duidt dat de gemeente het nodig vindt ze in de gaten te houden . Die gevoeligheden kan men niet negeren . Het is daarom wel zaak alle gemeentelijke sensoren en camera ’ s goed op de kaart te zetten zodat burgers weten waar die zich allemaal bevinden . Het verdient aanbeveling daar ook , bij voorkeur in samenspraak met mensen uit de praktijk , labels met kleuren en symbolen']"
      ]
     },
     "execution_count": 21,
     "metadata": {},
     "output_type": "execute_result"
    }
   ],
   "source": [
    "tfidf_html[0]['ranked_text'][:3]"
   ]
  },
  {
   "cell_type": "code",
   "execution_count": 19,
   "metadata": {},
   "outputs": [
    {
     "data": {
      "text/plain": [
       "['Vrije tijd en naschoolse activiteiten Resultaten Deze plattegrond is met de Kindercommissie besproken . De ideeën en wensen van de kinderen zijn erin verwerkt . In november 2022 was de kaart klaar , maar ze moesten nog een paar maanden in dozen op het stadsdeel blijven staan , in afwachting van lekker buitenspeelweer . Ali , Isa en Manoushka hebben lang op hun kaart moeten wachten . Dat kwam onder andere door corona , personeelswisselingen bij het stadsdeel en omdat de kaart werd geleverd in het',\n",
       " 'Gemeente Amsterdam Kalender Van buurtactiviteiten tot inspraakavonden. Wat organiseert de gemeente voor u?\\xa0Kijk op Kalender Amsterdam\\nUit in Amsterdam\\nBenieuwd wat er allemaal te doen is in de stad? Op\\xa0Iamsterdam.com\\xa0vindt u de beste tips op het gebied van cultuur, uitgaan en evenementen.',\n",
       " 'Archief 2020 kunnen ontmoeten . De geplande ouderenhuisvesting laat op zich wachten daarom willen we er tijdelijk groen plaatsen , dit groen kan in verplaatsbare bakken worden geplaatst . Deze grauwe plek wordt vervangen door een veilige en groene leefomgeving voor de buurt en wordt onderhouden door buurtbewoners samen . Benodigd buurtbudget : € 10.000 , - Update Vanwege de plannen van Liander om tijdelijk trafo ’ s te plaatsen op het terrein van het Uilenburgcomplex is het niet mogelijk dit plan']"
      ]
     },
     "execution_count": 19,
     "metadata": {},
     "output_type": "execute_result"
    }
   ],
   "source": [
    "random_html[0]['ranked_text'][:3]"
   ]
  },
  {
   "attachments": {},
   "cell_type": "markdown",
   "metadata": {},
   "source": [
    "#### Save csvs"
   ]
  },
  {
   "cell_type": "code",
   "execution_count": null,
   "metadata": {},
   "outputs": [],
   "source": []
  }
 ],
 "metadata": {
  "kernelspec": {
   "display_name": "base",
   "language": "python",
   "name": "python3"
  },
  "language_info": {
   "codemirror_mode": {
    "name": "ipython",
    "version": 3
   },
   "file_extension": ".py",
   "mimetype": "text/x-python",
   "name": "python",
   "nbconvert_exporter": "python",
   "pygments_lexer": "ipython3",
   "version": "3.8.5"
  },
  "orig_nbformat": 4,
  "vscode": {
   "interpreter": {
    "hash": "ea4c3bcc219a1292b0d1d9543a9b9f82ed18a35340190a3cbd50b3110bbb4e55"
   }
  }
 },
 "nbformat": 4,
 "nbformat_minor": 2
}
