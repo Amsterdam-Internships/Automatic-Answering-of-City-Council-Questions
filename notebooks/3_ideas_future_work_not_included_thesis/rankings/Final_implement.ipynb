{
 "cells": [
  {
   "attachments": {},
   "cell_type": "markdown",
   "metadata": {},
   "source": [
    "### Setup CD"
   ]
  },
  {
   "cell_type": "code",
   "execution_count": 1,
   "metadata": {},
   "outputs": [
    {
     "name": "stdout",
     "output_type": "stream",
     "text": [
      "/Users/natalipeeva/Documents/GitHub/Automatic-Answering-of-City-Council-Questions\n"
     ]
    }
   ],
   "source": [
    "%cd  /Users/natalipeeva/Documents/GitHub/Automatic-Answering-of-City-Council-Questions/"
   ]
  },
  {
   "cell_type": "code",
   "execution_count": 2,
   "metadata": {},
   "outputs": [
    {
     "name": "stderr",
     "output_type": "stream",
     "text": [
      "[nltk_data] Downloading package punkt to\n",
      "[nltk_data]     /Users/natalipeeva/nltk_data...\n",
      "[nltk_data]   Package punkt is already up-to-date!\n"
     ]
    }
   ],
   "source": [
    "import pandas as pd\n",
    "import ast\n",
    "import nltk\n",
    "import pandas as pd\n",
    "nltk.download('punkt')\n",
    "from hashids import Hashids"
   ]
  },
  {
   "attachments": {},
   "cell_type": "markdown",
   "metadata": {},
   "source": [
    "### Read Data"
   ]
  },
  {
   "cell_type": "code",
   "execution_count": 3,
   "metadata": {},
   "outputs": [],
   "source": [
    "questions_for_ranking = pd.read_csv('data/question_answer/amsterdam_questions.csv')\n",
    "collection = pd.read_csv('data/amsterdam/amsterdam_full.csv')"
   ]
  },
  {
   "cell_type": "code",
   "execution_count": 4,
   "metadata": {},
   "outputs": [],
   "source": [
    "urls_unformatted = list(questions_for_ranking['URLs'])"
   ]
  },
  {
   "attachments": {},
   "cell_type": "markdown",
   "metadata": {},
   "source": [
    "##### Check if all URLs appearing in the references in the answers are in the collection:"
   ]
  },
  {
   "cell_type": "code",
   "execution_count": 5,
   "metadata": {},
   "outputs": [],
   "source": [
    "reference_list = []\n",
    "for string in urls_unformatted:\n",
    "    sublist = ast.literal_eval(string)\n",
    "    reference_list.append(sublist)\n",
    "\n",
    "reference_urls = []\n",
    "for sublist in reference_list:\n",
    "    reference_urls.extend(sublist)"
   ]
  },
  {
   "cell_type": "code",
   "execution_count": 6,
   "metadata": {},
   "outputs": [
    {
     "data": {
      "text/plain": [
       "84"
      ]
     },
     "execution_count": 6,
     "metadata": {},
     "output_type": "execute_result"
    }
   ],
   "source": [
    "len(reference_urls) # There are in total 84 urls refrencing to amsterdam.nl"
   ]
  },
  {
   "cell_type": "code",
   "execution_count": 7,
   "metadata": {},
   "outputs": [],
   "source": [
    "collected_urls = list(collection['URL'])"
   ]
  },
  {
   "cell_type": "code",
   "execution_count": 8,
   "metadata": {},
   "outputs": [],
   "source": [
    "count = 0\n",
    "elements_not_in_collected = []\n",
    "for element in reference_urls:\n",
    "    if element in collected_urls:\n",
    "        count += 1\n",
    "    else:\n",
    "        elements_not_in_collected.append(element)\n"
   ]
  },
  {
   "cell_type": "code",
   "execution_count": 9,
   "metadata": {},
   "outputs": [
    {
     "data": {
      "text/plain": [
       "80"
      ]
     },
     "execution_count": 9,
     "metadata": {},
     "output_type": "execute_result"
    }
   ],
   "source": [
    "count"
   ]
  },
  {
   "cell_type": "code",
   "execution_count": 10,
   "metadata": {},
   "outputs": [
    {
     "data": {
      "text/plain": [
       "['https://www.ggd.amsterdam.nl/gezond-wonen/zwemmen-open-water/',\n",
       " 'https://www.rivm.nl/publicaties/health-effects-related-to-wind-turbine-sound-update',\n",
       " 'http://www.amsterdam.nl/stadslandbouw',\n",
       " 'https://www.amsterdam.nl/nieuws/nieuwsoverzicht/dak-en-thuislozen']"
      ]
     },
     "execution_count": 10,
     "metadata": {},
     "output_type": "execute_result"
    }
   ],
   "source": [
    "elements_not_in_collected"
   ]
  },
  {
   "attachments": {},
   "cell_type": "markdown",
   "metadata": {},
   "source": [
    "### Prepare Data for ranking"
   ]
  },
  {
   "attachments": {},
   "cell_type": "markdown",
   "metadata": {},
   "source": [
    "#### Convert Data to Paragraphs"
   ]
  },
  {
   "attachments": {},
   "cell_type": "markdown",
   "metadata": {},
   "source": [
    "##### Passages function"
   ]
  },
  {
   "attachments": {},
   "cell_type": "markdown",
   "metadata": {},
   "source": [
    "def create_passages_dataframe(collection):\n",
    "    all_passages_df = pd.DataFrame(columns=['URL', 'Textual_Content'])\n",
    "\n",
    "    for index, row in collection.iterrows():\n",
    "        url = row['URL']\n",
    "        content = str(row['Textual_Content'])\n",
    "\n",
    "        sentences = nltk.sent_tokenize(content, language='dutch')\n",
    "\n",
    "        passages = []\n",
    "        passage_words = []\n",
    "        word_count = 0\n",
    "\n",
    "        for sentence in sentences:\n",
    "            sentence_words = nltk.word_tokenize(sentence, language='dutch')\n",
    "\n",
    "            while len(sentence_words) > 0:\n",
    "                if word_count + len(sentence_words) <= 100:\n",
    "                    passage_words.extend(sentence_words)\n",
    "                    word_count += len(sentence_words)\n",
    "                    sentence_words = []\n",
    "                else:\n",
    "                    remaining_words = 100 - word_count\n",
    "                    passage_words.extend(sentence_words[:remaining_words])\n",
    "                    passages.append(' '.join(passage_words))\n",
    "                    passage_words = []\n",
    "                    word_count = 0\n",
    "                    sentence_words = sentence_words[remaining_words:]\n",
    "\n",
    "        if passage_words:\n",
    "            passages.append(' '.join(passage_words))\n",
    "\n",
    "        passage_df = pd.DataFrame({'URL': url, 'Textual_Content': passages})\n",
    "        all_passages_df = pd.concat([all_passages_df, passage_df], ignore_index=True)\n",
    "\n",
    "    return all_passages_df\n"
   ]
  },
  {
   "cell_type": "code",
   "execution_count": 11,
   "metadata": {},
   "outputs": [],
   "source": [
    "passages_df = pd.read_csv('data/collected/paragraphs_dropped_junk_concatenated.csv')"
   ]
  },
  {
   "attachments": {},
   "cell_type": "markdown",
   "metadata": {},
   "source": [
    "##### Create passages"
   ]
  },
  {
   "cell_type": "code",
   "execution_count": 12,
   "metadata": {},
   "outputs": [],
   "source": [
    "#passages_df = create_passages_dataframe(collection) # 50 secs for execution\n",
    "#len(passages_df)"
   ]
  },
  {
   "attachments": {},
   "cell_type": "markdown",
   "metadata": {},
   "source": [
    "##### Add passage ids"
   ]
  },
  {
   "cell_type": "code",
   "execution_count": 13,
   "metadata": {},
   "outputs": [],
   "source": [
    "hashids = Hashids()\n",
    "passages_df[\"id\"] = [hashids.encode(i) for i in range(len(passages_df))]"
   ]
  },
  {
   "cell_type": "code",
   "execution_count": 14,
   "metadata": {},
   "outputs": [
    {
     "data": {
      "text/html": [
       "<div>\n",
       "<style scoped>\n",
       "    .dataframe tbody tr th:only-of-type {\n",
       "        vertical-align: middle;\n",
       "    }\n",
       "\n",
       "    .dataframe tbody tr th {\n",
       "        vertical-align: top;\n",
       "    }\n",
       "\n",
       "    .dataframe thead th {\n",
       "        text-align: right;\n",
       "    }\n",
       "</style>\n",
       "<table border=\"1\" class=\"dataframe\">\n",
       "  <thead>\n",
       "    <tr style=\"text-align: right;\">\n",
       "      <th></th>\n",
       "      <th>Unnamed: 0</th>\n",
       "      <th>URL</th>\n",
       "      <th>Textual_Content</th>\n",
       "      <th>id</th>\n",
       "    </tr>\n",
       "  </thead>\n",
       "  <tbody>\n",
       "    <tr>\n",
       "      <th>120902</th>\n",
       "      <td>156323</td>\n",
       "      <td>https://www.amsterdam.nl/zorg-ondersteuning/on...</td>\n",
       "      <td>Hulp voor dak- of thuislozen Onderdak Open inl...</td>\n",
       "      <td>kRKVE</td>\n",
       "    </tr>\n",
       "    <tr>\n",
       "      <th>120903</th>\n",
       "      <td>156324</td>\n",
       "      <td>https://www.amsterdam.nl/zorg-ondersteuning/on...</td>\n",
       "      <td>Hulp voor dak- of thuislozen Inkomen Een geldi...</td>\n",
       "      <td>lYLVr</td>\n",
       "    </tr>\n",
       "    <tr>\n",
       "      <th>120904</th>\n",
       "      <td>156325</td>\n",
       "      <td>https://www.amsterdam.nl/zorg-ondersteuning/on...</td>\n",
       "      <td>Hulp voor dak- of thuislozen Zorg Iedereen is ...</td>\n",
       "      <td>mZ6Vr</td>\n",
       "    </tr>\n",
       "    <tr>\n",
       "      <th>120905</th>\n",
       "      <td>156329</td>\n",
       "      <td>https://www.amsterdam.nl/zorg-ondersteuning/on...</td>\n",
       "      <td>Gemeente Amsterdam Kalender Van buurtactivitei...</td>\n",
       "      <td>n5XVE</td>\n",
       "    </tr>\n",
       "    <tr>\n",
       "      <th>120906</th>\n",
       "      <td>156330</td>\n",
       "      <td>https://www.amsterdam.nl/zorg-ondersteuning/on...</td>\n",
       "      <td>Gemeente Amsterdam Kalender Uit in Amsterdam B...</td>\n",
       "      <td>o2K93</td>\n",
       "    </tr>\n",
       "  </tbody>\n",
       "</table>\n",
       "</div>"
      ],
      "text/plain": [
       "        Unnamed: 0                                                URL  \\\n",
       "120902      156323  https://www.amsterdam.nl/zorg-ondersteuning/on...   \n",
       "120903      156324  https://www.amsterdam.nl/zorg-ondersteuning/on...   \n",
       "120904      156325  https://www.amsterdam.nl/zorg-ondersteuning/on...   \n",
       "120905      156329  https://www.amsterdam.nl/zorg-ondersteuning/on...   \n",
       "120906      156330  https://www.amsterdam.nl/zorg-ondersteuning/on...   \n",
       "\n",
       "                                          Textual_Content     id  \n",
       "120902  Hulp voor dak- of thuislozen Onderdak Open inl...  kRKVE  \n",
       "120903  Hulp voor dak- of thuislozen Inkomen Een geldi...  lYLVr  \n",
       "120904  Hulp voor dak- of thuislozen Zorg Iedereen is ...  mZ6Vr  \n",
       "120905  Gemeente Amsterdam Kalender Van buurtactivitei...  n5XVE  \n",
       "120906  Gemeente Amsterdam Kalender Uit in Amsterdam B...  o2K93  "
      ]
     },
     "execution_count": 14,
     "metadata": {},
     "output_type": "execute_result"
    }
   ],
   "source": [
    "passages_df.tail()"
   ]
  },
  {
   "attachments": {},
   "cell_type": "markdown",
   "metadata": {},
   "source": [
    "##### Add paragraphs ids to questions"
   ]
  },
  {
   "cell_type": "code",
   "execution_count": 15,
   "metadata": {},
   "outputs": [],
   "source": [
    "def add_passages_ids(questions_for_ranking, passages_df):\n",
    "    matching_ids_column = []\n",
    "    for index, row in questions_for_ranking.iterrows():\n",
    "        matching_ids = []\n",
    "        for url in ast.literal_eval(row['URLs']):\n",
    "            for index2, row2 in passages_df.iterrows():\n",
    "                if url == row2['URL']:\n",
    "                    matching_ids.append(row2['id'])\n",
    "        if matching_ids:\n",
    "            matching_ids_column.append(matching_ids)\n",
    "        else:\n",
    "            matching_ids_column.append(None)\n",
    "    questions_for_ranking['passages_ids'] = matching_ids_column\n",
    "    return questions_for_ranking\n"
   ]
  },
  {
   "cell_type": "code",
   "execution_count": 16,
   "metadata": {},
   "outputs": [],
   "source": [
    "questions_for_ranking = add_passages_ids(questions_for_ranking, passages_df)"
   ]
  },
  {
   "cell_type": "code",
   "execution_count": 17,
   "metadata": {},
   "outputs": [
    {
     "data": {
      "text/html": [
       "<div>\n",
       "<style scoped>\n",
       "    .dataframe tbody tr th:only-of-type {\n",
       "        vertical-align: middle;\n",
       "    }\n",
       "\n",
       "    .dataframe tbody tr th {\n",
       "        vertical-align: top;\n",
       "    }\n",
       "\n",
       "    .dataframe thead th {\n",
       "        text-align: right;\n",
       "    }\n",
       "</style>\n",
       "<table border=\"1\" class=\"dataframe\">\n",
       "  <thead>\n",
       "    <tr style=\"text-align: right;\">\n",
       "      <th></th>\n",
       "      <th>Unnamed: 0.1</th>\n",
       "      <th>Unnamed: 0</th>\n",
       "      <th>Year</th>\n",
       "      <th>Month</th>\n",
       "      <th>Question</th>\n",
       "      <th>Answer</th>\n",
       "      <th>Document</th>\n",
       "      <th>URLs</th>\n",
       "      <th>Cleaned_URLs</th>\n",
       "      <th>passages_ids</th>\n",
       "    </tr>\n",
       "  </thead>\n",
       "  <tbody>\n",
       "    <tr>\n",
       "      <th>0</th>\n",
       "      <td>1</td>\n",
       "      <td>1</td>\n",
       "      <td>2020</td>\n",
       "      <td>6</td>\n",
       "      <td>\\n7.\\nKan het college de reeds bestaande zwemp...</td>\n",
       "      <td>\\nVoor het vinden van de officiële zwemplekken...</td>\n",
       "      <td>https://amsterdam.raadsinformatie.nl/document/...</td>\n",
       "      <td>['https://www.amsterdam.nl/veelgevraagd/?casei...</td>\n",
       "      <td>['https://www.amsterdam.nl/veelgevraagd/?casei...</td>\n",
       "      <td>[gxL3, jvql, kwZE, lv5r, m2Qr, nYrE]</td>\n",
       "    </tr>\n",
       "    <tr>\n",
       "      <th>1</th>\n",
       "      <td>6</td>\n",
       "      <td>7</td>\n",
       "      <td>2021</td>\n",
       "      <td>8</td>\n",
       "      <td>\\n \\n3. Huisartsen geven aan meer informatie n...</td>\n",
       "      <td>\\nDe uitvoerder van de regeling, het CAK, lij...</td>\n",
       "      <td>https://amsterdam.raadsinformatie.nl/document/...</td>\n",
       "      <td>['https://www.amsterdam.nl/zorg-ondersteuning/...</td>\n",
       "      <td>['https://www.amsterdam.nl/zorg-ondersteuning/...</td>\n",
       "      <td>[MOpA, NQq6, OVrp, PXvw, QZwl, R2xq, VgBM, WkD...</td>\n",
       "    </tr>\n",
       "    <tr>\n",
       "      <th>2</th>\n",
       "      <td>7</td>\n",
       "      <td>8</td>\n",
       "      <td>2021</td>\n",
       "      <td>8</td>\n",
       "      <td>\\n \\n8. Weten ongedocumenteerden de weg naar m...</td>\n",
       "      <td>\\nDe Kruispost wordt goed bezocht, maar het c...</td>\n",
       "      <td>https://amsterdam.raadsinformatie.nl/document/...</td>\n",
       "      <td>['https://www.amsterdam.nl/zorg-ondersteuning/...</td>\n",
       "      <td>['https://www.amsterdam.nl/zorg-ondersteuning/...</td>\n",
       "      <td>[MOpA, NQq6, OVrp, PXvw, QZwl, R2xq, VgBM, WkD...</td>\n",
       "    </tr>\n",
       "    <tr>\n",
       "      <th>3</th>\n",
       "      <td>9</td>\n",
       "      <td>14</td>\n",
       "      <td>2022</td>\n",
       "      <td>7</td>\n",
       "      <td>\\n \\n4. Is het college tot nu toe tevreden met...</td>\n",
       "      <td>\\nJa, met de beschikbare middelen is de uitvo...</td>\n",
       "      <td>https://amsterdam.raadsinformatie.nl/document/...</td>\n",
       "      <td>['https://www.amsterdam.nl/wonen-leefomgeving/...</td>\n",
       "      <td>['https://www.amsterdam.nl/wonen-leefomgeving/...</td>\n",
       "      <td>[XDP1A, YEZ2n, Z6g3R, 1wM2P, 2kX3N, 3134x, 4x2...</td>\n",
       "    </tr>\n",
       "    <tr>\n",
       "      <th>4</th>\n",
       "      <td>10</td>\n",
       "      <td>16</td>\n",
       "      <td>2019</td>\n",
       "      <td>10</td>\n",
       "      <td>\\n \\n1. \\nKan aan de werkinstructie worden toe...</td>\n",
       "      <td>...</td>\n",
       "      <td>https://amsterdam.raadsinformatie.nl/document/...</td>\n",
       "      <td>['https://www.amsterdam.nl/privacy/loket/']</td>\n",
       "      <td>['https://www.amsterdam.nl/privacy/loket/']</td>\n",
       "      <td>[mZkAr, n5lBE]</td>\n",
       "    </tr>\n",
       "  </tbody>\n",
       "</table>\n",
       "</div>"
      ],
      "text/plain": [
       "   Unnamed: 0.1  Unnamed: 0  Year  Month  \\\n",
       "0             1           1  2020      6   \n",
       "1             6           7  2021      8   \n",
       "2             7           8  2021      8   \n",
       "3             9          14  2022      7   \n",
       "4            10          16  2019     10   \n",
       "\n",
       "                                            Question  \\\n",
       "0  \\n7.\\nKan het college de reeds bestaande zwemp...   \n",
       "1  \\n \\n3. Huisartsen geven aan meer informatie n...   \n",
       "2  \\n \\n8. Weten ongedocumenteerden de weg naar m...   \n",
       "3  \\n \\n4. Is het college tot nu toe tevreden met...   \n",
       "4  \\n \\n1. \\nKan aan de werkinstructie worden toe...   \n",
       "\n",
       "                                              Answer  \\\n",
       "0  \\nVoor het vinden van de officiële zwemplekken...   \n",
       "1   \\nDe uitvoerder van de regeling, het CAK, lij...   \n",
       "2   \\nDe Kruispost wordt goed bezocht, maar het c...   \n",
       "3   \\nJa, met de beschikbare middelen is de uitvo...   \n",
       "4                                                ...   \n",
       "\n",
       "                                            Document  \\\n",
       "0  https://amsterdam.raadsinformatie.nl/document/...   \n",
       "1  https://amsterdam.raadsinformatie.nl/document/...   \n",
       "2  https://amsterdam.raadsinformatie.nl/document/...   \n",
       "3  https://amsterdam.raadsinformatie.nl/document/...   \n",
       "4  https://amsterdam.raadsinformatie.nl/document/...   \n",
       "\n",
       "                                                URLs  \\\n",
       "0  ['https://www.amsterdam.nl/veelgevraagd/?casei...   \n",
       "1  ['https://www.amsterdam.nl/zorg-ondersteuning/...   \n",
       "2  ['https://www.amsterdam.nl/zorg-ondersteuning/...   \n",
       "3  ['https://www.amsterdam.nl/wonen-leefomgeving/...   \n",
       "4        ['https://www.amsterdam.nl/privacy/loket/']   \n",
       "\n",
       "                                        Cleaned_URLs  \\\n",
       "0  ['https://www.amsterdam.nl/veelgevraagd/?casei...   \n",
       "1  ['https://www.amsterdam.nl/zorg-ondersteuning/...   \n",
       "2  ['https://www.amsterdam.nl/zorg-ondersteuning/...   \n",
       "3  ['https://www.amsterdam.nl/wonen-leefomgeving/...   \n",
       "4        ['https://www.amsterdam.nl/privacy/loket/']   \n",
       "\n",
       "                                        passages_ids  \n",
       "0               [gxL3, jvql, kwZE, lv5r, m2Qr, nYrE]  \n",
       "1  [MOpA, NQq6, OVrp, PXvw, QZwl, R2xq, VgBM, WkD...  \n",
       "2  [MOpA, NQq6, OVrp, PXvw, QZwl, R2xq, VgBM, WkD...  \n",
       "3  [XDP1A, YEZ2n, Z6g3R, 1wM2P, 2kX3N, 3134x, 4x2...  \n",
       "4                                     [mZkAr, n5lBE]  "
      ]
     },
     "execution_count": 17,
     "metadata": {},
     "output_type": "execute_result"
    }
   ],
   "source": [
    "questions_for_ranking.head()"
   ]
  },
  {
   "attachments": {},
   "cell_type": "markdown",
   "metadata": {},
   "source": [
    "##### Add question ids "
   ]
  },
  {
   "cell_type": "code",
   "execution_count": 18,
   "metadata": {},
   "outputs": [],
   "source": [
    "hashids = Hashids()\n",
    "questions_for_ranking[\"question_id\"] = [hashids.encode(i) for i in range(len(questions_for_ranking))]"
   ]
  },
  {
   "cell_type": "code",
   "execution_count": 19,
   "metadata": {},
   "outputs": [
    {
     "data": {
      "text/html": [
       "<div>\n",
       "<style scoped>\n",
       "    .dataframe tbody tr th:only-of-type {\n",
       "        vertical-align: middle;\n",
       "    }\n",
       "\n",
       "    .dataframe tbody tr th {\n",
       "        vertical-align: top;\n",
       "    }\n",
       "\n",
       "    .dataframe thead th {\n",
       "        text-align: right;\n",
       "    }\n",
       "</style>\n",
       "<table border=\"1\" class=\"dataframe\">\n",
       "  <thead>\n",
       "    <tr style=\"text-align: right;\">\n",
       "      <th></th>\n",
       "      <th>Unnamed: 0.1</th>\n",
       "      <th>Unnamed: 0</th>\n",
       "      <th>Year</th>\n",
       "      <th>Month</th>\n",
       "      <th>Question</th>\n",
       "      <th>Answer</th>\n",
       "      <th>Document</th>\n",
       "      <th>URLs</th>\n",
       "      <th>Cleaned_URLs</th>\n",
       "      <th>passages_ids</th>\n",
       "      <th>question_id</th>\n",
       "    </tr>\n",
       "  </thead>\n",
       "  <tbody>\n",
       "    <tr>\n",
       "      <th>68</th>\n",
       "      <td>124</td>\n",
       "      <td>178</td>\n",
       "      <td>2014</td>\n",
       "      <td>8</td>\n",
       "      <td>\\n \\n2. Hoe evalueert het college het function...</td>\n",
       "      <td>\\nOp  22 september 2009 stemde het toenmalige...</td>\n",
       "      <td>https://amsterdam.raadsinformatie.nl/document/...</td>\n",
       "      <td>['https://www.amsterdam.nl/veelgevraagd/?produ...</td>\n",
       "      <td>['https://www.amsterdam.nl/veelgevraagd/?produ...</td>\n",
       "      <td>[YMk2, ZWl5, 19mm, 29nz, 39BR, 49Ex, 5WJ8, 60L...</td>\n",
       "      <td>Nk6</td>\n",
       "    </tr>\n",
       "    <tr>\n",
       "      <th>69</th>\n",
       "      <td>127</td>\n",
       "      <td>181</td>\n",
       "      <td>2022</td>\n",
       "      <td>5</td>\n",
       "      <td>\\n3. Is het college bereid om te investeren in...</td>\n",
       "      <td>\\nHet college investeert al in de signalerend...</td>\n",
       "      <td>https://amsterdam.raadsinformatie.nl/document/...</td>\n",
       "      <td>['https://www.amsterdam.nl/sociaaldomein/zorgp...</td>\n",
       "      <td>['https://www.amsterdam.nl/sociaaldomein/zorgp...</td>\n",
       "      <td>[qx5op, rk5pp, v25w5, wp5x8, gJKyG, jRMBP, kRK...</td>\n",
       "      <td>OYp</td>\n",
       "    </tr>\n",
       "    <tr>\n",
       "      <th>70</th>\n",
       "      <td>128</td>\n",
       "      <td>182</td>\n",
       "      <td>2017</td>\n",
       "      <td>5</td>\n",
       "      <td>\\n \\n2. Deelt het college de mening dat het ee...</td>\n",
       "      <td>\\nNee, het college deelt deze mening van de P...</td>\n",
       "      <td>https://amsterdam.raadsinformatie.nl/document/...</td>\n",
       "      <td>['https://www.amsterdam.nl/nrga/']</td>\n",
       "      <td>['https://www.amsterdam.nl/nrga/']</td>\n",
       "      <td>[n5XlW, o2KmB, pYKnp, qx5o0, rk5p4, v25w0, wp5...</td>\n",
       "      <td>PNw</td>\n",
       "    </tr>\n",
       "    <tr>\n",
       "      <th>71</th>\n",
       "      <td>129</td>\n",
       "      <td>183</td>\n",
       "      <td>2020</td>\n",
       "      <td>2</td>\n",
       "      <td>\\n \\n \\n6.  Recent heeft de burgemeester aange...</td>\n",
       "      <td>\\na) Het verlenen van een vergunning is een b...</td>\n",
       "      <td>https://amsterdam.raadsinformatie.nl/document/...</td>\n",
       "      <td>['https://www.amsterdam.nl/nieuws/kennisgeving...</td>\n",
       "      <td>['https://www.amsterdam.nl/nieuws/kennisgeving...</td>\n",
       "      <td>[xk553, yP55E, zp55Z, ADoo3, BBppk, Dkrry, ERv...</td>\n",
       "      <td>QWl</td>\n",
       "    </tr>\n",
       "    <tr>\n",
       "      <th>72</th>\n",
       "      <td>134</td>\n",
       "      <td>193</td>\n",
       "      <td>2020</td>\n",
       "      <td>3</td>\n",
       "      <td>\\n \\n12. Welke informatievoorziening is er van...</td>\n",
       "      <td>\\nZorgaanbieders zijn verantwoordelijk voor h...</td>\n",
       "      <td>https://amsterdam.raadsinformatie.nl/document/...</td>\n",
       "      <td>['https://www.amsterdam.nl/zorg-ondersteuning/...</td>\n",
       "      <td>['https://www.amsterdam.nl/zorg-ondersteuning/...</td>\n",
       "      <td>[PNG2w, QWX3l, R6X4q, VOW8M, W61gJ, kRKVE, lYL...</td>\n",
       "      <td>R6q</td>\n",
       "    </tr>\n",
       "  </tbody>\n",
       "</table>\n",
       "</div>"
      ],
      "text/plain": [
       "    Unnamed: 0.1  Unnamed: 0  Year  Month  \\\n",
       "68           124         178  2014      8   \n",
       "69           127         181  2022      5   \n",
       "70           128         182  2017      5   \n",
       "71           129         183  2020      2   \n",
       "72           134         193  2020      3   \n",
       "\n",
       "                                             Question  \\\n",
       "68  \\n \\n2. Hoe evalueert het college het function...   \n",
       "69  \\n3. Is het college bereid om te investeren in...   \n",
       "70  \\n \\n2. Deelt het college de mening dat het ee...   \n",
       "71  \\n \\n \\n6.  Recent heeft de burgemeester aange...   \n",
       "72  \\n \\n12. Welke informatievoorziening is er van...   \n",
       "\n",
       "                                               Answer  \\\n",
       "68   \\nOp  22 september 2009 stemde het toenmalige...   \n",
       "69   \\nHet college investeert al in de signalerend...   \n",
       "70   \\nNee, het college deelt deze mening van de P...   \n",
       "71   \\na) Het verlenen van een vergunning is een b...   \n",
       "72   \\nZorgaanbieders zijn verantwoordelijk voor h...   \n",
       "\n",
       "                                             Document  \\\n",
       "68  https://amsterdam.raadsinformatie.nl/document/...   \n",
       "69  https://amsterdam.raadsinformatie.nl/document/...   \n",
       "70  https://amsterdam.raadsinformatie.nl/document/...   \n",
       "71  https://amsterdam.raadsinformatie.nl/document/...   \n",
       "72  https://amsterdam.raadsinformatie.nl/document/...   \n",
       "\n",
       "                                                 URLs  \\\n",
       "68  ['https://www.amsterdam.nl/veelgevraagd/?produ...   \n",
       "69  ['https://www.amsterdam.nl/sociaaldomein/zorgp...   \n",
       "70                 ['https://www.amsterdam.nl/nrga/']   \n",
       "71  ['https://www.amsterdam.nl/nieuws/kennisgeving...   \n",
       "72  ['https://www.amsterdam.nl/zorg-ondersteuning/...   \n",
       "\n",
       "                                         Cleaned_URLs  \\\n",
       "68  ['https://www.amsterdam.nl/veelgevraagd/?produ...   \n",
       "69  ['https://www.amsterdam.nl/sociaaldomein/zorgp...   \n",
       "70                 ['https://www.amsterdam.nl/nrga/']   \n",
       "71  ['https://www.amsterdam.nl/nieuws/kennisgeving...   \n",
       "72  ['https://www.amsterdam.nl/zorg-ondersteuning/...   \n",
       "\n",
       "                                         passages_ids question_id  \n",
       "68  [YMk2, ZWl5, 19mm, 29nz, 39BR, 49Ex, 5WJ8, 60L...         Nk6  \n",
       "69  [qx5op, rk5pp, v25w5, wp5x8, gJKyG, jRMBP, kRK...         OYp  \n",
       "70  [n5XlW, o2KmB, pYKnp, qx5o0, rk5p4, v25w0, wp5...         PNw  \n",
       "71  [xk553, yP55E, zp55Z, ADoo3, BBppk, Dkrry, ERv...         QWl  \n",
       "72  [PNG2w, QWX3l, R6X4q, VOW8M, W61gJ, kRKVE, lYL...         R6q  "
      ]
     },
     "execution_count": 19,
     "metadata": {},
     "output_type": "execute_result"
    }
   ],
   "source": [
    "questions_for_ranking.tail()"
   ]
  },
  {
   "attachments": {},
   "cell_type": "markdown",
   "metadata": {},
   "source": [
    "#### remove unused columns"
   ]
  },
  {
   "cell_type": "code",
   "execution_count": 20,
   "metadata": {},
   "outputs": [],
   "source": [
    "questions_for_ranking.drop('Unnamed: 0.1', axis=1, inplace=True)"
   ]
  },
  {
   "cell_type": "code",
   "execution_count": 21,
   "metadata": {},
   "outputs": [],
   "source": [
    "questions_for_ranking.drop('Unnamed: 0', axis=1, inplace=True)"
   ]
  },
  {
   "cell_type": "code",
   "execution_count": 22,
   "metadata": {},
   "outputs": [],
   "source": [
    "questions_for_ranking.drop('Cleaned_URLs', axis=1, inplace=True)"
   ]
  },
  {
   "attachments": {},
   "cell_type": "markdown",
   "metadata": {},
   "source": [
    "#### prepare dataset"
   ]
  },
  {
   "cell_type": "code",
   "execution_count": 23,
   "metadata": {},
   "outputs": [],
   "source": [
    "from datasets import Dataset\n",
    "import pyarrow as pa"
   ]
  },
  {
   "cell_type": "code",
   "execution_count": 24,
   "metadata": {},
   "outputs": [],
   "source": [
    "arrow_table = pa.Table.from_pandas(questions_for_ranking)\n",
    "arrow_dict = arrow_table.to_pydict()\n",
    "questions_for_ranking = Dataset.from_dict(arrow_dict)"
   ]
  },
  {
   "cell_type": "code",
   "execution_count": 25,
   "metadata": {},
   "outputs": [
    {
     "data": {
      "text/plain": [
       "{'Year': 2020,\n",
       " 'Month': 6,\n",
       " 'Question': '\\n7.\\nKan het college de reeds bestaande zwemplekken in Amsterdam en de directe \\nomgeving, die zich op fietsafstand bevinden, beter communiceren zodat mensen \\nweten waar ze allemaal heen kunnen op de fiets om te zwemmen?\\n',\n",
       " 'Answer': '\\nVoor het vinden van de officiële zwemplekken is er informatie op de site \\nhttps://www.zwemwater.nl/.Hier is ook informatie te vinden over veilig zwemmen en gezondheidsrisico’s en het \\nCorona protocol zwemmen en recreëren in en aan oppervlaktewater.\\nOp de kaart met zwemwater, stadsstranden en fonteinen geeft de gemeente \\nAmsterdam een overzicht van zwemplekken in open water: \\nhttps://maps.amsterdam.nl/zwemwater/ . \\nZie tevens de site: https://www.amsterdam.nl/veelgevraagd/?caseid=%7BD6E280FB-\\n4A76-40A0-9B88-12B87E446FA6%7D\\nVoorts is het voor de gezondheidsrisico’s goed kennis te nemen van de site van de \\nGGD over het zwemmen in open water: https://www.ggd.amsterdam.nl/gezond-\\nwonen/zwemmen-open-water/ ',\n",
       " 'Document': 'https://amsterdam.raadsinformatie.nl/document/8824200/5/888',\n",
       " 'URLs': \"['https://www.amsterdam.nl/veelgevraagd/?caseid=%7BD6E280FB-4A76-40A0-9B88-12B87E446FA6%7D', 'https://www.ggd.amsterdam.nl/gezond-wonen/zwemmen-open-water/']\",\n",
       " 'passages_ids': ['gxL3', 'jvql', 'kwZE', 'lv5r', 'm2Qr', 'nYrE'],\n",
       " 'question_id': 'gY'}"
      ]
     },
     "execution_count": 25,
     "metadata": {},
     "output_type": "execute_result"
    }
   ],
   "source": [
    "questions_for_ranking[0]"
   ]
  },
  {
   "cell_type": "code",
   "execution_count": 26,
   "metadata": {},
   "outputs": [],
   "source": [
    "arrow_table = pa.Table.from_pandas(passages_df)\n",
    "arrow_dict = arrow_table.to_pydict()\n",
    "passages_df = Dataset.from_dict(arrow_dict)"
   ]
  },
  {
   "cell_type": "code",
   "execution_count": 27,
   "metadata": {},
   "outputs": [
    {
     "data": {
      "text/plain": [
       "{'Unnamed: 0': 1147,\n",
       " 'URL': 'https://www.amsterdam.nl/veelgevraagd/?caseid=%7B467C30B6-54F1-4B83-BFBA-A5A84B6D86D9%7D',\n",
       " 'Textual_Content': 'Gemeente Amsterdam Kalender Van buurtactiviteiten tot inspraakavonden. Wat organiseert de gemeente voor u?\\xa0Kijk op Kalender Amsterdam\\nUit in Amsterdam\\nBenieuwd wat er allemaal te doen is in de stad? Op\\xa0Iamsterdam.com\\xa0vindt u de beste tips op het gebied van cultuur, uitgaan en evenementen.',\n",
       " 'id': 'gN3'}"
      ]
     },
     "execution_count": 27,
     "metadata": {},
     "output_type": "execute_result"
    }
   ],
   "source": [
    "passages_df[1000]"
   ]
  },
  {
   "cell_type": "code",
   "execution_count": 28,
   "metadata": {},
   "outputs": [
    {
     "data": {
      "text/plain": [
       "datasets.arrow_dataset.Dataset"
      ]
     },
     "execution_count": 28,
     "metadata": {},
     "output_type": "execute_result"
    }
   ],
   "source": [
    "type(passages_df)"
   ]
  },
  {
   "attachments": {},
   "cell_type": "markdown",
   "metadata": {},
   "source": [
    "### TF-IDF search"
   ]
  },
  {
   "attachments": {},
   "cell_type": "markdown",
   "metadata": {},
   "source": [
    "#### perform search"
   ]
  },
  {
   "cell_type": "code",
   "execution_count": 29,
   "metadata": {},
   "outputs": [],
   "source": [
    "from sklearn.feature_extraction.text import TfidfVectorizer\n",
    "import heapq"
   ]
  },
  {
   "cell_type": "code",
   "execution_count": 1,
   "metadata": {},
   "outputs": [],
   "source": [
    "from sklearn.neighbors import NearestNeighbors"
   ]
  },
  {
   "cell_type": "code",
   "execution_count": 30,
   "metadata": {},
   "outputs": [],
   "source": [
    "def tfidf_search(query, vectorizer, matrix, collection, k):\n",
    "    \"\"\"\n",
    "    Perform a search over all documents with the given query using tf-idf.\n",
    "    Input:\n",
    "        query - an (unprocessed) query\n",
    "        vectorizer: a fitted TfidfVectorizer\n",
    "        matrix: the document-term matrix obtained from the fitted vectorizer\n",
    "        collection: a list of tuples (document_id, document_content)\n",
    "        k: the number of top search results to retrieve\n",
    "    Output: a list of (document_id, score, document_content), sorted in descending relevance to the given query\n",
    "    \"\"\"\n",
    "    # Preprocess the query\n",
    "    preprocessed_query = str(query['Question']).lower().replace('\\n', '')\n",
    "\n",
    "    query_text = query['Question']\n",
    "    true_documents = query['passages_ids']\n",
    "\n",
    "    query_vector = vectorizer.transform([preprocessed_query])\n",
    "    question_id = query['question_id']\n",
    "\n",
    "    cosine_similarities = matrix.dot(query_vector.T).toarray().flatten()\n",
    "\n",
    "    results_heap = []  # heap for efficiency to maintain the top-k results\n",
    "\n",
    "    # iterate over the collection and update the heap with the top-k results\n",
    "    for i, doc in enumerate(collection):\n",
    "        doc_id = doc['id']\n",
    "        score = cosine_similarities[i]\n",
    "        document_content = doc['Textual_Content']\n",
    "        heapq.heappush(results_heap, (score, doc_id, document_content))\n",
    "        if len(results_heap) > k:\n",
    "            heapq.heappop(results_heap)\n",
    "\n",
    "    results_heap.sort(reverse=True)  # sort descending\n",
    "    top_results = results_heap[:k]\n",
    "\n",
    "    cosine_scores = [result[0] for result in top_results]\n",
    "    ranked_ids = [result[1] for result in top_results]\n",
    "    ranked_text = [result[2] for result in top_results]\n",
    "\n",
    "    # Create a dictionary containing the search results\n",
    "    search_results = {\n",
    "        'question_id': question_id,\n",
    "        'question': query['Question'],\n",
    "        'ranked_ids': ranked_ids,\n",
    "        'ranked_text': ranked_text,\n",
    "        'true_passages': true_documents,\n",
    "        'cosine_scores': cosine_scores, \n",
    "        'answer': query['Answer']\n",
    "    }\n",
    "\n",
    "    return search_results  # return top k\n"
   ]
  },
  {
   "cell_type": "code",
   "execution_count": 31,
   "metadata": {},
   "outputs": [],
   "source": [
    "def perform_tfidf_search(queries, collection, k):\n",
    "    \"\"\"\n",
    "    Perform TF-IDF search for each query in a list of queries.\n",
    "    Input:\n",
    "        queries - a list of queries\n",
    "        collection: a list of tuples (document_id, document_content)\n",
    "        k: the number of top search results to retrieve\n",
    "    Output: a dictionary where the key is the query and the value is a list of (document_id, score, document_content) tuples\n",
    "    \"\"\"\n",
    "    # Extract document contents from the collection\n",
    "    document_contents = [str(doc['Textual_Content']).lower().replace('\\n', '') for doc in collection]\n",
    "\n",
    "    # Initialize and fit the TfidfVectorizer\n",
    "    vectorizer = TfidfVectorizer()\n",
    "    matrix = vectorizer.fit_transform(document_contents)\n",
    "\n",
    "    search_results = []\n",
    "\n",
    "    for query in queries:\n",
    "        results = tfidf_search(query, vectorizer, matrix, collection, k=k)\n",
    "        search_results.append(results)\n",
    "\n",
    "    return search_results"
   ]
  },
  {
   "cell_type": "code",
   "execution_count": 32,
   "metadata": {},
   "outputs": [],
   "source": [
    "results = perform_tfidf_search(questions_for_ranking, passages_df, k=100) # 2:18 mins"
   ]
  },
  {
   "attachments": {},
   "cell_type": "markdown",
   "metadata": {},
   "source": [
    "#### Evaluation"
   ]
  },
  {
   "cell_type": "code",
   "execution_count": 33,
   "metadata": {},
   "outputs": [],
   "source": [
    "import numpy as np"
   ]
  },
  {
   "cell_type": "code",
   "execution_count": 34,
   "metadata": {},
   "outputs": [],
   "source": [
    "from irmetrics.topk import recall, ap, ndcg, precision, rr, precision"
   ]
  },
  {
   "cell_type": "code",
   "execution_count": 35,
   "metadata": {},
   "outputs": [],
   "source": [
    "from irmetrics.relevance import relevant_counts"
   ]
  },
  {
   "cell_type": "code",
   "execution_count": 36,
   "metadata": {},
   "outputs": [],
   "source": [
    "#relevant_counts(relevant[:, np.newaxis], ranked[:, np.newaxis])"
   ]
  },
  {
   "cell_type": "code",
   "execution_count": 37,
   "metadata": {},
   "outputs": [],
   "source": [
    "import warnings"
   ]
  },
  {
   "attachments": {},
   "cell_type": "markdown",
   "metadata": {},
   "source": [
    "### calculate metrics function"
   ]
  },
  {
   "cell_type": "code",
   "execution_count": 38,
   "metadata": {},
   "outputs": [],
   "source": [
    "def calculate_average_metrics(results, k):\n",
    "    recall_scores = []\n",
    "    ndcg_scores = []\n",
    "    rr_scores = []\n",
    "    precision_scores = []\n",
    "\n",
    "    for result in results:\n",
    "        ranked = result['ranked_ids']\n",
    "        relevant = result['true_passages']\n",
    "\n",
    "        recall_k = recall(relevant, ranked, k)\n",
    "        ndcg_k = calculate_ndcg(relevant, ranked, k)\n",
    "        rr_k = rr(relevant, ranked, k)\n",
    "        precision_k = precision(relevant, ranked, k)\n",
    "\n",
    "        recall_scores.append(recall_k)\n",
    "        ndcg_scores.append(ndcg_k)\n",
    "        rr_scores.append(rr_k)\n",
    "        precision_scores.append(precision_k)\n",
    "\n",
    "    average_recall = sum(recall_scores) / len(recall_scores)\n",
    "    average_ndcg = sum(ndcg_scores) / len(ndcg_scores)\n",
    "    average_rr = sum(rr_scores) / len(rr_scores)\n",
    "    average_precision = sum(precision_scores) / len(precision_scores)\n",
    "\n",
    "    average_metrics = {\n",
    "        'average_recall@{}'.format(k): average_recall,\n",
    "        'average_ndcg@{}'.format(k): average_ndcg,\n",
    "        'average_rr@{}'.format(k): average_rr,\n",
    "        'average_precision@{}'.format(k): average_precision\n",
    "    }\n",
    "\n",
    "    return average_metrics\n",
    "\n",
    "\n",
    "def calculate_ndcg(relevant, ranked, k):\n",
    "    warnings.filterwarnings('ignore', 'invalid value encountered', RuntimeWarning)\n",
    "    ndcg_k = ndcg(relevant, ranked, k)\n",
    "    if np.isnan(ndcg_k) or np.isinf(ndcg_k):\n",
    "        ndcg_k = 0.0\n",
    "    return ndcg_k"
   ]
  },
  {
   "cell_type": "code",
   "execution_count": 39,
   "metadata": {},
   "outputs": [
    {
     "name": "stdout",
     "output_type": "stream",
     "text": [
      "\n",
      "Metrics for k=5:\n",
      "average_recall@5: nan\n",
      "average_ndcg@5: 0.0214\n",
      "average_rr@5: 0.0148\n",
      "average_precision@5: 0.0082\n",
      "\n",
      "Metrics for k=10:\n",
      "average_recall@10: nan\n",
      "average_ndcg@10: 0.0447\n",
      "average_rr@10: 0.0300\n",
      "average_precision@10: 0.0137\n",
      "\n",
      "Metrics for k=100:\n",
      "average_recall@100: nan\n",
      "average_ndcg@100: 0.0772\n",
      "average_rr@100: 0.0453\n",
      "average_precision@100: 0.0090\n"
     ]
    }
   ],
   "source": [
    "ks = [5, 10, 100]\n",
    "# for document 0 the results are quite high\n",
    "for k in ks:\n",
    "    print('\\nMetrics for k={}:'.format(k))\n",
    "    average_metrics = calculate_average_metrics(results, k)\n",
    "    for metric, value in average_metrics.items():\n",
    "        print('{}: {:.4f}'.format(metric, value))"
   ]
  },
  {
   "attachments": {},
   "cell_type": "markdown",
   "metadata": {},
   "source": [
    "##### Save TF-IDF Results"
   ]
  },
  {
   "cell_type": "code",
   "execution_count": 40,
   "metadata": {},
   "outputs": [],
   "source": [
    "import pickle"
   ]
  },
  {
   "cell_type": "code",
   "execution_count": 41,
   "metadata": {},
   "outputs": [],
   "source": [
    "with open('data/results_ranking/amsterdam_html_preprocessing_ranked_tfidf.pickle', 'wb') as f:\n",
    "    pickle.dump(results, f)"
   ]
  },
  {
   "attachments": {},
   "cell_type": "markdown",
   "metadata": {},
   "source": [
    "### Random"
   ]
  },
  {
   "cell_type": "code",
   "execution_count": 42,
   "metadata": {},
   "outputs": [],
   "source": [
    "import random\n",
    "\n",
    "def random_search(query, collection, k):\n",
    "    \"\"\"\n",
    "    Perform random retrieval from the collection.\n",
    "    Input:\n",
    "        query - an (unprocessed) query\n",
    "        collection: a list of tuples (document_id, document_content)\n",
    "        k: the number of top search results to retrieve\n",
    "    Output: a dictionary containing the search results\n",
    "    \"\"\"\n",
    "    query_text = query['Question']\n",
    "    true_documents = query['passages_ids']\n",
    "\n",
    "    # Randomly select k documents from the collection\n",
    "    random_results = random.sample(collection.to_list(), k)\n",
    "\n",
    "    ranked_ids = [result['id'] for result in random_results]\n",
    "    ranked_text = [result['Textual_Content'] for result in random_results]\n",
    "    cosine_scores = []  # Assign random scores for demonstration purposes\n",
    "\n",
    "    # Create a dictionary containing the search results\n",
    "    search_results = {\n",
    "        'question_id': query['question_id'],\n",
    "        'question': query['Question'],\n",
    "        'ranked_ids': ranked_ids,\n",
    "        'ranked_text': ranked_text,\n",
    "        'true_passages': true_documents,\n",
    "        'cosine_scores': cosine_scores,\n",
    "        'answer': query['Answer'],\n",
    "    }\n",
    "\n",
    "    return search_results\n",
    "\n",
    "\n",
    "def perform_random_search(queries, collection, k):\n",
    "    \"\"\"\n",
    "    Perform random retrieval search for each query in a list of queries.\n",
    "    Input:\n",
    "        queries - a list of queries\n",
    "        collection: a pandas DataFrame representing the collection\n",
    "        k: the number of top search results to retrieve\n",
    "    Output: a list of dictionaries containing the search results\n",
    "    \"\"\"\n",
    "    search_results = []\n",
    "\n",
    "    for query in queries:\n",
    "        results = random_search(query, collection, k=k)\n",
    "        search_results.append(results)\n",
    "\n",
    "    return search_results\n"
   ]
  },
  {
   "cell_type": "code",
   "execution_count": 43,
   "metadata": {},
   "outputs": [],
   "source": [
    "results_random = perform_random_search(questions_for_ranking, passages_df, k=100) # 18 secs"
   ]
  },
  {
   "cell_type": "code",
   "execution_count": 44,
   "metadata": {},
   "outputs": [
    {
     "name": "stdout",
     "output_type": "stream",
     "text": [
      "\n",
      "Metrics for k=5:\n",
      "average_recall@5: nan\n",
      "average_ndcg@5: 0.0000\n",
      "average_rr@5: 0.0000\n",
      "average_precision@5: 0.0000\n",
      "\n",
      "Metrics for k=10:\n",
      "average_recall@10: nan\n",
      "average_ndcg@10: 0.0000\n",
      "average_rr@10: 0.0000\n",
      "average_precision@10: 0.0000\n",
      "\n",
      "Metrics for k=100:\n",
      "average_recall@100: nan\n",
      "average_ndcg@100: 0.0069\n",
      "average_rr@100: 0.0019\n",
      "average_precision@100: 0.0003\n"
     ]
    }
   ],
   "source": [
    "ks = [5, 10, 100]\n",
    "# for document 0 the results are quite high\n",
    "for k in ks:\n",
    "    print('\\nMetrics for k={}:'.format(k))\n",
    "    average_metrics = calculate_average_metrics(results_random, k)\n",
    "    for metric, value in average_metrics.items():\n",
    "        print('{}: {:.4f}'.format(metric, value))"
   ]
  },
  {
   "attachments": {},
   "cell_type": "markdown",
   "metadata": {},
   "source": [
    "### BM25"
   ]
  },
  {
   "attachments": {},
   "cell_type": "markdown",
   "metadata": {},
   "source": [
    "##### functions"
   ]
  },
  {
   "cell_type": "code",
   "execution_count": 45,
   "metadata": {},
   "outputs": [],
   "source": [
    "from rank_bm25 import BM25Okapi\n",
    "from rank_bm25 import BM25L\n",
    "from rank_bm25 import BM25Plus"
   ]
  },
  {
   "cell_type": "code",
   "execution_count": 46,
   "metadata": {},
   "outputs": [],
   "source": [
    "def bm25_search(query, corpus, bm25, k):\n",
    "    \"\"\"\n",
    "    Perform a search over all documents with the given query using BM25 ranking.\n",
    "    Input:\n",
    "        query - an (unprocessed) query\n",
    "        collection: a list of document contents\n",
    "        bm25: initialized BM25Okapi object\n",
    "        k: the number of top search results to retrieve\n",
    "    Output: a list of (document_id, score, document_content), sorted in descending relevance to the given query\n",
    "    \"\"\"\n",
    "    # Preprocess the query\n",
    "    preprocessed_query = str(query['Question']).lower().replace('\\n', '')\n",
    "    query_tokens = preprocessed_query.split()\n",
    "\n",
    "    scores = bm25.get_scores(query_tokens)\n",
    "\n",
    "    results_heap = []\n",
    "\n",
    "    # Iterate over the corpus and update the heap with the top-k results\n",
    "    for i, doc in enumerate(corpus):\n",
    "        doc_id = doc['id']\n",
    "        score = scores[i]\n",
    "        document_content = doc['Textual_Content']\n",
    "        heapq.heappush(results_heap, (score, doc_id, document_content))\n",
    "        if len(results_heap) > k:\n",
    "            heapq.heappop(results_heap)\n",
    "\n",
    "    results_heap.sort(reverse=True)  # Sort descending\n",
    "    top_results = results_heap[:k]\n",
    "\n",
    "    bm25_scores = [result[0] for result in top_results]\n",
    "    ranked_ids = [result[1] for result in top_results]\n",
    "    ranked_text = [result[2] for result in top_results]\n",
    "\n",
    "    # Create a dictionary containing the search results\n",
    "\n",
    "    query_text = query['Question']\n",
    "    true_documents = query['passages_ids']\n",
    "    question_id = query['question_id']\n",
    "\n",
    "    search_results = {\n",
    "    'question_id': question_id,\n",
    "    'question': query_text,\n",
    "    'ranked_ids': ranked_ids,\n",
    "    'ranked_text': ranked_text,\n",
    "    'true_passages': true_documents,\n",
    "    'scores': bm25_scores, \n",
    "    'answer': query['Answer']\n",
    "    }\n",
    "\n",
    "    return search_results\n",
    "\n",
    "\n",
    "def perform_bm25_search(queries, corpus, k):\n",
    "    \"\"\"\n",
    "    Perform BM25 search for each query in a list of queries.\n",
    "    Input:\n",
    "        queries - a list of queries\n",
    "        corpus: a list of document contents\n",
    "        k: the number of top search results to retrieve\n",
    "    Output: a list of dictionaries, where each dictionary contains the search results for a query\n",
    "    \"\"\"\n",
    "    # Preprocess the corpus\n",
    "    tokenized_corpus = [doc['Textual_Content'].lower().replace('\\n', '').split() for doc in corpus]\n",
    "    bm25 = BM25Okapi(tokenized_corpus)\n",
    "\n",
    "    search_results = []\n",
    "\n",
    "    for query in queries:\n",
    "        results = bm25_search(query, corpus, bm25, k=k)\n",
    "        search_results.append(results)\n",
    "\n",
    "    return search_results\n"
   ]
  },
  {
   "cell_type": "code",
   "execution_count": 47,
   "metadata": {},
   "outputs": [],
   "source": [
    "results_bm25 = perform_bm25_search(questions_for_ranking, passages_df, k=100) # 3:22 mins"
   ]
  },
  {
   "cell_type": "code",
   "execution_count": 48,
   "metadata": {},
   "outputs": [
    {
     "data": {
      "text/plain": [
       "'\\n \\n8. Weten ongedocumenteerden de weg naar medische instellingen zoals Kruispost wel te \\nvinden? In hoeverre kunnen religieuze en maatschappelijke partners zoals informele \\nvoedselvoorzieningen een rol spelen om de bekendheid hiervan verder te vergroten?  \\n \\n'"
      ]
     },
     "execution_count": 48,
     "metadata": {},
     "output_type": "execute_result"
    }
   ],
   "source": [
    "results_bm25[2]['question']"
   ]
  },
  {
   "cell_type": "code",
   "execution_count": 49,
   "metadata": {},
   "outputs": [],
   "source": [
    "counter = []\n",
    "for p in passages_df:\n",
    "    counter.append(len(p['Textual_Content'].split()))"
   ]
  },
  {
   "cell_type": "code",
   "execution_count": 50,
   "metadata": {},
   "outputs": [],
   "source": [
    "max_value = max(counter)\n",
    "max_indices = [index for index, value in enumerate(counter) if value == max_value]"
   ]
  },
  {
   "cell_type": "code",
   "execution_count": 51,
   "metadata": {},
   "outputs": [
    {
     "data": {
      "text/plain": [
       "{'Unnamed: 0': 14208,\n",
       " 'URL': 'https://www.amsterdam.nl/veelgevraagd/?productid=%7B8A6FB2C3-E0D0-40B1-802B-ACF516B3A415%7D',\n",
       " 'Textual_Content': 'Factureren aan de gemeente Amsterdam met e-facturen Overstappen op e-facturatie Ik ben overgestapt op e-facturatie, maar ik ben niet tevreden. Kan ik ook een PDF-factuur sturen? Bent u op e-facturatie overgestapt? Dan behandelen wij geen facturen meer die u per e-mail of post stuurt. U gebruikt vanaf dan dus alleen e-facturen.',\n",
       " 'id': 'gnk3'}"
      ]
     },
     "execution_count": 51,
     "metadata": {},
     "output_type": "execute_result"
    }
   ],
   "source": [
    "passages_df[12000]"
   ]
  },
  {
   "attachments": {},
   "cell_type": "markdown",
   "metadata": {},
   "source": [
    "##### evaluate"
   ]
  },
  {
   "cell_type": "code",
   "execution_count": 52,
   "metadata": {},
   "outputs": [
    {
     "name": "stdout",
     "output_type": "stream",
     "text": [
      "\n",
      "Metrics for k=5:\n",
      "average_recall@5: nan\n",
      "average_ndcg@5: 0.0282\n",
      "average_rr@5: 0.0240\n",
      "average_precision@5: 0.0082\n",
      "\n",
      "Metrics for k=10:\n",
      "average_recall@10: nan\n",
      "average_ndcg@10: 0.0292\n",
      "average_rr@10: 0.0240\n",
      "average_precision@10: 0.0055\n",
      "\n",
      "Metrics for k=100:\n",
      "average_recall@100: nan\n",
      "average_ndcg@100: 0.0456\n",
      "average_rr@100: 0.0292\n",
      "average_precision@100: 0.0030\n"
     ]
    }
   ],
   "source": [
    "ks = [5, 10, 100]\n",
    "# for document 0 the results are quite high\n",
    "for k in ks:\n",
    "    print('\\nMetrics for k={}:'.format(k))\n",
    "    average_metrics = calculate_average_metrics(results_bm25, k)\n",
    "    for metric, value in average_metrics.items():\n",
    "        print('{}: {:.4f}'.format(metric, value)) #BM25 +"
   ]
  },
  {
   "cell_type": "code",
   "execution_count": 53,
   "metadata": {},
   "outputs": [
    {
     "name": "stdout",
     "output_type": "stream",
     "text": [
      "\n",
      "Metrics for k=5:\n",
      "average_recall@5: nan\n",
      "average_ndcg@5: 0.0282\n",
      "average_rr@5: 0.0240\n",
      "average_precision@5: 0.0082\n",
      "\n",
      "Metrics for k=10:\n",
      "average_recall@10: nan\n",
      "average_ndcg@10: 0.0292\n",
      "average_rr@10: 0.0240\n",
      "average_precision@10: 0.0055\n",
      "\n",
      "Metrics for k=100:\n",
      "average_recall@100: nan\n",
      "average_ndcg@100: 0.0456\n",
      "average_rr@100: 0.0292\n",
      "average_precision@100: 0.0030\n"
     ]
    }
   ],
   "source": [
    "ks = [5, 10, 100]\n",
    "# for document 0 the results are quite high\n",
    "for k in ks:\n",
    "    print('\\nMetrics for k={}:'.format(k))\n",
    "    average_metrics = calculate_average_metrics(results_bm25, k)\n",
    "    for metric, value in average_metrics.items():\n",
    "        print('{}: {:.4f}'.format(metric, value)) #BM25 L"
   ]
  },
  {
   "cell_type": "code",
   "execution_count": 54,
   "metadata": {},
   "outputs": [
    {
     "name": "stdout",
     "output_type": "stream",
     "text": [
      "\n",
      "Metrics for k=5:\n",
      "average_recall@5: nan\n",
      "average_ndcg@5: 0.0282\n",
      "average_rr@5: 0.0240\n",
      "average_precision@5: 0.0082\n",
      "\n",
      "Metrics for k=10:\n",
      "average_recall@10: nan\n",
      "average_ndcg@10: 0.0292\n",
      "average_rr@10: 0.0240\n",
      "average_precision@10: 0.0055\n",
      "\n",
      "Metrics for k=100:\n",
      "average_recall@100: nan\n",
      "average_ndcg@100: 0.0456\n",
      "average_rr@100: 0.0292\n",
      "average_precision@100: 0.0030\n"
     ]
    }
   ],
   "source": [
    "ks = [5, 10, 100]\n",
    "# for document 0 the results are quite high\n",
    "for k in ks:\n",
    "    print('\\nMetrics for k={}:'.format(k))\n",
    "    average_metrics = calculate_average_metrics(results_bm25, k)\n",
    "    for metric, value in average_metrics.items():\n",
    "        print('{}: {:.4f}'.format(metric, value)) #BM25 Okapi"
   ]
  },
  {
   "cell_type": "code",
   "execution_count": 55,
   "metadata": {},
   "outputs": [],
   "source": [
    "with open('data/results_ranking/amsterdam_html_preprocessing_ranked_bm25.pickle', 'wb') as f:\n",
    "    pickle.dump(results_bm25, f)"
   ]
  },
  {
   "cell_type": "code",
   "execution_count": 56,
   "metadata": {},
   "outputs": [],
   "source": [
    "with open('data/results_ranking/amsterdam_html_preprocessing_ranked_random.pickle', 'wb') as f:\n",
    "    pickle.dump(results_random, f)"
   ]
  },
  {
   "attachments": {},
   "cell_type": "markdown",
   "metadata": {},
   "source": [
    "### Average Answer length"
   ]
  },
  {
   "cell_type": "code",
   "execution_count": 57,
   "metadata": {},
   "outputs": [],
   "source": [
    "from nltk.tokenize import word_tokenize"
   ]
  },
  {
   "cell_type": "code",
   "execution_count": 58,
   "metadata": {},
   "outputs": [
    {
     "name": "stderr",
     "output_type": "stream",
     "text": [
      "[nltk_data] Downloading package punkt to\n",
      "[nltk_data]     /Users/natalipeeva/nltk_data...\n",
      "[nltk_data]   Package punkt is already up-to-date!\n",
      "[nltk_data] Downloading package averaged_perceptron_tagger to\n",
      "[nltk_data]     /Users/natalipeeva/nltk_data...\n",
      "[nltk_data]   Package averaged_perceptron_tagger is already up-to-\n",
      "[nltk_data]       date!\n",
      "[nltk_data] Downloading package tagsets to\n",
      "[nltk_data]     /Users/natalipeeva/nltk_data...\n",
      "[nltk_data]   Package tagsets is already up-to-date!\n"
     ]
    },
    {
     "data": {
      "text/plain": [
       "True"
      ]
     },
     "execution_count": 58,
     "metadata": {},
     "output_type": "execute_result"
    }
   ],
   "source": [
    "# Set the language to Dutch\n",
    "nltk.download('punkt')\n",
    "nltk.download('averaged_perceptron_tagger')\n",
    "nltk.download('tagsets')\n"
   ]
  },
  {
   "cell_type": "code",
   "execution_count": 59,
   "metadata": {},
   "outputs": [],
   "source": [
    "ans_len = []\n",
    "for q in questions_for_ranking:\n",
    "    ans_len.append(len(word_tokenize(q['Answer'], language='dutch')))"
   ]
  },
  {
   "cell_type": "code",
   "execution_count": 60,
   "metadata": {},
   "outputs": [
    {
     "data": {
      "text/plain": [
       "256.8767123287671"
      ]
     },
     "execution_count": 60,
     "metadata": {},
     "output_type": "execute_result"
    }
   ],
   "source": [
    "sum(ans_len)/len(ans_len) # 256.87"
   ]
  },
  {
   "cell_type": "code",
   "execution_count": 61,
   "metadata": {},
   "outputs": [],
   "source": [
    "from rouge_score import rouge_scorer\n",
    "from nltk.translate.bleu_score import corpus_bleu\n",
    "from sklearn.metrics import f1_score"
   ]
  },
  {
   "cell_type": "code",
   "execution_count": 72,
   "metadata": {},
   "outputs": [],
   "source": [
    "from nltk.translate.bleu_score import SmoothingFunction"
   ]
  },
  {
   "cell_type": "code",
   "execution_count": 73,
   "metadata": {},
   "outputs": [],
   "source": [
    "def calculate_metrics(generated_summaries, reference_summaries):\n",
    "    # Convert non-string elements to strings\n",
    "    generated_summaries = [str(summary) for summary in generated_summaries]\n",
    "    reference_summaries = [str(summary) for summary in reference_summaries]\n",
    "\n",
    "\n",
    "    # Compute ROUGE scores\n",
    "    scorer = rouge_scorer.RougeScorer(['rouge1', 'rouge2', 'rougeL'])\n",
    "    rouge_scores = []\n",
    "    for generated_summary, reference_summary in zip(generated_summaries, reference_summaries):\n",
    "        scores = scorer.score(generated_summary, reference_summary)\n",
    "        rouge_scores.append(scores)\n",
    "\n",
    "    # Compute BLEU score\n",
    "    bleu_score = corpus_bleu([[ref.split()] for ref in reference_summaries], [gen.split() for gen in generated_summaries], smoothing_function=SmoothingFunction().method1)\n",
    "\n",
    "    # Compute F1 score\n",
    "    f1 = f1_score(reference_summaries, generated_summaries, average='micro')  # Adjust 'average' parameter as needed\n",
    "\n",
    "\n",
    "    # Access the scores as needed\n",
    "    metrics = {\n",
    "        \"ROUGE-1 (Average)\": sum([score['rouge1'].fmeasure for score in rouge_scores]) / len(rouge_scores),\n",
    "        \"ROUGE-2 (Average)\": sum([score['rouge2'].fmeasure for score in rouge_scores]) / len(rouge_scores),\n",
    "        \"ROUGE-L (Average)\": sum([score['rougeL'].fmeasure for score in rouge_scores]) / len(rouge_scores),\n",
    "        \"BLEU Score\": bleu_score,\n",
    "        \"F1 Score\": f1\n",
    "    }\n",
    "\n",
    "    return metrics\n"
   ]
  },
  {
   "cell_type": "code",
   "execution_count": 67,
   "metadata": {},
   "outputs": [],
   "source": [
    "def simulate_answer(list_passages):\n",
    "    concatenated_string = \"\"  # Initialize the concatenated string\n",
    "    for paragraph in list_passages:\n",
    "        tokens = word_tokenize(paragraph)\n",
    "        if len(word_tokenize(concatenated_string)) + len(tokens) <= 256:\n",
    "            concatenated_string += \" \" + paragraph\n",
    "        else:\n",
    "            break  # Stop concatenating if the token count exceeds 256\n",
    "    return concatenated_string"
   ]
  },
  {
   "cell_type": "code",
   "execution_count": 69,
   "metadata": {},
   "outputs": [],
   "source": [
    "simulated_answers = []\n",
    "for result in results:\n",
    "    simulated_answers.append(simulate_answer(result['ranked_text']))"
   ]
  },
  {
   "cell_type": "code",
   "execution_count": 70,
   "metadata": {},
   "outputs": [],
   "source": [
    "answers = []\n",
    "for question in questions_for_ranking:\n",
    "    answers.append(question['Answer'])\n"
   ]
  },
  {
   "cell_type": "code",
   "execution_count": 74,
   "metadata": {},
   "outputs": [
    {
     "data": {
      "text/plain": [
       "{'ROUGE-1 (Average)': 0.2210050628582662,\n",
       " 'ROUGE-2 (Average)': 0.03229839884459878,\n",
       " 'ROUGE-L (Average)': 0.12190197605963161,\n",
       " 'BLEU Score': 0.006460203822903693,\n",
       " 'F1 Score': 0.0}"
      ]
     },
     "execution_count": 74,
     "metadata": {},
     "output_type": "execute_result"
    }
   ],
   "source": [
    "calculate_metrics(simulated_answers, answers)"
   ]
  },
  {
   "cell_type": "code",
   "execution_count": 78,
   "metadata": {},
   "outputs": [],
   "source": [
    "simulated_answers_random = []\n",
    "for result in results_random:\n",
    "    simulated_answers_random.append(simulate_answer(result['ranked_text']))"
   ]
  },
  {
   "cell_type": "code",
   "execution_count": 79,
   "metadata": {},
   "outputs": [
    {
     "data": {
      "text/plain": [
       "{'ROUGE-1 (Average)': 0.20759710174060816,\n",
       " 'ROUGE-2 (Average)': 0.020875768524162387,\n",
       " 'ROUGE-L (Average)': 0.10996939383324221,\n",
       " 'BLEU Score': 0.001466352084427344,\n",
       " 'F1 Score': 0.0}"
      ]
     },
     "execution_count": 79,
     "metadata": {},
     "output_type": "execute_result"
    }
   ],
   "source": [
    "calculate_metrics(simulated_answers_random, answers)"
   ]
  },
  {
   "cell_type": "code",
   "execution_count": 82,
   "metadata": {},
   "outputs": [],
   "source": [
    "simulated_answers_bm25 = []\n",
    "for result in results_bm25:\n",
    "    simulated_answers_bm25.append(simulate_answer(result['ranked_text']))"
   ]
  },
  {
   "cell_type": "code",
   "execution_count": 83,
   "metadata": {},
   "outputs": [
    {
     "data": {
      "text/plain": [
       "{'ROUGE-1 (Average)': 0.23626156976124588,\n",
       " 'ROUGE-2 (Average)': 0.03431376061590228,\n",
       " 'ROUGE-L (Average)': 0.1311013647953845,\n",
       " 'BLEU Score': 0.007564810923121539,\n",
       " 'F1 Score': 0.0}"
      ]
     },
     "execution_count": 83,
     "metadata": {},
     "output_type": "execute_result"
    }
   ],
   "source": [
    "calculate_metrics(simulated_answers_bm25, answers)"
   ]
  }
 ],
 "metadata": {
  "kernelspec": {
   "display_name": "base",
   "language": "python",
   "name": "python3"
  },
  "language_info": {
   "codemirror_mode": {
    "name": "ipython",
    "version": 3
   },
   "file_extension": ".py",
   "mimetype": "text/x-python",
   "name": "python",
   "nbconvert_exporter": "python",
   "pygments_lexer": "ipython3",
   "version": "3.8.5"
  },
  "orig_nbformat": 4,
  "vscode": {
   "interpreter": {
    "hash": "ea4c3bcc219a1292b0d1d9543a9b9f82ed18a35340190a3cbd50b3110bbb4e55"
   }
  }
 },
 "nbformat": 4,
 "nbformat_minor": 2
}
