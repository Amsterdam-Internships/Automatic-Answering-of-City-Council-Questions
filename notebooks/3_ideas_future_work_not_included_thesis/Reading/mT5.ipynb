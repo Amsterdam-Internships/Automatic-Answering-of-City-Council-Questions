{
 "cells": [
  {
   "cell_type": "code",
   "execution_count": null,
   "metadata": {},
   "outputs": [],
   "source": [
    "from huggingface_hub import notebook_login\n",
    "\n",
    "notebook_login()"
   ]
  },
  {
   "cell_type": "code",
   "execution_count": 1,
   "metadata": {},
   "outputs": [],
   "source": [
    "import pickle\n",
    "import pandas as pd\n",
    "import sys\n",
    "import os\n",
    "src_dir = os.path.join('/Users/natalipeeva/Documents/GitHub/Automatic-Answering-of-City-Council-Questions/', 'src')\n",
    "sys.path.append(src_dir)\n",
    "from text_generation import preprocess_ranking_results"
   ]
  },
  {
   "attachments": {},
   "cell_type": "markdown",
   "metadata": {},
   "source": [
    "# Prepare data for mT5"
   ]
  },
  {
   "cell_type": "code",
   "execution_count": null,
   "metadata": {},
   "outputs": [],
   "source": [
    "tfidf_results = preprocess_ranking_results.load_tfidf_results('/content/drive/MyDrive/AQA-Data/tfidf_results1000.pickle')\n",
    "top_1, top_5, top_10 = preprocess_ranking_results.get_top_results(tfidf_results)\n",
    "urls = preprocess_ranking_results.load_reference_urls('/content/reference_urls_collected.csv')\n",
    "content_list = preprocess_ranking_results.get_content_list(top_1, urls)\n",
    "questions = preprocess_ranking_results.load_questions('/content/drive/MyDrive/AQA-Data/questions.csv')\n",
    "answer_list = preprocess_ranking_results.get_answer_list(tfidf_results, questions)\n",
    "text_summary_df = preprocess_ranking_results.create_text_summary_df(content_list, answer_list)\n",
    "text_summary = preprocess_ranking_results.convert_to_dataset(text_summary_df)"
   ]
  },
  {
   "attachments": {},
   "cell_type": "markdown",
   "metadata": {},
   "source": [
    "# Apply mT5 Part"
   ]
  },
  {
   "cell_type": "code",
   "execution_count": null,
   "metadata": {},
   "outputs": [],
   "source": [
    "text_summary = text_summary.train_test_split(test_size=0.2, seed=42)"
   ]
  },
  {
   "attachments": {},
   "cell_type": "markdown",
   "metadata": {},
   "source": [
    "# Pre-process"
   ]
  },
  {
   "cell_type": "code",
   "execution_count": null,
   "metadata": {},
   "outputs": [],
   "source": [
    "# Pre-process\n",
    "from transformers import AutoTokenizer\n",
    "\n",
    "checkpoint = \"google/mt5-small\"\n",
    "tokenizer = AutoTokenizer.from_pretrained(checkpoint)\n",
    "\n",
    "prefix = \"summarize: \"\n",
    "\n",
    "\n",
    "def preprocess_function(examples):\n",
    "    inputs = [prefix + doc for doc in examples[\"text\"]]\n",
    "    model_inputs = tokenizer(inputs, max_length=1024, truncation=True)\n",
    "\n",
    "    labels = tokenizer(text_target=examples[\"summary\"], max_length=128, truncation=True)\n",
    "\n",
    "    model_inputs[\"labels\"] = labels[\"input_ids\"]\n",
    "    return model_inputs\n",
    "\n",
    "tokenized_summaries = text_summary.map(preprocess_function, batched=True)\n",
    "\n",
    "from transformers import DataCollatorForSeq2Seq\n",
    "\n",
    "data_collator = DataCollatorForSeq2Seq(tokenizer=tokenizer, model=checkpoint)"
   ]
  },
  {
   "attachments": {},
   "cell_type": "markdown",
   "metadata": {},
   "source": [
    "# Evaluate"
   ]
  },
  {
   "cell_type": "code",
   "execution_count": null,
   "metadata": {},
   "outputs": [],
   "source": [
    "# Evaluate\n",
    "\n",
    "import evaluate\n",
    "\n",
    "rouge = evaluate.load(\"rouge\")\n",
    "\n",
    "import numpy as np\n",
    "\n",
    "\n",
    "def compute_metrics(eval_pred):\n",
    "    predictions, labels = eval_pred\n",
    "    decoded_preds = tokenizer.batch_decode(predictions, skip_special_tokens=True)\n",
    "    labels = np.where(labels != -100, labels, tokenizer.pad_token_id)\n",
    "    decoded_labels = tokenizer.batch_decode(labels, skip_special_tokens=True)\n",
    "\n",
    "    result = rouge.compute(predictions=decoded_preds, references=decoded_labels, use_stemmer=True)\n",
    "\n",
    "    prediction_lens = [np.count_nonzero(pred != tokenizer.pad_token_id) for pred in predictions]\n",
    "    result[\"gen_len\"] = np.mean(prediction_lens)\n",
    "\n",
    "    return {k: round(v, 4) for k, v in result.items()}\n",
    "\n",
    "\n",
    "import numpy as np\n",
    "from bert_score import score as bert_score\n",
    "from rouge_score import rouge_scorer\n",
    "\n",
    "def compute_metrics(eval_pred):\n",
    "    predictions, labels = eval_pred\n",
    "    decoded_preds = tokenizer.batch_decode(predictions, skip_special_tokens=True)\n",
    "    labels = np.where(labels != -100, labels, tokenizer.pad_token_id)\n",
    "    decoded_labels = tokenizer.batch_decode(labels, skip_special_tokens=True)\n",
    "\n",
    "    # Calculate ROUGE scores\n",
    "    scorer = rouge_scorer.RougeScorer(['rouge1', 'rouge2', 'rougeL'])\n",
    "    rouge_scores = scorer.score(decoded_preds, decoded_labels)\n",
    "\n",
    "    # Calculate BERT scores\n",
    "    P, R, F1 = bert_score(decoded_preds, decoded_labels, lang='en', verbose=False)\n",
    "\n",
    "    # Calculate average prediction length\n",
    "    prediction_lens = [np.count_nonzero(pred != tokenizer.pad_token_id) for pred in predictions]\n",
    "    avg_prediction_len = np.mean(prediction_lens)\n",
    "\n",
    "    metrics = {\n",
    "        'rouge1': rouge_scores['rouge1'].fmeasure,\n",
    "        'rouge2': rouge_scores['rouge2'].fmeasure,\n",
    "        'rougeL': rouge_scores['rougeL'].fmeasure,\n",
    "        'bert_precision': P.mean().item(),\n",
    "        'bert_recall': R.mean().item(),\n",
    "        'bert_f1': F1.mean().item(),\n",
    "        'avg_prediction_len': avg_prediction_len\n",
    "    }\n",
    "\n",
    "    return metrics"
   ]
  },
  {
   "attachments": {},
   "cell_type": "markdown",
   "metadata": {},
   "source": [
    "# Train"
   ]
  },
  {
   "cell_type": "code",
   "execution_count": null,
   "metadata": {},
   "outputs": [],
   "source": [
    "# Train\n",
    "from transformers import AutoModelForSeq2SeqLM, Seq2SeqTrainingArguments, Seq2SeqTrainer\n",
    "\n",
    "model = AutoModelForSeq2SeqLM.from_pretrained(checkpoint)\n",
    "\n",
    "training_args = Seq2SeqTrainingArguments(\n",
    "    output_dir=\"qa_1000_samples\",\n",
    "    evaluation_strategy=\"epoch\",\n",
    "    learning_rate=2e-5,\n",
    "    per_device_train_batch_size=4,\n",
    "    per_device_eval_batch_size=4,\n",
    "    weight_decay=0.01,\n",
    "    save_total_limit=3,\n",
    "    num_train_epochs=5,\n",
    "    predict_with_generate=True,\n",
    "    fp16=False,\n",
    "    push_to_hub=True,\n",
    ")\n",
    "\n",
    "trainer = Seq2SeqTrainer(\n",
    "    model=model,\n",
    "    args=training_args,\n",
    "    train_dataset=tokenized_summaries[\"train\"],\n",
    "    eval_dataset=tokenized_summaries[\"test\"],\n",
    "    tokenizer=tokenizer,\n",
    "    data_collator=data_collator,\n",
    "    compute_metrics=compute_metrics,\n",
    ")\n",
    "\n",
    "#trainer.train()\n",
    "#trainer.push_to_hub()"
   ]
  },
  {
   "attachments": {},
   "cell_type": "markdown",
   "metadata": {},
   "source": [
    "# Inference"
   ]
  },
  {
   "cell_type": "code",
   "execution_count": null,
   "metadata": {},
   "outputs": [],
   "source": [
    "# Inference\n",
    "from transformers import pipeline\n",
    "\n",
    "summarizer = pipeline('summarization', model=\"natope/qa_1000_samples\", device=0)\n",
    "text_summary['test']['text']\n",
    "\n",
    "summaries = []\n",
    "for text in text_summary['test']['text']:\n",
    "  summaries.append(summarizer(text, no_repeat_ngram_size=2, min_length=50, max_length=200))\n",
    "\n",
    "\n",
    "gold_standard = text_summary['test']['summary'][:106]\n",
    "\n",
    "generated_summaries = []\n",
    "counter = 0\n",
    "for i in range(len(summaries)):\n",
    "  generated_summaries.append(summaries[counter][0]['summary_text'])\n",
    "  counter+=1"
   ]
  },
  {
   "attachments": {},
   "cell_type": "markdown",
   "metadata": {},
   "source": [
    "# Calculate scores"
   ]
  },
  {
   "cell_type": "code",
   "execution_count": null,
   "metadata": {},
   "outputs": [],
   "source": [
    "# Calculate scores\n",
    "from bert_score import score as bert_score\n",
    "from rouge_score import rouge_scorer\n",
    "from nltk.translate.bleu_score import corpus_bleu\n",
    "from sklearn.metrics import f1_score\n",
    "\n",
    "generated_summaries = generated_summaries  # List of generated summaries\n",
    "reference_summaries = gold_standard  # List of reference summaries\n",
    "\n",
    "# Convert non-string elements to strings\n",
    "generated_summaries = [str(summary) for summary in generated_summaries]\n",
    "reference_summaries = [str(summary) for summary in reference_summaries]\n",
    "\n",
    "# Compute BERT scores\n",
    "P, R, F1 = bert_score(generated_summaries, reference_summaries, lang='nl', verbose=False)\n",
    "\n",
    "# Compute ROUGE scores\n",
    "scorer = rouge_scorer.RougeScorer(['rouge1', 'rouge2', 'rougeL'])\n",
    "rouge_scores = []\n",
    "\n",
    "for generated_summary, reference_summary in zip(generated_summaries, reference_summaries):\n",
    "    scores = scorer.score(generated_summary, reference_summary)\n",
    "    rouge_scores.append(scores)\n",
    "\n",
    "# Compute BLEU score\n",
    "bleu_score = corpus_bleu([[ref.split()] for ref in reference_summaries], [gen.split() for gen in generated_summaries])\n",
    "\n",
    "# Compute F1 score\n",
    "f1 = f1_score(reference_summaries, generated_summaries, average='micro')  # Adjust 'average' parameter as needed\n",
    "\n",
    "# Access the scores as needed\n",
    "print(\"BERT Score - Precision:\", P.mean().item())\n",
    "print(\"BERT Score - Recall:\", R.mean().item())\n",
    "print(\"BERT Score - F1:\", F1.mean().item())\n",
    "\n",
    "avg_rouge1 = sum([score['rouge1'].fmeasure for score in rouge_scores]) / len(rouge_scores)\n",
    "avg_rouge2 = sum([score['rouge2'].fmeasure for score in rouge_scores]) / len(rouge_scores)\n",
    "avg_rougeL = sum([score['rougeL'].fmeasure for score in rouge_scores]) / len(rouge_scores)\n",
    "\n",
    "print(\"ROUGE-1 (Average):\", avg_rouge1)\n",
    "print(\"ROUGE-2 (Average):\", avg_rouge2)\n",
    "print(\"ROUGE-L (Average):\", avg_rougeL)\n",
    "\n",
    "print(\"BLEU Score:\", bleu_score)\n",
    "print(\"F1 Score:\", f1)"
   ]
  }
 ],
 "metadata": {
  "kernelspec": {
   "display_name": "base",
   "language": "python",
   "name": "python3"
  },
  "language_info": {
   "codemirror_mode": {
    "name": "ipython",
    "version": 3
   },
   "file_extension": ".py",
   "mimetype": "text/x-python",
   "name": "python",
   "nbconvert_exporter": "python",
   "pygments_lexer": "ipython3",
   "version": "3.8.5"
  },
  "orig_nbformat": 4,
  "vscode": {
   "interpreter": {
    "hash": "ea4c3bcc219a1292b0d1d9543a9b9f82ed18a35340190a3cbd50b3110bbb4e55"
   }
  }
 },
 "nbformat": 4,
 "nbformat_minor": 2
}
