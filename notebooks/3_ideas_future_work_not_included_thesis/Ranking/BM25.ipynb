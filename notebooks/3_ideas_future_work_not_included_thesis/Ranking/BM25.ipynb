{
 "cells": [
  {
   "cell_type": "code",
   "execution_count": 1,
   "metadata": {},
   "outputs": [
    {
     "name": "stdout",
     "output_type": "stream",
     "text": [
      "/Users/natalipeeva/Documents/GitHub/Automatic-Answering-of-City-Council-Questions\n"
     ]
    }
   ],
   "source": [
    "%cd /Users/natalipeeva/Documents/GitHub/Automatic-Answering-of-City-Council-Questions/"
   ]
  },
  {
   "attachments": {},
   "cell_type": "markdown",
   "metadata": {},
   "source": [
    "#### First run in terminal:\n",
    "docker run --rm -p 9200:9200 -p 9300:9300 -e \"xpack.security.enabled=false\" -e \"discovery.type=single-node\" docker.elastic.co/elasticsearch/elasticsearch:8.7.0"
   ]
  },
  {
   "cell_type": "code",
   "execution_count": 2,
   "metadata": {},
   "outputs": [],
   "source": [
    "import sys\n",
    "import os\n",
    "src_dir = os.path.join(os.getcwd(), 'src')\n",
    "sys.path.append(src_dir)\n",
    "\n",
    "from read_data.read_data import read_urls_questions, get_questions, get_url_content_tuples, get_relevant_docs\n",
    "from elasticsearch import Elasticsearch\n",
    "from retrieval.sparse_retrieval.bm25 import set_index, get_result_tuples"
   ]
  },
  {
   "cell_type": "code",
   "execution_count": 3,
   "metadata": {},
   "outputs": [],
   "source": [
    "es_client = Elasticsearch(\"http://localhost:9200\")"
   ]
  },
  {
   "cell_type": "code",
   "execution_count": 4,
   "metadata": {},
   "outputs": [],
   "source": [
    "#es_client.info().body"
   ]
  },
  {
   "cell_type": "code",
   "execution_count": 16,
   "metadata": {},
   "outputs": [],
   "source": [
    "collected, questions =  read_urls_questions(os.path.join('data/reference_urls/reference_urls_collected.csv'),\n",
    "                                            os.path.join('data/question_answer/questions_updated_urls.csv'),\n",
    "                                            clean_url_nan=True) # read collected urls and questions + remove unsuccessful collection"
   ]
  },
  {
   "cell_type": "code",
   "execution_count": 17,
   "metadata": {},
   "outputs": [],
   "source": [
    "col_urls = set(list(collected['URL'])) # check how many common items i have - unfortunately only 20\n",
    "list_of_lists= list(questions['Cleaned_URLs'])\n",
    "flattened_list = [item for sublist in list_of_lists for item in sublist]\n",
    "# Assuming your two lists are named 'list1' and 'list2'\n",
    "common_items = set(col_urls).intersection(flattened_list)"
   ]
  },
  {
   "cell_type": "code",
   "execution_count": 18,
   "metadata": {},
   "outputs": [
    {
     "data": {
      "text/plain": [
       "113"
      ]
     },
     "execution_count": 18,
     "metadata": {},
     "output_type": "execute_result"
    }
   ],
   "source": [
    "len(common_items)"
   ]
  },
  {
   "cell_type": "code",
   "execution_count": 19,
   "metadata": {},
   "outputs": [],
   "source": [
    "filtered_questions2 = questions[questions['URLs'].apply(lambda urls: any(url in urls for url in common_items))]"
   ]
  },
  {
   "cell_type": "code",
   "execution_count": 153,
   "metadata": {},
   "outputs": [],
   "source": [
    "df_filtered = questions[~questions['URLs'].apply(lambda urls: any(url.startswith(\"https://www.rijksoverheid.nl/\") for url in urls))]"
   ]
  },
  {
   "cell_type": "code",
   "execution_count": 154,
   "metadata": {},
   "outputs": [],
   "source": [
    "question_list = get_questions(df_filtered)\n",
    "document_list = get_url_content_tuples(collected)\n",
    "mappings = {\n",
    "        \"properties\": {\n",
    "            \"url\": {\"type\": \"text\"},\n",
    "            \"text\": {\"type\": \"text\", \"analyzer\": \"standard\", \"similarity\": \"BM25\"}\n",
    "    }\n",
    "}"
   ]
  },
  {
   "cell_type": "code",
   "execution_count": 21,
   "metadata": {},
   "outputs": [],
   "source": [
    "es_client = set_index(es_client=es_client, collected=collected, mappings=mappings) # 48 secs\n"
   ]
  },
  {
   "cell_type": "code",
   "execution_count": 172,
   "metadata": {},
   "outputs": [],
   "source": [
    "results = get_result_tuples(es_client=es_client, questions=question_list, n=100)"
   ]
  },
  {
   "cell_type": "code",
   "execution_count": 173,
   "metadata": {},
   "outputs": [],
   "source": [
    "from retrieval.evaluation.evaluate import calculate_recall_at_k, calculate_average_recall"
   ]
  },
  {
   "cell_type": "code",
   "execution_count": 174,
   "metadata": {},
   "outputs": [],
   "source": [
    "from irmetrics.topk import recall"
   ]
  },
  {
   "cell_type": "code",
   "execution_count": 175,
   "metadata": {},
   "outputs": [],
   "source": [
    "def recall_k(results, relevant_docs, k):\n",
    "    \"\"\"\n",
    "    Compute Recall@K\n",
    "    Input:\n",
    "        results: A sorted list of tuples (document_id, score), with the most relevant document in the first position\n",
    "        relevant_docs: A set of relevant documents.\n",
    "        k: the cut-off\n",
    "    Output: Recall@K\n",
    "    \"\"\"\n",
    "    # Get unique document IDs from the results and relevant_docs\n",
    "    unique_results = list(set(result[0] for result in results))\n",
    "    unique_relevant_docs = list(set(relevant_docs))\n",
    "\n",
    "    if k > len(unique_results):\n",
    "        k = len(unique_results)\n",
    "\n",
    "    relevant_count = 0\n",
    "    for i in range(k):\n",
    "        if unique_results[i] in unique_relevant_docs:  # Check if result is in relevant\n",
    "            relevant_count += 1\n",
    "\n",
    "    k_recall = float(relevant_count) / float(len(unique_relevant_docs))\n",
    "\n",
    "    return k_recall\n",
    "\n",
    "def get_k_urls(bm25_results):\n",
    "    urls = []\n",
    "    counter = 1\n",
    "    for result in bm25_results:\n",
    "\n",
    "        urls.append((result['url'], result['score']))\n",
    "        counter+=1\n",
    "    return urls\n",
    "\n",
    "def calculate_recall_at_k(queries, search_results, relevant_docs, k_values, ranking_method):\n",
    "    \"\"\"\n",
    "    Calculate Recall@K for a list of queries and specified values of k.\n",
    "    Input:\n",
    "        queries - a list of queries\n",
    "        collection: a list of tuples (document_id, document_content)\n",
    "        relevant_docs: a dictionary where the key is the query and the value is a set of relevant document IDs\n",
    "        k_values: a list of k values for recall calculation\n",
    "    Output: a dictionary where the key is the query and the value is a dictionary of recall values at each k\n",
    "    \"\"\"\n",
    "    recall_results = {}\n",
    "\n",
    "    for query in queries:\n",
    "        if ranking_method=='bm25':\n",
    "            results = get_k_urls(search_results[query][1])\n",
    "        elif ranking_method=='tf-idf':\n",
    "            results = search_results[query]\n",
    "        relevant = relevant_docs[query]\n",
    "\n",
    "        recall_values = {}\n",
    "        for k in k_values:\n",
    "            recall_ = recall(list(set(results)), list(set(relevant)), k=k)\n",
    "            recall_values[k] = recall_\n",
    "\n",
    "        recall_results[query] = recall_values\n",
    "\n",
    "    return recall_results\n",
    "\n",
    "\n",
    "def calculate_average_recall(recall_results):\n",
    "    \"\"\"\n",
    "    Calculate the average recall values per recall type from a dictionary of recall values.\n",
    "    Input:\n",
    "        recall_results: a dictionary where the key is the query and the value is a dictionary of recall values at each k\n",
    "    Output: a dictionary where the key is the recall type and the value is the average recall value\n",
    "    \"\"\"\n",
    "    average_recall = {}\n",
    "\n",
    "    for query_recall in recall_results.values():\n",
    "        for k, recall_ in query_recall.items():\n",
    "            if k not in average_recall:\n",
    "                average_recall[k] = 0.0\n",
    "            average_recall[k] += recall_\n",
    "\n",
    "    query_count = len(recall_results)\n",
    "    for k in average_recall:\n",
    "        average_recall[k] /= query_count\n",
    "\n",
    "    return average_recall"
   ]
  },
  {
   "cell_type": "code",
   "execution_count": 176,
   "metadata": {},
   "outputs": [],
   "source": [
    "relevant_docs = get_relevant_docs(questions)"
   ]
  },
  {
   "cell_type": "code",
   "execution_count": 177,
   "metadata": {},
   "outputs": [
    {
     "ename": "ValueError",
     "evalue": "operands could not be broadcast together with shapes (74,) (77,) (74,) ",
     "output_type": "error",
     "traceback": [
      "\u001b[0;31m---------------------------------------------------------------------------\u001b[0m",
      "\u001b[0;31mValueError\u001b[0m                                Traceback (most recent call last)",
      "\u001b[0;32m<ipython-input-177-c0a0c689fa84>\u001b[0m in \u001b[0;36m<module>\u001b[0;34m\u001b[0m\n\u001b[1;32m      1\u001b[0m \u001b[0mrelevant_docs\u001b[0m \u001b[0;34m=\u001b[0m \u001b[0mget_relevant_docs\u001b[0m\u001b[0;34m(\u001b[0m\u001b[0mquestions\u001b[0m\u001b[0;34m)\u001b[0m\u001b[0;34m\u001b[0m\u001b[0;34m\u001b[0m\u001b[0m\n\u001b[1;32m      2\u001b[0m \u001b[0mrecalls\u001b[0m \u001b[0;34m=\u001b[0m \u001b[0mcalculate_recall_at_k\u001b[0m\u001b[0;34m(\u001b[0m\u001b[0mquestion_list\u001b[0m\u001b[0;34m,\u001b[0m \u001b[0mresults\u001b[0m\u001b[0;34m,\u001b[0m \u001b[0mrelevant_docs\u001b[0m\u001b[0;34m,\u001b[0m \u001b[0;34m[\u001b[0m\u001b[0;36m1\u001b[0m\u001b[0;34m,\u001b[0m \u001b[0;36m5\u001b[0m\u001b[0;34m,\u001b[0m \u001b[0;36m10\u001b[0m\u001b[0;34m,\u001b[0m \u001b[0;36m15\u001b[0m\u001b[0;34m]\u001b[0m\u001b[0;34m,\u001b[0m \u001b[0;34m'bm25'\u001b[0m\u001b[0;34m)\u001b[0m \u001b[0;31m# think of a metric similarity recall?\u001b[0m\u001b[0;34m\u001b[0m\u001b[0;34m\u001b[0m\u001b[0m\n\u001b[0;32m----> 3\u001b[0;31m \u001b[0mcalculate_average_recall\u001b[0m\u001b[0;34m(\u001b[0m\u001b[0mrecalls\u001b[0m\u001b[0;34m)\u001b[0m\u001b[0;34m\u001b[0m\u001b[0;34m\u001b[0m\u001b[0m\n\u001b[0m",
      "\u001b[0;32m<ipython-input-175-7e9bdd849034>\u001b[0m in \u001b[0;36mcalculate_average_recall\u001b[0;34m(recall_results)\u001b[0m\n\u001b[1;32m     75\u001b[0m             \u001b[0;32mif\u001b[0m \u001b[0mk\u001b[0m \u001b[0;32mnot\u001b[0m \u001b[0;32min\u001b[0m \u001b[0maverage_recall\u001b[0m\u001b[0;34m:\u001b[0m\u001b[0;34m\u001b[0m\u001b[0;34m\u001b[0m\u001b[0m\n\u001b[1;32m     76\u001b[0m                 \u001b[0maverage_recall\u001b[0m\u001b[0;34m[\u001b[0m\u001b[0mk\u001b[0m\u001b[0;34m]\u001b[0m \u001b[0;34m=\u001b[0m \u001b[0;36m0.0\u001b[0m\u001b[0;34m\u001b[0m\u001b[0;34m\u001b[0m\u001b[0m\n\u001b[0;32m---> 77\u001b[0;31m             \u001b[0maverage_recall\u001b[0m\u001b[0;34m[\u001b[0m\u001b[0mk\u001b[0m\u001b[0;34m]\u001b[0m \u001b[0;34m+=\u001b[0m \u001b[0mrecall_\u001b[0m\u001b[0;34m\u001b[0m\u001b[0;34m\u001b[0m\u001b[0m\n\u001b[0m\u001b[1;32m     78\u001b[0m \u001b[0;34m\u001b[0m\u001b[0m\n\u001b[1;32m     79\u001b[0m     \u001b[0mquery_count\u001b[0m \u001b[0;34m=\u001b[0m \u001b[0mlen\u001b[0m\u001b[0;34m(\u001b[0m\u001b[0mrecall_results\u001b[0m\u001b[0;34m)\u001b[0m\u001b[0;34m\u001b[0m\u001b[0;34m\u001b[0m\u001b[0m\n",
      "\u001b[0;31mValueError\u001b[0m: operands could not be broadcast together with shapes (74,) (77,) (74,) "
     ]
    }
   ],
   "source": [
    "relevant_docs = get_relevant_docs(questions)\n",
    "recalls = calculate_recall_at_k(question_list, results, relevant_docs, [1, 5, 10, 15], 'bm25') # think of a metric similarity recall? \n",
    "calculate_average_recall(recalls)"
   ]
  },
  {
   "cell_type": "code",
   "execution_count": 29,
   "metadata": {},
   "outputs": [
    {
     "name": "stdout",
     "output_type": "stream",
     "text": [
      "Collecting ir-metrics\n",
      "  Downloading ir_metrics-0.1.6-py3-none-any.whl (9.6 kB)\n",
      "Requirement already satisfied: numpy in /Users/natalipeeva/opt/anaconda3/lib/python3.8/site-packages (from ir-metrics) (1.24.2)\n",
      "Installing collected packages: ir-metrics\n",
      "Successfully installed ir-metrics-0.1.6\n"
     ]
    }
   ],
   "source": [
    "! pip install ir-metrics"
   ]
  },
  {
   "cell_type": "code",
   "execution_count": 30,
   "metadata": {},
   "outputs": [],
   "source": [
    "from irmetrics.topk import recall"
   ]
  },
  {
   "cell_type": "code",
   "execution_count": 178,
   "metadata": {},
   "outputs": [],
   "source": [
    "predictions = []\n",
    "for question in results.keys():\n",
    "    urls = []\n",
    "    for result in results[question][1]:\n",
    "        urls.append(result['url'])\n",
    "    predictions.append(list(set(urls)))"
   ]
  },
  {
   "cell_type": "code",
   "execution_count": 179,
   "metadata": {},
   "outputs": [],
   "source": [
    "true = []\n",
    "for question in relevant_docs.keys():\n",
    "    true.append(list(set(relevant_docs[question])))"
   ]
  },
  {
   "cell_type": "code",
   "execution_count": 180,
   "metadata": {},
   "outputs": [
    {
     "name": "stdout",
     "output_type": "stream",
     "text": [
      "Average Mean Reciprocal Rank: 0.031638071895424835\n"
     ]
    }
   ],
   "source": [
    "import numpy as np\n",
    "from irmetrics.topk import rr\n",
    "\n",
    "# Calculate the Mean Reciprocal Rank for each question\n",
    "mrr_values = []\n",
    "for i in range(len(predictions)):\n",
    "    true_values = true[i]\n",
    "    mrr = rr(true_values, predictions[i], k =10)\n",
    "    mrr_values.append(mrr)\n",
    "\n",
    "# Calculate the average Mean Reciprocal Rank\n",
    "average_mrr = np.mean(mrr_values)\n",
    "\n",
    "print(\"Average Mean Reciprocal Rank:\", average_mrr)\n"
   ]
  },
  {
   "cell_type": "code",
   "execution_count": 186,
   "metadata": {},
   "outputs": [
    {
     "name": "stdout",
     "output_type": "stream",
     "text": [
      "Average Mean Reciprocal Rank: 0.0661764705882353\n"
     ]
    }
   ],
   "source": [
    "import numpy as np\n",
    "from irmetrics.topk import recall\n",
    "\n",
    "# Calculate the Mean Reciprocal Rank for each question\n",
    "mrr_values = []\n",
    "for i in range(len(predictions)):\n",
    "    true_values = true[i]\n",
    "    mrr = recall(true_values, predictions[i], k=5)\n",
    "    mrr_values.append(mrr)\n",
    "\n",
    "# Calculate the average Mean Reciprocal Rank\n",
    "average_recall = np.mean(mrr_values)\n",
    "\n",
    "print(\"Average Mean Reciprocal Rank:\", average_recall)"
   ]
  },
  {
   "cell_type": "code",
   "execution_count": 182,
   "metadata": {},
   "outputs": [
    {
     "name": "stdout",
     "output_type": "stream",
     "text": [
      "Average Mean Reciprocal Rank: 0.012499999999999999\n"
     ]
    }
   ],
   "source": [
    "import numpy as np\n",
    "from irmetrics.topk import precision\n",
    "\n",
    "\n",
    "# Calculate the Mean Reciprocal Rank for each question\n",
    "mrr_values = []\n",
    "for i in range(len(predictions)):\n",
    "    true_values = true[i]\n",
    "    mrr = precision(true_values, predictions[i], k=10)\n",
    "    mrr_values.append(mrr)\n",
    "\n",
    "# Calculate the average Mean Reciprocal Rank\n",
    "average_recall = np.mean(mrr_values)\n",
    "\n",
    "print(\"Average Mean Reciprocal Rank:\", average_recall)"
   ]
  },
  {
   "cell_type": "code",
   "execution_count": 94,
   "metadata": {},
   "outputs": [
    {
     "ename": "ValueError",
     "evalue": "setting an array element with a sequence. The requested array has an inhomogeneous shape after 1 dimensions. The detected shape was (136,) + inhomogeneous part.",
     "output_type": "error",
     "traceback": [
      "\u001b[0;31m---------------------------------------------------------------------------\u001b[0m",
      "\u001b[0;31mValueError\u001b[0m                                Traceback (most recent call last)",
      "\u001b[0;32m<ipython-input-94-10e351f70f29>\u001b[0m in \u001b[0;36m<module>\u001b[0;34m\u001b[0m\n\u001b[0;32m----> 1\u001b[0;31m \u001b[0mrecall\u001b[0m\u001b[0;34m(\u001b[0m\u001b[0mpredictions\u001b[0m\u001b[0;34m,\u001b[0m \u001b[0mtrue\u001b[0m\u001b[0;34m,\u001b[0m \u001b[0mk\u001b[0m\u001b[0;34m=\u001b[0m\u001b[0;36m10\u001b[0m\u001b[0;34m)\u001b[0m\u001b[0;34m.\u001b[0m\u001b[0mmean\u001b[0m\u001b[0;34m(\u001b[0m\u001b[0;34m)\u001b[0m\u001b[0;34m\u001b[0m\u001b[0;34m\u001b[0m\u001b[0m\n\u001b[0m",
      "\u001b[0;32m~/opt/anaconda3/lib/python3.8/site-packages/irmetrics/io.py\u001b[0m in \u001b[0;36mwrapper\u001b[0;34m(y_true, y_pred, k, relevance, **kwargs)\u001b[0m\n\u001b[1;32m     48\u001b[0m     \u001b[0;32mdef\u001b[0m \u001b[0mwrapper\u001b[0m\u001b[0;34m(\u001b[0m\u001b[0my_true\u001b[0m\u001b[0;34m,\u001b[0m \u001b[0my_pred\u001b[0m\u001b[0;34m,\u001b[0m \u001b[0mk\u001b[0m\u001b[0;34m=\u001b[0m\u001b[0;32mNone\u001b[0m\u001b[0;34m,\u001b[0m \u001b[0mrelevance\u001b[0m\u001b[0;34m=\u001b[0m\u001b[0mmultilabel\u001b[0m\u001b[0;34m,\u001b[0m \u001b[0;34m**\u001b[0m\u001b[0mkwargs\u001b[0m\u001b[0;34m)\u001b[0m\u001b[0;34m:\u001b[0m\u001b[0;34m\u001b[0m\u001b[0;34m\u001b[0m\u001b[0m\n\u001b[1;32m     49\u001b[0m         \u001b[0;31m# Ensure (n_samples, n_labels) shapes for the inputs\u001b[0m\u001b[0;34m\u001b[0m\u001b[0;34m\u001b[0m\u001b[0;34m\u001b[0m\u001b[0m\n\u001b[0;32m---> 50\u001b[0;31m         \u001b[0my_true_\u001b[0m\u001b[0;34m,\u001b[0m \u001b[0my_pred_\u001b[0m \u001b[0;34m=\u001b[0m \u001b[0mensure_inputs\u001b[0m\u001b[0;34m(\u001b[0m\u001b[0my_true\u001b[0m\u001b[0;34m,\u001b[0m \u001b[0my_pred\u001b[0m\u001b[0;34m,\u001b[0m \u001b[0mk\u001b[0m\u001b[0;34m)\u001b[0m\u001b[0;34m\u001b[0m\u001b[0;34m\u001b[0m\u001b[0m\n\u001b[0m\u001b[1;32m     51\u001b[0m \u001b[0;34m\u001b[0m\u001b[0m\n\u001b[1;32m     52\u001b[0m         \u001b[0;31m# Calculate the measure\u001b[0m\u001b[0;34m\u001b[0m\u001b[0;34m\u001b[0m\u001b[0;34m\u001b[0m\u001b[0m\n",
      "\u001b[0;32m~/opt/anaconda3/lib/python3.8/site-packages/irmetrics/io.py\u001b[0m in \u001b[0;36mensure_inputs\u001b[0;34m(y_true, y_pred, k)\u001b[0m\n\u001b[1;32m     13\u001b[0m \u001b[0;34m\u001b[0m\u001b[0m\n\u001b[1;32m     14\u001b[0m \u001b[0;32mdef\u001b[0m \u001b[0mensure_inputs\u001b[0m\u001b[0;34m(\u001b[0m\u001b[0my_true\u001b[0m\u001b[0;34m,\u001b[0m \u001b[0my_pred\u001b[0m\u001b[0;34m,\u001b[0m \u001b[0mk\u001b[0m\u001b[0;34m=\u001b[0m\u001b[0;32mNone\u001b[0m\u001b[0;34m)\u001b[0m\u001b[0;34m:\u001b[0m\u001b[0;34m\u001b[0m\u001b[0;34m\u001b[0m\u001b[0m\n\u001b[0;32m---> 15\u001b[0;31m     \u001b[0my_true\u001b[0m\u001b[0;34m,\u001b[0m \u001b[0my_pred\u001b[0m \u001b[0;34m=\u001b[0m \u001b[0mnp\u001b[0m\u001b[0;34m.\u001b[0m\u001b[0matleast_2d\u001b[0m\u001b[0;34m(\u001b[0m\u001b[0my_true\u001b[0m\u001b[0;34m,\u001b[0m \u001b[0my_pred\u001b[0m\u001b[0;34m)\u001b[0m\u001b[0;34m\u001b[0m\u001b[0;34m\u001b[0m\u001b[0m\n\u001b[0m\u001b[1;32m     16\u001b[0m \u001b[0;34m\u001b[0m\u001b[0m\n\u001b[1;32m     17\u001b[0m     \u001b[0;31m# `np.atleast_2d` adds a new axis as a batch dimension\u001b[0m\u001b[0;34m\u001b[0m\u001b[0;34m\u001b[0m\u001b[0;34m\u001b[0m\u001b[0m\n",
      "\u001b[0;32m~/opt/anaconda3/lib/python3.8/site-packages/numpy/core/overrides.py\u001b[0m in \u001b[0;36matleast_2d\u001b[0;34m(*args, **kwargs)\u001b[0m\n",
      "\u001b[0;32m~/opt/anaconda3/lib/python3.8/site-packages/numpy/core/shape_base.py\u001b[0m in \u001b[0;36matleast_2d\u001b[0;34m(*arys)\u001b[0m\n\u001b[1;32m    119\u001b[0m     \u001b[0mres\u001b[0m \u001b[0;34m=\u001b[0m \u001b[0;34m[\u001b[0m\u001b[0;34m]\u001b[0m\u001b[0;34m\u001b[0m\u001b[0;34m\u001b[0m\u001b[0m\n\u001b[1;32m    120\u001b[0m     \u001b[0;32mfor\u001b[0m \u001b[0mary\u001b[0m \u001b[0;32min\u001b[0m \u001b[0marys\u001b[0m\u001b[0;34m:\u001b[0m\u001b[0;34m\u001b[0m\u001b[0;34m\u001b[0m\u001b[0m\n\u001b[0;32m--> 121\u001b[0;31m         \u001b[0mary\u001b[0m \u001b[0;34m=\u001b[0m \u001b[0masanyarray\u001b[0m\u001b[0;34m(\u001b[0m\u001b[0mary\u001b[0m\u001b[0;34m)\u001b[0m\u001b[0;34m\u001b[0m\u001b[0;34m\u001b[0m\u001b[0m\n\u001b[0m\u001b[1;32m    122\u001b[0m         \u001b[0;32mif\u001b[0m \u001b[0mary\u001b[0m\u001b[0;34m.\u001b[0m\u001b[0mndim\u001b[0m \u001b[0;34m==\u001b[0m \u001b[0;36m0\u001b[0m\u001b[0;34m:\u001b[0m\u001b[0;34m\u001b[0m\u001b[0;34m\u001b[0m\u001b[0m\n\u001b[1;32m    123\u001b[0m             \u001b[0mresult\u001b[0m \u001b[0;34m=\u001b[0m \u001b[0mary\u001b[0m\u001b[0;34m.\u001b[0m\u001b[0mreshape\u001b[0m\u001b[0;34m(\u001b[0m\u001b[0;36m1\u001b[0m\u001b[0;34m,\u001b[0m \u001b[0;36m1\u001b[0m\u001b[0;34m)\u001b[0m\u001b[0;34m\u001b[0m\u001b[0;34m\u001b[0m\u001b[0m\n",
      "\u001b[0;31mValueError\u001b[0m: setting an array element with a sequence. The requested array has an inhomogeneous shape after 1 dimensions. The detected shape was (136,) + inhomogeneous part."
     ]
    }
   ],
   "source": [
    "recall(predictions, true, k=10).mean()"
   ]
  },
  {
   "cell_type": "code",
   "execution_count": 68,
   "metadata": {},
   "outputs": [
    {
     "data": {
      "text/plain": [
       "['https://www.amsterdam.nl/publish/pages/931968/raadsbrief_positief_perspectief_-_weerbaar_opgroeien_in_amsterdam.pdf',\n",
       " 'https://www.rijksoverheid.nl/onderwerpen/veilig-leren-en-werken-in-het-onderwijs/veiligheid-op-school',\n",
       " 'https://www.rijksoverheid.nl/documenten/kamerstukken/2021/11/02/antwoorden-kamervragen-over-het-analyseren-van-data-van-de-proco-app',\n",
       " 'https://www.ggd.amsterdam.nl/gezond-wonen/zwemmen-open-water/',\n",
       " 'https://www.rijksoverheid.nl/actueel/nieuws/2021/09/16/hulpteams-bij-het-vinden-van-werk-overal-in-het-land-van-start',\n",
       " 'https://www.rijksoverheid.nl/documenten/kamerstukken/2021/05/11/antwoorden-kamervragen-van-het-lid-kathmann-pvda-over-sancties-voor-racisme-en-discriminatie-binnen-de-politie',\n",
       " 'https://www.rijksoverheid.nl/actueel/nieuws/2022/07/08/verbod-op-ongerichte-gokreclames-en-sponsoring',\n",
       " 'https://www.amsterdam.nl/veelgevraagd/?caseid=%7BD6E280FB-4A76-40A0-9B88-12B87E446FA6%7D',\n",
       " 'https://www.amsterdam.nl/sociaaldomein/zorg-jeugd/artikelen/specialistische-jeugdhulp-speciaal/',\n",
       " 'https://www.rivm.nl/sites/default/files/2021-08/Factsheet-windturbines.pdf']"
      ]
     },
     "execution_count": 68,
     "metadata": {},
     "output_type": "execute_result"
    }
   ],
   "source": [
    "urls"
   ]
  },
  {
   "cell_type": "code",
   "execution_count": 71,
   "metadata": {},
   "outputs": [
    {
     "data": {
      "text/plain": [
       "'\\n \\n1. Is het college het met de fractie van GroenLinks eens dat de grote hoeveelheid aan \\ngokreclame het risico op problematisch gokgedrag en risico op verslaving vergroot?  \\n \\n'"
      ]
     },
     "execution_count": 71,
     "metadata": {},
     "output_type": "execute_result"
    }
   ],
   "source": [
    "list(results.keys())[5]"
   ]
  },
  {
   "cell_type": "code",
   "execution_count": 70,
   "metadata": {},
   "outputs": [
    {
     "data": {
      "text/plain": [
       "'\\n \\n1. Is het college het met de fractie van GroenLinks eens dat de grote hoeveelheid aan \\ngokreclame het risico op problematisch gokgedrag en risico op verslaving vergroot?  \\n \\n'"
      ]
     },
     "execution_count": 70,
     "metadata": {},
     "output_type": "execute_result"
    }
   ],
   "source": [
    "question_list[5]"
   ]
  },
  {
   "cell_type": "code",
   "execution_count": 69,
   "metadata": {},
   "outputs": [
    {
     "data": {
      "text/plain": [
       "['https://www.rijksoverheid.nl/actueel/nieuws/2022/07/08/verbod-op-ongerichte-gokreclames-en-sponsoring']"
      ]
     },
     "execution_count": 69,
     "metadata": {},
     "output_type": "execute_result"
    }
   ],
   "source": [
    "relevant_docs[question_list[5]]"
   ]
  },
  {
   "cell_type": "code",
   "execution_count": 55,
   "metadata": {},
   "outputs": [
    {
     "data": {
      "text/plain": [
       "'\\n7.\\nKan het college de reeds bestaande zwemplekken in Amsterdam en de directe \\nomgeving, die zich op fietsafstand bevinden, beter communiceren zodat mensen \\nweten waar ze allemaal heen kunnen op de fiets om te zwemmen?\\n'"
      ]
     },
     "execution_count": 55,
     "metadata": {},
     "output_type": "execute_result"
    }
   ],
   "source": [
    "list(results.keys())[1]"
   ]
  },
  {
   "cell_type": "code",
   "execution_count": 73,
   "metadata": {},
   "outputs": [
    {
     "data": {
      "text/plain": [
       "{'https://www.rijksoverheid.nl/actueel/nieuws/2022/07/08/verbod-op-ongerichte-gokreclames-en-sponsoring'}"
      ]
     },
     "execution_count": 73,
     "metadata": {},
     "output_type": "execute_result"
    }
   ],
   "source": [
    "set(relevant_docs[question_list[5]])"
   ]
  },
  {
   "cell_type": "code",
   "execution_count": 83,
   "metadata": {},
   "outputs": [
    {
     "data": {
      "text/plain": [
       "1.0"
      ]
     },
     "execution_count": 83,
     "metadata": {},
     "output_type": "execute_result"
    }
   ],
   "source": [
    "recall(list(set(relevant_docs[question_list[5]])), list(set(urls)), k=10)"
   ]
  },
  {
   "cell_type": "code",
   "execution_count": 43,
   "metadata": {},
   "outputs": [
    {
     "data": {
      "text/plain": [
       "{'url': 'https://www.rivm.nl/mpox-apenpokken',\n",
       " 'text': '\\n\\n\\n\\n\\n\\n\\n\\n\\n\\n\\n\\n\\n\\n\\n\\nMpox (apenpokken) | RIVM\\n\\n\\n\\n\\n\\n\\n\\n\\n\\n\\n\\nOverslaan en naar de inhoud gaan\\nDirect naar de hoofdnavigatie\\n\\n\\n\\n\\n\\n \\n \\nRijksinstituut voor Volksgezondheiden Milieu\\nMinisterie van Volksgezondheid,Welzijn en Sport\\n\\n\\n\\n\\n\\n\\n\\n\\nNederlands\\n\\n\\nEnglish\\n\\n\\n\\n\\n\\n\\n\\nRIVM De zorg voor morgen begint vandaag \\n          \\n\\n\\n\\n\\n\\n\\nMenuMenu ingeklapt\\n\\n\\n\\n\\nHome\\n\\n\\nOnderwerpen\\n\\n\\nOver RIVM\\n\\n\\nPublicaties\\n\\n\\nInternationaal\\n\\n\\nContact\\n\\n\\nAgenda\\n\\n\\n\\n\\nNederlands\\n\\n\\nEnglish\\n\\n\\n\\nZoekformulier ingeklapt\\n\\n\\n\\n\\n\\n\\nZoeken\\n\\n\\n\\n\\n\\nZoeken\\n\\n\\n\\n\\n\\n\\n\\n\\n\\n\\n\\n\\n\\nHome\\n\\n\\n              Mpox (apenpokken)\\n          \\n\\n Mpox (apenpokken)\\n\\n\\n\\n\\n\\n\\n\\n\\n\\n\\n\\n\\n\\n\\n\\n× In dit onderwerp Menu\\n\\n\\n\\n\\n\\n\\n\\nVaccinatie \\n\\n\\nPrivacy\\n\\n\\n\\n\\nVaccin\\n\\n\\nVeelgestelde vragen\\n\\n\\n\\n\\n\\n\\n\\n\\n\\n\\nScience Photo Library / ANP\\n\\n\\n\\n\\n  Mpox, vaak apenpokken of apenpokkenvirus genoemd, is een virusinfectie \\n\\n\\n\\n\\n\\n\\n\\n\\n\\n\\n\\n\\n\\n\\n\\n\\n\\n\\n\\n\\n\\n\\n\\n\\n\\n\\n\\n\\n\\nVaccinatie \\n\\n\\nPrivacy\\n\\n\\n\\n\\nVaccin\\n\\n\\nVeelgestelde vragen\\n\\n\\n\\n\\n\\nIn dit onderwerp Menu\\n\\nWijzigingsdatum 31-05-2023 | 14:51\\n\\nMpox is een ziekte die vooral voorkomt in West-Afrika en Midden-Afrika. In het voorjaar van 2022 werd de ziekte bij mensen in Europa vastgesteld die geen directe link met de gebieden in Afrika hadden. De ziekte verspreidde zich daarna door Europa, Noord-Amerika en andere gebieden waar de ziekte van oorsprong niet voorkomt. Na een piek in de zomer van 2022, nam het aantal meldingen in het najaar van 2022 sterk af.\\n\\n\\n\\n\\nMonkeypox heet voortaan mpox\\nDe wereldgezondheidsorganisatie WHO World Health Organization\\n (World Health Organization\\n) maakte eind november 2022 een nieuwe naam bekend voor de infectieziekte monkeypox (apenpokken).\\xa0De reden hiervoor is dat de oorspronkelijke naam in veel landen over de hele wereld leidde tot racistische en stigmatiserende uitingen. Daarom kwam de WHO met de nieuwe, neutrale, naam: mpox.\\nWat is mpox (apenpokken)?\\nMpox, ook wel apenpokken genoemd, is een virusinfectie die oorspronkelijk vooral in West- en Midden-Afrika voorkwam. Soms komt er een reiziger uit die regio naar Europa met deze ziekte. Het is een ziekte die van dier op mens kan overgaan (zoönose). In Afrika wordt mpox vooral overgebracht door knaagdieren. De ziekte verloopt bij mensen meestal mild, al kunnen de pokken zorgen voor veel pijn en blijvende littekens. Op Aruba, Bonaire, Curaçao en Suriname wordt de naam apenpokken vaak gebruikt voor de ziekte krentenbaard.\\nInfecties met mpox\\nIn Nederland is bij 1264 mensen monkeypox (apenpokken) vastgesteld (tot 12 mei 2023). Medio juni\\xa0 volgt de volgende update.\\n\\n\\n\\n\\nMeldingen mpox\\nSla de grafiek Meldingen apenpokken over en ga naar de datatabel\\n\\nEr zit een vertraging van enkele dagen tussen wanneer een persoon voor het eerst symptomen van monkeypox vertoont (de eerste ziektedag) en de datum dat deze persoon gemeld wordt bij de GGD Gemeentelijke Gezondheidsdienst (Gemeentelijke Gezondheidsdienst). Er zijn daarom meestal geen meldingen van personen met een eerste ziektedag vlak voor de laatste update van de data.\\n\\n\\n\\n\\n\\nSymptomen van mpox (apenpokken)\\nDe verschijnselen van een besmetting met mpox lijken op die van een besmetting met pokken, maar mpox verloopt in het algemeen veel milder. Het belangrijkste symptoom is de huiduitslag die eruit kan zien als rode vlekken, bultjes of blaasjes. Deze pokken kunnen pijnlijk zijn. Na het indrogen van de pokken blijven korsten over die na 2-3 weken van de huid afvallen. Het is mogelijk dat pokken littekens achterlaten op de huid.\\nMeer algemene klachten bij mpox zijn:\\xa0\\nkoorts\\nhoofdpijn\\nspierpijn\\ngezwollen lymfeklieren\\xa0\\nrillingen\\nmoeheid\\nBij sommige mensen begint mpox met algemene klachten en krijgen zij daarna pokken, bij anderen is het andersom. In de uitbraak van 2022 zagen we bij een aantal patiënten proctitis, een pijnlijke ontsteking van het slijmvlies van de endeldarm (het laatste deel van de darm). Soms is proctitis de enige klacht.\\xa0\\n\\n\\n\\n\\nHoe zien mpox (apenpokken) eruit\\n\\n\\n\\nFase 1\\n\\n\\n\\n\\n\\n\\n\\nVinger met apenpokken, fase 1\\n\\n\\n\\n\\n\\n\\nFAse 2\\n\\n\\n\\n\\n\\n\\n\\nVinger met apenpokken, fase 2\\n\\n\\n\\n\\n\\n\\nFase 3\\n\\n\\n\\n\\n\\n\\n\\nVinger met apenpokken, fase 3\\n\\n\\n\\n\\n\\n\\n\\n\\n\\nBesmettelijkheid\\nIedereen kan mpox krijgen en het virus komt voor bij jong en oud. De meeste besmettingen zijn tot nu toe gevonden bij MSM mannen die seks hebben met mannen (mannen die seks hebben met mannen) (mannen die seks hebben met mannen). MSM die vaak seks hebben met meerdere partners hebben lopen het grootste risico. Het mpoxvirus wordt overgebracht door intiem contact, zoals zoenen, vrijen en seks met iemand die besmet is. Heel soms wordt het virus overgebracht via besmet materiaal (bijvoorbeeld beddengoed). Het virus kan binnendringen via de slijmvliezen en kleine wondjes/scheurtjes in de huid. Mogelijk kan het virus zich ook verspreiden via druppels uit blaasjes of uit de mond-keelholte, hoewel deze kans momenteel als laag wordt ingeschat.\\xa0Iemand kan al besmettelijk zijn voordat er zichtbare verschijnselen zijn. Sommige mensen hebben griepachtige klachten of uitslag voordat de pokken (bultjes of blaasjes) verschijnen. Pokken kunnen ook op minder zichtbare plekken zitten, zoals in de mond (aften) of in de endeldarm. Sommige mensen hebben maar 1 pok. De korsten van de blaasjes zijn ook besmettelijk.\\n\\n\\n\\n\\nClose-up van een pok\\nVoorkomen van besmettingen\\nU kunt de kans om mpox te krijgen verkleinen door minder of geen risicovolle contacten te hebben. Hoe minder seks- en knuffelcontacten, hoe minder kans op besmetting. Ook door het tijdig herkennen van klachten die passen bij mpox, kunt u besmetting voorkomen. Als u denkt dat u of uw partner besmet is, is het belangrijk om geen intiem contact of seks te hebben. Ook niet met een condoom. Neem contact op met de GGD Gemeentelijke Gezondheidsdienst (Gemeentelijke Gezondheidsdienst) of de huisarts. Als de testuitslag positief is dan start de GGD een bron- en contactonderzoek.\\nBron- en contactonderzoek\\nAls iemand positief test op mpox, dan start de GGD het bron- en contactonderzoek. Bij dit onderzoek probeert de GGD te achterhalen wie de bron is van de besmetting en met wie deze persoon in contact is geweest. Het is belangrijk om deel te nemen aan het bron- en contactonderzoek. Want hoe eerder de GGD contactpersonen kan informeren, hoe groter de kans om nieuwe besmettingen te voorkomen. \\nIn het bron- en contactonderzoek wordt onderscheid gemaakt tussen laag-, midden- en hoogrisico-contactpersonen rond iemand die besmet is. In overleg met de GGD kunnen hoogrisico-contactpersonen worden gevaccineerd.\\nIsolatie\\nAls iemand positief test op mpox moet diegene in isolatie blijven en de leefregels\\xa0volgen. Er mag geen lichamelijk contact zijn met anderen tot alle klachten voorbij zijn. Dit betekent tot het moment dat alle korsten - die door de blaasjes worden veroorzaakt - van de huid zijn afgevallen en er weer nieuwe huid zichtbaar is. De korsten kunnen het virus namelijk nog overdragen. Vaak duurt de huiduitslag het langst in vergelijking met de andere klachten. Als er (ook) sprake is van proctitis (ontsteking van het slijmvlies van de endeldarm), moeten alle klachten passend bij proctitis (zoals anale pijn) voorbij zijn.\\n\\n\\n\\n\\nVeelgestelde vragen over apenpokken (monkeypox)\\n\\n\\n\\n\\nMeer informatie\\n\\n\\nVeelgestelde vragen (Soa Aids Nederland)\\n\\n\\nFlyers en posters (Man tot man)\\n\\n\\nVaccinatie mpox (apenpokken)\\n\\n\\nVaccin mpox (apenpokken) \\n\\n\\n\\n\\n\\n\\nThis information in English\\n\\n\\nMpox (monkeypox)\\n\\n\\n\\n\\n\\n\\n\\n\\n\\n\\n\\n\\n\\n\\n\\n\\n\\n\\n\\n\\n\\n\\nNieuws\\n\\n\\n\\n\\n\\n\\n\\n\\nVaccineren tegen mpox in 2022\\n\\nRuim 18 duizend mensen in Nederland hebben een of meerdere vaccinaties gehaald tegen mpox. Afgelopen maand werd de vaccinatiecampagne afgerond. Deze campagne startte eind juli vorig jaar, kort na het begin van de uitbraak.\\n\\n          16-02-2023 | 15:00\\n        \\n\\n\\n\\n\\n\\n\\n\\nScience Photo Library / ANP\\n\\n\\n\\n\\n\\n\\n\\n\\n\\n\\n\\nEen derde van doelgroep heeft nu prik tegen monkeypox\\n\\nAl 10.440 vaccinaties tegen monkeypox zijn in de afgelopen weken gezet. Dat is ongeveer een derde van de doelgroep die op dit moment in aanmerking komt voor het vaccin tegen monkeypox, dat ook apenpokken genoemd wordt.\\n\\n          25-08-2022 | 15:30\\n        \\n\\n\\n\\n\\n\\n\\n\\nScience Photo Library / ANP\\n\\n\\n\\n\\n\\n\\n\\n\\n\\n\\n\\nAantal monkeypox besmettingen blijft stijgen \\n\\nInmiddels zijn er wereldwijd ruim 16.000 gevallen van monkeypox (apenpokken) vastgesteld die verspreid zijn over 75 landen. Zowel het aantal gevallen als het aantal landen met ziektegevallen blijven stijgen.\\n\\n          25-07-2022 | 16:45\\n        \\n\\n\\n\\n\\n\\n\\n\\n\\n\\n\\n\\n\\n\\n\\n\\n\\n\\n\\nMonkeypox blijft zich verspreiden\\n\\nIn de afgelopen weken testten 288 mensen in Nederland positief op monkeypox (apenpokken).\\n\\n          30-06-2022 | 13:15\\n        \\n\\n\\n\\n\\n\\n\\n\\nScience Photo Library / ANP\\n\\n\\n\\n\\n\\n\\n\\n\\n\\n\\n\\n6 personen in Nederland met monkeypox (apenpokken)\\n\\nBij 6 mensen in Nederland is tot nu toe monkeypox vastgesteld.\\n\\n          23-05-2022 | 15:15\\n        \\n\\n\\n\\n\\n\\n\\n\\nScience Photo Library / ANP\\n\\n\\n\\n\\n\\n\\n\\n\\n\\n\\n\\nEerste patiënt met monkeypox (apenpokken) in Nederland\\n\\nVanmiddag is voor het eerst een patiënt in Nederland met monkeypox vastgesteld.\\n\\n          20-05-2022 | 18:30\\n        \\n\\n\\n\\n\\n\\n\\n\\nScience Photo Library / ANP\\n\\n\\n\\n\\n\\n\\n\\n\\nalle nieuwsitems over Mpox (apenpokken)\\n\\n\\n\\n\\n\\n\\n\\n\\n\\n\\nDeel deze pagina\\n\\n\\n\\n\\n\\n\\n\\nFacebook\\n\\n\\nTwitter\\n\\n\\nLinkedIn\\n\\n\\nWhatsApp\\n\\n\\nE-mail\\n\\n\\n\\n\\n\\n\\n\\n\\n\\n\\n\\n\\n\\nService\\n\\n\\nContact\\n\\n\\nPersinformatie\\n\\n\\nWerken bij het RIVM\\n\\n\\nKlachten\\n\\n\\nWoo-verzoeken bij het RIVM\\n\\n\\nZakendoen met het RIVM\\n\\n\\n\\n\\n\\n\\nOver deze site\\n\\n\\nCookies\\n\\n\\nPrivacy\\n\\n\\nToegankelijkheid\\n\\n\\nCopyright\\n\\n\\nResponsible disclosure\\n\\n\\nWebsite archief\\n\\n\\n\\n\\n\\n\\nTalen\\n\\n\\nEnglish\\n\\n\\nNederlands\\n\\n\\n\\n\\n\\n\\nVolg ons\\n\\n\\nAbonneren nieuwsbrieven\\n\\n\\nRSS reed\\n\\n\\nTwitter\\n\\n\\nFacebook\\n\\n\\nLinkedIn\\n\\n\\nYoutube\\n\\n\\nInstagram \\n\\n\\n\\n\\n\\n\\n\\n\\n\\n\\n\\n\\n\\n\\n\\n\\n\\n',\n",
       " 'passage_id': '98',\n",
       " 'score': 24.399862,\n",
       " 'passage_text': '\\n\\n\\n\\n\\n\\n\\n\\n\\n\\n\\n\\n\\n\\n\\n\\nMpox (apenpokken) | RIVM\\n\\n\\n\\n\\n\\n\\n\\n\\n\\n\\n\\nOverslaan en naar de inhoud gaan\\nDirect naar de hoofdnavigatie\\n\\n\\n\\n\\n\\n \\n \\nRijksinstituut voor Volksgezondheiden Milieu\\nMinisterie van Volksgezondheid,Welzijn en Sport\\n\\n\\n\\n\\n\\n\\n\\n\\nNederlands\\n\\n\\nEnglish\\n\\n\\n\\n\\n\\n\\n\\nRIVM De zorg voor morgen begint vandaag \\n          \\n\\n\\n\\n\\n\\n\\nMenuMenu ingeklapt\\n\\n\\n\\n\\nHome\\n\\n\\nOnderwerpen\\n\\n\\nOver RIVM\\n\\n\\nPublicaties\\n\\n\\nInternationaal\\n\\n\\nContact\\n\\n\\nAgenda\\n\\n\\n\\n\\nNederlands\\n\\n\\nEnglish\\n\\n\\n\\nZoekformulier ingeklapt\\n\\n\\n\\n\\n\\n\\nZoeken\\n\\n\\n\\n\\n\\nZoeken\\n\\n\\n\\n\\n\\n\\n\\n\\n\\n\\n\\n\\n\\nHome\\n\\n\\n              Mpox (apenpokken)\\n          \\n\\n Mpox (apenpokken)\\n\\n\\n\\n\\n\\n\\n\\n\\n\\n\\n\\n\\n\\n\\n\\n× In dit onderwerp Menu\\n\\n\\n\\n\\n\\n\\n\\nVaccinatie \\n\\n\\nPrivacy\\n\\n\\n\\n\\nVaccin\\n\\n\\nVeelgestelde vragen\\n\\n\\n\\n\\n\\n\\n\\n\\n\\n\\nScience Photo Library / ANP\\n\\n\\n\\n\\n  Mpox, vaak apenpokken of apenpokkenvirus genoemd, is een virusinfectie \\n\\n\\n\\n\\n\\n\\n\\n\\n\\n\\n\\n\\n\\n\\n\\n\\n\\n\\n\\n\\n\\n\\n\\n\\n\\n\\n\\n\\n\\nVaccinatie \\n\\n\\nPrivacy\\n\\n\\n\\n\\nVaccin\\n\\n\\nVeelgestelde vragen\\n\\n\\n\\n\\n\\nIn dit onderwerp Menu\\n\\nWijzigingsdatum 31-05-2023 | 14:51\\n\\nMpox is een ziekte die vooral voorkomt in West-Afrika en Midden-Afrika. In het voorjaar van 2022 werd de ziekte bij mensen in Europa vastgesteld die geen directe link met de gebieden in Afrika hadden. De ziekte verspreidde zich daarna door Europa, Noord-Amerika en andere gebieden waar de ziekte van oorsprong niet voorkomt. Na een piek in de zomer van 2022, nam het aantal meldingen in het najaar van 2022 sterk af.\\n\\n\\n\\n\\nMonkeypox heet voortaan mpox\\nDe wereldgezondheidsorganisatie WHO World Health Organization\\n (World Health Organization\\n) maakte eind november 2022 een nieuwe naam bekend voor de infectieziekte monkeypox (apenpokken).\\xa0De reden hiervoor is dat de oorspronkelijke naam in veel landen over de hele wereld leidde tot racistische en stigmatiserende uitingen. Daarom kwam de WHO met de nieuwe, neutrale, naam: mpox.\\nWat is mpox (apenpokken)?\\nMpox, ook wel apenpokken genoemd, is een virusinfectie die oorspronkelijk vooral in West- en Midden-Afrika voorkwam. Soms komt er een reiziger uit die regio naar Europa met deze ziekte. Het is een ziekte die van dier op mens kan overgaan (zoönose). In Afrika wordt mpox vooral overgebracht door knaagdieren. De ziekte verloopt bij mensen meestal mild, al kunnen de pokken zorgen voor veel pijn en blijvende littekens. Op Aruba, Bonaire, Curaçao en Suriname wordt de naam apenpokken vaak gebruikt voor de ziekte krentenbaard.\\nInfecties met mpox\\nIn Nederland is bij 1264 mensen monkeypox (apenpokken) vastgesteld (tot 12 mei 2023). Medio juni\\xa0 volgt de volgende update.\\n\\n\\n\\n\\nMeldingen mpox\\nSla de grafiek Meldingen apenpokken over en ga naar de datatabel\\n\\nEr zit een vertraging van enkele dagen tussen wanneer een persoon voor het eerst symptomen van monkeypox vertoont (de eerste ziektedag) en de datum dat deze persoon gemeld wordt bij de GGD Gemeentelijke Gezondheidsdienst (Gemeentelijke Gezondheidsdienst). Er zijn daarom meestal geen meldingen van personen met een eerste ziektedag vlak voor de laatste update van de data.\\n\\n\\n\\n\\n\\nSymptomen van mpox (apenpokken)\\nDe verschijnselen van een besmetting met mpox lijken op die van een besmetting met pokken, maar mpox verloopt in het algemeen veel milder. Het belangrijkste symptoom is de huiduitslag die eruit kan zien als rode vlekken, bultjes of blaasjes. Deze pokken kunnen pijnlijk zijn. Na het indrogen van de pokken blijven korsten over die na 2-3 weken van de huid afvallen. Het is mogelijk dat pokken littekens achterlaten op de huid.\\nMeer algemene klachten bij mpox zijn:\\xa0\\nkoorts\\nhoofdpijn\\nspierpijn\\ngezwollen lymfeklieren\\xa0\\nrillingen\\nmoeheid\\nBij sommige mensen begint mpox met algemene klachten en krijgen zij daarna pokken, bij anderen is het andersom. In de uitbraak van 2022 zagen we bij een aantal patiënten proctitis, een pijnlijke ontsteking van het slijmvlies van de endeldarm (het laatste deel van de darm). Soms is proctitis de enige klacht.\\xa0\\n\\n\\n\\n\\nHoe zien mpox (apenpokken) eruit\\n\\n\\n\\nFase 1\\n\\n\\n\\n\\n\\n\\n\\nVinger met apenpokken, fase 1\\n\\n\\n\\n\\n\\n\\nFAse 2\\n\\n\\n\\n\\n\\n\\n\\nVinger met apenpokken, fase 2\\n\\n\\n\\n\\n\\n\\nFase 3\\n\\n\\n\\n\\n\\n\\n\\nVinger met apenpokken, fase 3\\n\\n\\n\\n\\n\\n\\n\\n\\n\\nBesmettelijkheid\\nIedereen kan mpox krijgen en het virus komt voor bij jong en oud. De meeste besmettingen zijn tot nu toe gevonden bij MSM mannen die seks hebben met mannen (mannen die seks hebben met mannen) (mannen die seks hebben met mannen). MSM die vaak seks hebben met meerdere partners hebben lopen het grootste risico. Het mpoxvirus wordt overgebracht door intiem contact, zoals zoenen, vrijen en seks met iemand die besmet is. Heel soms wordt het virus overgebracht via besmet materiaal (bijvoorbeeld beddengoed). Het virus kan binnendringen via de slijmvliezen en kleine wondjes/scheurtjes in de huid. Mogelijk kan het virus zich ook verspreiden via druppels uit blaasjes of uit de mond-keelholte, hoewel deze kans momenteel als laag wordt ingeschat.\\xa0Iemand kan al besmettelijk zijn voordat er zichtbare verschijnselen zijn. Sommige mensen hebben griepachtige klachten of uitslag voordat de pokken (bultjes of blaasjes) verschijnen. Pokken kunnen ook op minder zichtbare plekken zitten, zoals in de mond (aften) of in de endeldarm. Sommige mensen hebben maar 1 pok. De korsten van de blaasjes zijn ook besmettelijk.\\n\\n\\n\\n\\nClose-up van een pok\\nVoorkomen van besmettingen\\nU kunt de kans om mpox te krijgen verkleinen door minder of geen risicovolle contacten te hebben. Hoe minder seks- en knuffelcontacten, hoe minder kans op besmetting. Ook door het tijdig herkennen van klachten die passen bij mpox, kunt u besmetting voorkomen. Als u denkt dat u of uw partner besmet is, is het belangrijk om geen intiem contact of seks te hebben. Ook niet met een condoom. Neem contact op met de GGD Gemeentelijke Gezondheidsdienst (Gemeentelijke Gezondheidsdienst) of de huisarts. Als de testuitslag positief is dan start de GGD een bron- en contactonderzoek.\\nBron- en contactonderzoek\\nAls iemand positief test op mpox, dan start de GGD het bron- en contactonderzoek. Bij dit onderzoek probeert de GGD te achterhalen wie de bron is van de besmetting en met wie deze persoon in contact is geweest. Het is belangrijk om deel te nemen aan het bron- en contactonderzoek. Want hoe eerder de GGD contactpersonen kan informeren, hoe groter de kans om nieuwe besmettingen te voorkomen. \\nIn het bron- en contactonderzoek wordt onderscheid gemaakt tussen laag-, midden- en hoogrisico-contactpersonen rond iemand die besmet is. In overleg met de GGD kunnen hoogrisico-contactpersonen worden gevaccineerd.\\nIsolatie\\nAls iemand positief test op mpox moet diegene in isolatie blijven en de leefregels\\xa0volgen. Er mag geen lichamelijk contact zijn met anderen tot alle klachten voorbij zijn. Dit betekent tot het moment dat alle korsten - die door de blaasjes worden veroorzaakt - van de huid zijn afgevallen en er weer nieuwe huid zichtbaar is. De korsten kunnen het virus namelijk nog overdragen. Vaak duurt de huiduitslag het langst in vergelijking met de andere klachten. Als er (ook) sprake is van proctitis (ontsteking van het slijmvlies van de endeldarm), moeten alle klachten passend bij proctitis (zoals anale pijn) voorbij zijn.\\n\\n\\n\\n\\nVeelgestelde vragen over apenpokken (monkeypox)\\n\\n\\n\\n\\nMeer informatie\\n\\n\\nVeelgestelde vragen (Soa Aids Nederland)\\n\\n\\nFlyers en posters (Man tot man)\\n\\n\\nVaccinatie mpox (apenpokken)\\n\\n\\nVaccin mpox (apenpokken) \\n\\n\\n\\n\\n\\n\\nThis information in English\\n\\n\\nMpox (monkeypox)\\n\\n\\n\\n\\n\\n\\n\\n\\n\\n\\n\\n\\n\\n\\n\\n\\n\\n\\n\\n\\n\\n\\nNieuws\\n\\n\\n\\n\\n\\n\\n\\n\\nVaccineren tegen mpox in 2022\\n\\nRuim 18 duizend mensen in Nederland hebben een of meerdere vaccinaties gehaald tegen mpox. Afgelopen maand werd de vaccinatiecampagne afgerond. Deze campagne startte eind juli vorig jaar, kort na het begin van de uitbraak.\\n\\n          16-02-2023 | 15:00\\n        \\n\\n\\n\\n\\n\\n\\n\\nScience Photo Library / ANP\\n\\n\\n\\n\\n\\n\\n\\n\\n\\n\\n\\nEen derde van doelgroep heeft nu prik tegen monkeypox\\n\\nAl 10.440 vaccinaties tegen monkeypox zijn in de afgelopen weken gezet. Dat is ongeveer een derde van de doelgroep die op dit moment in aanmerking komt voor het vaccin tegen monkeypox, dat ook apenpokken genoemd wordt.\\n\\n          25-08-2022 | 15:30\\n        \\n\\n\\n\\n\\n\\n\\n\\nScience Photo Library / ANP\\n\\n\\n\\n\\n\\n\\n\\n\\n\\n\\n\\nAantal monkeypox besmettingen blijft stijgen \\n\\nInmiddels zijn er wereldwijd ruim 16.000 gevallen van monkeypox (apenpokken) vastgesteld die verspreid zijn over 75 landen. Zowel het aantal gevallen als het aantal landen met ziektegevallen blijven stijgen.\\n\\n          25-07-2022 | 16:45\\n        \\n\\n\\n\\n\\n\\n\\n\\n\\n\\n\\n\\n\\n\\n\\n\\n\\n\\n\\nMonkeypox blijft zich verspreiden\\n\\nIn de afgelopen weken testten 288 mensen in Nederland positief op monkeypox (apenpokken).\\n\\n          30-06-2022 | 13:15\\n        \\n\\n\\n\\n\\n\\n\\n\\nScience Photo Library / ANP\\n\\n\\n\\n\\n\\n\\n\\n\\n\\n\\n\\n6 personen in Nederland met monkeypox (apenpokken)\\n\\nBij 6 mensen in Nederland is tot nu toe monkeypox vastgesteld.\\n\\n          23-05-2022 | 15:15\\n        \\n\\n\\n\\n\\n\\n\\n\\nScience Photo Library / ANP\\n\\n\\n\\n\\n\\n\\n\\n\\n\\n\\n\\nEerste patiënt met monkeypox (apenpokken) in Nederland\\n\\nVanmiddag is voor het eerst een patiënt in Nederland met monkeypox vastgesteld.\\n\\n          20-05-2022 | 18:30\\n        \\n\\n\\n\\n\\n\\n\\n\\nScience Photo Library / ANP\\n\\n\\n\\n\\n\\n\\n\\n\\nalle nieuwsitems over Mpox (apenpokken)\\n\\n\\n\\n\\n\\n\\n\\n\\n\\n\\nDeel deze pagina\\n\\n\\n\\n\\n\\n\\n\\nFacebook\\n\\n\\nTwitter\\n\\n\\nLinkedIn\\n\\n\\nWhatsApp\\n\\n\\nE-mail\\n\\n\\n\\n\\n\\n\\n\\n\\n\\n\\n\\n\\n\\nService\\n\\n\\nContact\\n\\n\\nPersinformatie\\n\\n\\nWerken bij het RIVM\\n\\n\\nKlachten\\n\\n\\nWoo-verzoeken bij het RIVM\\n\\n\\nZakendoen met het RIVM\\n\\n\\n\\n\\n\\n\\nOver deze site\\n\\n\\nCookies\\n\\n\\nPrivacy\\n\\n\\nToegankelijkheid\\n\\n\\nCopyright\\n\\n\\nResponsible disclosure\\n\\n\\nWebsite archief\\n\\n\\n\\n\\n\\n\\nTalen\\n\\n\\nEnglish\\n\\n\\nNederlands\\n\\n\\n\\n\\n\\n\\nVolg ons\\n\\n\\nAbonneren nieuwsbrieven\\n\\n\\nRSS reed\\n\\n\\nTwitter\\n\\n\\nFacebook\\n\\n\\nLinkedIn\\n\\n\\nYoutube\\n\\n\\nInstagram \\n\\n\\n\\n\\n\\n\\n\\n\\n\\n\\n\\n\\n\\n\\n\\n\\n\\n'}"
      ]
     },
     "execution_count": 43,
     "metadata": {},
     "output_type": "execute_result"
    }
   ],
   "source": [
    "results[list(results.keys())[0]][1][0]"
   ]
  },
  {
   "attachments": {},
   "cell_type": "markdown",
   "metadata": {},
   "source": [
    "#### Run to save results"
   ]
  },
  {
   "cell_type": "code",
   "execution_count": 15,
   "metadata": {},
   "outputs": [],
   "source": [
    "import pickle\n",
    "with open ('data/results/bm25_results_short.pickle', 'wb') as f:\n",
    "    pickle.dump(results, f)"
   ]
  }
 ],
 "metadata": {
  "kernelspec": {
   "display_name": "base",
   "language": "python",
   "name": "python3"
  },
  "language_info": {
   "codemirror_mode": {
    "name": "ipython",
    "version": 3
   },
   "file_extension": ".py",
   "mimetype": "text/x-python",
   "name": "python",
   "nbconvert_exporter": "python",
   "pygments_lexer": "ipython3",
   "version": "3.8.5"
  },
  "orig_nbformat": 4,
  "vscode": {
   "interpreter": {
    "hash": "ea4c3bcc219a1292b0d1d9543a9b9f82ed18a35340190a3cbd50b3110bbb4e55"
   }
  }
 },
 "nbformat": 4,
 "nbformat_minor": 2
}
