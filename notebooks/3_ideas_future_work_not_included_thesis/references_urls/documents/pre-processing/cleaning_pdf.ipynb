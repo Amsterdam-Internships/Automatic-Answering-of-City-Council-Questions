{
 "cells": [
  {
   "cell_type": "code",
   "execution_count": 1,
   "metadata": {},
   "outputs": [
    {
     "name": "stdout",
     "output_type": "stream",
     "text": [
      "/Users/natalipeeva/Documents/GitHub/Automatic-Answering-of-City-Council-Questions\n"
     ]
    }
   ],
   "source": [
    "%cd /Users/natalipeeva/Documents/GitHub/Automatic-Answering-of-City-Council-Questions/"
   ]
  },
  {
   "cell_type": "code",
   "execution_count": 2,
   "metadata": {},
   "outputs": [],
   "source": [
    "import sys\n",
    "import os\n",
    "src_dir = os.path.join(os.getcwd(), 'src')\n",
    "sys.path.append(src_dir)\n",
    "from read_data.read_data import read_urls_questions"
   ]
  },
  {
   "cell_type": "code",
   "execution_count": 3,
   "metadata": {},
   "outputs": [],
   "source": [
    "import pandas as pd\n",
    "collected, questions =  read_urls_questions(os.path.join('data/all_references/reference_urls_collected.csv'),\n",
    "                                            os.path.join('data/all_references/questions_updated_urls.csv'),\n",
    "                                            clean_url_nan=True) "
   ]
  },
  {
   "cell_type": "code",
   "execution_count": 18,
   "metadata": {},
   "outputs": [
    {
     "data": {
      "text/plain": [
       "453"
      ]
     },
     "execution_count": 18,
     "metadata": {},
     "output_type": "execute_result"
    }
   ],
   "source": [
    "len(questions)"
   ]
  },
  {
   "cell_type": "code",
   "execution_count": 4,
   "metadata": {},
   "outputs": [],
   "source": [
    "import requests\n",
    "import io\n",
    "import PyPDF2\n",
    "import time\n",
    "def get_pdf_text(pdf_url):\n",
    "    \"\"\"\n",
    "    Input: PDF URL\n",
    "    Output: PDF textual content\n",
    "    \"\"\"\n",
    "    pdf = requests.get(pdf_url)\n",
    "    pdf_content = pdf.content \n",
    "    pdf_text = io.BytesIO(pdf_content)\n",
    "    pdf_reader = PyPDF2.PdfReader(pdf_text)\n",
    "    text = \"\"\n",
    "    for page_num in range(len(pdf_reader.pages)):\n",
    "        page = pdf_reader.pages[page_num]\n",
    "        text += page.extract_text()\n",
    "    \n",
    "    return text"
   ]
  },
  {
   "cell_type": "code",
   "execution_count": 5,
   "metadata": {},
   "outputs": [
    {
     "data": {
      "text/html": [
       "<div>\n",
       "<style scoped>\n",
       "    .dataframe tbody tr th:only-of-type {\n",
       "        vertical-align: middle;\n",
       "    }\n",
       "\n",
       "    .dataframe tbody tr th {\n",
       "        vertical-align: top;\n",
       "    }\n",
       "\n",
       "    .dataframe thead th {\n",
       "        text-align: right;\n",
       "    }\n",
       "</style>\n",
       "<table border=\"1\" class=\"dataframe\">\n",
       "  <thead>\n",
       "    <tr style=\"text-align: right;\">\n",
       "      <th></th>\n",
       "      <th>Unnamed: 0</th>\n",
       "      <th>URL</th>\n",
       "      <th>Content</th>\n",
       "      <th>Textual_Content</th>\n",
       "      <th>Exception</th>\n",
       "    </tr>\n",
       "  </thead>\n",
       "  <tbody>\n",
       "    <tr>\n",
       "      <th>775</th>\n",
       "      <td>775</td>\n",
       "      <td>https://www.kvk.nl/veilig-zakendoen/wat-kun-je...</td>\n",
       "      <td>&lt;!DOCTYPE html&gt;\\n&lt;html lang=\"nl\"&gt;&lt;head&gt;&lt;meta c...</td>\n",
       "      <td>Wat kun je doen tegen ransomware? 6 tips | KVK...</td>\n",
       "      <td>NaN</td>\n",
       "    </tr>\n",
       "    <tr>\n",
       "      <th>777</th>\n",
       "      <td>777</td>\n",
       "      <td>https://amsterdam.raadsinformatie.nl/document/...</td>\n",
       "      <td>%PDF-1.7\\n\\n4 0 obj\\n(Identity)\\nendobj\\n5 0 o...</td>\n",
       "      <td>%PDF-1.7\\n\\n4 0 obj\\n(Identity)\\nendobj\\n5 0 o...</td>\n",
       "      <td>NaN</td>\n",
       "    </tr>\n",
       "    <tr>\n",
       "      <th>778</th>\n",
       "      <td>778</td>\n",
       "      <td>https://amsterdam.raadsinformatie.nl/document/...</td>\n",
       "      <td>%PDF-1.7\\r%âãÏÓ\\r\\n310 0 obj\\r&amp;lt;&amp;gt;\\rendobj...</td>\n",
       "      <td>%PDF-1.7\\r%âãÏÓ\\r\\n310 0 obj\\r&lt;&gt;\\rendobj\\r    ...</td>\n",
       "      <td>NaN</td>\n",
       "    </tr>\n",
       "    <tr>\n",
       "      <th>779</th>\n",
       "      <td>779</td>\n",
       "      <td>https://www.at5.nl/artikelen/196980/ruim-730-k...</td>\n",
       "      <td>&lt;!DOCTYPE html&gt;\\n\\n&lt;html lang=\"nl\"&gt;\\n&lt;head&gt;\\n&lt;...</td>\n",
       "      <td>\\n\\n\\n\\n\\n\\n\\nRuim 730 kinderen in daklozenopv...</td>\n",
       "      <td>NaN</td>\n",
       "    </tr>\n",
       "    <tr>\n",
       "      <th>780</th>\n",
       "      <td>780</td>\n",
       "      <td>https://amsterdam.raadsinformatie.nl/document/...</td>\n",
       "      <td>%PDF-1.5\\n%�쏢\\n19 0 obj\\n&amp;lt;&amp;gt;\\nendobj\\n   ...</td>\n",
       "      <td>%PDF-1.5\\n%�쏢\\n19 0 obj\\n&lt;&gt;\\nendobj\\n         ...</td>\n",
       "      <td>NaN</td>\n",
       "    </tr>\n",
       "  </tbody>\n",
       "</table>\n",
       "</div>"
      ],
      "text/plain": [
       "     Unnamed: 0                                                URL  \\\n",
       "775         775  https://www.kvk.nl/veilig-zakendoen/wat-kun-je...   \n",
       "777         777  https://amsterdam.raadsinformatie.nl/document/...   \n",
       "778         778  https://amsterdam.raadsinformatie.nl/document/...   \n",
       "779         779  https://www.at5.nl/artikelen/196980/ruim-730-k...   \n",
       "780         780  https://amsterdam.raadsinformatie.nl/document/...   \n",
       "\n",
       "                                               Content  \\\n",
       "775  <!DOCTYPE html>\\n<html lang=\"nl\"><head><meta c...   \n",
       "777  %PDF-1.7\\n\\n4 0 obj\\n(Identity)\\nendobj\\n5 0 o...   \n",
       "778  %PDF-1.7\\r%âãÏÓ\\r\\n310 0 obj\\r&lt;&gt;\\rendobj...   \n",
       "779  <!DOCTYPE html>\\n\\n<html lang=\"nl\">\\n<head>\\n<...   \n",
       "780  %PDF-1.5\\n%�쏢\\n19 0 obj\\n&lt;&gt;\\nendobj\\n   ...   \n",
       "\n",
       "                                       Textual_Content Exception  \n",
       "775  Wat kun je doen tegen ransomware? 6 tips | KVK...       NaN  \n",
       "777  %PDF-1.7\\n\\n4 0 obj\\n(Identity)\\nendobj\\n5 0 o...       NaN  \n",
       "778  %PDF-1.7\\r%âãÏÓ\\r\\n310 0 obj\\r<>\\rendobj\\r    ...       NaN  \n",
       "779  \\n\\n\\n\\n\\n\\n\\nRuim 730 kinderen in daklozenopv...       NaN  \n",
       "780  %PDF-1.5\\n%�쏢\\n19 0 obj\\n<>\\nendobj\\n         ...       NaN  "
      ]
     },
     "execution_count": 5,
     "metadata": {},
     "output_type": "execute_result"
    }
   ],
   "source": [
    "collected.tail()"
   ]
  },
  {
   "cell_type": "code",
   "execution_count": 6,
   "metadata": {},
   "outputs": [
    {
     "name": "stderr",
     "output_type": "stream",
     "text": [
      "Invalid stream (index 65) within object 146 0: Stream has ended unexpectedly\n"
     ]
    }
   ],
   "source": [
    "for index, row in collected.iterrows():\n",
    "    if str(row['Textual_Content']).startswith('%PDF'):\n",
    "        try:\n",
    "            text = get_pdf_text(row['URL'])\n",
    "            collected.at[index, 'Textual_Content'] = text\n",
    "            time.sleep(2)\n",
    "        except:\n",
    "            collected.at[index, 'Textual_Content'] = None\n",
    "            continue"
   ]
  },
  {
   "cell_type": "code",
   "execution_count": 10,
   "metadata": {},
   "outputs": [],
   "source": [
    "a = collected.dropna(subset=['Textual_Content'], inplace=True)"
   ]
  },
  {
   "cell_type": "code",
   "execution_count": 15,
   "metadata": {},
   "outputs": [],
   "source": [
    "collected.reset_index(drop=True, inplace=True)"
   ]
  },
  {
   "cell_type": "code",
   "execution_count": 17,
   "metadata": {},
   "outputs": [],
   "source": [
    "collected.to_csv('data/all_references/reference_urls_collected_clean_pdf.csv')"
   ]
  },
  {
   "cell_type": "markdown",
   "metadata": {},
   "source": []
  }
 ],
 "metadata": {
  "kernelspec": {
   "display_name": "base",
   "language": "python",
   "name": "python3"
  },
  "language_info": {
   "codemirror_mode": {
    "name": "ipython",
    "version": 3
   },
   "file_extension": ".py",
   "mimetype": "text/x-python",
   "name": "python",
   "nbconvert_exporter": "python",
   "pygments_lexer": "ipython3",
   "version": "3.8.5"
  },
  "orig_nbformat": 4,
  "vscode": {
   "interpreter": {
    "hash": "ea4c3bcc219a1292b0d1d9543a9b9f82ed18a35340190a3cbd50b3110bbb4e55"
   }
  }
 },
 "nbformat": 4,
 "nbformat_minor": 2
}
