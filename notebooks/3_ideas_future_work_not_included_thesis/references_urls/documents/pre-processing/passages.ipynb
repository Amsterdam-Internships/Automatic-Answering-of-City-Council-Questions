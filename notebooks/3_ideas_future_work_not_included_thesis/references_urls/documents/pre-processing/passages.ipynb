{
 "cells": [
  {
   "cell_type": "code",
   "execution_count": 1,
   "metadata": {},
   "outputs": [
    {
     "name": "stdout",
     "output_type": "stream",
     "text": [
      "/Users/natalipeeva/Documents/GitHub/Automatic-Answering-of-City-Council-Questions\n"
     ]
    }
   ],
   "source": [
    "%cd /Users/natalipeeva/Documents/GitHub/Automatic-Answering-of-City-Council-Questions/"
   ]
  },
  {
   "cell_type": "code",
   "execution_count": 2,
   "metadata": {},
   "outputs": [],
   "source": [
    "import sys\n",
    "import os\n",
    "src_dir = os.path.join(os.getcwd(), 'src')\n",
    "sys.path.append(src_dir)\n",
    "from read_data.read_data import read_urls_questions"
   ]
  },
  {
   "cell_type": "code",
   "execution_count": 3,
   "metadata": {},
   "outputs": [],
   "source": [
    "import pandas as pd\n",
    "collected, questions =  read_urls_questions(os.path.join('data/all_references/reference_urls_collected_clean_pdf.csv'),\n",
    "                                            os.path.join('data/all_references/questions_updated_urls.csv'),\n",
    "                                            clean_url_nan=True) "
   ]
  },
  {
   "cell_type": "code",
   "execution_count": 4,
   "metadata": {},
   "outputs": [
    {
     "data": {
      "text/html": [
       "<div>\n",
       "<style scoped>\n",
       "    .dataframe tbody tr th:only-of-type {\n",
       "        vertical-align: middle;\n",
       "    }\n",
       "\n",
       "    .dataframe tbody tr th {\n",
       "        vertical-align: top;\n",
       "    }\n",
       "\n",
       "    .dataframe thead th {\n",
       "        text-align: right;\n",
       "    }\n",
       "</style>\n",
       "<table border=\"1\" class=\"dataframe\">\n",
       "  <thead>\n",
       "    <tr style=\"text-align: right;\">\n",
       "      <th></th>\n",
       "      <th>Unnamed: 0.1</th>\n",
       "      <th>Unnamed: 0</th>\n",
       "      <th>URL</th>\n",
       "      <th>Content</th>\n",
       "      <th>Textual_Content</th>\n",
       "      <th>Exception</th>\n",
       "    </tr>\n",
       "  </thead>\n",
       "  <tbody>\n",
       "    <tr>\n",
       "      <th>0</th>\n",
       "      <td>0</td>\n",
       "      <td>1</td>\n",
       "      <td>https://afvalonline.nl/bericht/17424/avr-offic...</td>\n",
       "      <td>&lt;!DOCTYPE html&gt;\\n\\n&lt;html&gt;\\n&lt;head&gt;\\n&lt;meta conte...</td>\n",
       "      <td>\\n\\n\\n\\n\\n\\n\\n\\n\\n\\n\\n\\n\\n\\n\\n\\n\\n\\n\\n\\n\\n\\n\\n...</td>\n",
       "      <td>NaN</td>\n",
       "    </tr>\n",
       "    <tr>\n",
       "      <th>1</th>\n",
       "      <td>1</td>\n",
       "      <td>6</td>\n",
       "      <td>https://maps.amsterdam.nl/eikenprocessierups/</td>\n",
       "      <td>\\n&lt;!DOCTYPE html&gt;\\n\\n&lt;html lang=\"nl\"&gt;\\n&lt;head&gt;\\...</td>\n",
       "      <td>\\n\\n\\n\\n\\nEikenprocessierups\\n\\n\\n\\n\\n\\n\\n\\n\\n...</td>\n",
       "      <td>NaN</td>\n",
       "    </tr>\n",
       "    <tr>\n",
       "      <th>2</th>\n",
       "      <td>2</td>\n",
       "      <td>7</td>\n",
       "      <td>https://www.rivm.nl/coronavirus-covid-19/onder...</td>\n",
       "      <td>&lt;!DOCTYPE html&gt;\\n\\n&lt;html dir=\"ltr\" lang=\"nl\"&gt;\\...</td>\n",
       "      <td>\\n\\n\\n\\n\\n\\n\\n\\n\\n\\n\\n\\n\\n\\n\\n\\n\\n\\nCorona-ond...</td>\n",
       "      <td>NaN</td>\n",
       "    </tr>\n",
       "    <tr>\n",
       "      <th>3</th>\n",
       "      <td>3</td>\n",
       "      <td>8</td>\n",
       "      <td>https://www.at5.nl/artikelen/185117/vluchtelin...</td>\n",
       "      <td>&lt;!DOCTYPE html&gt;\\n\\n&lt;html lang=\"nl\"&gt;\\n&lt;head&gt;\\n&lt;...</td>\n",
       "      <td>\\n\\n\\n\\n\\n\\n\\nVluchteling uit klooster gezet v...</td>\n",
       "      <td>NaN</td>\n",
       "    </tr>\n",
       "    <tr>\n",
       "      <th>4</th>\n",
       "      <td>4</td>\n",
       "      <td>9</td>\n",
       "      <td>https://controlealtdelete.nl/articles/chronolo...</td>\n",
       "      <td>&lt;!DOCTYPE html&gt;\\n&lt;html&gt;&lt;head&gt;&lt;meta charset=\"ut...</td>\n",
       "      <td>Chronologie van een doofpot    Chronologie van...</td>\n",
       "      <td>NaN</td>\n",
       "    </tr>\n",
       "  </tbody>\n",
       "</table>\n",
       "</div>"
      ],
      "text/plain": [
       "   Unnamed: 0.1  Unnamed: 0  \\\n",
       "0             0           1   \n",
       "1             1           6   \n",
       "2             2           7   \n",
       "3             3           8   \n",
       "4             4           9   \n",
       "\n",
       "                                                 URL  \\\n",
       "0  https://afvalonline.nl/bericht/17424/avr-offic...   \n",
       "1      https://maps.amsterdam.nl/eikenprocessierups/   \n",
       "2  https://www.rivm.nl/coronavirus-covid-19/onder...   \n",
       "3  https://www.at5.nl/artikelen/185117/vluchtelin...   \n",
       "4  https://controlealtdelete.nl/articles/chronolo...   \n",
       "\n",
       "                                             Content  \\\n",
       "0  <!DOCTYPE html>\\n\\n<html>\\n<head>\\n<meta conte...   \n",
       "1  \\n<!DOCTYPE html>\\n\\n<html lang=\"nl\">\\n<head>\\...   \n",
       "2  <!DOCTYPE html>\\n\\n<html dir=\"ltr\" lang=\"nl\">\\...   \n",
       "3  <!DOCTYPE html>\\n\\n<html lang=\"nl\">\\n<head>\\n<...   \n",
       "4  <!DOCTYPE html>\\n<html><head><meta charset=\"ut...   \n",
       "\n",
       "                                     Textual_Content  Exception  \n",
       "0  \\n\\n\\n\\n\\n\\n\\n\\n\\n\\n\\n\\n\\n\\n\\n\\n\\n\\n\\n\\n\\n\\n\\n...        NaN  \n",
       "1  \\n\\n\\n\\n\\nEikenprocessierups\\n\\n\\n\\n\\n\\n\\n\\n\\n...        NaN  \n",
       "2  \\n\\n\\n\\n\\n\\n\\n\\n\\n\\n\\n\\n\\n\\n\\n\\n\\n\\nCorona-ond...        NaN  \n",
       "3  \\n\\n\\n\\n\\n\\n\\nVluchteling uit klooster gezet v...        NaN  \n",
       "4  Chronologie van een doofpot    Chronologie van...        NaN  "
      ]
     },
     "execution_count": 4,
     "metadata": {},
     "output_type": "execute_result"
    }
   ],
   "source": [
    "collected.head()"
   ]
  },
  {
   "cell_type": "code",
   "execution_count": 5,
   "metadata": {},
   "outputs": [
    {
     "name": "stderr",
     "output_type": "stream",
     "text": [
      "[nltk_data] Downloading package punkt to\n",
      "[nltk_data]     /Users/natalipeeva/nltk_data...\n",
      "[nltk_data]   Package punkt is already up-to-date!\n",
      "[nltk_data] Downloading package averaged_perceptron_tagger to\n",
      "[nltk_data]     /Users/natalipeeva/nltk_data...\n",
      "[nltk_data]   Package averaged_perceptron_tagger is already up-to-\n",
      "[nltk_data]       date!\n",
      "[nltk_data] Downloading package universal_tagset to\n",
      "[nltk_data]     /Users/natalipeeva/nltk_data...\n",
      "[nltk_data]   Package universal_tagset is already up-to-date!\n"
     ]
    },
    {
     "data": {
      "text/plain": [
       "True"
      ]
     },
     "execution_count": 5,
     "metadata": {},
     "output_type": "execute_result"
    }
   ],
   "source": [
    "import pandas as pd\n",
    "from nltk.tokenize import word_tokenize\n",
    "import nltk\n",
    "\n",
    "# Download NLTK resources for Dutch tokenization\n",
    "nltk.download('punkt')\n",
    "nltk.download('averaged_perceptron_tagger')\n",
    "nltk.download('universal_tagset')\n"
   ]
  },
  {
   "cell_type": "code",
   "execution_count": 28,
   "metadata": {},
   "outputs": [],
   "source": [
    "# Create an empty dataframe for the new data\n",
    "new_df = pd.DataFrame(columns=['URL', 'Passage'])\n",
    "\n",
    "# Iterate over each row in the original dataframe\n",
    "for index, row in collected.iterrows():\n",
    "    url = row['URL']\n",
    "    content = row['Textual_Content']\n",
    "    \n",
    "    # Tokenize the content into words\n",
    "    words = word_tokenize(content, language='dutch')\n",
    "    \n",
    "    # Create passages of 100 words\n",
    "    passages = [' '.join(words[i:i+200]) for i in range(0, len(words), 200)]\n",
    "    \n",
    "    # Create a new dataframe for the passages\n",
    "    passage_df = pd.DataFrame({'URL': url, 'Textual_Content': passages})\n",
    "    \n",
    "    # Concatenate the new dataframe with the main dataframe\n",
    "    new_df = pd.concat([new_df, passage_df], ignore_index=True)\n"
   ]
  },
  {
   "cell_type": "code",
   "execution_count": 7,
   "metadata": {},
   "outputs": [],
   "source": [
    "new_df.to_csv('data/all_references/passages_100words.csv')"
   ]
  },
  {
   "cell_type": "code",
   "execution_count": 29,
   "metadata": {},
   "outputs": [
    {
     "data": {
      "text/plain": [
       "'Wereldbank bedraagt het Bruto Binnenlands Product van Israël USD 290,6 miljard ( 2013 ) en dat van de Palestijnse Gebieden USD 11,26 miljard ( 2012 ) . Vraag 66 Kunt u aangeven welke negen Palestijnse diplomaten uit Gaza bij Clingendael een training hebben gevolgd en kunt u aangeven hoe deze negen Gazaanse diplomaten zijn geselecteerd ? Antwoord Er zijn negen Palestijnse diplomaten , werkzaam voor het Ministerie van Buitenlandse Zaken van de Palestijnse Autoriteit , getraind . Deze zijn geselecteerd door dat ministerie , op basis van criteria die in samenspraak met Clingendael zijn opgesteld . Vraag 67 Waarom benoemt u alleen de « bezetting » als belemmering voor economische ontwikkeling , terwijl juist de dictatuur en wijdverbreide corruptie de economische ontwikkeling in de weg staat ? Antwoord De bezetting is een bijzondere omstandigheid die van grote invloed is op de Palestijnse economie ( zie ook antwoord op vragen 61 , 64 en 77 voor de impact ) . Verdere verbetering van goed bestuur , inclusief vergroten van transparantie in besluitvorming van de PA , versterken van Palestijnse anti-corruptie-instituties en ondersteuning van Palestijnse NGO ’ s die zich op corruptiebestrijding richten , vormen onderdeel van het Nederlandse OS-programma in de'"
      ]
     },
     "execution_count": 29,
     "metadata": {},
     "output_type": "execute_result"
    }
   ],
   "source": [
    "new_df['Textual_Content'][5000]"
   ]
  },
  {
   "cell_type": "code",
   "execution_count": 30,
   "metadata": {},
   "outputs": [
    {
     "data": {
      "text/plain": [
       "'https://zoek.officielebekendmakingen.nl/kst-23432-399.html'"
      ]
     },
     "execution_count": 30,
     "metadata": {},
     "output_type": "execute_result"
    }
   ],
   "source": [
    "new_df['URL'][5000]"
   ]
  }
 ],
 "metadata": {
  "kernelspec": {
   "display_name": "base",
   "language": "python",
   "name": "python3"
  },
  "language_info": {
   "codemirror_mode": {
    "name": "ipython",
    "version": 3
   },
   "file_extension": ".py",
   "mimetype": "text/x-python",
   "name": "python",
   "nbconvert_exporter": "python",
   "pygments_lexer": "ipython3",
   "version": "3.8.5"
  },
  "orig_nbformat": 4,
  "vscode": {
   "interpreter": {
    "hash": "ea4c3bcc219a1292b0d1d9543a9b9f82ed18a35340190a3cbd50b3110bbb4e55"
   }
  }
 },
 "nbformat": 4,
 "nbformat_minor": 2
}
