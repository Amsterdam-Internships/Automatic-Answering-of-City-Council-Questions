{
 "cells": [
  {
   "cell_type": "code",
   "execution_count": 1,
   "metadata": {},
   "outputs": [
    {
     "name": "stdout",
     "output_type": "stream",
     "text": [
      "/Users/natalipeeva/Documents/GitHub/Automatic-Answering-of-City-Council-Questions\n"
     ]
    }
   ],
   "source": [
    "%cd /Users/natalipeeva/Documents/GitHub/Automatic-Answering-of-City-Council-Questions/"
   ]
  },
  {
   "cell_type": "code",
   "execution_count": 2,
   "metadata": {},
   "outputs": [],
   "source": [
    "import sys\n",
    "import os\n",
    "src_dir = os.path.join(os.getcwd(), 'src')\n",
    "sys.path.append(src_dir)\n",
    "\n",
    "from read_data.read_data import read_urls_questions, get_questions, get_url_content_tuples, get_relevant_docs\n",
    "from retrieval.sparse_retrieval.tfidf import perform_tfidf_search\n",
    "from retrieval.evaluation.evaluate import calculate_recall_at_k, calculate_average_recall"
   ]
  },
  {
   "cell_type": "code",
   "execution_count": 3,
   "metadata": {},
   "outputs": [],
   "source": [
    "collected, questions =  read_urls_questions('data/all_references/reference_urls_collected_clean_pdf.csv',\n",
    "                                            'data/all_references/questions_updated_urls.csv', clean_url_nan=True) # read collected urls and questions + remove unsuccessful collection"
   ]
  },
  {
   "cell_type": "code",
   "execution_count": 4,
   "metadata": {},
   "outputs": [
    {
     "data": {
      "text/plain": [
       "451"
      ]
     },
     "execution_count": 4,
     "metadata": {},
     "output_type": "execute_result"
    }
   ],
   "source": [
    "len(questions)"
   ]
  },
  {
   "cell_type": "code",
   "execution_count": 5,
   "metadata": {},
   "outputs": [],
   "source": [
    "question_list = get_questions(questions)\n",
    "document_list = get_url_content_tuples(collected)"
   ]
  },
  {
   "cell_type": "code",
   "execution_count": 6,
   "metadata": {},
   "outputs": [],
   "source": [
    "all_results = perform_tfidf_search(question_list, document_list, k=10) # took 5 minutes!!!!!!"
   ]
  },
  {
   "cell_type": "code",
   "execution_count": 11,
   "metadata": {},
   "outputs": [
    {
     "data": {
      "text/plain": [
       "[(0.3467455973163531,\n",
       "  'https://afvalonline.nl/bericht/17424/avr-officieel-los-van-van-gansewinkel'),\n",
       " (0.26242333827163605,\n",
       "  'https://zoek.officielebekendmakingen.nl/stb-2017-55.html'),\n",
       " (0.25635902932033766,\n",
       "  'https://amsterdam.raadsinformatie.nl/document/5545987/1/853_17_Definitief_Voo'),\n",
       " (0.25500890390578,\n",
       "  'https://amsterdam.raadsinformatie.nl/document/5546098/1/853AB_17__28__Bijla'),\n",
       " (0.25500890390578,\n",
       "  'https://amsterdam.raadsinformatie.nl/document/5546098/1/853AB_17__28__Bijla'),\n",
       " (0.23389571456167776,\n",
       "  'https://amsterdam.raadsinformatie.nl/document/10450646/1/09012f9780294b08'),\n",
       " (0.23274808893019142,\n",
       "  'https://amsterdam.raadsinformatie.nl/document/11016531/1/notitie+Vertrouwen+begint+bij+de+overheid+januari'),\n",
       " (0.22735528928587728,\n",
       "  'https://assets.amsterdam.nl/publish/pages/869848/de_schaalsprong_van_amsterdam_-_evaluatie_internationaal_beleid_2008-2016.pdf'),\n",
       " (0.22667036876541496,\n",
       "  'https://amsterdam.raadsinformatie.nl/document/10548436/1/09012f9780349913'),\n",
       " (0.22667036876541496,\n",
       "  'https://amsterdam.raadsinformatie.nl/document/10508452/1/Raadsbrief%20gemeenteraad%20reflectiefase')]"
      ]
     },
     "execution_count": 11,
     "metadata": {},
     "output_type": "execute_result"
    }
   ],
   "source": [
    "all_results[list(all_results.keys())[0]]"
   ]
  },
  {
   "cell_type": "code",
   "execution_count": 7,
   "metadata": {},
   "outputs": [],
   "source": [
    "relevant_docs = get_relevant_docs(questions)"
   ]
  },
  {
   "cell_type": "code",
   "execution_count": 21,
   "metadata": {},
   "outputs": [
    {
     "name": "stdout",
     "output_type": "stream",
     "text": [
      "Average Mean Reciprocal Rank: 0.06021625652498135\n"
     ]
    }
   ],
   "source": [
    "predictions = []\n",
    "for question in all_results.keys():\n",
    "    urls = []\n",
    "    for result in all_results[question]:\n",
    "        urls.append(result[1])\n",
    "    predictions.append(list(set(urls)))\n",
    "\n",
    "\n",
    "true = []\n",
    "for question in relevant_docs.keys():\n",
    "    true.append(list(set(relevant_docs[question])))\n",
    "\n",
    "\n",
    "\n",
    "import numpy as np\n",
    "from irmetrics.topk import rr\n",
    "\n",
    "# Calculate the Mean Reciprocal Rank for each question\n",
    "mrr_values = []\n",
    "for i in range(len(predictions)):\n",
    "    true_values = true[i]\n",
    "    mrr = rr(true_values, predictions[i], k=5)\n",
    "    mrr_values.append(mrr)\n",
    "\n",
    "# Calculate the average Mean Reciprocal Rank\n",
    "average_mrr = np.mean(mrr_values)\n",
    "\n",
    "print(\"Average Mean Reciprocal Rank:\", average_mrr)\n",
    " "
   ]
  },
  {
   "cell_type": "code",
   "execution_count": 24,
   "metadata": {},
   "outputs": [
    {
     "name": "stdout",
     "output_type": "stream",
     "text": [
      "Average Recall: 0.12005965697240864\n"
     ]
    }
   ],
   "source": [
    "import numpy as np\n",
    "from irmetrics.topk import recall\n",
    "\n",
    "# Calculate the Mean Reciprocal Rank for each question\n",
    "mrr_values = []\n",
    "for i in range(len(predictions)):\n",
    "    true_values = true[i]\n",
    "    mrr = recall(true_values, predictions[i], k=5)\n",
    "    mrr_values.append(mrr)\n",
    "\n",
    "# Calculate the average Mean Reciprocal Rank\n",
    "average_recall = np.mean(mrr_values)\n",
    "\n",
    "print(\"Average Recall:\", average_recall)"
   ]
  }
 ],
 "metadata": {
  "kernelspec": {
   "display_name": "base",
   "language": "python",
   "name": "python3"
  },
  "language_info": {
   "codemirror_mode": {
    "name": "ipython",
    "version": 3
   },
   "file_extension": ".py",
   "mimetype": "text/x-python",
   "name": "python",
   "nbconvert_exporter": "python",
   "pygments_lexer": "ipython3",
   "version": "3.8.5"
  },
  "orig_nbformat": 4,
  "vscode": {
   "interpreter": {
    "hash": "ea4c3bcc219a1292b0d1d9543a9b9f82ed18a35340190a3cbd50b3110bbb4e55"
   }
  }
 },
 "nbformat": 4,
 "nbformat_minor": 2
}
