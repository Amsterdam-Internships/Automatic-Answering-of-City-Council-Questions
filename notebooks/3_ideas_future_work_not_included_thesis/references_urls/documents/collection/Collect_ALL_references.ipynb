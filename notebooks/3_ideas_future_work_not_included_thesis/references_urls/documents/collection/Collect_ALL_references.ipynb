{
 "cells": [
  {
   "cell_type": "code",
   "execution_count": 1,
   "metadata": {},
   "outputs": [
    {
     "name": "stdout",
     "output_type": "stream",
     "text": [
      "/Users/natalipeeva/Documents/GitHub/Automatic-Answering-of-City-Council-Questions\n"
     ]
    }
   ],
   "source": [
    "%cd /Users/natalipeeva/Documents/GitHub/Automatic-Answering-of-City-Council-Questions/"
   ]
  },
  {
   "cell_type": "code",
   "execution_count": 2,
   "metadata": {},
   "outputs": [],
   "source": [
    "import sys\n",
    "import os\n",
    "src_dir = os.path.join(os.getcwd(), 'src')\n",
    "sys.path.append(src_dir)\n",
    "\n",
    "from dataset.dataset import create_dataset\n",
    "from document_collection.reference_documents.collect_documents_clean import collect_all, save_data_question_answer, save_collected_urls \n",
    "\n",
    "import random"
   ]
  },
  {
   "cell_type": "code",
   "execution_count": 3,
   "metadata": {},
   "outputs": [],
   "source": [
    "data = create_dataset(os.path.join(os.getcwd(), 'data/question_answer/questions.csv'), # add clean urls\n",
    "               filter_by_urls=True)"
   ]
  },
  {
   "cell_type": "code",
   "execution_count": 4,
   "metadata": {},
   "outputs": [
    {
     "name": "stderr",
     "output_type": "stream",
     "text": [
      "Some characters could not be decoded, and were replaced with REPLACEMENT CHARACTER.\n",
      "Some characters could not be decoded, and were replaced with REPLACEMENT CHARACTER.\n",
      "Some characters could not be decoded, and were replaced with REPLACEMENT CHARACTER.\n",
      "Some characters could not be decoded, and were replaced with REPLACEMENT CHARACTER.\n",
      "Some characters could not be decoded, and were replaced with REPLACEMENT CHARACTER.\n",
      "Some characters could not be decoded, and were replaced with REPLACEMENT CHARACTER.\n",
      "Some characters could not be decoded, and were replaced with REPLACEMENT CHARACTER.\n",
      "Some characters could not be decoded, and were replaced with REPLACEMENT CHARACTER.\n",
      "Some characters could not be decoded, and were replaced with REPLACEMENT CHARACTER.\n",
      "Some characters could not be decoded, and were replaced with REPLACEMENT CHARACTER.\n",
      "Some characters could not be decoded, and were replaced with REPLACEMENT CHARACTER.\n",
      "Some characters could not be decoded, and were replaced with REPLACEMENT CHARACTER.\n",
      "Some characters could not be decoded, and were replaced with REPLACEMENT CHARACTER.\n",
      "Some characters could not be decoded, and were replaced with REPLACEMENT CHARACTER.\n",
      "Some characters could not be decoded, and were replaced with REPLACEMENT CHARACTER.\n",
      "Some characters could not be decoded, and were replaced with REPLACEMENT CHARACTER.\n",
      "Some characters could not be decoded, and were replaced with REPLACEMENT CHARACTER.\n",
      "Some characters could not be decoded, and were replaced with REPLACEMENT CHARACTER.\n",
      "Some characters could not be decoded, and were replaced with REPLACEMENT CHARACTER.\n",
      "Some characters could not be decoded, and were replaced with REPLACEMENT CHARACTER.\n",
      "Some characters could not be decoded, and were replaced with REPLACEMENT CHARACTER.\n",
      "Some characters could not be decoded, and were replaced with REPLACEMENT CHARACTER.\n",
      "Some characters could not be decoded, and were replaced with REPLACEMENT CHARACTER.\n",
      "Some characters could not be decoded, and were replaced with REPLACEMENT CHARACTER.\n",
      "Some characters could not be decoded, and were replaced with REPLACEMENT CHARACTER.\n",
      "Some characters could not be decoded, and were replaced with REPLACEMENT CHARACTER.\n",
      "Some characters could not be decoded, and were replaced with REPLACEMENT CHARACTER.\n",
      "Some characters could not be decoded, and were replaced with REPLACEMENT CHARACTER.\n",
      "Some characters could not be decoded, and were replaced with REPLACEMENT CHARACTER.\n",
      "Some characters could not be decoded, and were replaced with REPLACEMENT CHARACTER.\n",
      "Some characters could not be decoded, and were replaced with REPLACEMENT CHARACTER.\n",
      "Some characters could not be decoded, and were replaced with REPLACEMENT CHARACTER.\n",
      "Some characters could not be decoded, and were replaced with REPLACEMENT CHARACTER.\n",
      "Some characters could not be decoded, and were replaced with REPLACEMENT CHARACTER.\n",
      "Some characters could not be decoded, and were replaced with REPLACEMENT CHARACTER.\n",
      "Some characters could not be decoded, and were replaced with REPLACEMENT CHARACTER.\n",
      "Some characters could not be decoded, and were replaced with REPLACEMENT CHARACTER.\n",
      "Some characters could not be decoded, and were replaced with REPLACEMENT CHARACTER.\n",
      "Some characters could not be decoded, and were replaced with REPLACEMENT CHARACTER.\n",
      "Some characters could not be decoded, and were replaced with REPLACEMENT CHARACTER.\n",
      "Some characters could not be decoded, and were replaced with REPLACEMENT CHARACTER.\n",
      "Some characters could not be decoded, and were replaced with REPLACEMENT CHARACTER.\n",
      "Some characters could not be decoded, and were replaced with REPLACEMENT CHARACTER.\n",
      "Some characters could not be decoded, and were replaced with REPLACEMENT CHARACTER.\n",
      "Some characters could not be decoded, and were replaced with REPLACEMENT CHARACTER.\n",
      "Some characters could not be decoded, and were replaced with REPLACEMENT CHARACTER.\n",
      "Some characters could not be decoded, and were replaced with REPLACEMENT CHARACTER.\n",
      "Some characters could not be decoded, and were replaced with REPLACEMENT CHARACTER.\n",
      "Some characters could not be decoded, and were replaced with REPLACEMENT CHARACTER.\n"
     ]
    }
   ],
   "source": [
    "collect_all(data, timeout=10, waiting_time=random.uniform(2, 5)) # finished in 79mins"
   ]
  },
  {
   "cell_type": "code",
   "execution_count": 5,
   "metadata": {},
   "outputs": [],
   "source": [
    "save_data_question_answer(data, os.path.join(os.getcwd(), 'data/all_references/')) # save data\n",
    "save_collected_urls(data, os.path.join(os.getcwd(), 'data/all_references/'))"
   ]
  },
  {
   "cell_type": "code",
   "execution_count": 6,
   "metadata": {},
   "outputs": [],
   "source": [
    "import pandas as pd\n",
    "df = pd.read_csv('data/all_references/reference_urls_collected.csv')"
   ]
  },
  {
   "cell_type": "code",
   "execution_count": 8,
   "metadata": {},
   "outputs": [
    {
     "data": {
      "text/html": [
       "<div>\n",
       "<style scoped>\n",
       "    .dataframe tbody tr th:only-of-type {\n",
       "        vertical-align: middle;\n",
       "    }\n",
       "\n",
       "    .dataframe tbody tr th {\n",
       "        vertical-align: top;\n",
       "    }\n",
       "\n",
       "    .dataframe thead th {\n",
       "        text-align: right;\n",
       "    }\n",
       "</style>\n",
       "<table border=\"1\" class=\"dataframe\">\n",
       "  <thead>\n",
       "    <tr style=\"text-align: right;\">\n",
       "      <th></th>\n",
       "      <th>Unnamed: 0</th>\n",
       "      <th>URL</th>\n",
       "      <th>Content</th>\n",
       "      <th>Textual_Content</th>\n",
       "      <th>Exception</th>\n",
       "    </tr>\n",
       "  </thead>\n",
       "  <tbody>\n",
       "    <tr>\n",
       "      <th>776</th>\n",
       "      <td>776</td>\n",
       "      <td>https://www.noord-holland.nl/Loket/Producten_e...</td>\n",
       "      <td>NaN</td>\n",
       "      <td>NaN</td>\n",
       "      <td>Error fetching URL: 404 Client Error:  for url...</td>\n",
       "    </tr>\n",
       "    <tr>\n",
       "      <th>777</th>\n",
       "      <td>777</td>\n",
       "      <td>https://amsterdam.raadsinformatie.nl/document/...</td>\n",
       "      <td>%PDF-1.7\\n\\n4 0 obj\\n(Identity)\\nendobj\\n5 0 o...</td>\n",
       "      <td>%PDF-1.7\\n\\n4 0 obj\\n(Identity)\\nendobj\\n5 0 o...</td>\n",
       "      <td>NaN</td>\n",
       "    </tr>\n",
       "    <tr>\n",
       "      <th>778</th>\n",
       "      <td>778</td>\n",
       "      <td>https://amsterdam.raadsinformatie.nl/document/...</td>\n",
       "      <td>%PDF-1.7\\r%âãÏÓ\\r\\n310 0 obj\\r&amp;lt;&amp;gt;\\rendobj...</td>\n",
       "      <td>%PDF-1.7\\r%âãÏÓ\\r\\n310 0 obj\\r&lt;&gt;\\rendobj\\r    ...</td>\n",
       "      <td>NaN</td>\n",
       "    </tr>\n",
       "    <tr>\n",
       "      <th>779</th>\n",
       "      <td>779</td>\n",
       "      <td>https://www.at5.nl/artikelen/196980/ruim-730-k...</td>\n",
       "      <td>&lt;!DOCTYPE html&gt;\\n\\n&lt;html lang=\"nl\"&gt;\\n&lt;head&gt;\\n&lt;...</td>\n",
       "      <td>\\n\\n\\n\\n\\n\\n\\nRuim 730 kinderen in daklozenopv...</td>\n",
       "      <td>NaN</td>\n",
       "    </tr>\n",
       "    <tr>\n",
       "      <th>780</th>\n",
       "      <td>780</td>\n",
       "      <td>https://amsterdam.raadsinformatie.nl/document/...</td>\n",
       "      <td>%PDF-1.5\\n%�쏢\\n19 0 obj\\n&amp;lt;&amp;gt;\\nendobj\\n   ...</td>\n",
       "      <td>%PDF-1.5\\n%�쏢\\n19 0 obj\\n&lt;&gt;\\nendobj\\n         ...</td>\n",
       "      <td>NaN</td>\n",
       "    </tr>\n",
       "  </tbody>\n",
       "</table>\n",
       "</div>"
      ],
      "text/plain": [
       "     Unnamed: 0                                                URL  \\\n",
       "776         776  https://www.noord-holland.nl/Loket/Producten_e...   \n",
       "777         777  https://amsterdam.raadsinformatie.nl/document/...   \n",
       "778         778  https://amsterdam.raadsinformatie.nl/document/...   \n",
       "779         779  https://www.at5.nl/artikelen/196980/ruim-730-k...   \n",
       "780         780  https://amsterdam.raadsinformatie.nl/document/...   \n",
       "\n",
       "                                               Content  \\\n",
       "776                                                NaN   \n",
       "777  %PDF-1.7\\n\\n4 0 obj\\n(Identity)\\nendobj\\n5 0 o...   \n",
       "778  %PDF-1.7\\r%âãÏÓ\\r\\n310 0 obj\\r&lt;&gt;\\rendobj...   \n",
       "779  <!DOCTYPE html>\\n\\n<html lang=\"nl\">\\n<head>\\n<...   \n",
       "780  %PDF-1.5\\n%�쏢\\n19 0 obj\\n&lt;&gt;\\nendobj\\n   ...   \n",
       "\n",
       "                                       Textual_Content  \\\n",
       "776                                                NaN   \n",
       "777  %PDF-1.7\\n\\n4 0 obj\\n(Identity)\\nendobj\\n5 0 o...   \n",
       "778  %PDF-1.7\\r%âãÏÓ\\r\\n310 0 obj\\r<>\\rendobj\\r    ...   \n",
       "779  \\n\\n\\n\\n\\n\\n\\nRuim 730 kinderen in daklozenopv...   \n",
       "780  %PDF-1.5\\n%�쏢\\n19 0 obj\\n<>\\nendobj\\n         ...   \n",
       "\n",
       "                                             Exception  \n",
       "776  Error fetching URL: 404 Client Error:  for url...  \n",
       "777                                                NaN  \n",
       "778                                                NaN  \n",
       "779                                                NaN  \n",
       "780                                                NaN  "
      ]
     },
     "execution_count": 8,
     "metadata": {},
     "output_type": "execute_result"
    }
   ],
   "source": [
    "df.tail()"
   ]
  },
  {
   "cell_type": "code",
   "execution_count": 9,
   "metadata": {},
   "outputs": [],
   "source": [
    "from read_data.read_data import read_urls_questions"
   ]
  },
  {
   "cell_type": "code",
   "execution_count": 13,
   "metadata": {},
   "outputs": [],
   "source": [
    "collected, questions =  read_urls_questions(os.path.join('data/all_references/reference_urls_collected.csv'),\n",
    "                                            os.path.join('data/all_references/questions_updated_urls.csv'),\n",
    "                                            clean_url_nan=True) # read collected urls and questions + remove unsuccessful collection"
   ]
  },
  {
   "cell_type": "code",
   "execution_count": 50,
   "metadata": {},
   "outputs": [
    {
     "data": {
      "text/plain": [
       "'https://amsterdam.raadsinformatie.nl/document/5958480/2/139_18_Schriftelijke%20vragen%20Poot%20Moorman%20Van%20'"
      ]
     },
     "execution_count": 50,
     "metadata": {},
     "output_type": "execute_result"
    }
   ],
   "source": [
    "collected['URL'][780]"
   ]
  },
  {
   "cell_type": "code",
   "execution_count": 55,
   "metadata": {},
   "outputs": [],
   "source": [
    "import requests"
   ]
  },
  {
   "cell_type": "code",
   "execution_count": 56,
   "metadata": {},
   "outputs": [],
   "source": [
    "def get_pdf_text(pdf_url):\n",
    "    \"\"\"\n",
    "    Input: PDF URL\n",
    "    Output: PDF textual content\n",
    "    \"\"\"\n",
    "    pdf = requests.get(pdf_url)\n",
    "    pdf_content = pdf.content \n",
    "    pdf_text = io.BytesIO(pdf_content)\n",
    "    pdf_reader = PyPDF2.PdfReader(pdf_text)\n",
    "    text = \"\"\n",
    "    for page_num in range(len(pdf_reader.pages)):\n",
    "        page = pdf_reader.pages[page_num]\n",
    "        text += page.extract_text()\n",
    "    \n",
    "    return text"
   ]
  },
  {
   "cell_type": "code",
   "execution_count": 57,
   "metadata": {},
   "outputs": [
    {
     "data": {
      "text/plain": [
       "'  \\n  Gemeente Amsterdam \\nGemeenteraad \\nGemeenteblad  \\nSchriftelijke vragen   \\n R\\n \\n1 Jaar 2018 \\nAfdeling  1 \\nNummer 139 \\nDatum indiening 29 november 2017 \\nDatum akkoord college van b&w van 6 februari 2018 \\nPublicatiedatum 7 februari 2018 \\n \\nOnderwerp \\n Beantwoording schriftelijke vragen van de leden Poo t, Moorman, Van Soest en \\nVroege inzake de mishandeling van twee vrouwen in d e Reguliersdwarsstraat. \\n \\nAan de gemeenteraad \\n Toelichting door vragenstellers: \\n \\nUit berichtgeving in Het Parool blijkt dat in de na cht van maandag op dinsdag twee \\nvrouwen in de Reguliersdwarsstraat zijn mishandeld.  Zij zouden op straat hebben \\ngezoend, waarna een groep jongens op hen afkwam en begon te schoppen en slaan. \\n \\nDe uitspraak van de Braziliaanse vrouw, op bezoek i n Amsterdam, dat zij dacht dat \\n“dit soort dingen hier niet gebeuren” raakt elke Am sterdammer in het hart. Te vaak \\nheeft de raad al mishandelingen van LHBTI’ers bespr oken. Deze vrouwen, net als \\nalle eerdere slachtoffers, verdienen een snelle en daadkrachtige behandeling van hun \\nzaak en opsporing en vervolging van de daders. \\n \\nGezien het vorenstaande hebben de leden Poot, Moorm an, Van Soest en Vroege,  \\nrespectievelijk namens de fracties van de VVD, de P vdA, de Partij van de Ouderen \\nen D66, op grond van artikel 45 van het Reglement v an orde voor de raad van \\nAmsterdam, de volgende schriftelijke vragen aan het  college van burgemeester en \\nwethouders gesteld: \\n \\n1. Welke feiten en omstandigheden zijn er bekend ten a anzien van de mishandeling \\nvan deze twee vrouwen in de Reguliersdwarsstraat? \\n \\nAntwoord: \\nNaar aanleiding van de aangifte van één van de vrou wen heeft de politie een \\nopsporingsonderzoek uitgevoerd. In het kader van di t onderzoek zijn \\ncamerabeelden opgevraagd. Het politieonderzoek is n og gaande.  \\n \\n2. Wordt dit door de betrokken autoriteiten behandeld als een LHBTI-gerelateerd \\nincident met een discriminatoir karakter? Zo nee, w aarom niet? \\n \\nAntwoord: \\nIn het belang van het onderzoek doet het Openbaar M inisterie (OM) geen \\nmededeling over de behandeling van individuele zake n. Het OM heeft speciale \\naandacht voor delicten waarbij discriminatie een ro l speelt en daarmee dus ook \\nvoor discriminatie van LHBTI’ers.  Het OM werkt volgens de landelijke Aanwijzing \\nDiscriminatie en verhoogt de strafeis met 50% of 10 0% bij delicten met een \\ndiscriminatoir aspect.    Jaar  2018 \\nAfdeling   1 \\nNummer   139 \\nDatum  7 februari 2018 \\n Gemeente Amsterdam \\nGemeenteblad \\nSchriftelijke vragen , woensdag 29 november 2017 \\n R\\n \\n 2     Jaar  2018 \\nAfdeling   1 \\nNummer   139 \\nDatum  7 februari 2018 \\n Gemeente Amsterdam \\nGemeenteblad \\nSchriftelijke vragen , woensdag 29 november 2017 \\n R\\n \\n 33. Worden de slachtoffers, net als eerder Kevin uit Su riname, door de stad \\nuitgenodigd voor de Pride 2018? \\n \\nAntwoord: \\nZoals toegezegd in uw vergadering van 6 juli 2017 i s gekeken naar hoe enkele \\nslachtoffers van anti LHBTI-geweld uitgenodigd kunn en worden voor de \\ngemeenteboot tijdens de Pride. In samenspraak met b etrokken partijen - in het \\nbijzonder Roze in Blauw van de politie - is een lei draad ontwikkeld voor het \\nuitnodigen van slachtoffers van anti LHBTI-geweld o p de gemeenteboot tijdens de \\nCanal Pride. De kern hiervan is dat - met instemmin g van het slachtoffer - circa \\nvijf tot tien personen (uit binnen- of buitenland, al dan niet met introducé) worden \\nvoorgedragen om uit te nodigen.  \\n \\n4. Welke acties zijn er door de politie, het Openbaar Ministerie en het college \\nondernomen na de mishandeling in de Kerkstraat in a pril dit jaar om de veiligheid \\nvan LHBTI’ers te verbeteren? \\n \\nAntwoord: \\nDe politie zet in op het verhogen van de meldings- en aangiftebereidheid onder \\nLHBTI’ers, met name door het netwerk Roze in Blauw.  LHBTI’ers kunnen melding \\nen aangifte doen via de reguliere kanalen, maar kun nen ook 24 uur per dag, \\nzeven dagen per week via een speciaal telefoonnumme r contact opnemen met de \\nmedewerkers van Roze in Blauw. Deze medewerkers heb ben ruime ervaring met \\nLHBTI-incidenten en kunnen daarom goede opvang bied en en slachtoffers \\nadviseren over het doen van een aangifte of melding . Ook geeft Roze in Blauw \\nvoorlichting bij informatiebijeenkomsten en eveneme nten.    \\n \\nBij het arrondissementsparket Amsterdam zijn twee o fficieren met de portefeuille \\ndiscriminatie die kunnen rekenen op ondersteuning v an de beleidsmedewerkers \\nvan het Landelijk Expertise Centrum Discriminatie ( LECD). Het LECD heeft tot \\ndoel het optimaliseren van de aanpak van strafbare discriminatie en monitort de \\nafhandeling van alle LHBTI-incidenten in samenwerki ng met de politie. \\n \\nIn het Regionaal Discriminatie Overleg komen politi e, OM en het Meldpunt \\nDiscriminatie Regio Amsterdam (MDRA) minimaal vierm aal per jaar bijeen.  \\nDaarnaast hebben de RDO partners continu contact me t elkaar om \\ngebeurtenissen te bespreken. Het gemeenschappelijke  doel van de \\npartnerorganisaties in het kader van de samenwerkin g is het betekenisvol afdoen \\nvan een melding, incident of aangifte. Het RDO is p rimair en in het bijzonder \\nbelast met het monitoren en bewaken van de voortgan g van discriminatiezaken. \\n \\nDe gemeente overlegt periodiek in de opgerichte ‘De nktank Veiligheid LHBTI’ met \\npolitie, GGD, MDRA, Pink Panel, COC Amsterdam en Mo visie over de veiligheid \\nvan LHBTI’s. Het afgelopen jaar is onder meer gewer kt aan een onderzoek naar \\nde behoeften van LHBTI slachtoffers na een ernstig incident, een overzicht van \\nondersteunende organisaties voor LHBTI slachtoffers , een expertmeeting voor \\nbetere doorverwijzing, doorontwikkeling van buurtsc houwen en storytelling ten \\nbehoeve van de aangifte- en meldingsbereidheid.   \\n \\n \\n5. Zijn er camerabeelden van de mishandeling beschikba ar?    Jaar  2018 \\nAfdeling   1 \\nNummer   139 \\nDatum  7 februari 2018 \\n Gemeente Amsterdam \\nGemeenteblad \\nSchriftelijke vragen , woensdag 29 november 2017 \\n R\\n \\n 4 \\nAntwoord: \\nZie het antwoord op vraag 2. \\n \\n6. Welke feiten en cijfers zijn er over het lopende ja ar (of bij beantwoording in 2018 \\nover heel 2017) beschikbaar op het gebied van anti- LHBTI-geweld? \\n \\nAntwoord: \\nZoals in de beantwoording van de schriftelijke vrag en van het lid Torn van 9 juni \\n2016 inzake de cijfers van anti-LHBTI-incidenten in  Amsterdam is aangegeven \\nlevert de eenheid Amsterdam voor 2016 nog eenmaal c ijfers van Roze in Blauw \\nom vervolgens de cijfers van de Nationale Politie t e hanteren. De cijfers van Roze \\nin Blauw treft u onderstaand aan. Discriminatiecijf ers over 2017 worden zowel op \\nlandelijk als eenheidsniveau omstreeks mei 2018 gep ubliceerd. U wordt hier te \\nzijner tijd over geïnformeerd.  \\n \\nJaartal  Totaal LHBTI-incidenten  Waarvan met geweld  \\n2013 535 189 \\n2014 516 185 \\n2015 424 181 \\n2016 414 147 \\n        Bron: Eenheid Amsterdam (Roze in Blauw) \\n \\nBurgemeester en wethouders van Amsterdam \\n  \\nA.H.P. van Gils, secretaris J.J. van Aartsen, waarn emend burgemeester  \\n  \\n '"
      ]
     },
     "execution_count": 57,
     "metadata": {},
     "output_type": "execute_result"
    }
   ],
   "source": [
    "get_pdf_text('https://amsterdam.raadsinformatie.nl/document/5958480/2/139_18_Schriftelijke%20vragen%20Poot%20Moorman%20Van%20')"
   ]
  },
  {
   "cell_type": "code",
   "execution_count": 44,
   "metadata": {},
   "outputs": [
    {
     "name": "stdout",
     "output_type": "stream",
     "text": [
      "Number of rows starting with '%PDF': 49\n"
     ]
    }
   ],
   "source": [
    "# Assuming you have a DataFrame called 'df' with a column 'Content'\n",
    "count = df['Content'].fillna('').str.startswith('%PDF').sum()\n",
    "print(f\"Number of rows starting with '%PDF': {count}\")"
   ]
  },
  {
   "cell_type": "code",
   "execution_count": 45,
   "metadata": {},
   "outputs": [
    {
     "name": "stdout",
     "output_type": "stream",
     "text": [
      "Number of rows pdf': 41\n"
     ]
    }
   ],
   "source": [
    "count = df['URL'].fillna('').str.endswith('.pdf').sum()\n",
    "print(f\"Number of rows pdf': {count}\")"
   ]
  },
  {
   "cell_type": "code",
   "execution_count": 59,
   "metadata": {},
   "outputs": [],
   "source": [
    "def get_pdf_text(pdf_url):\n",
    "    \"\"\"\n",
    "    Input: PDF URL\n",
    "    Output: PDF textual content\n",
    "    \"\"\"\n",
    "    pdf = requests.get(pdf_url)\n",
    "    pdf_content = pdf.content \n",
    "    pdf_text = io.BytesIO(pdf_content)\n",
    "    pdf_reader = PyPDF2.PdfReader(pdf_text)\n",
    "    text = \"\"\n",
    "    for page_num in range(len(pdf_reader.pages)):\n",
    "        page = pdf_reader.pages[page_num]\n",
    "        text += page.extract_text()\n",
    "    \n",
    "    return text"
   ]
  },
  {
   "cell_type": "code",
   "execution_count": 61,
   "metadata": {},
   "outputs": [
    {
     "ename": "ValueError",
     "evalue": "Cannot mask with non-boolean array containing NA / NaN values",
     "output_type": "error",
     "traceback": [
      "\u001b[0;31m---------------------------------------------------------------------------\u001b[0m",
      "\u001b[0;31mValueError\u001b[0m                                Traceback (most recent call last)",
      "\u001b[0;32m<ipython-input-61-5020d69c5d47>\u001b[0m in \u001b[0;36m<module>\u001b[0;34m\u001b[0m\n\u001b[0;32m----> 1\u001b[0;31m \u001b[0mdf\u001b[0m\u001b[0;34m[\u001b[0m\u001b[0;34m'PDF_read'\u001b[0m\u001b[0;34m]\u001b[0m \u001b[0;34m=\u001b[0m \u001b[0mdf\u001b[0m\u001b[0;34m.\u001b[0m\u001b[0mloc\u001b[0m\u001b[0;34m[\u001b[0m\u001b[0mdf\u001b[0m\u001b[0;34m[\u001b[0m\u001b[0;34m'Content'\u001b[0m\u001b[0;34m]\u001b[0m\u001b[0;34m.\u001b[0m\u001b[0mstr\u001b[0m\u001b[0;34m.\u001b[0m\u001b[0mstartswith\u001b[0m\u001b[0;34m(\u001b[0m\u001b[0;34m'%PDF'\u001b[0m\u001b[0;34m)\u001b[0m\u001b[0;34m,\u001b[0m \u001b[0;34m'URL'\u001b[0m\u001b[0;34m]\u001b[0m\u001b[0;34m.\u001b[0m\u001b[0mapply\u001b[0m\u001b[0;34m(\u001b[0m\u001b[0mget_pdf_text\u001b[0m\u001b[0;34m)\u001b[0m\u001b[0;34m\u001b[0m\u001b[0;34m\u001b[0m\u001b[0m\n\u001b[0m",
      "\u001b[0;32m~/opt/anaconda3/lib/python3.8/site-packages/pandas/core/indexing.py\u001b[0m in \u001b[0;36m__getitem__\u001b[0;34m(self, key)\u001b[0m\n\u001b[1;32m   1095\u001b[0m             \u001b[0;32mif\u001b[0m \u001b[0mself\u001b[0m\u001b[0;34m.\u001b[0m\u001b[0m_is_scalar_access\u001b[0m\u001b[0;34m(\u001b[0m\u001b[0mkey\u001b[0m\u001b[0;34m)\u001b[0m\u001b[0;34m:\u001b[0m\u001b[0;34m\u001b[0m\u001b[0;34m\u001b[0m\u001b[0m\n\u001b[1;32m   1096\u001b[0m                 \u001b[0;32mreturn\u001b[0m \u001b[0mself\u001b[0m\u001b[0;34m.\u001b[0m\u001b[0mobj\u001b[0m\u001b[0;34m.\u001b[0m\u001b[0m_get_value\u001b[0m\u001b[0;34m(\u001b[0m\u001b[0;34m*\u001b[0m\u001b[0mkey\u001b[0m\u001b[0;34m,\u001b[0m \u001b[0mtakeable\u001b[0m\u001b[0;34m=\u001b[0m\u001b[0mself\u001b[0m\u001b[0;34m.\u001b[0m\u001b[0m_takeable\u001b[0m\u001b[0;34m)\u001b[0m\u001b[0;34m\u001b[0m\u001b[0;34m\u001b[0m\u001b[0m\n\u001b[0;32m-> 1097\u001b[0;31m             \u001b[0;32mreturn\u001b[0m \u001b[0mself\u001b[0m\u001b[0;34m.\u001b[0m\u001b[0m_getitem_tuple\u001b[0m\u001b[0;34m(\u001b[0m\u001b[0mkey\u001b[0m\u001b[0;34m)\u001b[0m\u001b[0;34m\u001b[0m\u001b[0;34m\u001b[0m\u001b[0m\n\u001b[0m\u001b[1;32m   1098\u001b[0m         \u001b[0;32melse\u001b[0m\u001b[0;34m:\u001b[0m\u001b[0;34m\u001b[0m\u001b[0;34m\u001b[0m\u001b[0m\n\u001b[1;32m   1099\u001b[0m             \u001b[0;31m# we by definition only have the 0th axis\u001b[0m\u001b[0;34m\u001b[0m\u001b[0;34m\u001b[0m\u001b[0;34m\u001b[0m\u001b[0m\n",
      "\u001b[0;32m~/opt/anaconda3/lib/python3.8/site-packages/pandas/core/indexing.py\u001b[0m in \u001b[0;36m_getitem_tuple\u001b[0;34m(self, tup)\u001b[0m\n\u001b[1;32m   1278\u001b[0m         \u001b[0;32mwith\u001b[0m \u001b[0msuppress\u001b[0m\u001b[0;34m(\u001b[0m\u001b[0mIndexingError\u001b[0m\u001b[0;34m)\u001b[0m\u001b[0;34m:\u001b[0m\u001b[0;34m\u001b[0m\u001b[0;34m\u001b[0m\u001b[0m\n\u001b[1;32m   1279\u001b[0m             \u001b[0mtup\u001b[0m \u001b[0;34m=\u001b[0m \u001b[0mself\u001b[0m\u001b[0;34m.\u001b[0m\u001b[0m_expand_ellipsis\u001b[0m\u001b[0;34m(\u001b[0m\u001b[0mtup\u001b[0m\u001b[0;34m)\u001b[0m\u001b[0;34m\u001b[0m\u001b[0;34m\u001b[0m\u001b[0m\n\u001b[0;32m-> 1280\u001b[0;31m             \u001b[0;32mreturn\u001b[0m \u001b[0mself\u001b[0m\u001b[0;34m.\u001b[0m\u001b[0m_getitem_lowerdim\u001b[0m\u001b[0;34m(\u001b[0m\u001b[0mtup\u001b[0m\u001b[0;34m)\u001b[0m\u001b[0;34m\u001b[0m\u001b[0;34m\u001b[0m\u001b[0m\n\u001b[0m\u001b[1;32m   1281\u001b[0m \u001b[0;34m\u001b[0m\u001b[0m\n\u001b[1;32m   1282\u001b[0m         \u001b[0;31m# no multi-index, so validate all of the indexers\u001b[0m\u001b[0;34m\u001b[0m\u001b[0;34m\u001b[0m\u001b[0;34m\u001b[0m\u001b[0m\n",
      "\u001b[0;32m~/opt/anaconda3/lib/python3.8/site-packages/pandas/core/indexing.py\u001b[0m in \u001b[0;36m_getitem_lowerdim\u001b[0;34m(self, tup)\u001b[0m\n\u001b[1;32m   1022\u001b[0m                     \u001b[0;32mreturn\u001b[0m \u001b[0msection\u001b[0m\u001b[0;34m\u001b[0m\u001b[0;34m\u001b[0m\u001b[0m\n\u001b[1;32m   1023\u001b[0m                 \u001b[0;31m# This is an elided recursive call to iloc/loc\u001b[0m\u001b[0;34m\u001b[0m\u001b[0;34m\u001b[0m\u001b[0;34m\u001b[0m\u001b[0m\n\u001b[0;32m-> 1024\u001b[0;31m                 \u001b[0;32mreturn\u001b[0m \u001b[0mgetattr\u001b[0m\u001b[0;34m(\u001b[0m\u001b[0msection\u001b[0m\u001b[0;34m,\u001b[0m \u001b[0mself\u001b[0m\u001b[0;34m.\u001b[0m\u001b[0mname\u001b[0m\u001b[0;34m)\u001b[0m\u001b[0;34m[\u001b[0m\u001b[0mnew_key\u001b[0m\u001b[0;34m]\u001b[0m\u001b[0;34m\u001b[0m\u001b[0;34m\u001b[0m\u001b[0m\n\u001b[0m\u001b[1;32m   1025\u001b[0m \u001b[0;34m\u001b[0m\u001b[0m\n\u001b[1;32m   1026\u001b[0m         \u001b[0;32mraise\u001b[0m \u001b[0mIndexingError\u001b[0m\u001b[0;34m(\u001b[0m\u001b[0;34m\"not applicable\"\u001b[0m\u001b[0;34m)\u001b[0m\u001b[0;34m\u001b[0m\u001b[0;34m\u001b[0m\u001b[0m\n",
      "\u001b[0;32m~/opt/anaconda3/lib/python3.8/site-packages/pandas/core/indexing.py\u001b[0m in \u001b[0;36m__getitem__\u001b[0;34m(self, key)\u001b[0m\n\u001b[1;32m   1101\u001b[0m \u001b[0;34m\u001b[0m\u001b[0m\n\u001b[1;32m   1102\u001b[0m             \u001b[0mmaybe_callable\u001b[0m \u001b[0;34m=\u001b[0m \u001b[0mcom\u001b[0m\u001b[0;34m.\u001b[0m\u001b[0mapply_if_callable\u001b[0m\u001b[0;34m(\u001b[0m\u001b[0mkey\u001b[0m\u001b[0;34m,\u001b[0m \u001b[0mself\u001b[0m\u001b[0;34m.\u001b[0m\u001b[0mobj\u001b[0m\u001b[0;34m)\u001b[0m\u001b[0;34m\u001b[0m\u001b[0;34m\u001b[0m\u001b[0m\n\u001b[0;32m-> 1103\u001b[0;31m             \u001b[0;32mreturn\u001b[0m \u001b[0mself\u001b[0m\u001b[0;34m.\u001b[0m\u001b[0m_getitem_axis\u001b[0m\u001b[0;34m(\u001b[0m\u001b[0mmaybe_callable\u001b[0m\u001b[0;34m,\u001b[0m \u001b[0maxis\u001b[0m\u001b[0;34m=\u001b[0m\u001b[0maxis\u001b[0m\u001b[0;34m)\u001b[0m\u001b[0;34m\u001b[0m\u001b[0;34m\u001b[0m\u001b[0m\n\u001b[0m\u001b[1;32m   1104\u001b[0m \u001b[0;34m\u001b[0m\u001b[0m\n\u001b[1;32m   1105\u001b[0m     \u001b[0;32mdef\u001b[0m \u001b[0m_is_scalar_access\u001b[0m\u001b[0;34m(\u001b[0m\u001b[0mself\u001b[0m\u001b[0;34m,\u001b[0m \u001b[0mkey\u001b[0m\u001b[0;34m:\u001b[0m \u001b[0mtuple\u001b[0m\u001b[0;34m)\u001b[0m\u001b[0;34m:\u001b[0m\u001b[0;34m\u001b[0m\u001b[0;34m\u001b[0m\u001b[0m\n",
      "\u001b[0;32m~/opt/anaconda3/lib/python3.8/site-packages/pandas/core/indexing.py\u001b[0m in \u001b[0;36m_getitem_axis\u001b[0;34m(self, key, axis)\u001b[0m\n\u001b[1;32m   1322\u001b[0m             \u001b[0mself\u001b[0m\u001b[0;34m.\u001b[0m\u001b[0m_validate_key\u001b[0m\u001b[0;34m(\u001b[0m\u001b[0mkey\u001b[0m\u001b[0;34m,\u001b[0m \u001b[0maxis\u001b[0m\u001b[0;34m)\u001b[0m\u001b[0;34m\u001b[0m\u001b[0;34m\u001b[0m\u001b[0m\n\u001b[1;32m   1323\u001b[0m             \u001b[0;32mreturn\u001b[0m \u001b[0mself\u001b[0m\u001b[0;34m.\u001b[0m\u001b[0m_get_slice_axis\u001b[0m\u001b[0;34m(\u001b[0m\u001b[0mkey\u001b[0m\u001b[0;34m,\u001b[0m \u001b[0maxis\u001b[0m\u001b[0;34m=\u001b[0m\u001b[0maxis\u001b[0m\u001b[0;34m)\u001b[0m\u001b[0;34m\u001b[0m\u001b[0;34m\u001b[0m\u001b[0m\n\u001b[0;32m-> 1324\u001b[0;31m         \u001b[0;32melif\u001b[0m \u001b[0mcom\u001b[0m\u001b[0;34m.\u001b[0m\u001b[0mis_bool_indexer\u001b[0m\u001b[0;34m(\u001b[0m\u001b[0mkey\u001b[0m\u001b[0;34m)\u001b[0m\u001b[0;34m:\u001b[0m\u001b[0;34m\u001b[0m\u001b[0;34m\u001b[0m\u001b[0m\n\u001b[0m\u001b[1;32m   1325\u001b[0m             \u001b[0;32mreturn\u001b[0m \u001b[0mself\u001b[0m\u001b[0;34m.\u001b[0m\u001b[0m_getbool_axis\u001b[0m\u001b[0;34m(\u001b[0m\u001b[0mkey\u001b[0m\u001b[0;34m,\u001b[0m \u001b[0maxis\u001b[0m\u001b[0;34m=\u001b[0m\u001b[0maxis\u001b[0m\u001b[0;34m)\u001b[0m\u001b[0;34m\u001b[0m\u001b[0;34m\u001b[0m\u001b[0m\n\u001b[1;32m   1326\u001b[0m         \u001b[0;32melif\u001b[0m \u001b[0mis_list_like_indexer\u001b[0m\u001b[0;34m(\u001b[0m\u001b[0mkey\u001b[0m\u001b[0;34m)\u001b[0m\u001b[0;34m:\u001b[0m\u001b[0;34m\u001b[0m\u001b[0;34m\u001b[0m\u001b[0m\n",
      "\u001b[0;32m~/opt/anaconda3/lib/python3.8/site-packages/pandas/core/common.py\u001b[0m in \u001b[0;36mis_bool_indexer\u001b[0;34m(key)\u001b[0m\n\u001b[1;32m    132\u001b[0m                     \u001b[0;31m# Don't raise on e.g. [\"A\", \"B\", np.nan], see\u001b[0m\u001b[0;34m\u001b[0m\u001b[0;34m\u001b[0m\u001b[0;34m\u001b[0m\u001b[0m\n\u001b[1;32m    133\u001b[0m                     \u001b[0;31m#  test_loc_getitem_list_of_labels_categoricalindex_with_na\u001b[0m\u001b[0;34m\u001b[0m\u001b[0;34m\u001b[0m\u001b[0;34m\u001b[0m\u001b[0m\n\u001b[0;32m--> 134\u001b[0;31m                     \u001b[0;32mraise\u001b[0m \u001b[0mValueError\u001b[0m\u001b[0;34m(\u001b[0m\u001b[0mna_msg\u001b[0m\u001b[0;34m)\u001b[0m\u001b[0;34m\u001b[0m\u001b[0;34m\u001b[0m\u001b[0m\n\u001b[0m\u001b[1;32m    135\u001b[0m                 \u001b[0;32mreturn\u001b[0m \u001b[0;32mFalse\u001b[0m\u001b[0;34m\u001b[0m\u001b[0;34m\u001b[0m\u001b[0m\n\u001b[1;32m    136\u001b[0m             \u001b[0;32mreturn\u001b[0m \u001b[0;32mTrue\u001b[0m\u001b[0;34m\u001b[0m\u001b[0;34m\u001b[0m\u001b[0m\n",
      "\u001b[0;31mValueError\u001b[0m: Cannot mask with non-boolean array containing NA / NaN values"
     ]
    }
   ],
   "source": [
    "df['PDF_read'] = df.loc[df['Content'].str.startswith('%PDF'), 'URL'].apply(get_pdf_text)"
   ]
  }
 ],
 "metadata": {
  "kernelspec": {
   "display_name": "base",
   "language": "python",
   "name": "python3"
  },
  "language_info": {
   "codemirror_mode": {
    "name": "ipython",
    "version": 3
   },
   "file_extension": ".py",
   "mimetype": "text/x-python",
   "name": "python",
   "nbconvert_exporter": "python",
   "pygments_lexer": "ipython3",
   "version": "3.8.5"
  },
  "orig_nbformat": 4,
  "vscode": {
   "interpreter": {
    "hash": "ea4c3bcc219a1292b0d1d9543a9b9f82ed18a35340190a3cbd50b3110bbb4e55"
   }
  }
 },
 "nbformat": 4,
 "nbformat_minor": 2
}
